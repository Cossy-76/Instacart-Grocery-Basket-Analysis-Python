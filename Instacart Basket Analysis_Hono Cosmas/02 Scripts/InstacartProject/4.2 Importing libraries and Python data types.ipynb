{
 "cells": [
  {
   "cell_type": "code",
   "execution_count": 1,
   "outputs": [],
   "source": [
    "# Import libraries\n",
    "import pandas as pd\n",
    "import numpy as np\n",
    "import os"
   ],
   "metadata": {
    "collapsed": false,
    "ExecuteTime": {
     "end_time": "2023-10-10T14:22:16.390608100Z",
     "start_time": "2023-10-10T14:22:15.778999400Z"
    }
   },
   "id": "eb9ab3fc18dd4b03"
  },
  {
   "cell_type": "markdown",
   "source": [
    "# 02. Data types"
   ],
   "metadata": {
    "collapsed": false
   },
   "id": "7b3dd1c50949b05c"
  },
  {
   "cell_type": "markdown",
   "source": [
    "## No.7: Approach 1: Using Addition\n"
   ],
   "metadata": {
    "collapsed": false
   },
   "id": "a88eb2484d3eebf2"
  },
  {
   "cell_type": "code",
   "execution_count": 15,
   "outputs": [
    {
     "name": "stdout",
     "output_type": "stream",
     "text": [
      "100\n"
     ]
    }
   ],
   "source": [
    "a = 50\n",
    "b = 30\n",
    "c = 20\n",
    "\n",
    "# Calculate the result\n",
    "result = a + b + c\n",
    "\n",
    "# Print the result\n",
    "print(result)"
   ],
   "metadata": {
    "collapsed": false,
    "ExecuteTime": {
     "end_time": "2023-10-10T15:14:50.415253800Z",
     "start_time": "2023-10-10T15:14:50.398297300Z"
    }
   },
   "id": "ce9f517c75e1f558"
  },
  {
   "cell_type": "code",
   "execution_count": 16,
   "outputs": [
    {
     "name": "stdout",
     "output_type": "stream",
     "text": [
      "100.0\n"
     ]
    }
   ],
   "source": [
    "# Approach 2: Using division\n",
    "# Define variables\n",
    "x = 200\n",
    "y = 2\n",
    "\n",
    "# Calculate the results\n",
    "result = x/y\n",
    "\n",
    "# Print the result\n",
    "print(result)"
   ],
   "metadata": {
    "collapsed": false,
    "ExecuteTime": {
     "end_time": "2023-10-10T15:15:08.689690Z",
     "start_time": "2023-10-10T15:15:08.675727600Z"
    }
   },
   "id": "b0edf925e52d7dbd"
  },
  {
   "cell_type": "code",
   "execution_count": 17,
   "outputs": [
    {
     "name": "stdout",
     "output_type": "stream",
     "text": [
      "100\n"
     ]
    }
   ],
   "source": [
    "# Approach 3: Using Multiplication\n",
    "x = 25\n",
    "y = 4\n",
    "\n",
    "result = x * y\n",
    "print(result)"
   ],
   "metadata": {
    "collapsed": false,
    "ExecuteTime": {
     "end_time": "2023-10-10T15:19:17.188748400Z",
     "start_time": "2023-10-10T15:19:17.174785Z"
    }
   },
   "id": "aef273ad94c9ba5c"
  },
  {
   "cell_type": "code",
   "execution_count": null,
   "outputs": [],
   "source": [],
   "metadata": {
    "collapsed": false
   },
   "id": "100f4188e78a356c"
  },
  {
   "cell_type": "markdown",
   "source": [
    "# No.8: Code 2 floating-points variable and divide them by each other."
   ],
   "metadata": {
    "collapsed": false
   },
   "id": "aba012c795b1c27e"
  },
  {
   "cell_type": "code",
   "execution_count": 18,
   "outputs": [
    {
     "name": "stdout",
     "output_type": "stream",
     "text": [
      "5.166666666666667\n"
     ]
    }
   ],
   "source": [
    "x = 15.5\n",
    "y = 3.0\n",
    "\n",
    "result = x/y\n",
    "\n",
    "print(result)"
   ],
   "metadata": {
    "collapsed": false,
    "ExecuteTime": {
     "end_time": "2023-10-10T15:25:19.705056300Z",
     "start_time": "2023-10-10T15:25:19.698075Z"
    }
   },
   "id": "98a3e4156343ee02"
  },
  {
   "cell_type": "code",
   "execution_count": null,
   "outputs": [],
   "source": [],
   "metadata": {
    "collapsed": false
   },
   "id": "1d5db60ab91afb34"
  },
  {
   "cell_type": "markdown",
   "source": [
    "# No.9 Construct a short word made of separate strings"
   ],
   "metadata": {
    "collapsed": false
   },
   "id": "6285d6b288c2fea8"
  },
  {
   "cell_type": "code",
   "execution_count": 19,
   "outputs": [
    {
     "name": "stdout",
     "output_type": "stream",
     "text": [
      "Imagination\n"
     ]
    }
   ],
   "source": [
    "x = \"Imagin\"\n",
    "y = \"ation\"\n",
    "\n",
    "my_string = x + y\n",
    "print(my_string)"
   ],
   "metadata": {
    "collapsed": false,
    "ExecuteTime": {
     "end_time": "2023-10-10T15:32:42.907445600Z",
     "start_time": "2023-10-10T15:32:42.895446200Z"
    }
   },
   "id": "3735f7e0d585470e"
  },
  {
   "cell_type": "markdown",
   "source": [
    "# No.10: Construct 2 short sentences made of different strings."
   ],
   "metadata": {
    "collapsed": false
   },
   "id": "3ef1ecf1769c6e74"
  },
  {
   "cell_type": "code",
   "execution_count": 20,
   "outputs": [
    {
     "name": "stdout",
     "output_type": "stream",
     "text": [
      "Hello, how are you today?\n",
      "Welcome to the world!\n"
     ]
    }
   ],
   "source": [
    "# Create separate string variables\n",
    "sentence1 = \"Hello, \"\n",
    "sentence2 = \"world!\"\n",
    "\n",
    "#Combine the strings to form sentences\n",
    "full_sentence1 = sentence1 + \"how are you today?\"\n",
    "full_sentence2 = \"Welcome to the \" + sentence2\n",
    "\n",
    "# Print the sentences\n",
    "print(full_sentence1)\n",
    "print(full_sentence2)"
   ],
   "metadata": {
    "collapsed": false,
    "ExecuteTime": {
     "end_time": "2023-10-10T15:42:57.202206300Z",
     "start_time": "2023-10-10T15:42:57.187242900Z"
    }
   },
   "id": "9dab82270863b45c"
  },
  {
   "cell_type": "code",
   "execution_count": null,
   "outputs": [],
   "source": [],
   "metadata": {
    "collapsed": false
   },
   "id": "f2e999328420fba3"
  },
  {
   "cell_type": "markdown",
   "source": [
    "# Bonus task: Include a command that makes a string appear 100 times."
   ],
   "metadata": {
    "collapsed": false
   },
   "id": "c89189915dfb5ba0"
  },
  {
   "cell_type": "code",
   "execution_count": null,
   "outputs": [],
   "source": [
    "my_name = \"Cosmas\"\n",
    "\n",
    "result_name = my_name * 100\n",
    "\n",
    "print(result_name)"
   ],
   "metadata": {
    "collapsed": false
   },
   "id": "3e00b01e652b0aa5"
  }
 ],
 "metadata": {
  "kernelspec": {
   "display_name": "Python 3",
   "language": "python",
   "name": "python3"
  },
  "language_info": {
   "codemirror_mode": {
    "name": "ipython",
    "version": 2
   },
   "file_extension": ".py",
   "mimetype": "text/x-python",
   "name": "python",
   "nbconvert_exporter": "python",
   "pygments_lexer": "ipython2",
   "version": "2.7.6"
  }
 },
 "nbformat": 4,
 "nbformat_minor": 5
}
