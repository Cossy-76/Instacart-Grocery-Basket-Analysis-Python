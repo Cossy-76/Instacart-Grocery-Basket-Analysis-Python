{
 "cells": [
  {
   "cell_type": "markdown",
   "source": [
    "# 01. Importing libraries"
   ],
   "metadata": {
    "collapsed": false
   },
   "id": "294b6fca19c3fb21"
  },
  {
   "cell_type": "code",
   "execution_count": 1,
   "id": "initial_id",
   "metadata": {
    "collapsed": true,
    "ExecuteTime": {
     "end_time": "2023-10-26T08:39:08.485657700Z",
     "start_time": "2023-10-26T08:39:07.919629400Z"
    }
   },
   "outputs": [],
   "source": [
    "# Import libraries\n",
    "import pandas as pd\n",
    "import numpy as np\n",
    "import os"
   ]
  },
  {
   "cell_type": "markdown",
   "source": [
    "Importing \"orders.csv\" file"
   ],
   "metadata": {
    "collapsed": false
   },
   "id": "473df9127ad7b976"
  },
  {
   "cell_type": "code",
   "execution_count": 2,
   "outputs": [],
   "source": [
    "df = pd.read_csv(r'C:\\Users\\honoc\\Documents\\CareerFoundry Folder\\Python Fundamentals for Data Analysts\\Exercise 4.3 Folder\\Original data\\orders.csv', index_col = False)"
   ],
   "metadata": {
    "collapsed": false,
    "ExecuteTime": {
     "end_time": "2023-10-26T08:39:10.424043900Z",
     "start_time": "2023-10-26T08:39:08.488649100Z"
    }
   },
   "id": "7a57a7ae9443729c"
  },
  {
   "cell_type": "code",
   "execution_count": 2,
   "outputs": [],
   "source": [],
   "metadata": {
    "collapsed": false,
    "ExecuteTime": {
     "end_time": "2023-10-26T08:39:10.425040900Z",
     "start_time": "2023-10-26T08:39:10.412078200Z"
    }
   },
   "id": "db381e985975a6a"
  },
  {
   "cell_type": "markdown",
   "source": [
    "Importing data files using os library"
   ],
   "metadata": {
    "collapsed": false
   },
   "id": "820c4b6e867db653"
  },
  {
   "cell_type": "code",
   "execution_count": 3,
   "outputs": [],
   "source": [
    "path = r'C:\\Users\\honoc\\Documents\\CareerFoundry Folder\\Python Fundamentals for Data Analysts\\Exercise 4.3 Folder'\n",
    "path\n",
    "df = pd.read_csv(os.path.join(path, 'Original data', 'orders.csv'), index_col = False)"
   ],
   "metadata": {
    "collapsed": false,
    "ExecuteTime": {
     "end_time": "2023-10-26T08:39:12.375575700Z",
     "start_time": "2023-10-26T08:39:10.427034900Z"
    }
   },
   "id": "2e62e2d1067e6440"
  },
  {
   "cell_type": "markdown",
   "source": [
    "Exploring Data with Pandas"
   ],
   "metadata": {
    "collapsed": false
   },
   "id": "486470bb86bc119f"
  },
  {
   "cell_type": "code",
   "execution_count": 14,
   "outputs": [
    {
     "data": {
      "text/plain": "(3421083, 6)"
     },
     "execution_count": 14,
     "metadata": {},
     "output_type": "execute_result"
    }
   ],
   "source": [
    "df.shape"
   ],
   "metadata": {
    "collapsed": false,
    "ExecuteTime": {
     "end_time": "2023-10-26T08:40:33.114651400Z",
     "start_time": "2023-10-26T08:40:33.053827900Z"
    }
   },
   "id": "9e740f5f8857c584"
  },
  {
   "cell_type": "code",
   "execution_count": 4,
   "outputs": [
    {
     "name": "stdout",
     "output_type": "stream",
     "text": [
      "<class 'pandas.core.frame.DataFrame'>\n",
      "RangeIndex: 3421083 entries, 0 to 3421082\n",
      "Data columns (total 7 columns):\n",
      " #   Column                  Dtype  \n",
      "---  ------                  -----  \n",
      " 0   order_id                int64  \n",
      " 1   user_id                 int64  \n",
      " 2   eval_set                object \n",
      " 3   order_number            int64  \n",
      " 4   order_dow               int64  \n",
      " 5   order_hour_of_day       int64  \n",
      " 6   days_since_prior_order  float64\n",
      "dtypes: float64(1), int64(5), object(1)\n",
      "memory usage: 182.7+ MB\n"
     ]
    },
    {
     "data": {
      "text/plain": "           order_id       user_id  order_number     order_dow  \\\ncount  3.421083e+06  3.421083e+06  3.421083e+06  3.421083e+06   \nmean   1.710542e+06  1.029782e+05  1.715486e+01  2.776219e+00   \nstd    9.875817e+05  5.953372e+04  1.773316e+01  2.046829e+00   \nmin    1.000000e+00  1.000000e+00  1.000000e+00  0.000000e+00   \n25%    8.552715e+05  5.139400e+04  5.000000e+00  1.000000e+00   \n50%    1.710542e+06  1.026890e+05  1.100000e+01  3.000000e+00   \n75%    2.565812e+06  1.543850e+05  2.300000e+01  5.000000e+00   \nmax    3.421083e+06  2.062090e+05  1.000000e+02  6.000000e+00   \n\n       order_hour_of_day  days_since_prior_order  \ncount       3.421083e+06            3.214874e+06  \nmean        1.345202e+01            1.111484e+01  \nstd         4.226088e+00            9.206737e+00  \nmin         0.000000e+00            0.000000e+00  \n25%         1.000000e+01            4.000000e+00  \n50%         1.300000e+01            7.000000e+00  \n75%         1.600000e+01            1.500000e+01  \nmax         2.300000e+01            3.000000e+01  ",
      "text/html": "<div>\n<style scoped>\n    .dataframe tbody tr th:only-of-type {\n        vertical-align: middle;\n    }\n\n    .dataframe tbody tr th {\n        vertical-align: top;\n    }\n\n    .dataframe thead th {\n        text-align: right;\n    }\n</style>\n<table border=\"1\" class=\"dataframe\">\n  <thead>\n    <tr style=\"text-align: right;\">\n      <th></th>\n      <th>order_id</th>\n      <th>user_id</th>\n      <th>order_number</th>\n      <th>order_dow</th>\n      <th>order_hour_of_day</th>\n      <th>days_since_prior_order</th>\n    </tr>\n  </thead>\n  <tbody>\n    <tr>\n      <th>count</th>\n      <td>3.421083e+06</td>\n      <td>3.421083e+06</td>\n      <td>3.421083e+06</td>\n      <td>3.421083e+06</td>\n      <td>3.421083e+06</td>\n      <td>3.214874e+06</td>\n    </tr>\n    <tr>\n      <th>mean</th>\n      <td>1.710542e+06</td>\n      <td>1.029782e+05</td>\n      <td>1.715486e+01</td>\n      <td>2.776219e+00</td>\n      <td>1.345202e+01</td>\n      <td>1.111484e+01</td>\n    </tr>\n    <tr>\n      <th>std</th>\n      <td>9.875817e+05</td>\n      <td>5.953372e+04</td>\n      <td>1.773316e+01</td>\n      <td>2.046829e+00</td>\n      <td>4.226088e+00</td>\n      <td>9.206737e+00</td>\n    </tr>\n    <tr>\n      <th>min</th>\n      <td>1.000000e+00</td>\n      <td>1.000000e+00</td>\n      <td>1.000000e+00</td>\n      <td>0.000000e+00</td>\n      <td>0.000000e+00</td>\n      <td>0.000000e+00</td>\n    </tr>\n    <tr>\n      <th>25%</th>\n      <td>8.552715e+05</td>\n      <td>5.139400e+04</td>\n      <td>5.000000e+00</td>\n      <td>1.000000e+00</td>\n      <td>1.000000e+01</td>\n      <td>4.000000e+00</td>\n    </tr>\n    <tr>\n      <th>50%</th>\n      <td>1.710542e+06</td>\n      <td>1.026890e+05</td>\n      <td>1.100000e+01</td>\n      <td>3.000000e+00</td>\n      <td>1.300000e+01</td>\n      <td>7.000000e+00</td>\n    </tr>\n    <tr>\n      <th>75%</th>\n      <td>2.565812e+06</td>\n      <td>1.543850e+05</td>\n      <td>2.300000e+01</td>\n      <td>5.000000e+00</td>\n      <td>1.600000e+01</td>\n      <td>1.500000e+01</td>\n    </tr>\n    <tr>\n      <th>max</th>\n      <td>3.421083e+06</td>\n      <td>2.062090e+05</td>\n      <td>1.000000e+02</td>\n      <td>6.000000e+00</td>\n      <td>2.300000e+01</td>\n      <td>3.000000e+01</td>\n    </tr>\n  </tbody>\n</table>\n</div>"
     },
     "execution_count": 4,
     "metadata": {},
     "output_type": "execute_result"
    }
   ],
   "source": [
    "df.head()\n",
    "df.shape\n",
    "df.info()\n",
    "df.columns\n",
    "df.describe()"
   ],
   "metadata": {
    "collapsed": false,
    "ExecuteTime": {
     "end_time": "2023-10-26T08:39:13.185941Z",
     "start_time": "2023-10-26T08:39:12.380560300Z"
    }
   },
   "id": "17f647d57b611c84"
  },
  {
   "cell_type": "markdown",
   "source": [
    "No.5 Importing \"orders_csv\" dataset using the os library and the vars_list shortcut and omitting the \"eval_set\""
   ],
   "metadata": {
    "collapsed": false
   },
   "id": "bc8141776d1c04de"
  },
  {
   "cell_type": "code",
   "execution_count": 5,
   "outputs": [
    {
     "data": {
      "text/plain": "['order_id',\n 'user_id',\n 'order_number',\n 'order_dow',\n 'order_hour_of_day',\n 'days_since_prior_order']"
     },
     "execution_count": 5,
     "metadata": {},
     "output_type": "execute_result"
    }
   ],
   "source": [
    "vars_list = ['order_id', 'user_id', 'order_number', 'order_dow', 'order_hour_of_day', 'days_since_prior_order']\n",
    "vars_list"
   ],
   "metadata": {
    "collapsed": false,
    "ExecuteTime": {
     "end_time": "2023-10-26T08:39:13.243773600Z",
     "start_time": "2023-10-26T08:39:13.186937700Z"
    }
   },
   "id": "d7ff6d06583c65d0"
  },
  {
   "cell_type": "code",
   "execution_count": 6,
   "outputs": [
    {
     "data": {
      "text/plain": "   order_id  user_id  order_number  order_dow  order_hour_of_day  \\\n0   2539329        1             1          2                  8   \n1   2398795        1             2          3                  7   \n2    473747        1             3          3                 12   \n3   2254736        1             4          4                  7   \n4    431534        1             5          4                 15   \n\n   days_since_prior_order  \n0                     NaN  \n1                    15.0  \n2                    21.0  \n3                    29.0  \n4                    28.0  ",
      "text/html": "<div>\n<style scoped>\n    .dataframe tbody tr th:only-of-type {\n        vertical-align: middle;\n    }\n\n    .dataframe tbody tr th {\n        vertical-align: top;\n    }\n\n    .dataframe thead th {\n        text-align: right;\n    }\n</style>\n<table border=\"1\" class=\"dataframe\">\n  <thead>\n    <tr style=\"text-align: right;\">\n      <th></th>\n      <th>order_id</th>\n      <th>user_id</th>\n      <th>order_number</th>\n      <th>order_dow</th>\n      <th>order_hour_of_day</th>\n      <th>days_since_prior_order</th>\n    </tr>\n  </thead>\n  <tbody>\n    <tr>\n      <th>0</th>\n      <td>2539329</td>\n      <td>1</td>\n      <td>1</td>\n      <td>2</td>\n      <td>8</td>\n      <td>NaN</td>\n    </tr>\n    <tr>\n      <th>1</th>\n      <td>2398795</td>\n      <td>1</td>\n      <td>2</td>\n      <td>3</td>\n      <td>7</td>\n      <td>15.0</td>\n    </tr>\n    <tr>\n      <th>2</th>\n      <td>473747</td>\n      <td>1</td>\n      <td>3</td>\n      <td>3</td>\n      <td>12</td>\n      <td>21.0</td>\n    </tr>\n    <tr>\n      <th>3</th>\n      <td>2254736</td>\n      <td>1</td>\n      <td>4</td>\n      <td>4</td>\n      <td>7</td>\n      <td>29.0</td>\n    </tr>\n    <tr>\n      <th>4</th>\n      <td>431534</td>\n      <td>1</td>\n      <td>5</td>\n      <td>4</td>\n      <td>15</td>\n      <td>28.0</td>\n    </tr>\n  </tbody>\n</table>\n</div>"
     },
     "execution_count": 6,
     "metadata": {},
     "output_type": "execute_result"
    }
   ],
   "source": [
    "df = pd.read_csv(os.path.join(path, 'Original data', 'orders.csv'), usecols= vars_list)\n",
    "df.head()"
   ],
   "metadata": {
    "collapsed": false,
    "ExecuteTime": {
     "end_time": "2023-10-26T08:39:14.998462800Z",
     "start_time": "2023-10-26T08:39:13.202892Z"
    }
   },
   "id": "a876b143c5dd1fcf"
  },
  {
   "cell_type": "markdown",
   "source": [
    "No.7 7.\tImport the “products.csv” file into Jupyter as df_prods (as opposed to df, which is what your “orders.csv” file is named in Jupyter). You can use the path variable you created in step 4 to import “products.csv” with the os library."
   ],
   "metadata": {
    "collapsed": false
   },
   "id": "a03ce37d44105191"
  },
  {
   "cell_type": "code",
   "execution_count": 7,
   "outputs": [],
   "source": [
    "df_prods = pd.read_csv(os.path.join(path, 'Original data', 'products.csv'), index_col = False)\n"
   ],
   "metadata": {
    "collapsed": false,
    "ExecuteTime": {
     "end_time": "2023-10-26T08:39:15.119591600Z",
     "start_time": "2023-10-26T08:39:15.000932700Z"
    }
   },
   "id": "87cf113f2bbc637c"
  },
  {
   "cell_type": "markdown",
   "source": [
    "No.8 Print the first 20 rows and last 35 rows of the df_prods dataframe"
   ],
   "metadata": {
    "collapsed": false
   },
   "id": "bd89230da4912179"
  },
  {
   "cell_type": "code",
   "execution_count": 8,
   "outputs": [
    {
     "data": {
      "text/plain": "    product_id                                       product_name  aisle_id  \\\n0            1                         Chocolate Sandwich Cookies        61   \n1            2                                   All-Seasons Salt       104   \n2            3               Robust Golden Unsweetened Oolong Tea        94   \n3            4  Smart Ones Classic Favorites Mini Rigatoni Wit...        38   \n4            5                          Green Chile Anytime Sauce         5   \n5            6                                       Dry Nose Oil        11   \n6            7                     Pure Coconut Water With Orange        98   \n7            8                  Cut Russet Potatoes Steam N' Mash       116   \n8            9                  Light Strawberry Blueberry Yogurt       120   \n9           10     Sparkling Orange Juice & Prickly Pear Beverage       115   \n10          11                                  Peach Mango Juice        31   \n11          12                         Chocolate Fudge Layer Cake       119   \n12          13                                  Saline Nasal Mist        11   \n13          14                     Fresh Scent Dishwasher Cleaner        74   \n14          15                           Overnight Diapers Size 6        56   \n15          16                      Mint Chocolate Flavored Syrup       103   \n16          17                                  Rendered Duck Fat        35   \n17          18                Pizza for One Suprema  Frozen Pizza        79   \n18          19   Gluten Free Quinoa Three Cheese & Mushroom Blend        63   \n19          20     Pomegranate Cranberry & Aloe Vera Enrich Drink        98   \n\n    department_id  prices  \n0              19     5.8  \n1              13     9.3  \n2               7     4.5  \n3               1    10.5  \n4              13     4.3  \n5              11     2.6  \n6               7     4.4  \n7               1     1.1  \n8              16     7.0  \n9               7     8.4  \n10              7     2.8  \n11              1     9.4  \n12             11     1.1  \n13             17     6.5  \n14             18    11.2  \n15             19     5.2  \n16             12    17.1  \n17              1    10.6  \n18              9    12.0  \n19              7     6.0  ",
      "text/html": "<div>\n<style scoped>\n    .dataframe tbody tr th:only-of-type {\n        vertical-align: middle;\n    }\n\n    .dataframe tbody tr th {\n        vertical-align: top;\n    }\n\n    .dataframe thead th {\n        text-align: right;\n    }\n</style>\n<table border=\"1\" class=\"dataframe\">\n  <thead>\n    <tr style=\"text-align: right;\">\n      <th></th>\n      <th>product_id</th>\n      <th>product_name</th>\n      <th>aisle_id</th>\n      <th>department_id</th>\n      <th>prices</th>\n    </tr>\n  </thead>\n  <tbody>\n    <tr>\n      <th>0</th>\n      <td>1</td>\n      <td>Chocolate Sandwich Cookies</td>\n      <td>61</td>\n      <td>19</td>\n      <td>5.8</td>\n    </tr>\n    <tr>\n      <th>1</th>\n      <td>2</td>\n      <td>All-Seasons Salt</td>\n      <td>104</td>\n      <td>13</td>\n      <td>9.3</td>\n    </tr>\n    <tr>\n      <th>2</th>\n      <td>3</td>\n      <td>Robust Golden Unsweetened Oolong Tea</td>\n      <td>94</td>\n      <td>7</td>\n      <td>4.5</td>\n    </tr>\n    <tr>\n      <th>3</th>\n      <td>4</td>\n      <td>Smart Ones Classic Favorites Mini Rigatoni Wit...</td>\n      <td>38</td>\n      <td>1</td>\n      <td>10.5</td>\n    </tr>\n    <tr>\n      <th>4</th>\n      <td>5</td>\n      <td>Green Chile Anytime Sauce</td>\n      <td>5</td>\n      <td>13</td>\n      <td>4.3</td>\n    </tr>\n    <tr>\n      <th>5</th>\n      <td>6</td>\n      <td>Dry Nose Oil</td>\n      <td>11</td>\n      <td>11</td>\n      <td>2.6</td>\n    </tr>\n    <tr>\n      <th>6</th>\n      <td>7</td>\n      <td>Pure Coconut Water With Orange</td>\n      <td>98</td>\n      <td>7</td>\n      <td>4.4</td>\n    </tr>\n    <tr>\n      <th>7</th>\n      <td>8</td>\n      <td>Cut Russet Potatoes Steam N' Mash</td>\n      <td>116</td>\n      <td>1</td>\n      <td>1.1</td>\n    </tr>\n    <tr>\n      <th>8</th>\n      <td>9</td>\n      <td>Light Strawberry Blueberry Yogurt</td>\n      <td>120</td>\n      <td>16</td>\n      <td>7.0</td>\n    </tr>\n    <tr>\n      <th>9</th>\n      <td>10</td>\n      <td>Sparkling Orange Juice &amp; Prickly Pear Beverage</td>\n      <td>115</td>\n      <td>7</td>\n      <td>8.4</td>\n    </tr>\n    <tr>\n      <th>10</th>\n      <td>11</td>\n      <td>Peach Mango Juice</td>\n      <td>31</td>\n      <td>7</td>\n      <td>2.8</td>\n    </tr>\n    <tr>\n      <th>11</th>\n      <td>12</td>\n      <td>Chocolate Fudge Layer Cake</td>\n      <td>119</td>\n      <td>1</td>\n      <td>9.4</td>\n    </tr>\n    <tr>\n      <th>12</th>\n      <td>13</td>\n      <td>Saline Nasal Mist</td>\n      <td>11</td>\n      <td>11</td>\n      <td>1.1</td>\n    </tr>\n    <tr>\n      <th>13</th>\n      <td>14</td>\n      <td>Fresh Scent Dishwasher Cleaner</td>\n      <td>74</td>\n      <td>17</td>\n      <td>6.5</td>\n    </tr>\n    <tr>\n      <th>14</th>\n      <td>15</td>\n      <td>Overnight Diapers Size 6</td>\n      <td>56</td>\n      <td>18</td>\n      <td>11.2</td>\n    </tr>\n    <tr>\n      <th>15</th>\n      <td>16</td>\n      <td>Mint Chocolate Flavored Syrup</td>\n      <td>103</td>\n      <td>19</td>\n      <td>5.2</td>\n    </tr>\n    <tr>\n      <th>16</th>\n      <td>17</td>\n      <td>Rendered Duck Fat</td>\n      <td>35</td>\n      <td>12</td>\n      <td>17.1</td>\n    </tr>\n    <tr>\n      <th>17</th>\n      <td>18</td>\n      <td>Pizza for One Suprema  Frozen Pizza</td>\n      <td>79</td>\n      <td>1</td>\n      <td>10.6</td>\n    </tr>\n    <tr>\n      <th>18</th>\n      <td>19</td>\n      <td>Gluten Free Quinoa Three Cheese &amp; Mushroom Blend</td>\n      <td>63</td>\n      <td>9</td>\n      <td>12.0</td>\n    </tr>\n    <tr>\n      <th>19</th>\n      <td>20</td>\n      <td>Pomegranate Cranberry &amp; Aloe Vera Enrich Drink</td>\n      <td>98</td>\n      <td>7</td>\n      <td>6.0</td>\n    </tr>\n  </tbody>\n</table>\n</div>"
     },
     "execution_count": 8,
     "metadata": {},
     "output_type": "execute_result"
    }
   ],
   "source": [
    "df_prods.head(20)\n"
   ],
   "metadata": {
    "collapsed": false,
    "ExecuteTime": {
     "end_time": "2023-10-26T08:39:15.122582600Z",
     "start_time": "2023-10-26T08:39:15.090675400Z"
    }
   },
   "id": "5d842e64eef9a1c"
  },
  {
   "cell_type": "code",
   "execution_count": 9,
   "outputs": [
    {
     "data": {
      "text/plain": "       product_id                                       product_name  \\\n49658       49654                   Teriyaki Sauce, Sesame, Original   \n49659       49655                                        Apple Cider   \n49660       49656                         Masada Kosher Pocket Bread   \n49661       49657                                  Cabernet Tomatoes   \n49662       49658                         Brie with Herbs Foil Wedge   \n49663       49659                            Organic Creamed Coconut   \n49664       49660                        Professionals Sleek Shampoo   \n49665       49661                                              Porto   \n49666       49662                       Bacon Cheddar Pretzel Pieces   \n49667       49663  Ultra Protein Power Crunch Peanut Butter N' Ho...   \n49668       49664                     Lemon Cayenne Drinking Vinegar   \n49669       49665      Super Dark Coconut Ash & Banana Chocolate Bar   \n49670       49666                      Ginger Snaps Snacking Cookies   \n49671       49667           Enchilada with Spanish Rice & Beans Meal   \n49672       49668                     Apple Cinnamon Scented Candles   \n49673       49669                                   K Cup Dark Blend   \n49674       49670                                Beef Summer Sausage   \n49675       49671                               Milk Chocolate Drops   \n49676       49672                             Cafe Mocha K-Cup Packs   \n49677       49673              Stone Baked Multi Grain Artisan Rolls   \n49678       49674            Frozen Greek Yogurt Bars Chocolate Chip   \n49679       49675                Cinnamon Dolce Keurig Brewed K Cups   \n49680       49676                             Ultra Red Energy Drink   \n49681       49677                    Thick & Chunky Sloppy Joe Sauce   \n49682       49678                    Large Chicken & Cheese Taquitos   \n49683       49679                            Famous Chocolate Wafers   \n49684       49680                 All Natural Creamy Caesar Dressing   \n49685       49681            Spaghetti with Meatballs and Sauce Meal   \n49686       49682                                 California Limeade   \n49687       49683                                     Cucumber Kirby   \n49688       49684          Vodka, Triple Distilled, Twist of Vanilla   \n49689       49685                 En Croute Roast Hazelnut Cranberry   \n49690       49686                                   Artisan Baguette   \n49691       49687         Smartblend Healthy Metabolism Dry Cat Food   \n49692       49688                             Fresh Foaming Cleanser   \n\n       aisle_id  department_id  prices  \n49658         5             13     4.0  \n49659        98              7    10.7  \n49660       128              3     7.1  \n49661        83              4     8.3  \n49662         2             16     3.9  \n49663        17             13     3.1  \n49664        22             11     6.7  \n49665       134              5     8.2  \n49666       107             19     3.6  \n49667        57             14    10.2  \n49668       100             21    13.7  \n49669        45             19     6.9  \n49670        61             19     5.2  \n49671        38              1     6.6  \n49672       101             17     5.6  \n49673       100             21     4.7  \n49674       106             12    19.2  \n49675        45             19     3.0  \n49676        26              7     6.5  \n49677       129              1     5.6  \n49678        37              1    11.1  \n49679        26              7    14.0  \n49680        64              7    14.5  \n49681        59             15     8.9  \n49682       129              1     3.4  \n49683        61             19     6.0  \n49684        89             13     4.9  \n49685        38              1     6.9  \n49686        98              7     4.3  \n49687        83              4    13.2  \n49688       124              5     5.3  \n49689        42              1     3.1  \n49690       112              3     7.8  \n49691        41              8     4.7  \n49692        73             11    13.5  ",
      "text/html": "<div>\n<style scoped>\n    .dataframe tbody tr th:only-of-type {\n        vertical-align: middle;\n    }\n\n    .dataframe tbody tr th {\n        vertical-align: top;\n    }\n\n    .dataframe thead th {\n        text-align: right;\n    }\n</style>\n<table border=\"1\" class=\"dataframe\">\n  <thead>\n    <tr style=\"text-align: right;\">\n      <th></th>\n      <th>product_id</th>\n      <th>product_name</th>\n      <th>aisle_id</th>\n      <th>department_id</th>\n      <th>prices</th>\n    </tr>\n  </thead>\n  <tbody>\n    <tr>\n      <th>49658</th>\n      <td>49654</td>\n      <td>Teriyaki Sauce, Sesame, Original</td>\n      <td>5</td>\n      <td>13</td>\n      <td>4.0</td>\n    </tr>\n    <tr>\n      <th>49659</th>\n      <td>49655</td>\n      <td>Apple Cider</td>\n      <td>98</td>\n      <td>7</td>\n      <td>10.7</td>\n    </tr>\n    <tr>\n      <th>49660</th>\n      <td>49656</td>\n      <td>Masada Kosher Pocket Bread</td>\n      <td>128</td>\n      <td>3</td>\n      <td>7.1</td>\n    </tr>\n    <tr>\n      <th>49661</th>\n      <td>49657</td>\n      <td>Cabernet Tomatoes</td>\n      <td>83</td>\n      <td>4</td>\n      <td>8.3</td>\n    </tr>\n    <tr>\n      <th>49662</th>\n      <td>49658</td>\n      <td>Brie with Herbs Foil Wedge</td>\n      <td>2</td>\n      <td>16</td>\n      <td>3.9</td>\n    </tr>\n    <tr>\n      <th>49663</th>\n      <td>49659</td>\n      <td>Organic Creamed Coconut</td>\n      <td>17</td>\n      <td>13</td>\n      <td>3.1</td>\n    </tr>\n    <tr>\n      <th>49664</th>\n      <td>49660</td>\n      <td>Professionals Sleek Shampoo</td>\n      <td>22</td>\n      <td>11</td>\n      <td>6.7</td>\n    </tr>\n    <tr>\n      <th>49665</th>\n      <td>49661</td>\n      <td>Porto</td>\n      <td>134</td>\n      <td>5</td>\n      <td>8.2</td>\n    </tr>\n    <tr>\n      <th>49666</th>\n      <td>49662</td>\n      <td>Bacon Cheddar Pretzel Pieces</td>\n      <td>107</td>\n      <td>19</td>\n      <td>3.6</td>\n    </tr>\n    <tr>\n      <th>49667</th>\n      <td>49663</td>\n      <td>Ultra Protein Power Crunch Peanut Butter N' Ho...</td>\n      <td>57</td>\n      <td>14</td>\n      <td>10.2</td>\n    </tr>\n    <tr>\n      <th>49668</th>\n      <td>49664</td>\n      <td>Lemon Cayenne Drinking Vinegar</td>\n      <td>100</td>\n      <td>21</td>\n      <td>13.7</td>\n    </tr>\n    <tr>\n      <th>49669</th>\n      <td>49665</td>\n      <td>Super Dark Coconut Ash &amp; Banana Chocolate Bar</td>\n      <td>45</td>\n      <td>19</td>\n      <td>6.9</td>\n    </tr>\n    <tr>\n      <th>49670</th>\n      <td>49666</td>\n      <td>Ginger Snaps Snacking Cookies</td>\n      <td>61</td>\n      <td>19</td>\n      <td>5.2</td>\n    </tr>\n    <tr>\n      <th>49671</th>\n      <td>49667</td>\n      <td>Enchilada with Spanish Rice &amp; Beans Meal</td>\n      <td>38</td>\n      <td>1</td>\n      <td>6.6</td>\n    </tr>\n    <tr>\n      <th>49672</th>\n      <td>49668</td>\n      <td>Apple Cinnamon Scented Candles</td>\n      <td>101</td>\n      <td>17</td>\n      <td>5.6</td>\n    </tr>\n    <tr>\n      <th>49673</th>\n      <td>49669</td>\n      <td>K Cup Dark Blend</td>\n      <td>100</td>\n      <td>21</td>\n      <td>4.7</td>\n    </tr>\n    <tr>\n      <th>49674</th>\n      <td>49670</td>\n      <td>Beef Summer Sausage</td>\n      <td>106</td>\n      <td>12</td>\n      <td>19.2</td>\n    </tr>\n    <tr>\n      <th>49675</th>\n      <td>49671</td>\n      <td>Milk Chocolate Drops</td>\n      <td>45</td>\n      <td>19</td>\n      <td>3.0</td>\n    </tr>\n    <tr>\n      <th>49676</th>\n      <td>49672</td>\n      <td>Cafe Mocha K-Cup Packs</td>\n      <td>26</td>\n      <td>7</td>\n      <td>6.5</td>\n    </tr>\n    <tr>\n      <th>49677</th>\n      <td>49673</td>\n      <td>Stone Baked Multi Grain Artisan Rolls</td>\n      <td>129</td>\n      <td>1</td>\n      <td>5.6</td>\n    </tr>\n    <tr>\n      <th>49678</th>\n      <td>49674</td>\n      <td>Frozen Greek Yogurt Bars Chocolate Chip</td>\n      <td>37</td>\n      <td>1</td>\n      <td>11.1</td>\n    </tr>\n    <tr>\n      <th>49679</th>\n      <td>49675</td>\n      <td>Cinnamon Dolce Keurig Brewed K Cups</td>\n      <td>26</td>\n      <td>7</td>\n      <td>14.0</td>\n    </tr>\n    <tr>\n      <th>49680</th>\n      <td>49676</td>\n      <td>Ultra Red Energy Drink</td>\n      <td>64</td>\n      <td>7</td>\n      <td>14.5</td>\n    </tr>\n    <tr>\n      <th>49681</th>\n      <td>49677</td>\n      <td>Thick &amp; Chunky Sloppy Joe Sauce</td>\n      <td>59</td>\n      <td>15</td>\n      <td>8.9</td>\n    </tr>\n    <tr>\n      <th>49682</th>\n      <td>49678</td>\n      <td>Large Chicken &amp; Cheese Taquitos</td>\n      <td>129</td>\n      <td>1</td>\n      <td>3.4</td>\n    </tr>\n    <tr>\n      <th>49683</th>\n      <td>49679</td>\n      <td>Famous Chocolate Wafers</td>\n      <td>61</td>\n      <td>19</td>\n      <td>6.0</td>\n    </tr>\n    <tr>\n      <th>49684</th>\n      <td>49680</td>\n      <td>All Natural Creamy Caesar Dressing</td>\n      <td>89</td>\n      <td>13</td>\n      <td>4.9</td>\n    </tr>\n    <tr>\n      <th>49685</th>\n      <td>49681</td>\n      <td>Spaghetti with Meatballs and Sauce Meal</td>\n      <td>38</td>\n      <td>1</td>\n      <td>6.9</td>\n    </tr>\n    <tr>\n      <th>49686</th>\n      <td>49682</td>\n      <td>California Limeade</td>\n      <td>98</td>\n      <td>7</td>\n      <td>4.3</td>\n    </tr>\n    <tr>\n      <th>49687</th>\n      <td>49683</td>\n      <td>Cucumber Kirby</td>\n      <td>83</td>\n      <td>4</td>\n      <td>13.2</td>\n    </tr>\n    <tr>\n      <th>49688</th>\n      <td>49684</td>\n      <td>Vodka, Triple Distilled, Twist of Vanilla</td>\n      <td>124</td>\n      <td>5</td>\n      <td>5.3</td>\n    </tr>\n    <tr>\n      <th>49689</th>\n      <td>49685</td>\n      <td>En Croute Roast Hazelnut Cranberry</td>\n      <td>42</td>\n      <td>1</td>\n      <td>3.1</td>\n    </tr>\n    <tr>\n      <th>49690</th>\n      <td>49686</td>\n      <td>Artisan Baguette</td>\n      <td>112</td>\n      <td>3</td>\n      <td>7.8</td>\n    </tr>\n    <tr>\n      <th>49691</th>\n      <td>49687</td>\n      <td>Smartblend Healthy Metabolism Dry Cat Food</td>\n      <td>41</td>\n      <td>8</td>\n      <td>4.7</td>\n    </tr>\n    <tr>\n      <th>49692</th>\n      <td>49688</td>\n      <td>Fresh Foaming Cleanser</td>\n      <td>73</td>\n      <td>11</td>\n      <td>13.5</td>\n    </tr>\n  </tbody>\n</table>\n</div>"
     },
     "execution_count": 9,
     "metadata": {},
     "output_type": "execute_result"
    }
   ],
   "source": [
    "df_prods.tail(35)"
   ],
   "metadata": {
    "collapsed": false,
    "ExecuteTime": {
     "end_time": "2023-10-26T08:39:15.196369300Z",
     "start_time": "2023-10-26T08:39:15.135546Z"
    }
   },
   "id": "15e4ef2b18493bac"
  },
  {
   "cell_type": "markdown",
   "source": [
    "No.9 Print the names of the columns in the df_prods dataframe."
   ],
   "metadata": {
    "collapsed": false
   },
   "id": "1bc682a1a287e4c"
  },
  {
   "cell_type": "code",
   "execution_count": 10,
   "outputs": [
    {
     "data": {
      "text/plain": "Index(['product_id', 'product_name', 'aisle_id', 'department_id', 'prices'], dtype='object')"
     },
     "execution_count": 10,
     "metadata": {},
     "output_type": "execute_result"
    }
   ],
   "source": [
    "df_prods.columns"
   ],
   "metadata": {
    "collapsed": false,
    "ExecuteTime": {
     "end_time": "2023-10-26T08:39:15.212323100Z",
     "start_time": "2023-10-26T08:39:15.153493200Z"
    }
   },
   "id": "46e8c3256ef8c335"
  },
  {
   "cell_type": "markdown",
   "source": [
    "No.10 Print the number of rows and columns in the df_prods dataframe."
   ],
   "metadata": {
    "collapsed": false
   },
   "id": "a0ead3b16ef4b397"
  },
  {
   "cell_type": "code",
   "execution_count": 11,
   "outputs": [
    {
     "data": {
      "text/plain": "(49693, 5)"
     },
     "execution_count": 11,
     "metadata": {},
     "output_type": "execute_result"
    }
   ],
   "source": [
    "df_prods.shape"
   ],
   "metadata": {
    "collapsed": false,
    "ExecuteTime": {
     "end_time": "2023-10-26T08:39:15.256195800Z",
     "start_time": "2023-10-26T08:39:15.169447300Z"
    }
   },
   "id": "9a11d4b9421786f9"
  },
  {
   "cell_type": "markdown",
   "source": [
    "No.11a What’s the maximum value of the “aisle_id” column?\n",
    "No.11b What’s the data type of the “department_id” column?"
   ],
   "metadata": {
    "collapsed": false
   },
   "id": "cb4a05c6ac64db16"
  },
  {
   "cell_type": "code",
   "execution_count": 12,
   "outputs": [
    {
     "data": {
      "text/plain": "         product_id      aisle_id  department_id        prices\ncount  49693.000000  49693.000000   49693.000000  49693.000000\nmean   24844.345139     67.770249      11.728433      9.994136\nstd    14343.717401     38.316774       5.850282    453.519686\nmin        1.000000      1.000000       1.000000      1.000000\n25%    12423.000000     35.000000       7.000000      4.100000\n50%    24845.000000     69.000000      13.000000      7.100000\n75%    37265.000000    100.000000      17.000000     11.200000\nmax    49688.000000    134.000000      21.000000  99999.000000",
      "text/html": "<div>\n<style scoped>\n    .dataframe tbody tr th:only-of-type {\n        vertical-align: middle;\n    }\n\n    .dataframe tbody tr th {\n        vertical-align: top;\n    }\n\n    .dataframe thead th {\n        text-align: right;\n    }\n</style>\n<table border=\"1\" class=\"dataframe\">\n  <thead>\n    <tr style=\"text-align: right;\">\n      <th></th>\n      <th>product_id</th>\n      <th>aisle_id</th>\n      <th>department_id</th>\n      <th>prices</th>\n    </tr>\n  </thead>\n  <tbody>\n    <tr>\n      <th>count</th>\n      <td>49693.000000</td>\n      <td>49693.000000</td>\n      <td>49693.000000</td>\n      <td>49693.000000</td>\n    </tr>\n    <tr>\n      <th>mean</th>\n      <td>24844.345139</td>\n      <td>67.770249</td>\n      <td>11.728433</td>\n      <td>9.994136</td>\n    </tr>\n    <tr>\n      <th>std</th>\n      <td>14343.717401</td>\n      <td>38.316774</td>\n      <td>5.850282</td>\n      <td>453.519686</td>\n    </tr>\n    <tr>\n      <th>min</th>\n      <td>1.000000</td>\n      <td>1.000000</td>\n      <td>1.000000</td>\n      <td>1.000000</td>\n    </tr>\n    <tr>\n      <th>25%</th>\n      <td>12423.000000</td>\n      <td>35.000000</td>\n      <td>7.000000</td>\n      <td>4.100000</td>\n    </tr>\n    <tr>\n      <th>50%</th>\n      <td>24845.000000</td>\n      <td>69.000000</td>\n      <td>13.000000</td>\n      <td>7.100000</td>\n    </tr>\n    <tr>\n      <th>75%</th>\n      <td>37265.000000</td>\n      <td>100.000000</td>\n      <td>17.000000</td>\n      <td>11.200000</td>\n    </tr>\n    <tr>\n      <th>max</th>\n      <td>49688.000000</td>\n      <td>134.000000</td>\n      <td>21.000000</td>\n      <td>99999.000000</td>\n    </tr>\n  </tbody>\n</table>\n</div>"
     },
     "execution_count": 12,
     "metadata": {},
     "output_type": "execute_result"
    }
   ],
   "source": [
    "df_prods.describe()"
   ],
   "metadata": {
    "collapsed": false,
    "ExecuteTime": {
     "end_time": "2023-10-26T08:39:15.458553100Z",
     "start_time": "2023-10-26T08:39:15.185403300Z"
    }
   },
   "id": "e6b7aa2c7d893283"
  },
  {
   "cell_type": "markdown",
   "source": [
    "11a. The maximum number of the \"aisle_id\" column is 134.000000"
   ],
   "metadata": {
    "collapsed": false
   },
   "id": "a568743f69e40587"
  },
  {
   "cell_type": "code",
   "execution_count": 13,
   "outputs": [
    {
     "data": {
      "text/plain": "product_id         int64\nproduct_name      object\naisle_id           int64\ndepartment_id      int64\nprices           float64\ndtype: object"
     },
     "execution_count": 13,
     "metadata": {},
     "output_type": "execute_result"
    }
   ],
   "source": [
    "df_prods.dtypes"
   ],
   "metadata": {
    "collapsed": false,
    "ExecuteTime": {
     "end_time": "2023-10-26T08:39:15.494441500Z",
     "start_time": "2023-10-26T08:39:15.232265500Z"
    }
   },
   "id": "b5d2e13fb6c81bf2"
  },
  {
   "cell_type": "markdown",
   "source": [
    "11b. The data type of the \"department_id\" column is int64"
   ],
   "metadata": {
    "collapsed": false
   },
   "id": "1d7194c84e92ad81"
  }
 ],
 "metadata": {
  "kernelspec": {
   "display_name": "Python 3",
   "language": "python",
   "name": "python3"
  },
  "language_info": {
   "codemirror_mode": {
    "name": "ipython",
    "version": 2
   },
   "file_extension": ".py",
   "mimetype": "text/x-python",
   "name": "python",
   "nbconvert_exporter": "python",
   "pygments_lexer": "ipython2",
   "version": "2.7.6"
  }
 },
 "nbformat": 4,
 "nbformat_minor": 5
}
