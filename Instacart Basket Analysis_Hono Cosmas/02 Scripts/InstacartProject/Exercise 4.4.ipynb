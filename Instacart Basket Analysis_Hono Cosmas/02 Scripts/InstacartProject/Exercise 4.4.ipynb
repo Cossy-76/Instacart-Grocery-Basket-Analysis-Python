{
 "cells": [
  {
   "cell_type": "code",
   "execution_count": 1,
   "id": "initial_id",
   "metadata": {
    "collapsed": true,
    "ExecuteTime": {
     "end_time": "2023-10-13T10:28:00.261361700Z",
     "start_time": "2023-10-13T10:27:59.677942800Z"
    }
   },
   "outputs": [],
   "source": [
    "# Import libraries\n",
    "import pandas as pd\n",
    "import numpy as np\n",
    "import os"
   ]
  },
  {
   "cell_type": "markdown",
   "source": [
    "Importing Orders CSV file"
   ],
   "metadata": {
    "collapsed": false
   },
   "id": "4d1c65892b21950a"
  },
  {
   "cell_type": "code",
   "execution_count": 2,
   "outputs": [],
   "source": [
    "path = r'C:\\Users\\honoc\\Documents\\CareerFoundry Folder\\Python Fundamentals for Data Analysts\\Exercise 4.3 Folder'\n",
    "path\n",
    "df_ords = pd.read_csv(os.path.join(path, 'Original data', 'orders.csv'), index_col = False)"
   ],
   "metadata": {
    "collapsed": false,
    "ExecuteTime": {
     "end_time": "2023-10-13T10:31:00.817489Z",
     "start_time": "2023-10-13T10:30:58.793283Z"
    }
   },
   "id": "28dc4530ef688b63"
  },
  {
   "cell_type": "markdown",
   "source": [
    "Importing Products CSV file"
   ],
   "metadata": {
    "collapsed": false
   },
   "id": "90c5e463c75292a6"
  },
  {
   "cell_type": "code",
   "execution_count": 3,
   "outputs": [],
   "source": [
    "df_prods = pd.read_csv(os.path.join(path, 'Original data', 'products.csv'), index_col = False)"
   ],
   "metadata": {
    "collapsed": false,
    "ExecuteTime": {
     "end_time": "2023-10-13T10:32:05.599307800Z",
     "start_time": "2023-10-13T10:32:05.507057900Z"
    }
   },
   "id": "97d588dba81828"
  },
  {
   "cell_type": "markdown",
   "source": [
    "Dropping a column(s), e.g., 'eval_set'"
   ],
   "metadata": {
    "collapsed": false
   },
   "id": "9084dd468f1540d2"
  },
  {
   "cell_type": "code",
   "execution_count": 4,
   "outputs": [
    {
     "data": {
      "text/plain": "         order_id  user_id  order_number  order_dow  order_hour_of_day  \\\n0         2539329        1             1          2                  8   \n1         2398795        1             2          3                  7   \n2          473747        1             3          3                 12   \n3         2254736        1             4          4                  7   \n4          431534        1             5          4                 15   \n...           ...      ...           ...        ...                ...   \n3421078   2266710   206209            10          5                 18   \n3421079   1854736   206209            11          4                 10   \n3421080    626363   206209            12          1                 12   \n3421081   2977660   206209            13          1                 12   \n3421082    272231   206209            14          6                 14   \n\n         days_since_prior_order  \n0                           NaN  \n1                          15.0  \n2                          21.0  \n3                          29.0  \n4                          28.0  \n...                         ...  \n3421078                    29.0  \n3421079                    30.0  \n3421080                    18.0  \n3421081                     7.0  \n3421082                    30.0  \n\n[3421083 rows x 6 columns]",
      "text/html": "<div>\n<style scoped>\n    .dataframe tbody tr th:only-of-type {\n        vertical-align: middle;\n    }\n\n    .dataframe tbody tr th {\n        vertical-align: top;\n    }\n\n    .dataframe thead th {\n        text-align: right;\n    }\n</style>\n<table border=\"1\" class=\"dataframe\">\n  <thead>\n    <tr style=\"text-align: right;\">\n      <th></th>\n      <th>order_id</th>\n      <th>user_id</th>\n      <th>order_number</th>\n      <th>order_dow</th>\n      <th>order_hour_of_day</th>\n      <th>days_since_prior_order</th>\n    </tr>\n  </thead>\n  <tbody>\n    <tr>\n      <th>0</th>\n      <td>2539329</td>\n      <td>1</td>\n      <td>1</td>\n      <td>2</td>\n      <td>8</td>\n      <td>NaN</td>\n    </tr>\n    <tr>\n      <th>1</th>\n      <td>2398795</td>\n      <td>1</td>\n      <td>2</td>\n      <td>3</td>\n      <td>7</td>\n      <td>15.0</td>\n    </tr>\n    <tr>\n      <th>2</th>\n      <td>473747</td>\n      <td>1</td>\n      <td>3</td>\n      <td>3</td>\n      <td>12</td>\n      <td>21.0</td>\n    </tr>\n    <tr>\n      <th>3</th>\n      <td>2254736</td>\n      <td>1</td>\n      <td>4</td>\n      <td>4</td>\n      <td>7</td>\n      <td>29.0</td>\n    </tr>\n    <tr>\n      <th>4</th>\n      <td>431534</td>\n      <td>1</td>\n      <td>5</td>\n      <td>4</td>\n      <td>15</td>\n      <td>28.0</td>\n    </tr>\n    <tr>\n      <th>...</th>\n      <td>...</td>\n      <td>...</td>\n      <td>...</td>\n      <td>...</td>\n      <td>...</td>\n      <td>...</td>\n    </tr>\n    <tr>\n      <th>3421078</th>\n      <td>2266710</td>\n      <td>206209</td>\n      <td>10</td>\n      <td>5</td>\n      <td>18</td>\n      <td>29.0</td>\n    </tr>\n    <tr>\n      <th>3421079</th>\n      <td>1854736</td>\n      <td>206209</td>\n      <td>11</td>\n      <td>4</td>\n      <td>10</td>\n      <td>30.0</td>\n    </tr>\n    <tr>\n      <th>3421080</th>\n      <td>626363</td>\n      <td>206209</td>\n      <td>12</td>\n      <td>1</td>\n      <td>12</td>\n      <td>18.0</td>\n    </tr>\n    <tr>\n      <th>3421081</th>\n      <td>2977660</td>\n      <td>206209</td>\n      <td>13</td>\n      <td>1</td>\n      <td>12</td>\n      <td>7.0</td>\n    </tr>\n    <tr>\n      <th>3421082</th>\n      <td>272231</td>\n      <td>206209</td>\n      <td>14</td>\n      <td>6</td>\n      <td>14</td>\n      <td>30.0</td>\n    </tr>\n  </tbody>\n</table>\n<p>3421083 rows × 6 columns</p>\n</div>"
     },
     "execution_count": 4,
     "metadata": {},
     "output_type": "execute_result"
    }
   ],
   "source": [
    "df_ords.drop(columns=['eval_set'])"
   ],
   "metadata": {
    "collapsed": false,
    "ExecuteTime": {
     "end_time": "2023-10-13T11:05:18.348355300Z",
     "start_time": "2023-10-13T11:05:18.230669900Z"
    }
   },
   "id": "1a8f148190468d7"
  },
  {
   "cell_type": "markdown",
   "source": [
    "Investigating further to identify missing values by Performing Value Counts "
   ],
   "metadata": {
    "collapsed": false
   },
   "id": "1594c998b3addc6e"
  },
  {
   "cell_type": "code",
   "execution_count": 5,
   "outputs": [
    {
     "data": {
      "text/plain": "days_since_prior_order\n30.0    369323\n7.0     320608\n6.0     240013\n4.0     221696\n3.0     217005\n5.0     214503\nNaN     206209\n2.0     193206\n8.0     181717\n1.0     145247\n9.0     118188\n14.0    100230\n10.0     95186\n13.0     83214\n11.0     80970\n12.0     76146\n0.0      67755\n15.0     66579\n16.0     46941\n21.0     45470\n17.0     39245\n20.0     38527\n18.0     35881\n19.0     34384\n22.0     32012\n28.0     26777\n23.0     23885\n27.0     22013\n24.0     20712\n25.0     19234\n29.0     19191\n26.0     19016\nName: count, dtype: int64"
     },
     "execution_count": 5,
     "metadata": {},
     "output_type": "execute_result"
    }
   ],
   "source": [
    "df_ords['days_since_prior_order'].value_counts(dropna= False)"
   ],
   "metadata": {
    "collapsed": false,
    "ExecuteTime": {
     "end_time": "2023-10-13T13:12:44.796296100Z",
     "start_time": "2023-10-13T13:12:44.710518800Z"
    }
   },
   "id": "c558fd14618ad0e3"
  },
  {
   "cell_type": "markdown",
   "source": [
    "Renaming Columns"
   ],
   "metadata": {
    "collapsed": false
   },
   "id": "154cec575ab5960"
  },
  {
   "cell_type": "code",
   "execution_count": 7,
   "outputs": [
    {
     "data": {
      "text/plain": "   order_id  user_id eval_set  order_number  orders_day_of_week  \\\n0   2539329        1    prior             1                   2   \n1   2398795        1    prior             2                   3   \n2    473747        1    prior             3                   3   \n3   2254736        1    prior             4                   4   \n4    431534        1    prior             5                   4   \n\n   order_hour_of_day  days_since_prior_order  \n0                  8                     NaN  \n1                  7                    15.0  \n2                 12                    21.0  \n3                  7                    29.0  \n4                 15                    28.0  ",
      "text/html": "<div>\n<style scoped>\n    .dataframe tbody tr th:only-of-type {\n        vertical-align: middle;\n    }\n\n    .dataframe tbody tr th {\n        vertical-align: top;\n    }\n\n    .dataframe thead th {\n        text-align: right;\n    }\n</style>\n<table border=\"1\" class=\"dataframe\">\n  <thead>\n    <tr style=\"text-align: right;\">\n      <th></th>\n      <th>order_id</th>\n      <th>user_id</th>\n      <th>eval_set</th>\n      <th>order_number</th>\n      <th>orders_day_of_week</th>\n      <th>order_hour_of_day</th>\n      <th>days_since_prior_order</th>\n    </tr>\n  </thead>\n  <tbody>\n    <tr>\n      <th>0</th>\n      <td>2539329</td>\n      <td>1</td>\n      <td>prior</td>\n      <td>1</td>\n      <td>2</td>\n      <td>8</td>\n      <td>NaN</td>\n    </tr>\n    <tr>\n      <th>1</th>\n      <td>2398795</td>\n      <td>1</td>\n      <td>prior</td>\n      <td>2</td>\n      <td>3</td>\n      <td>7</td>\n      <td>15.0</td>\n    </tr>\n    <tr>\n      <th>2</th>\n      <td>473747</td>\n      <td>1</td>\n      <td>prior</td>\n      <td>3</td>\n      <td>3</td>\n      <td>12</td>\n      <td>21.0</td>\n    </tr>\n    <tr>\n      <th>3</th>\n      <td>2254736</td>\n      <td>1</td>\n      <td>prior</td>\n      <td>4</td>\n      <td>4</td>\n      <td>7</td>\n      <td>29.0</td>\n    </tr>\n    <tr>\n      <th>4</th>\n      <td>431534</td>\n      <td>1</td>\n      <td>prior</td>\n      <td>5</td>\n      <td>4</td>\n      <td>15</td>\n      <td>28.0</td>\n    </tr>\n  </tbody>\n</table>\n</div>"
     },
     "execution_count": 7,
     "metadata": {},
     "output_type": "execute_result"
    }
   ],
   "source": [
    "df_ords.rename(columns= {'order_dow': 'orders_day_of_week'}, inplace=True)\n",
    "df_ords.head()"
   ],
   "metadata": {
    "collapsed": false,
    "ExecuteTime": {
     "end_time": "2023-10-13T13:59:47.672969800Z",
     "start_time": "2023-10-13T13:59:47.610139500Z"
    }
   },
   "id": "55c9c90733f0b39b"
  },
  {
   "cell_type": "markdown",
   "source": [
    "Changing a Variable's Data Type"
   ],
   "metadata": {
    "collapsed": false
   },
   "id": "6f9200724cb2fbe4"
  },
  {
   "cell_type": "code",
   "execution_count": 9,
   "outputs": [
    {
     "data": {
      "text/plain": "dtype('O')"
     },
     "execution_count": 9,
     "metadata": {},
     "output_type": "execute_result"
    }
   ],
   "source": [
    "df_ords['order_id'] = df_ords['order_id'].astype('str')\n",
    "df_ords['order_id'].dtype"
   ],
   "metadata": {
    "collapsed": false,
    "ExecuteTime": {
     "end_time": "2023-10-13T14:16:14.302611900Z",
     "start_time": "2023-10-13T14:16:14.134064Z"
    }
   },
   "id": "d99d95be909e35c8"
  },
  {
   "cell_type": "markdown",
   "source": [
    "2. Find another identifier variable in the df_ords dataframe that doesn’t need to be included in your analysis as a numeric variable and change it to a suitable format. \"user_id\""
   ],
   "metadata": {
    "collapsed": false
   },
   "id": "ee59bc5114ac2a51"
  },
  {
   "cell_type": "code",
   "execution_count": 11,
   "outputs": [
    {
     "data": {
      "text/plain": "dtype('O')"
     },
     "execution_count": 11,
     "metadata": {},
     "output_type": "execute_result"
    }
   ],
   "source": [
    "df_ords['user_id'] = df_ords['user_id'].astype('str')\n",
    "df_ords['user_id'].dtype"
   ],
   "metadata": {
    "collapsed": false,
    "ExecuteTime": {
     "end_time": "2023-10-13T14:28:27.278875700Z",
     "start_time": "2023-10-13T14:28:27.264890800Z"
    }
   },
   "id": "44b46b3670965aa0"
  },
  {
   "cell_type": "markdown",
   "source": [
    "3. Look for a variable in your df_ords dataframe with an unintuitive name and change its name without overwriting the dataframe."
   ],
   "metadata": {
    "collapsed": false
   },
   "id": "78ce38d91ea55c89"
  },
  {
   "cell_type": "code",
   "execution_count": 12,
   "outputs": [
    {
     "data": {
      "text/plain": "        order_id user_id eval_set  order_number  orders_day_of_week  \\\n0        2539329       1    prior             1                   2   \n1        2398795       1    prior             2                   3   \n2         473747       1    prior             3                   3   \n3        2254736       1    prior             4                   4   \n4         431534       1    prior             5                   4   \n...          ...     ...      ...           ...                 ...   \n3421078  2266710  206209    prior            10                   5   \n3421079  1854736  206209    prior            11                   4   \n3421080   626363  206209    prior            12                   1   \n3421081  2977660  206209    prior            13                   1   \n3421082   272231  206209    train            14                   6   \n\n         order_hour_of_day  days_since_last_order  \n0                        8                    NaN  \n1                        7                   15.0  \n2                       12                   21.0  \n3                        7                   29.0  \n4                       15                   28.0  \n...                    ...                    ...  \n3421078                 18                   29.0  \n3421079                 10                   30.0  \n3421080                 12                   18.0  \n3421081                 12                    7.0  \n3421082                 14                   30.0  \n\n[3421083 rows x 7 columns]",
      "text/html": "<div>\n<style scoped>\n    .dataframe tbody tr th:only-of-type {\n        vertical-align: middle;\n    }\n\n    .dataframe tbody tr th {\n        vertical-align: top;\n    }\n\n    .dataframe thead th {\n        text-align: right;\n    }\n</style>\n<table border=\"1\" class=\"dataframe\">\n  <thead>\n    <tr style=\"text-align: right;\">\n      <th></th>\n      <th>order_id</th>\n      <th>user_id</th>\n      <th>eval_set</th>\n      <th>order_number</th>\n      <th>orders_day_of_week</th>\n      <th>order_hour_of_day</th>\n      <th>days_since_last_order</th>\n    </tr>\n  </thead>\n  <tbody>\n    <tr>\n      <th>0</th>\n      <td>2539329</td>\n      <td>1</td>\n      <td>prior</td>\n      <td>1</td>\n      <td>2</td>\n      <td>8</td>\n      <td>NaN</td>\n    </tr>\n    <tr>\n      <th>1</th>\n      <td>2398795</td>\n      <td>1</td>\n      <td>prior</td>\n      <td>2</td>\n      <td>3</td>\n      <td>7</td>\n      <td>15.0</td>\n    </tr>\n    <tr>\n      <th>2</th>\n      <td>473747</td>\n      <td>1</td>\n      <td>prior</td>\n      <td>3</td>\n      <td>3</td>\n      <td>12</td>\n      <td>21.0</td>\n    </tr>\n    <tr>\n      <th>3</th>\n      <td>2254736</td>\n      <td>1</td>\n      <td>prior</td>\n      <td>4</td>\n      <td>4</td>\n      <td>7</td>\n      <td>29.0</td>\n    </tr>\n    <tr>\n      <th>4</th>\n      <td>431534</td>\n      <td>1</td>\n      <td>prior</td>\n      <td>5</td>\n      <td>4</td>\n      <td>15</td>\n      <td>28.0</td>\n    </tr>\n    <tr>\n      <th>...</th>\n      <td>...</td>\n      <td>...</td>\n      <td>...</td>\n      <td>...</td>\n      <td>...</td>\n      <td>...</td>\n      <td>...</td>\n    </tr>\n    <tr>\n      <th>3421078</th>\n      <td>2266710</td>\n      <td>206209</td>\n      <td>prior</td>\n      <td>10</td>\n      <td>5</td>\n      <td>18</td>\n      <td>29.0</td>\n    </tr>\n    <tr>\n      <th>3421079</th>\n      <td>1854736</td>\n      <td>206209</td>\n      <td>prior</td>\n      <td>11</td>\n      <td>4</td>\n      <td>10</td>\n      <td>30.0</td>\n    </tr>\n    <tr>\n      <th>3421080</th>\n      <td>626363</td>\n      <td>206209</td>\n      <td>prior</td>\n      <td>12</td>\n      <td>1</td>\n      <td>12</td>\n      <td>18.0</td>\n    </tr>\n    <tr>\n      <th>3421081</th>\n      <td>2977660</td>\n      <td>206209</td>\n      <td>prior</td>\n      <td>13</td>\n      <td>1</td>\n      <td>12</td>\n      <td>7.0</td>\n    </tr>\n    <tr>\n      <th>3421082</th>\n      <td>272231</td>\n      <td>206209</td>\n      <td>train</td>\n      <td>14</td>\n      <td>6</td>\n      <td>14</td>\n      <td>30.0</td>\n    </tr>\n  </tbody>\n</table>\n<p>3421083 rows × 7 columns</p>\n</div>"
     },
     "execution_count": 12,
     "metadata": {},
     "output_type": "execute_result"
    }
   ],
   "source": [
    "df_ords.rename(columns= {'days_since_prior_order': 'days_since_last_order'}, inplace=False)\n"
   ],
   "metadata": {
    "collapsed": false,
    "ExecuteTime": {
     "end_time": "2023-10-13T14:39:57.030776200Z",
     "start_time": "2023-10-13T14:39:56.588958500Z"
    }
   },
   "id": "b8d09b22933be484"
  },
  {
   "cell_type": "markdown",
   "source": [
    "4. Your client wants to know what the busiest hour is for placing orders. Find the frequency of the corresponding variable and share your findings."
   ],
   "metadata": {
    "collapsed": false
   },
   "id": "56698693be70220"
  },
  {
   "cell_type": "markdown",
   "source": [
    "The busiest hour of the day for placing orders is the 10th hours: 10:00am as it shows the highest counts of orders placed. That is 288,418 orders."
   ],
   "metadata": {
    "collapsed": false
   },
   "id": "8f7aafe1d38c4740"
  },
  {
   "cell_type": "code",
   "execution_count": 15,
   "outputs": [
    {
     "data": {
      "text/plain": "order_hour_of_day\n10    288418\n11    284728\n15    283639\n14    283042\n13    277999\n12    272841\n16    272553\n9     257812\n17    228795\n18    182912\n8     178201\n19    140569\n20    104292\n7      91868\n21     78109\n22     61468\n23     40043\n6      30529\n0      22758\n1      12398\n5       9569\n2       7539\n4       5527\n3       5474\nName: count, dtype: int64"
     },
     "execution_count": 15,
     "metadata": {},
     "output_type": "execute_result"
    }
   ],
   "source": [
    "df_ords['order_hour_of_day'].value_counts(dropna= False)"
   ],
   "metadata": {
    "collapsed": false,
    "ExecuteTime": {
     "end_time": "2023-10-13T14:59:31.279508900Z",
     "start_time": "2023-10-13T14:59:31.211801200Z"
    }
   },
   "id": "9f0643622140fa33"
  },
  {
   "cell_type": "code",
   "execution_count": 16,
   "outputs": [
    {
     "data": {
      "text/plain": "count    3.421083e+06\nmean     1.345202e+01\nstd      4.226088e+00\nmin      0.000000e+00\n25%      1.000000e+01\n50%      1.300000e+01\n75%      1.600000e+01\nmax      2.300000e+01\nName: order_hour_of_day, dtype: float64"
     },
     "execution_count": 16,
     "metadata": {},
     "output_type": "execute_result"
    }
   ],
   "source": [
    "df_ords['order_hour_of_day'].describe()"
   ],
   "metadata": {
    "collapsed": false,
    "ExecuteTime": {
     "end_time": "2023-10-13T15:02:15.883772800Z",
     "start_time": "2023-10-13T15:02:15.743914800Z"
    }
   },
   "id": "46dcb9513b8db31e"
  },
  {
   "cell_type": "markdown",
   "source": [
    "Importing departments CSV file"
   ],
   "metadata": {
    "collapsed": false
   },
   "id": "b135e8d7138ac4e2"
  },
  {
   "cell_type": "code",
   "execution_count": 14,
   "outputs": [
    {
     "data": {
      "text/plain": "  department_id       1      2       3        4        5              6  \\\n0    department  frozen  other  bakery  produce  alcohol  international   \n\n           7     8                9  ...            12      13         14  \\\n0  beverages  pets  dry goods pasta  ...  meat seafood  pantry  breakfast   \n\n             15          16         17      18      19    20       21  \n0  canned goods  dairy eggs  household  babies  snacks  deli  missing  \n\n[1 rows x 22 columns]",
      "text/html": "<div>\n<style scoped>\n    .dataframe tbody tr th:only-of-type {\n        vertical-align: middle;\n    }\n\n    .dataframe tbody tr th {\n        vertical-align: top;\n    }\n\n    .dataframe thead th {\n        text-align: right;\n    }\n</style>\n<table border=\"1\" class=\"dataframe\">\n  <thead>\n    <tr style=\"text-align: right;\">\n      <th></th>\n      <th>department_id</th>\n      <th>1</th>\n      <th>2</th>\n      <th>3</th>\n      <th>4</th>\n      <th>5</th>\n      <th>6</th>\n      <th>7</th>\n      <th>8</th>\n      <th>9</th>\n      <th>...</th>\n      <th>12</th>\n      <th>13</th>\n      <th>14</th>\n      <th>15</th>\n      <th>16</th>\n      <th>17</th>\n      <th>18</th>\n      <th>19</th>\n      <th>20</th>\n      <th>21</th>\n    </tr>\n  </thead>\n  <tbody>\n    <tr>\n      <th>0</th>\n      <td>department</td>\n      <td>frozen</td>\n      <td>other</td>\n      <td>bakery</td>\n      <td>produce</td>\n      <td>alcohol</td>\n      <td>international</td>\n      <td>beverages</td>\n      <td>pets</td>\n      <td>dry goods pasta</td>\n      <td>...</td>\n      <td>meat seafood</td>\n      <td>pantry</td>\n      <td>breakfast</td>\n      <td>canned goods</td>\n      <td>dairy eggs</td>\n      <td>household</td>\n      <td>babies</td>\n      <td>snacks</td>\n      <td>deli</td>\n      <td>missing</td>\n    </tr>\n  </tbody>\n</table>\n<p>1 rows × 22 columns</p>\n</div>"
     },
     "execution_count": 14,
     "metadata": {},
     "output_type": "execute_result"
    }
   ],
   "source": [
    "df_dep = pd.read_csv(os.path.join(path, 'Original data', 'departments.csv'), index_col = False)\n",
    "df_dep.head()"
   ],
   "metadata": {
    "collapsed": false,
    "ExecuteTime": {
     "end_time": "2023-10-13T14:44:07.306903200Z",
     "start_time": "2023-10-13T14:44:07.254697500Z"
    }
   },
   "id": "5949f7662f157626"
  },
  {
   "cell_type": "markdown",
   "source": [
    " Transposing df_dep "
   ],
   "metadata": {
    "collapsed": false
   },
   "id": "3060d59f37ee03d8"
  },
  {
   "cell_type": "code",
   "execution_count": 17,
   "outputs": [
    {
     "data": {
      "text/plain": "                             0\ndepartment_id       department\n1                       frozen\n2                        other\n3                       bakery\n4                      produce\n5                      alcohol\n6                international\n7                    beverages\n8                         pets\n9              dry goods pasta\n10                        bulk\n11               personal care\n12                meat seafood\n13                      pantry\n14                   breakfast\n15                canned goods\n16                  dairy eggs\n17                   household\n18                      babies\n19                      snacks\n20                        deli\n21                     missing",
      "text/html": "<div>\n<style scoped>\n    .dataframe tbody tr th:only-of-type {\n        vertical-align: middle;\n    }\n\n    .dataframe tbody tr th {\n        vertical-align: top;\n    }\n\n    .dataframe thead th {\n        text-align: right;\n    }\n</style>\n<table border=\"1\" class=\"dataframe\">\n  <thead>\n    <tr style=\"text-align: right;\">\n      <th></th>\n      <th>0</th>\n    </tr>\n  </thead>\n  <tbody>\n    <tr>\n      <th>department_id</th>\n      <td>department</td>\n    </tr>\n    <tr>\n      <th>1</th>\n      <td>frozen</td>\n    </tr>\n    <tr>\n      <th>2</th>\n      <td>other</td>\n    </tr>\n    <tr>\n      <th>3</th>\n      <td>bakery</td>\n    </tr>\n    <tr>\n      <th>4</th>\n      <td>produce</td>\n    </tr>\n    <tr>\n      <th>5</th>\n      <td>alcohol</td>\n    </tr>\n    <tr>\n      <th>6</th>\n      <td>international</td>\n    </tr>\n    <tr>\n      <th>7</th>\n      <td>beverages</td>\n    </tr>\n    <tr>\n      <th>8</th>\n      <td>pets</td>\n    </tr>\n    <tr>\n      <th>9</th>\n      <td>dry goods pasta</td>\n    </tr>\n    <tr>\n      <th>10</th>\n      <td>bulk</td>\n    </tr>\n    <tr>\n      <th>11</th>\n      <td>personal care</td>\n    </tr>\n    <tr>\n      <th>12</th>\n      <td>meat seafood</td>\n    </tr>\n    <tr>\n      <th>13</th>\n      <td>pantry</td>\n    </tr>\n    <tr>\n      <th>14</th>\n      <td>breakfast</td>\n    </tr>\n    <tr>\n      <th>15</th>\n      <td>canned goods</td>\n    </tr>\n    <tr>\n      <th>16</th>\n      <td>dairy eggs</td>\n    </tr>\n    <tr>\n      <th>17</th>\n      <td>household</td>\n    </tr>\n    <tr>\n      <th>18</th>\n      <td>babies</td>\n    </tr>\n    <tr>\n      <th>19</th>\n      <td>snacks</td>\n    </tr>\n    <tr>\n      <th>20</th>\n      <td>deli</td>\n    </tr>\n    <tr>\n      <th>21</th>\n      <td>missing</td>\n    </tr>\n  </tbody>\n</table>\n</div>"
     },
     "execution_count": 17,
     "metadata": {},
     "output_type": "execute_result"
    }
   ],
   "source": [
    "df_dep.T"
   ],
   "metadata": {
    "collapsed": false,
    "ExecuteTime": {
     "end_time": "2023-10-13T15:13:07.918789900Z",
     "start_time": "2023-10-13T15:13:07.856820800Z"
    }
   },
   "id": "c07bfb52994b4e4f"
  },
  {
   "cell_type": "code",
   "execution_count": 19,
   "outputs": [
    {
     "data": {
      "text/plain": "                             0\ndepartment_id       department\n1                       frozen\n2                        other\n3                       bakery\n4                      produce\n5                      alcohol\n6                international\n7                    beverages\n8                         pets\n9              dry goods pasta\n10                        bulk\n11               personal care\n12                meat seafood\n13                      pantry\n14                   breakfast\n15                canned goods\n16                  dairy eggs\n17                   household\n18                      babies\n19                      snacks\n20                        deli\n21                     missing",
      "text/html": "<div>\n<style scoped>\n    .dataframe tbody tr th:only-of-type {\n        vertical-align: middle;\n    }\n\n    .dataframe tbody tr th {\n        vertical-align: top;\n    }\n\n    .dataframe thead th {\n        text-align: right;\n    }\n</style>\n<table border=\"1\" class=\"dataframe\">\n  <thead>\n    <tr style=\"text-align: right;\">\n      <th></th>\n      <th>0</th>\n    </tr>\n  </thead>\n  <tbody>\n    <tr>\n      <th>department_id</th>\n      <td>department</td>\n    </tr>\n    <tr>\n      <th>1</th>\n      <td>frozen</td>\n    </tr>\n    <tr>\n      <th>2</th>\n      <td>other</td>\n    </tr>\n    <tr>\n      <th>3</th>\n      <td>bakery</td>\n    </tr>\n    <tr>\n      <th>4</th>\n      <td>produce</td>\n    </tr>\n    <tr>\n      <th>5</th>\n      <td>alcohol</td>\n    </tr>\n    <tr>\n      <th>6</th>\n      <td>international</td>\n    </tr>\n    <tr>\n      <th>7</th>\n      <td>beverages</td>\n    </tr>\n    <tr>\n      <th>8</th>\n      <td>pets</td>\n    </tr>\n    <tr>\n      <th>9</th>\n      <td>dry goods pasta</td>\n    </tr>\n    <tr>\n      <th>10</th>\n      <td>bulk</td>\n    </tr>\n    <tr>\n      <th>11</th>\n      <td>personal care</td>\n    </tr>\n    <tr>\n      <th>12</th>\n      <td>meat seafood</td>\n    </tr>\n    <tr>\n      <th>13</th>\n      <td>pantry</td>\n    </tr>\n    <tr>\n      <th>14</th>\n      <td>breakfast</td>\n    </tr>\n    <tr>\n      <th>15</th>\n      <td>canned goods</td>\n    </tr>\n    <tr>\n      <th>16</th>\n      <td>dairy eggs</td>\n    </tr>\n    <tr>\n      <th>17</th>\n      <td>household</td>\n    </tr>\n    <tr>\n      <th>18</th>\n      <td>babies</td>\n    </tr>\n    <tr>\n      <th>19</th>\n      <td>snacks</td>\n    </tr>\n    <tr>\n      <th>20</th>\n      <td>deli</td>\n    </tr>\n    <tr>\n      <th>21</th>\n      <td>missing</td>\n    </tr>\n  </tbody>\n</table>\n</div>"
     },
     "execution_count": 19,
     "metadata": {},
     "output_type": "execute_result"
    }
   ],
   "source": [
    "# Overwriting old df_dep to the new transposed df_dep_t\n",
    "df_dep_t = df_dep.T\n",
    "df_dep_t"
   ],
   "metadata": {
    "collapsed": false,
    "ExecuteTime": {
     "end_time": "2023-10-13T15:20:50.528498900Z",
     "start_time": "2023-10-13T15:20:50.475060700Z"
    }
   },
   "id": "ea947fb6ac836b11"
  },
  {
   "cell_type": "code",
   "execution_count": 20,
   "outputs": [
    {
     "data": {
      "text/plain": "            index                0\n0   department_id       department\n1               1           frozen\n2               2            other\n3               3           bakery\n4               4          produce\n5               5          alcohol\n6               6    international\n7               7        beverages\n8               8             pets\n9               9  dry goods pasta\n10             10             bulk\n11             11    personal care\n12             12     meat seafood\n13             13           pantry\n14             14        breakfast\n15             15     canned goods\n16             16       dairy eggs\n17             17        household\n18             18           babies\n19             19           snacks\n20             20             deli\n21             21          missing",
      "text/html": "<div>\n<style scoped>\n    .dataframe tbody tr th:only-of-type {\n        vertical-align: middle;\n    }\n\n    .dataframe tbody tr th {\n        vertical-align: top;\n    }\n\n    .dataframe thead th {\n        text-align: right;\n    }\n</style>\n<table border=\"1\" class=\"dataframe\">\n  <thead>\n    <tr style=\"text-align: right;\">\n      <th></th>\n      <th>index</th>\n      <th>0</th>\n    </tr>\n  </thead>\n  <tbody>\n    <tr>\n      <th>0</th>\n      <td>department_id</td>\n      <td>department</td>\n    </tr>\n    <tr>\n      <th>1</th>\n      <td>1</td>\n      <td>frozen</td>\n    </tr>\n    <tr>\n      <th>2</th>\n      <td>2</td>\n      <td>other</td>\n    </tr>\n    <tr>\n      <th>3</th>\n      <td>3</td>\n      <td>bakery</td>\n    </tr>\n    <tr>\n      <th>4</th>\n      <td>4</td>\n      <td>produce</td>\n    </tr>\n    <tr>\n      <th>5</th>\n      <td>5</td>\n      <td>alcohol</td>\n    </tr>\n    <tr>\n      <th>6</th>\n      <td>6</td>\n      <td>international</td>\n    </tr>\n    <tr>\n      <th>7</th>\n      <td>7</td>\n      <td>beverages</td>\n    </tr>\n    <tr>\n      <th>8</th>\n      <td>8</td>\n      <td>pets</td>\n    </tr>\n    <tr>\n      <th>9</th>\n      <td>9</td>\n      <td>dry goods pasta</td>\n    </tr>\n    <tr>\n      <th>10</th>\n      <td>10</td>\n      <td>bulk</td>\n    </tr>\n    <tr>\n      <th>11</th>\n      <td>11</td>\n      <td>personal care</td>\n    </tr>\n    <tr>\n      <th>12</th>\n      <td>12</td>\n      <td>meat seafood</td>\n    </tr>\n    <tr>\n      <th>13</th>\n      <td>13</td>\n      <td>pantry</td>\n    </tr>\n    <tr>\n      <th>14</th>\n      <td>14</td>\n      <td>breakfast</td>\n    </tr>\n    <tr>\n      <th>15</th>\n      <td>15</td>\n      <td>canned goods</td>\n    </tr>\n    <tr>\n      <th>16</th>\n      <td>16</td>\n      <td>dairy eggs</td>\n    </tr>\n    <tr>\n      <th>17</th>\n      <td>17</td>\n      <td>household</td>\n    </tr>\n    <tr>\n      <th>18</th>\n      <td>18</td>\n      <td>babies</td>\n    </tr>\n    <tr>\n      <th>19</th>\n      <td>19</td>\n      <td>snacks</td>\n    </tr>\n    <tr>\n      <th>20</th>\n      <td>20</td>\n      <td>deli</td>\n    </tr>\n    <tr>\n      <th>21</th>\n      <td>21</td>\n      <td>missing</td>\n    </tr>\n  </tbody>\n</table>\n</div>"
     },
     "execution_count": 20,
     "metadata": {},
     "output_type": "execute_result"
    }
   ],
   "source": [
    "# Correcting for index\n",
    "df_dep_t.reset_index()"
   ],
   "metadata": {
    "collapsed": false,
    "ExecuteTime": {
     "end_time": "2023-10-13T15:30:41.603180600Z",
     "start_time": "2023-10-13T15:30:41.579389100Z"
    }
   },
   "id": "5f55c69f5db1ed97"
  },
  {
   "cell_type": "markdown",
   "source": [
    "Creating New Header for dataframe"
   ],
   "metadata": {
    "collapsed": false
   },
   "id": "1e118a23fc3fc3c9"
  },
  {
   "cell_type": "code",
   "execution_count": 22,
   "outputs": [
    {
     "data": {
      "text/plain": "0    department\nName: department_id, dtype: object"
     },
     "execution_count": 22,
     "metadata": {},
     "output_type": "execute_result"
    }
   ],
   "source": [
    "new_header = df_dep_t.iloc[0]\n",
    "new_header"
   ],
   "metadata": {
    "collapsed": false,
    "ExecuteTime": {
     "end_time": "2023-10-13T15:43:52.941007200Z",
     "start_time": "2023-10-13T15:43:52.914076300Z"
    }
   },
   "id": "32758e56f1d6b66f"
  },
  {
   "cell_type": "markdown",
   "source": [
    "Removing the first row in the dataframe"
   ],
   "metadata": {
    "collapsed": false
   },
   "id": "7b80b09c45b81847"
  },
  {
   "cell_type": "code",
   "execution_count": 24,
   "outputs": [
    {
     "data": {
      "text/plain": "                  0\n1            frozen\n2             other\n3            bakery\n4           produce\n5           alcohol\n6     international\n7         beverages\n8              pets\n9   dry goods pasta\n10             bulk\n11    personal care\n12     meat seafood\n13           pantry\n14        breakfast\n15     canned goods\n16       dairy eggs\n17        household\n18           babies\n19           snacks\n20             deli\n21          missing",
      "text/html": "<div>\n<style scoped>\n    .dataframe tbody tr th:only-of-type {\n        vertical-align: middle;\n    }\n\n    .dataframe tbody tr th {\n        vertical-align: top;\n    }\n\n    .dataframe thead th {\n        text-align: right;\n    }\n</style>\n<table border=\"1\" class=\"dataframe\">\n  <thead>\n    <tr style=\"text-align: right;\">\n      <th></th>\n      <th>0</th>\n    </tr>\n  </thead>\n  <tbody>\n    <tr>\n      <th>1</th>\n      <td>frozen</td>\n    </tr>\n    <tr>\n      <th>2</th>\n      <td>other</td>\n    </tr>\n    <tr>\n      <th>3</th>\n      <td>bakery</td>\n    </tr>\n    <tr>\n      <th>4</th>\n      <td>produce</td>\n    </tr>\n    <tr>\n      <th>5</th>\n      <td>alcohol</td>\n    </tr>\n    <tr>\n      <th>6</th>\n      <td>international</td>\n    </tr>\n    <tr>\n      <th>7</th>\n      <td>beverages</td>\n    </tr>\n    <tr>\n      <th>8</th>\n      <td>pets</td>\n    </tr>\n    <tr>\n      <th>9</th>\n      <td>dry goods pasta</td>\n    </tr>\n    <tr>\n      <th>10</th>\n      <td>bulk</td>\n    </tr>\n    <tr>\n      <th>11</th>\n      <td>personal care</td>\n    </tr>\n    <tr>\n      <th>12</th>\n      <td>meat seafood</td>\n    </tr>\n    <tr>\n      <th>13</th>\n      <td>pantry</td>\n    </tr>\n    <tr>\n      <th>14</th>\n      <td>breakfast</td>\n    </tr>\n    <tr>\n      <th>15</th>\n      <td>canned goods</td>\n    </tr>\n    <tr>\n      <th>16</th>\n      <td>dairy eggs</td>\n    </tr>\n    <tr>\n      <th>17</th>\n      <td>household</td>\n    </tr>\n    <tr>\n      <th>18</th>\n      <td>babies</td>\n    </tr>\n    <tr>\n      <th>19</th>\n      <td>snacks</td>\n    </tr>\n    <tr>\n      <th>20</th>\n      <td>deli</td>\n    </tr>\n    <tr>\n      <th>21</th>\n      <td>missing</td>\n    </tr>\n  </tbody>\n</table>\n</div>"
     },
     "execution_count": 24,
     "metadata": {},
     "output_type": "execute_result"
    }
   ],
   "source": [
    "df_dep_t_new = df_dep_t[1:]\n",
    "df_dep_t_new"
   ],
   "metadata": {
    "collapsed": false,
    "ExecuteTime": {
     "end_time": "2023-10-13T15:50:22.384773800Z",
     "start_time": "2023-10-13T15:50:22.373805300Z"
    }
   },
   "id": "dd784f6444133054"
  },
  {
   "cell_type": "markdown",
   "source": [
    "Adding the New Header"
   ],
   "metadata": {
    "collapsed": false
   },
   "id": "262534b0366fbc8f"
  },
  {
   "cell_type": "code",
   "execution_count": 27,
   "outputs": [
    {
     "data": {
      "text/plain": "department_id       department\n1                       frozen\n2                        other\n3                       bakery\n4                      produce\n5                      alcohol\n6                international\n7                    beverages\n8                         pets\n9              dry goods pasta\n10                        bulk\n11               personal care\n12                meat seafood\n13                      pantry\n14                   breakfast\n15                canned goods\n16                  dairy eggs\n17                   household\n18                      babies\n19                      snacks\n20                        deli\n21                     missing",
      "text/html": "<div>\n<style scoped>\n    .dataframe tbody tr th:only-of-type {\n        vertical-align: middle;\n    }\n\n    .dataframe tbody tr th {\n        vertical-align: top;\n    }\n\n    .dataframe thead th {\n        text-align: right;\n    }\n</style>\n<table border=\"1\" class=\"dataframe\">\n  <thead>\n    <tr style=\"text-align: right;\">\n      <th>department_id</th>\n      <th>department</th>\n    </tr>\n  </thead>\n  <tbody>\n    <tr>\n      <th>1</th>\n      <td>frozen</td>\n    </tr>\n    <tr>\n      <th>2</th>\n      <td>other</td>\n    </tr>\n    <tr>\n      <th>3</th>\n      <td>bakery</td>\n    </tr>\n    <tr>\n      <th>4</th>\n      <td>produce</td>\n    </tr>\n    <tr>\n      <th>5</th>\n      <td>alcohol</td>\n    </tr>\n    <tr>\n      <th>6</th>\n      <td>international</td>\n    </tr>\n    <tr>\n      <th>7</th>\n      <td>beverages</td>\n    </tr>\n    <tr>\n      <th>8</th>\n      <td>pets</td>\n    </tr>\n    <tr>\n      <th>9</th>\n      <td>dry goods pasta</td>\n    </tr>\n    <tr>\n      <th>10</th>\n      <td>bulk</td>\n    </tr>\n    <tr>\n      <th>11</th>\n      <td>personal care</td>\n    </tr>\n    <tr>\n      <th>12</th>\n      <td>meat seafood</td>\n    </tr>\n    <tr>\n      <th>13</th>\n      <td>pantry</td>\n    </tr>\n    <tr>\n      <th>14</th>\n      <td>breakfast</td>\n    </tr>\n    <tr>\n      <th>15</th>\n      <td>canned goods</td>\n    </tr>\n    <tr>\n      <th>16</th>\n      <td>dairy eggs</td>\n    </tr>\n    <tr>\n      <th>17</th>\n      <td>household</td>\n    </tr>\n    <tr>\n      <th>18</th>\n      <td>babies</td>\n    </tr>\n    <tr>\n      <th>19</th>\n      <td>snacks</td>\n    </tr>\n    <tr>\n      <th>20</th>\n      <td>deli</td>\n    </tr>\n    <tr>\n      <th>21</th>\n      <td>missing</td>\n    </tr>\n  </tbody>\n</table>\n</div>"
     },
     "execution_count": 27,
     "metadata": {},
     "output_type": "execute_result"
    }
   ],
   "source": [
    "df_dep_t_new.columns = new_header #set the header row as the df header\n",
    "df_dep_t_new\n",
    "df_dep_t_new.head(25)"
   ],
   "metadata": {
    "collapsed": false,
    "ExecuteTime": {
     "end_time": "2023-10-13T16:00:32.137392500Z",
     "start_time": "2023-10-13T16:00:32.106475300Z"
    }
   },
   "id": "cbd0be2ced6ccb5a"
  },
  {
   "cell_type": "markdown",
   "source": [
    "Creating a data dictionary that contains meanings for the values in the \"department_id\" column."
   ],
   "metadata": {
    "collapsed": false
   },
   "id": "a95e6c5b17f3dc1e"
  },
  {
   "cell_type": "code",
   "execution_count": 30,
   "outputs": [
    {
     "data": {
      "text/plain": "{'1': {'department': 'frozen'},\n '2': {'department': 'other'},\n '3': {'department': 'bakery'},\n '4': {'department': 'produce'},\n '5': {'department': 'alcohol'},\n '6': {'department': 'international'},\n '7': {'department': 'beverages'},\n '8': {'department': 'pets'},\n '9': {'department': 'dry goods pasta'},\n '10': {'department': 'bulk'},\n '11': {'department': 'personal care'},\n '12': {'department': 'meat seafood'},\n '13': {'department': 'pantry'},\n '14': {'department': 'breakfast'},\n '15': {'department': 'canned goods'},\n '16': {'department': 'dairy eggs'},\n '17': {'department': 'household'},\n '18': {'department': 'babies'},\n '19': {'department': 'snacks'},\n '20': {'department': 'deli'},\n '21': {'department': 'missing'}}"
     },
     "execution_count": 30,
     "metadata": {},
     "output_type": "execute_result"
    }
   ],
   "source": [
    "data_dict = df_dep_t_new.to_dict('index')\n",
    "data_dict"
   ],
   "metadata": {
    "collapsed": false,
    "ExecuteTime": {
     "end_time": "2023-10-13T16:29:44.065730500Z",
     "start_time": "2023-10-13T16:29:44.047778Z"
    }
   },
   "id": "17dbf28fb93ff730"
  },
  {
   "cell_type": "markdown",
   "source": [
    "Using data dictionary with df_prods dataframe"
   ],
   "metadata": {
    "collapsed": false
   },
   "id": "5752cba2ba36a4c0"
  },
  {
   "cell_type": "code",
   "execution_count": 34,
   "outputs": [
    {
     "data": {
      "text/plain": "    product_id                                       product_name  aisle_id  \\\n0            1                         Chocolate Sandwich Cookies        61   \n1            2                                   All-Seasons Salt       104   \n2            3               Robust Golden Unsweetened Oolong Tea        94   \n3            4  Smart Ones Classic Favorites Mini Rigatoni Wit...        38   \n4            5                          Green Chile Anytime Sauce         5   \n5            6                                       Dry Nose Oil        11   \n6            7                     Pure Coconut Water With Orange        98   \n7            8                  Cut Russet Potatoes Steam N' Mash       116   \n8            9                  Light Strawberry Blueberry Yogurt       120   \n9           10     Sparkling Orange Juice & Prickly Pear Beverage       115   \n10          11                                  Peach Mango Juice        31   \n11          12                         Chocolate Fudge Layer Cake       119   \n12          13                                  Saline Nasal Mist        11   \n13          14                     Fresh Scent Dishwasher Cleaner        74   \n14          15                           Overnight Diapers Size 6        56   \n15          16                      Mint Chocolate Flavored Syrup       103   \n16          17                                  Rendered Duck Fat        35   \n17          18                Pizza for One Suprema  Frozen Pizza        79   \n18          19   Gluten Free Quinoa Three Cheese & Mushroom Blend        63   \n19          20     Pomegranate Cranberry & Aloe Vera Enrich Drink        98   \n20          21                   Small & Medium Dental Dog Treats        40   \n21          22                  Fresh Breath Oral Rinse Mild Mint        20   \n22          23                             Organic Turkey Burgers        49   \n23          24  Tri-Vi-Sol® Vitamins A-C-and D Supplement Drop...        47   \n24          25            Salted Caramel Lean Protein & Fiber Bar         3   \n\n    department_id  prices  \n0              19     5.8  \n1              13     9.3  \n2               7     4.5  \n3               1    10.5  \n4              13     4.3  \n5              11     2.6  \n6               7     4.4  \n7               1     1.1  \n8              16     7.0  \n9               7     8.4  \n10              7     2.8  \n11              1     9.4  \n12             11     1.1  \n13             17     6.5  \n14             18    11.2  \n15             19     5.2  \n16             12    17.1  \n17              1    10.6  \n18              9    12.0  \n19              7     6.0  \n20              8    10.0  \n21             11     9.5  \n22             12     8.2  \n23             11     9.1  \n24             19     1.9  ",
      "text/html": "<div>\n<style scoped>\n    .dataframe tbody tr th:only-of-type {\n        vertical-align: middle;\n    }\n\n    .dataframe tbody tr th {\n        vertical-align: top;\n    }\n\n    .dataframe thead th {\n        text-align: right;\n    }\n</style>\n<table border=\"1\" class=\"dataframe\">\n  <thead>\n    <tr style=\"text-align: right;\">\n      <th></th>\n      <th>product_id</th>\n      <th>product_name</th>\n      <th>aisle_id</th>\n      <th>department_id</th>\n      <th>prices</th>\n    </tr>\n  </thead>\n  <tbody>\n    <tr>\n      <th>0</th>\n      <td>1</td>\n      <td>Chocolate Sandwich Cookies</td>\n      <td>61</td>\n      <td>19</td>\n      <td>5.8</td>\n    </tr>\n    <tr>\n      <th>1</th>\n      <td>2</td>\n      <td>All-Seasons Salt</td>\n      <td>104</td>\n      <td>13</td>\n      <td>9.3</td>\n    </tr>\n    <tr>\n      <th>2</th>\n      <td>3</td>\n      <td>Robust Golden Unsweetened Oolong Tea</td>\n      <td>94</td>\n      <td>7</td>\n      <td>4.5</td>\n    </tr>\n    <tr>\n      <th>3</th>\n      <td>4</td>\n      <td>Smart Ones Classic Favorites Mini Rigatoni Wit...</td>\n      <td>38</td>\n      <td>1</td>\n      <td>10.5</td>\n    </tr>\n    <tr>\n      <th>4</th>\n      <td>5</td>\n      <td>Green Chile Anytime Sauce</td>\n      <td>5</td>\n      <td>13</td>\n      <td>4.3</td>\n    </tr>\n    <tr>\n      <th>5</th>\n      <td>6</td>\n      <td>Dry Nose Oil</td>\n      <td>11</td>\n      <td>11</td>\n      <td>2.6</td>\n    </tr>\n    <tr>\n      <th>6</th>\n      <td>7</td>\n      <td>Pure Coconut Water With Orange</td>\n      <td>98</td>\n      <td>7</td>\n      <td>4.4</td>\n    </tr>\n    <tr>\n      <th>7</th>\n      <td>8</td>\n      <td>Cut Russet Potatoes Steam N' Mash</td>\n      <td>116</td>\n      <td>1</td>\n      <td>1.1</td>\n    </tr>\n    <tr>\n      <th>8</th>\n      <td>9</td>\n      <td>Light Strawberry Blueberry Yogurt</td>\n      <td>120</td>\n      <td>16</td>\n      <td>7.0</td>\n    </tr>\n    <tr>\n      <th>9</th>\n      <td>10</td>\n      <td>Sparkling Orange Juice &amp; Prickly Pear Beverage</td>\n      <td>115</td>\n      <td>7</td>\n      <td>8.4</td>\n    </tr>\n    <tr>\n      <th>10</th>\n      <td>11</td>\n      <td>Peach Mango Juice</td>\n      <td>31</td>\n      <td>7</td>\n      <td>2.8</td>\n    </tr>\n    <tr>\n      <th>11</th>\n      <td>12</td>\n      <td>Chocolate Fudge Layer Cake</td>\n      <td>119</td>\n      <td>1</td>\n      <td>9.4</td>\n    </tr>\n    <tr>\n      <th>12</th>\n      <td>13</td>\n      <td>Saline Nasal Mist</td>\n      <td>11</td>\n      <td>11</td>\n      <td>1.1</td>\n    </tr>\n    <tr>\n      <th>13</th>\n      <td>14</td>\n      <td>Fresh Scent Dishwasher Cleaner</td>\n      <td>74</td>\n      <td>17</td>\n      <td>6.5</td>\n    </tr>\n    <tr>\n      <th>14</th>\n      <td>15</td>\n      <td>Overnight Diapers Size 6</td>\n      <td>56</td>\n      <td>18</td>\n      <td>11.2</td>\n    </tr>\n    <tr>\n      <th>15</th>\n      <td>16</td>\n      <td>Mint Chocolate Flavored Syrup</td>\n      <td>103</td>\n      <td>19</td>\n      <td>5.2</td>\n    </tr>\n    <tr>\n      <th>16</th>\n      <td>17</td>\n      <td>Rendered Duck Fat</td>\n      <td>35</td>\n      <td>12</td>\n      <td>17.1</td>\n    </tr>\n    <tr>\n      <th>17</th>\n      <td>18</td>\n      <td>Pizza for One Suprema  Frozen Pizza</td>\n      <td>79</td>\n      <td>1</td>\n      <td>10.6</td>\n    </tr>\n    <tr>\n      <th>18</th>\n      <td>19</td>\n      <td>Gluten Free Quinoa Three Cheese &amp; Mushroom Blend</td>\n      <td>63</td>\n      <td>9</td>\n      <td>12.0</td>\n    </tr>\n    <tr>\n      <th>19</th>\n      <td>20</td>\n      <td>Pomegranate Cranberry &amp; Aloe Vera Enrich Drink</td>\n      <td>98</td>\n      <td>7</td>\n      <td>6.0</td>\n    </tr>\n    <tr>\n      <th>20</th>\n      <td>21</td>\n      <td>Small &amp; Medium Dental Dog Treats</td>\n      <td>40</td>\n      <td>8</td>\n      <td>10.0</td>\n    </tr>\n    <tr>\n      <th>21</th>\n      <td>22</td>\n      <td>Fresh Breath Oral Rinse Mild Mint</td>\n      <td>20</td>\n      <td>11</td>\n      <td>9.5</td>\n    </tr>\n    <tr>\n      <th>22</th>\n      <td>23</td>\n      <td>Organic Turkey Burgers</td>\n      <td>49</td>\n      <td>12</td>\n      <td>8.2</td>\n    </tr>\n    <tr>\n      <th>23</th>\n      <td>24</td>\n      <td>Tri-Vi-Sol® Vitamins A-C-and D Supplement Drop...</td>\n      <td>47</td>\n      <td>11</td>\n      <td>9.1</td>\n    </tr>\n    <tr>\n      <th>24</th>\n      <td>25</td>\n      <td>Salted Caramel Lean Protein &amp; Fiber Bar</td>\n      <td>3</td>\n      <td>19</td>\n      <td>1.9</td>\n    </tr>\n  </tbody>\n</table>\n</div>"
     },
     "execution_count": 34,
     "metadata": {},
     "output_type": "execute_result"
    }
   ],
   "source": [
    "df_prods.head(25)"
   ],
   "metadata": {
    "collapsed": false,
    "ExecuteTime": {
     "end_time": "2023-10-13T16:41:03.690267600Z",
     "start_time": "2023-10-13T16:41:03.630035200Z"
    }
   },
   "id": "14ae25d0b4027dc8"
  },
  {
   "cell_type": "code",
   "execution_count": 32,
   "outputs": [
    {
     "name": "stdout",
     "output_type": "stream",
     "text": [
      "{'department': 'snacks'}\n"
     ]
    }
   ],
   "source": [
    "print(data_dict.get('19'))"
   ],
   "metadata": {
    "collapsed": false,
    "ExecuteTime": {
     "end_time": "2023-10-13T16:37:13.470079300Z",
     "start_time": "2023-10-13T16:37:13.434061900Z"
    }
   },
   "id": "eacf7e77489b9f6e"
  },
  {
   "cell_type": "markdown",
   "source": [
    "5. Determine the meaning behind a value of 4 in the \"department_id\" column within the df_prods dataframe using a data dictionary. The value of 4 in the \"department_id\" means \"produce\""
   ],
   "metadata": {
    "collapsed": false
   },
   "id": "ae9bf39835086081"
  },
  {
   "cell_type": "code",
   "execution_count": 33,
   "outputs": [
    {
     "name": "stdout",
     "output_type": "stream",
     "text": [
      "{'department': 'produce'}\n"
     ]
    }
   ],
   "source": [
    "print(data_dict.get('4'))"
   ],
   "metadata": {
    "collapsed": false,
    "ExecuteTime": {
     "end_time": "2023-10-13T16:38:27.621465600Z",
     "start_time": "2023-10-13T16:38:27.597530900Z"
    }
   },
   "id": "311b945ada74ef8f"
  },
  {
   "cell_type": "markdown",
   "source": [
    "Creating a subset for df_prods dataframe that only contains data from the snacks department."
   ],
   "metadata": {
    "collapsed": false
   },
   "id": "90fee1ec478f0365"
  },
  {
   "cell_type": "code",
   "execution_count": 36,
   "outputs": [
    {
     "data": {
      "text/plain": "       product_id                                   product_name  aisle_id  \\\n0               1                     Chocolate Sandwich Cookies        61   \n15             16                  Mint Chocolate Flavored Syrup       103   \n24             25        Salted Caramel Lean Protein & Fiber Bar         3   \n31             32                  Nacho Cheese White Bean Chips       107   \n40             41    Organic Sourdough Einkorn Crackers Rosemary        78   \n...           ...                                            ...       ...   \n49666       49662                   Bacon Cheddar Pretzel Pieces       107   \n49669       49665  Super Dark Coconut Ash & Banana Chocolate Bar        45   \n49670       49666                  Ginger Snaps Snacking Cookies        61   \n49675       49671                           Milk Chocolate Drops        45   \n49683       49679                        Famous Chocolate Wafers        61   \n\n       department_id  prices  \n0                 19     5.8  \n15                19     5.2  \n24                19     1.9  \n31                19     4.9  \n40                19     6.5  \n...              ...     ...  \n49666             19     3.6  \n49669             19     6.9  \n49670             19     5.2  \n49675             19     3.0  \n49683             19     6.0  \n\n[6264 rows x 5 columns]",
      "text/html": "<div>\n<style scoped>\n    .dataframe tbody tr th:only-of-type {\n        vertical-align: middle;\n    }\n\n    .dataframe tbody tr th {\n        vertical-align: top;\n    }\n\n    .dataframe thead th {\n        text-align: right;\n    }\n</style>\n<table border=\"1\" class=\"dataframe\">\n  <thead>\n    <tr style=\"text-align: right;\">\n      <th></th>\n      <th>product_id</th>\n      <th>product_name</th>\n      <th>aisle_id</th>\n      <th>department_id</th>\n      <th>prices</th>\n    </tr>\n  </thead>\n  <tbody>\n    <tr>\n      <th>0</th>\n      <td>1</td>\n      <td>Chocolate Sandwich Cookies</td>\n      <td>61</td>\n      <td>19</td>\n      <td>5.8</td>\n    </tr>\n    <tr>\n      <th>15</th>\n      <td>16</td>\n      <td>Mint Chocolate Flavored Syrup</td>\n      <td>103</td>\n      <td>19</td>\n      <td>5.2</td>\n    </tr>\n    <tr>\n      <th>24</th>\n      <td>25</td>\n      <td>Salted Caramel Lean Protein &amp; Fiber Bar</td>\n      <td>3</td>\n      <td>19</td>\n      <td>1.9</td>\n    </tr>\n    <tr>\n      <th>31</th>\n      <td>32</td>\n      <td>Nacho Cheese White Bean Chips</td>\n      <td>107</td>\n      <td>19</td>\n      <td>4.9</td>\n    </tr>\n    <tr>\n      <th>40</th>\n      <td>41</td>\n      <td>Organic Sourdough Einkorn Crackers Rosemary</td>\n      <td>78</td>\n      <td>19</td>\n      <td>6.5</td>\n    </tr>\n    <tr>\n      <th>...</th>\n      <td>...</td>\n      <td>...</td>\n      <td>...</td>\n      <td>...</td>\n      <td>...</td>\n    </tr>\n    <tr>\n      <th>49666</th>\n      <td>49662</td>\n      <td>Bacon Cheddar Pretzel Pieces</td>\n      <td>107</td>\n      <td>19</td>\n      <td>3.6</td>\n    </tr>\n    <tr>\n      <th>49669</th>\n      <td>49665</td>\n      <td>Super Dark Coconut Ash &amp; Banana Chocolate Bar</td>\n      <td>45</td>\n      <td>19</td>\n      <td>6.9</td>\n    </tr>\n    <tr>\n      <th>49670</th>\n      <td>49666</td>\n      <td>Ginger Snaps Snacking Cookies</td>\n      <td>61</td>\n      <td>19</td>\n      <td>5.2</td>\n    </tr>\n    <tr>\n      <th>49675</th>\n      <td>49671</td>\n      <td>Milk Chocolate Drops</td>\n      <td>45</td>\n      <td>19</td>\n      <td>3.0</td>\n    </tr>\n    <tr>\n      <th>49683</th>\n      <td>49679</td>\n      <td>Famous Chocolate Wafers</td>\n      <td>61</td>\n      <td>19</td>\n      <td>6.0</td>\n    </tr>\n  </tbody>\n</table>\n<p>6264 rows × 5 columns</p>\n</div>"
     },
     "execution_count": 36,
     "metadata": {},
     "output_type": "execute_result"
    }
   ],
   "source": [
    "df_snacks = df_prods[df_prods['department_id'] == 19] #method 1\n",
    "df_snacks"
   ],
   "metadata": {
    "collapsed": false,
    "ExecuteTime": {
     "end_time": "2023-10-13T17:38:26.470783Z",
     "start_time": "2023-10-13T17:38:26.440863800Z"
    }
   },
   "id": "f0ecf5602af5bc37"
  },
  {
   "cell_type": "code",
   "execution_count": 37,
   "outputs": [
    {
     "data": {
      "text/plain": "0         True\n1        False\n2        False\n3        False\n4        False\n         ...  \n49688    False\n49689    False\n49690    False\n49691    False\n49692    False\nName: department_id, Length: 49693, dtype: bool"
     },
     "execution_count": 37,
     "metadata": {},
     "output_type": "execute_result"
    }
   ],
   "source": [
    "# subsetting in parts\n",
    "df_prods['department_id'] == 19"
   ],
   "metadata": {
    "collapsed": false,
    "ExecuteTime": {
     "end_time": "2023-10-13T17:41:18.281590100Z",
     "start_time": "2023-10-13T17:41:18.243695100Z"
    }
   },
   "id": "99d4f16f28c5454b"
  },
  {
   "cell_type": "code",
   "execution_count": 38,
   "outputs": [
    {
     "data": {
      "text/plain": "       product_id                                   product_name  aisle_id  \\\n0               1                     Chocolate Sandwich Cookies        61   \n15             16                  Mint Chocolate Flavored Syrup       103   \n24             25        Salted Caramel Lean Protein & Fiber Bar         3   \n31             32                  Nacho Cheese White Bean Chips       107   \n40             41    Organic Sourdough Einkorn Crackers Rosemary        78   \n...           ...                                            ...       ...   \n49666       49662                   Bacon Cheddar Pretzel Pieces       107   \n49669       49665  Super Dark Coconut Ash & Banana Chocolate Bar        45   \n49670       49666                  Ginger Snaps Snacking Cookies        61   \n49675       49671                           Milk Chocolate Drops        45   \n49683       49679                        Famous Chocolate Wafers        61   \n\n       department_id  prices  \n0                 19     5.8  \n15                19     5.2  \n24                19     1.9  \n31                19     4.9  \n40                19     6.5  \n...              ...     ...  \n49666             19     3.6  \n49669             19     6.9  \n49670             19     5.2  \n49675             19     3.0  \n49683             19     6.0  \n\n[6264 rows x 5 columns]",
      "text/html": "<div>\n<style scoped>\n    .dataframe tbody tr th:only-of-type {\n        vertical-align: middle;\n    }\n\n    .dataframe tbody tr th {\n        vertical-align: top;\n    }\n\n    .dataframe thead th {\n        text-align: right;\n    }\n</style>\n<table border=\"1\" class=\"dataframe\">\n  <thead>\n    <tr style=\"text-align: right;\">\n      <th></th>\n      <th>product_id</th>\n      <th>product_name</th>\n      <th>aisle_id</th>\n      <th>department_id</th>\n      <th>prices</th>\n    </tr>\n  </thead>\n  <tbody>\n    <tr>\n      <th>0</th>\n      <td>1</td>\n      <td>Chocolate Sandwich Cookies</td>\n      <td>61</td>\n      <td>19</td>\n      <td>5.8</td>\n    </tr>\n    <tr>\n      <th>15</th>\n      <td>16</td>\n      <td>Mint Chocolate Flavored Syrup</td>\n      <td>103</td>\n      <td>19</td>\n      <td>5.2</td>\n    </tr>\n    <tr>\n      <th>24</th>\n      <td>25</td>\n      <td>Salted Caramel Lean Protein &amp; Fiber Bar</td>\n      <td>3</td>\n      <td>19</td>\n      <td>1.9</td>\n    </tr>\n    <tr>\n      <th>31</th>\n      <td>32</td>\n      <td>Nacho Cheese White Bean Chips</td>\n      <td>107</td>\n      <td>19</td>\n      <td>4.9</td>\n    </tr>\n    <tr>\n      <th>40</th>\n      <td>41</td>\n      <td>Organic Sourdough Einkorn Crackers Rosemary</td>\n      <td>78</td>\n      <td>19</td>\n      <td>6.5</td>\n    </tr>\n    <tr>\n      <th>...</th>\n      <td>...</td>\n      <td>...</td>\n      <td>...</td>\n      <td>...</td>\n      <td>...</td>\n    </tr>\n    <tr>\n      <th>49666</th>\n      <td>49662</td>\n      <td>Bacon Cheddar Pretzel Pieces</td>\n      <td>107</td>\n      <td>19</td>\n      <td>3.6</td>\n    </tr>\n    <tr>\n      <th>49669</th>\n      <td>49665</td>\n      <td>Super Dark Coconut Ash &amp; Banana Chocolate Bar</td>\n      <td>45</td>\n      <td>19</td>\n      <td>6.9</td>\n    </tr>\n    <tr>\n      <th>49670</th>\n      <td>49666</td>\n      <td>Ginger Snaps Snacking Cookies</td>\n      <td>61</td>\n      <td>19</td>\n      <td>5.2</td>\n    </tr>\n    <tr>\n      <th>49675</th>\n      <td>49671</td>\n      <td>Milk Chocolate Drops</td>\n      <td>45</td>\n      <td>19</td>\n      <td>3.0</td>\n    </tr>\n    <tr>\n      <th>49683</th>\n      <td>49679</td>\n      <td>Famous Chocolate Wafers</td>\n      <td>61</td>\n      <td>19</td>\n      <td>6.0</td>\n    </tr>\n  </tbody>\n</table>\n<p>6264 rows × 5 columns</p>\n</div>"
     },
     "execution_count": 38,
     "metadata": {},
     "output_type": "execute_result"
    }
   ],
   "source": [
    "df_prods[df_prods['department_id'] == 19]"
   ],
   "metadata": {
    "collapsed": false,
    "ExecuteTime": {
     "end_time": "2023-10-13T17:43:11.505329700Z",
     "start_time": "2023-10-13T17:43:11.462050500Z"
    }
   },
   "id": "2e4fea113a039205"
  },
  {
   "cell_type": "code",
   "execution_count": 39,
   "outputs": [
    {
     "data": {
      "text/plain": "    product_id                                 product_name  aisle_id  \\\n0            1                   Chocolate Sandwich Cookies        61   \n15          16                Mint Chocolate Flavored Syrup       103   \n24          25      Salted Caramel Lean Protein & Fiber Bar         3   \n31          32                Nacho Cheese White Bean Chips       107   \n40          41  Organic Sourdough Einkorn Crackers Rosemary        78   \n\n    department_id  prices  \n0              19     5.8  \n15             19     5.2  \n24             19     1.9  \n31             19     4.9  \n40             19     6.5  ",
      "text/html": "<div>\n<style scoped>\n    .dataframe tbody tr th:only-of-type {\n        vertical-align: middle;\n    }\n\n    .dataframe tbody tr th {\n        vertical-align: top;\n    }\n\n    .dataframe thead th {\n        text-align: right;\n    }\n</style>\n<table border=\"1\" class=\"dataframe\">\n  <thead>\n    <tr style=\"text-align: right;\">\n      <th></th>\n      <th>product_id</th>\n      <th>product_name</th>\n      <th>aisle_id</th>\n      <th>department_id</th>\n      <th>prices</th>\n    </tr>\n  </thead>\n  <tbody>\n    <tr>\n      <th>0</th>\n      <td>1</td>\n      <td>Chocolate Sandwich Cookies</td>\n      <td>61</td>\n      <td>19</td>\n      <td>5.8</td>\n    </tr>\n    <tr>\n      <th>15</th>\n      <td>16</td>\n      <td>Mint Chocolate Flavored Syrup</td>\n      <td>103</td>\n      <td>19</td>\n      <td>5.2</td>\n    </tr>\n    <tr>\n      <th>24</th>\n      <td>25</td>\n      <td>Salted Caramel Lean Protein &amp; Fiber Bar</td>\n      <td>3</td>\n      <td>19</td>\n      <td>1.9</td>\n    </tr>\n    <tr>\n      <th>31</th>\n      <td>32</td>\n      <td>Nacho Cheese White Bean Chips</td>\n      <td>107</td>\n      <td>19</td>\n      <td>4.9</td>\n    </tr>\n    <tr>\n      <th>40</th>\n      <td>41</td>\n      <td>Organic Sourdough Einkorn Crackers Rosemary</td>\n      <td>78</td>\n      <td>19</td>\n      <td>6.5</td>\n    </tr>\n  </tbody>\n</table>\n</div>"
     },
     "execution_count": 39,
     "metadata": {},
     "output_type": "execute_result"
    }
   ],
   "source": [
    "df_snacks.head()"
   ],
   "metadata": {
    "collapsed": false,
    "ExecuteTime": {
     "end_time": "2023-10-13T17:45:25.905366300Z",
     "start_time": "2023-10-13T17:45:25.872426300Z"
    }
   },
   "id": "61dafbf9951b887b"
  },
  {
   "cell_type": "code",
   "execution_count": 41,
   "outputs": [
    {
     "data": {
      "text/plain": "    product_id                                 product_name  aisle_id  \\\n0            1                   Chocolate Sandwich Cookies        61   \n15          16                Mint Chocolate Flavored Syrup       103   \n24          25      Salted Caramel Lean Protein & Fiber Bar         3   \n31          32                Nacho Cheese White Bean Chips       107   \n40          41  Organic Sourdough Einkorn Crackers Rosemary        78   \n\n    department_id  prices  \n0              19     5.8  \n15             19     5.2  \n24             19     1.9  \n31             19     4.9  \n40             19     6.5  ",
      "text/html": "<div>\n<style scoped>\n    .dataframe tbody tr th:only-of-type {\n        vertical-align: middle;\n    }\n\n    .dataframe tbody tr th {\n        vertical-align: top;\n    }\n\n    .dataframe thead th {\n        text-align: right;\n    }\n</style>\n<table border=\"1\" class=\"dataframe\">\n  <thead>\n    <tr style=\"text-align: right;\">\n      <th></th>\n      <th>product_id</th>\n      <th>product_name</th>\n      <th>aisle_id</th>\n      <th>department_id</th>\n      <th>prices</th>\n    </tr>\n  </thead>\n  <tbody>\n    <tr>\n      <th>0</th>\n      <td>1</td>\n      <td>Chocolate Sandwich Cookies</td>\n      <td>61</td>\n      <td>19</td>\n      <td>5.8</td>\n    </tr>\n    <tr>\n      <th>15</th>\n      <td>16</td>\n      <td>Mint Chocolate Flavored Syrup</td>\n      <td>103</td>\n      <td>19</td>\n      <td>5.2</td>\n    </tr>\n    <tr>\n      <th>24</th>\n      <td>25</td>\n      <td>Salted Caramel Lean Protein &amp; Fiber Bar</td>\n      <td>3</td>\n      <td>19</td>\n      <td>1.9</td>\n    </tr>\n    <tr>\n      <th>31</th>\n      <td>32</td>\n      <td>Nacho Cheese White Bean Chips</td>\n      <td>107</td>\n      <td>19</td>\n      <td>4.9</td>\n    </tr>\n    <tr>\n      <th>40</th>\n      <td>41</td>\n      <td>Organic Sourdough Einkorn Crackers Rosemary</td>\n      <td>78</td>\n      <td>19</td>\n      <td>6.5</td>\n    </tr>\n  </tbody>\n</table>\n</div>"
     },
     "execution_count": 41,
     "metadata": {},
     "output_type": "execute_result"
    }
   ],
   "source": [
    "df_snacks_2 = df_prods.loc[df_prods['department_id'] == 19] #Method 2\n",
    "df_snacks_2.head()"
   ],
   "metadata": {
    "collapsed": false,
    "ExecuteTime": {
     "end_time": "2023-10-13T17:52:02.781850500Z",
     "start_time": "2023-10-13T17:52:02.752649200Z"
    }
   },
   "id": "97188e88a14a8ed1"
  },
  {
   "cell_type": "code",
   "execution_count": 43,
   "outputs": [
    {
     "data": {
      "text/plain": "    product_id                                 product_name  aisle_id  \\\n0            1                   Chocolate Sandwich Cookies        61   \n15          16                Mint Chocolate Flavored Syrup       103   \n24          25      Salted Caramel Lean Protein & Fiber Bar         3   \n31          32                Nacho Cheese White Bean Chips       107   \n40          41  Organic Sourdough Einkorn Crackers Rosemary        78   \n\n    department_id  prices  \n0              19     5.8  \n15             19     5.2  \n24             19     1.9  \n31             19     4.9  \n40             19     6.5  ",
      "text/html": "<div>\n<style scoped>\n    .dataframe tbody tr th:only-of-type {\n        vertical-align: middle;\n    }\n\n    .dataframe tbody tr th {\n        vertical-align: top;\n    }\n\n    .dataframe thead th {\n        text-align: right;\n    }\n</style>\n<table border=\"1\" class=\"dataframe\">\n  <thead>\n    <tr style=\"text-align: right;\">\n      <th></th>\n      <th>product_id</th>\n      <th>product_name</th>\n      <th>aisle_id</th>\n      <th>department_id</th>\n      <th>prices</th>\n    </tr>\n  </thead>\n  <tbody>\n    <tr>\n      <th>0</th>\n      <td>1</td>\n      <td>Chocolate Sandwich Cookies</td>\n      <td>61</td>\n      <td>19</td>\n      <td>5.8</td>\n    </tr>\n    <tr>\n      <th>15</th>\n      <td>16</td>\n      <td>Mint Chocolate Flavored Syrup</td>\n      <td>103</td>\n      <td>19</td>\n      <td>5.2</td>\n    </tr>\n    <tr>\n      <th>24</th>\n      <td>25</td>\n      <td>Salted Caramel Lean Protein &amp; Fiber Bar</td>\n      <td>3</td>\n      <td>19</td>\n      <td>1.9</td>\n    </tr>\n    <tr>\n      <th>31</th>\n      <td>32</td>\n      <td>Nacho Cheese White Bean Chips</td>\n      <td>107</td>\n      <td>19</td>\n      <td>4.9</td>\n    </tr>\n    <tr>\n      <th>40</th>\n      <td>41</td>\n      <td>Organic Sourdough Einkorn Crackers Rosemary</td>\n      <td>78</td>\n      <td>19</td>\n      <td>6.5</td>\n    </tr>\n  </tbody>\n</table>\n</div>"
     },
     "execution_count": 43,
     "metadata": {},
     "output_type": "execute_result"
    }
   ],
   "source": [
    "df_snacks_3 = df_prods.loc[df_prods['department_id'].isin([19])] #Method 3\n",
    "df_snacks_3.head()"
   ],
   "metadata": {
    "collapsed": false,
    "ExecuteTime": {
     "end_time": "2023-10-13T17:54:12.172805300Z",
     "start_time": "2023-10-13T17:54:12.130046500Z"
    }
   },
   "id": "ae681dadad3a905c"
  },
  {
   "cell_type": "markdown",
   "source": [
    "6.\tThe sales team in your client’s organization wants to know more about breakfast item sales. Create a subset containing only the required information."
   ],
   "metadata": {
    "collapsed": false
   },
   "id": "9764b4e0861a56e1"
  },
  {
   "cell_type": "code",
   "execution_count": 45,
   "outputs": [
    {
     "data": {
      "text/plain": "     product_id                                      product_name  aisle_id  \\\n27           28                                 Wheat Chex Cereal       121   \n33           34                                               NaN       121   \n67           68                           Pancake Mix, Buttermilk       130   \n89           90                                      Smorz Cereal       121   \n210         211  Gluten Free Organic Cereal Coconut Maple Vanilla       130   \n\n     department_id  prices  \n27              14    10.1  \n33              14    12.2  \n67              14    13.7  \n89              14     3.9  \n210             14     3.6  ",
      "text/html": "<div>\n<style scoped>\n    .dataframe tbody tr th:only-of-type {\n        vertical-align: middle;\n    }\n\n    .dataframe tbody tr th {\n        vertical-align: top;\n    }\n\n    .dataframe thead th {\n        text-align: right;\n    }\n</style>\n<table border=\"1\" class=\"dataframe\">\n  <thead>\n    <tr style=\"text-align: right;\">\n      <th></th>\n      <th>product_id</th>\n      <th>product_name</th>\n      <th>aisle_id</th>\n      <th>department_id</th>\n      <th>prices</th>\n    </tr>\n  </thead>\n  <tbody>\n    <tr>\n      <th>27</th>\n      <td>28</td>\n      <td>Wheat Chex Cereal</td>\n      <td>121</td>\n      <td>14</td>\n      <td>10.1</td>\n    </tr>\n    <tr>\n      <th>33</th>\n      <td>34</td>\n      <td>NaN</td>\n      <td>121</td>\n      <td>14</td>\n      <td>12.2</td>\n    </tr>\n    <tr>\n      <th>67</th>\n      <td>68</td>\n      <td>Pancake Mix, Buttermilk</td>\n      <td>130</td>\n      <td>14</td>\n      <td>13.7</td>\n    </tr>\n    <tr>\n      <th>89</th>\n      <td>90</td>\n      <td>Smorz Cereal</td>\n      <td>121</td>\n      <td>14</td>\n      <td>3.9</td>\n    </tr>\n    <tr>\n      <th>210</th>\n      <td>211</td>\n      <td>Gluten Free Organic Cereal Coconut Maple Vanilla</td>\n      <td>130</td>\n      <td>14</td>\n      <td>3.6</td>\n    </tr>\n  </tbody>\n</table>\n</div>"
     },
     "execution_count": 45,
     "metadata": {},
     "output_type": "execute_result"
    }
   ],
   "source": [
    "df_breakfast = df_prods.loc[df_prods['department_id'] == 14]\n",
    "df_breakfast.head()"
   ],
   "metadata": {
    "collapsed": false,
    "ExecuteTime": {
     "end_time": "2023-10-13T18:00:34.515464Z",
     "start_time": "2023-10-13T18:00:34.463601100Z"
    }
   },
   "id": "a2a274ac5cf7a5cf"
  },
  {
   "cell_type": "markdown",
   "source": [
    "7.\tThey’d also like to see details about products that customers might use to throw dinner parties. Your task is to find all observations from the entire dataframe that include items from the following departments: alcohol, deli, beverages, and meat/seafood. You’ll need to present this subset to your client."
   ],
   "metadata": {
    "collapsed": false
   },
   "id": "68c9e6c8cbd6cff3"
  },
  {
   "cell_type": "code",
   "execution_count": 52,
   "outputs": [
    {
     "data": {
      "text/plain": "    product_id                                    product_name  aisle_id  \\\n2            3            Robust Golden Unsweetened Oolong Tea        94   \n6            7                  Pure Coconut Water With Orange        98   \n9           10  Sparkling Orange Juice & Prickly Pear Beverage       115   \n10          11                               Peach Mango Juice        31   \n16          17                               Rendered Duck Fat        35   \n\n    department_id  prices  \n2               7     4.5  \n6               7     4.4  \n9               7     8.4  \n10              7     2.8  \n16             12    17.1  ",
      "text/html": "<div>\n<style scoped>\n    .dataframe tbody tr th:only-of-type {\n        vertical-align: middle;\n    }\n\n    .dataframe tbody tr th {\n        vertical-align: top;\n    }\n\n    .dataframe thead th {\n        text-align: right;\n    }\n</style>\n<table border=\"1\" class=\"dataframe\">\n  <thead>\n    <tr style=\"text-align: right;\">\n      <th></th>\n      <th>product_id</th>\n      <th>product_name</th>\n      <th>aisle_id</th>\n      <th>department_id</th>\n      <th>prices</th>\n    </tr>\n  </thead>\n  <tbody>\n    <tr>\n      <th>2</th>\n      <td>3</td>\n      <td>Robust Golden Unsweetened Oolong Tea</td>\n      <td>94</td>\n      <td>7</td>\n      <td>4.5</td>\n    </tr>\n    <tr>\n      <th>6</th>\n      <td>7</td>\n      <td>Pure Coconut Water With Orange</td>\n      <td>98</td>\n      <td>7</td>\n      <td>4.4</td>\n    </tr>\n    <tr>\n      <th>9</th>\n      <td>10</td>\n      <td>Sparkling Orange Juice &amp; Prickly Pear Beverage</td>\n      <td>115</td>\n      <td>7</td>\n      <td>8.4</td>\n    </tr>\n    <tr>\n      <th>10</th>\n      <td>11</td>\n      <td>Peach Mango Juice</td>\n      <td>31</td>\n      <td>7</td>\n      <td>2.8</td>\n    </tr>\n    <tr>\n      <th>16</th>\n      <td>17</td>\n      <td>Rendered Duck Fat</td>\n      <td>35</td>\n      <td>12</td>\n      <td>17.1</td>\n    </tr>\n  </tbody>\n</table>\n</div>"
     },
     "execution_count": 52,
     "metadata": {},
     "output_type": "execute_result"
    }
   ],
   "source": [
    "df_party = df_prods.loc[df_prods['department_id'].isin([5,7,12,20])]\n",
    "df_party.head()"
   ],
   "metadata": {
    "collapsed": false,
    "ExecuteTime": {
     "end_time": "2023-10-13T18:12:27.156372300Z",
     "start_time": "2023-10-13T18:12:27.113467300Z"
    }
   },
   "id": "aaaa32e03b0a7a37"
  },
  {
   "cell_type": "markdown",
   "source": [
    "8.\tIt’s important that you keep track of total counts in your dataframes. How many rows does the last dataframe you created have? The \"df_dep_t_new\" dataframe has 21 rows. And the \"df_party\" dataframe has 7650 rows"
   ],
   "metadata": {
    "collapsed": false
   },
   "id": "cd6feb19ce7b458e"
  },
  {
   "cell_type": "code",
   "execution_count": 53,
   "outputs": [
    {
     "name": "stdout",
     "output_type": "stream",
     "text": [
      "<class 'pandas.core.frame.DataFrame'>\n",
      "Index: 21 entries, 1 to 21\n",
      "Data columns (total 1 columns):\n",
      " #   Column      Non-Null Count  Dtype \n",
      "---  ------      --------------  ----- \n",
      " 0   department  21 non-null     object\n",
      "dtypes: object(1)\n",
      "memory usage: 892.0+ bytes\n"
     ]
    }
   ],
   "source": [
    "df_dep_t_new.info()"
   ],
   "metadata": {
    "collapsed": false,
    "ExecuteTime": {
     "end_time": "2023-10-13T18:24:49.897586200Z",
     "start_time": "2023-10-13T18:24:49.874677900Z"
    }
   },
   "id": "f14e4b46ce2b7a91"
  },
  {
   "cell_type": "code",
   "execution_count": 54,
   "outputs": [
    {
     "name": "stdout",
     "output_type": "stream",
     "text": [
      "<class 'pandas.core.frame.DataFrame'>\n",
      "Index: 7650 entries, 2 to 49688\n",
      "Data columns (total 5 columns):\n",
      " #   Column         Non-Null Count  Dtype  \n",
      "---  ------         --------------  -----  \n",
      " 0   product_id     7650 non-null   int64  \n",
      " 1   product_name   7647 non-null   object \n",
      " 2   aisle_id       7650 non-null   int64  \n",
      " 3   department_id  7650 non-null   int64  \n",
      " 4   prices         7650 non-null   float64\n",
      "dtypes: float64(1), int64(3), object(1)\n",
      "memory usage: 358.6+ KB\n"
     ]
    }
   ],
   "source": [
    "df_party.info()"
   ],
   "metadata": {
    "collapsed": false,
    "ExecuteTime": {
     "end_time": "2023-10-13T18:29:24.262130800Z",
     "start_time": "2023-10-13T18:29:24.216331200Z"
    }
   },
   "id": "2d21b1f1beb46fde"
  },
  {
   "cell_type": "markdown",
   "source": [
    "9. Someone from the data engineers team in Instacart thinks they’ve spotted something strange about the customer with a \"user_id\" of “1.” Extract all the information you can about this user."
   ],
   "metadata": {
    "collapsed": false
   },
   "id": "2dc2ffb0f137bba"
  },
  {
   "cell_type": "code",
   "execution_count": 71,
   "outputs": [
    {
     "name": "stdout",
     "output_type": "stream",
     "text": [
      "Information about user with user_id 1:\n",
      "Empty DataFrame\n",
      "Columns: [order_id, user_id, eval_set, order_number, orders_day_of_week, order_hour_of_day, days_since_prior_order]\n",
      "Index: []\n"
     ]
    }
   ],
   "source": [
    "#Filter the df_ords dataframe for the user_id = 1\n",
    "user_id = 1\n",
    "user_info = df_ords[df_ords['user_id'] == 1]\n",
    "\n",
    "# Print the information about the user\n",
    "print(\"Information about user with user_id 1:\")\n",
    "print(user_info)"
   ],
   "metadata": {
    "collapsed": false,
    "ExecuteTime": {
     "end_time": "2023-10-13T19:15:53.925222200Z",
     "start_time": "2023-10-13T19:15:53.626039400Z"
    }
   },
   "id": "fccd44e62a717fc5"
  },
  {
   "cell_type": "code",
   "execution_count": 76,
   "outputs": [
    {
     "data": {
      "text/plain": "0          False\n1          False\n2          False\n3          False\n4          False\n           ...  \n3421078    False\n3421079    False\n3421080    False\n3421081    False\n3421082    False\nName: user_id, Length: 3421083, dtype: bool"
     },
     "execution_count": 76,
     "metadata": {},
     "output_type": "execute_result"
    }
   ],
   "source": [
    "df_ords['user_id']== 1"
   ],
   "metadata": {
    "collapsed": false,
    "ExecuteTime": {
     "end_time": "2023-10-13T19:20:41.330714700Z",
     "start_time": "2023-10-13T19:20:41.006277100Z"
    }
   },
   "id": "33e4dde30fbcb1e2"
  },
  {
   "cell_type": "code",
   "execution_count": 77,
   "outputs": [
    {
     "data": {
      "text/plain": "Empty DataFrame\nColumns: [order_id, user_id, eval_set, order_number, orders_day_of_week, order_hour_of_day, days_since_prior_order]\nIndex: []",
      "text/html": "<div>\n<style scoped>\n    .dataframe tbody tr th:only-of-type {\n        vertical-align: middle;\n    }\n\n    .dataframe tbody tr th {\n        vertical-align: top;\n    }\n\n    .dataframe thead th {\n        text-align: right;\n    }\n</style>\n<table border=\"1\" class=\"dataframe\">\n  <thead>\n    <tr style=\"text-align: right;\">\n      <th></th>\n      <th>order_id</th>\n      <th>user_id</th>\n      <th>eval_set</th>\n      <th>order_number</th>\n      <th>orders_day_of_week</th>\n      <th>order_hour_of_day</th>\n      <th>days_since_prior_order</th>\n    </tr>\n  </thead>\n  <tbody>\n  </tbody>\n</table>\n</div>"
     },
     "execution_count": 77,
     "metadata": {},
     "output_type": "execute_result"
    }
   ],
   "source": [
    "df_ords[df_ords['user_id']== 1]"
   ],
   "metadata": {
    "collapsed": false,
    "ExecuteTime": {
     "end_time": "2023-10-13T19:22:34.892834900Z",
     "start_time": "2023-10-13T19:22:34.583593700Z"
    }
   },
   "id": "d3e39f1f10d52af2"
  },
  {
   "cell_type": "markdown",
   "source": [
    "10.\tYou also need to provide some details about this user’s behavior. What basic stats can you provide based on the information you have?"
   ],
   "metadata": {
    "collapsed": false
   },
   "id": "91620b5df0b32814"
  },
  {
   "cell_type": "code",
   "execution_count": 78,
   "outputs": [
    {
     "data": {
      "text/plain": "       order_number  orders_day_of_week  order_hour_of_day  \\\ncount           0.0                 0.0                0.0   \nmean            NaN                 NaN                NaN   \nstd             NaN                 NaN                NaN   \nmin             NaN                 NaN                NaN   \n25%             NaN                 NaN                NaN   \n50%             NaN                 NaN                NaN   \n75%             NaN                 NaN                NaN   \nmax             NaN                 NaN                NaN   \n\n       days_since_prior_order  \ncount                     0.0  \nmean                      NaN  \nstd                       NaN  \nmin                       NaN  \n25%                       NaN  \n50%                       NaN  \n75%                       NaN  \nmax                       NaN  ",
      "text/html": "<div>\n<style scoped>\n    .dataframe tbody tr th:only-of-type {\n        vertical-align: middle;\n    }\n\n    .dataframe tbody tr th {\n        vertical-align: top;\n    }\n\n    .dataframe thead th {\n        text-align: right;\n    }\n</style>\n<table border=\"1\" class=\"dataframe\">\n  <thead>\n    <tr style=\"text-align: right;\">\n      <th></th>\n      <th>order_number</th>\n      <th>orders_day_of_week</th>\n      <th>order_hour_of_day</th>\n      <th>days_since_prior_order</th>\n    </tr>\n  </thead>\n  <tbody>\n    <tr>\n      <th>count</th>\n      <td>0.0</td>\n      <td>0.0</td>\n      <td>0.0</td>\n      <td>0.0</td>\n    </tr>\n    <tr>\n      <th>mean</th>\n      <td>NaN</td>\n      <td>NaN</td>\n      <td>NaN</td>\n      <td>NaN</td>\n    </tr>\n    <tr>\n      <th>std</th>\n      <td>NaN</td>\n      <td>NaN</td>\n      <td>NaN</td>\n      <td>NaN</td>\n    </tr>\n    <tr>\n      <th>min</th>\n      <td>NaN</td>\n      <td>NaN</td>\n      <td>NaN</td>\n      <td>NaN</td>\n    </tr>\n    <tr>\n      <th>25%</th>\n      <td>NaN</td>\n      <td>NaN</td>\n      <td>NaN</td>\n      <td>NaN</td>\n    </tr>\n    <tr>\n      <th>50%</th>\n      <td>NaN</td>\n      <td>NaN</td>\n      <td>NaN</td>\n      <td>NaN</td>\n    </tr>\n    <tr>\n      <th>75%</th>\n      <td>NaN</td>\n      <td>NaN</td>\n      <td>NaN</td>\n      <td>NaN</td>\n    </tr>\n    <tr>\n      <th>max</th>\n      <td>NaN</td>\n      <td>NaN</td>\n      <td>NaN</td>\n      <td>NaN</td>\n    </tr>\n  </tbody>\n</table>\n</div>"
     },
     "execution_count": 78,
     "metadata": {},
     "output_type": "execute_result"
    }
   ],
   "source": [
    "df_ords[df_ords['user_id']== 1].describe()"
   ],
   "metadata": {
    "collapsed": false,
    "ExecuteTime": {
     "end_time": "2023-10-13T19:24:18.224651600Z",
     "start_time": "2023-10-13T19:24:18.201295300Z"
    }
   },
   "id": "46e76b935d47e83"
  },
  {
   "cell_type": "markdown",
   "source": [
    "12.\tExport your df_ords dataframe as “orders_wrangled.csv” in your “Prepared Data” folder."
   ],
   "metadata": {
    "collapsed": false
   },
   "id": "2eaef1d285d1f818"
  },
  {
   "cell_type": "code",
   "execution_count": 79,
   "outputs": [],
   "source": [
    "df_ords.to_csv(os.path.join(path, 'Prepared data', 'orders_wrangled.csv'))"
   ],
   "metadata": {
    "collapsed": false,
    "ExecuteTime": {
     "end_time": "2023-10-13T19:37:13.146020300Z",
     "start_time": "2023-10-13T19:36:58.439618200Z"
    }
   },
   "id": "1ef498d650d01561"
  },
  {
   "cell_type": "code",
   "execution_count": null,
   "outputs": [],
   "source": [],
   "metadata": {
    "collapsed": false
   },
   "id": "4e22b71bd2b80071"
  },
  {
   "cell_type": "markdown",
   "source": [
    "13.\tExport the df_dep_t_new dataframe as “departments_wrangled.csv” in your “Prepared Data” folder so that you have a “.csv” file of your departments data in the correct format."
   ],
   "metadata": {
    "collapsed": false
   },
   "id": "9c13098aab703fd7"
  },
  {
   "cell_type": "code",
   "execution_count": 80,
   "outputs": [],
   "source": [
    "df_dep_t_new.to_csv(os.path.join(path, 'Prepared data', 'departments_wrangled.csv'))"
   ],
   "metadata": {
    "collapsed": false,
    "ExecuteTime": {
     "end_time": "2023-10-13T19:40:44.032409800Z",
     "start_time": "2023-10-13T19:40:43.986938200Z"
    }
   },
   "id": "4d1ccea489dc4a33"
  }
 ],
 "metadata": {
  "kernelspec": {
   "display_name": "Python 3",
   "language": "python",
   "name": "python3"
  },
  "language_info": {
   "codemirror_mode": {
    "name": "ipython",
    "version": 2
   },
   "file_extension": ".py",
   "mimetype": "text/x-python",
   "name": "python",
   "nbconvert_exporter": "python",
   "pygments_lexer": "ipython2",
   "version": "2.7.6"
  }
 },
 "nbformat": 4,
 "nbformat_minor": 5
}
