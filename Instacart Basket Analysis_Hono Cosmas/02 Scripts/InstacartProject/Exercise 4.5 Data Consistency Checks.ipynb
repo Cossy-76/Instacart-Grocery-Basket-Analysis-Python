{
 "cells": [
  {
   "cell_type": "code",
   "execution_count": 1,
   "id": "initial_id",
   "metadata": {
    "collapsed": true,
    "ExecuteTime": {
     "end_time": "2023-10-26T10:43:36.716863700Z",
     "start_time": "2023-10-26T10:43:36.114264300Z"
    }
   },
   "outputs": [],
   "source": [
    "# Import libraries\n",
    "import pandas as pd\n",
    "import numpy as np\n",
    "import os"
   ]
  },
  {
   "cell_type": "markdown",
   "source": [
    "Importing Data"
   ],
   "metadata": {
    "collapsed": false
   },
   "id": "87efd3112c1b4e09"
  },
  {
   "cell_type": "code",
   "execution_count": 2,
   "outputs": [],
   "source": [
    "path = r'C:\\Users\\honoc\\Documents\\CareerFoundry Folder\\Python Fundamentals for Data Analysts\\Exercise 4.3 Folder'\n",
    "path\n",
    "df_prods = pd.read_csv(os.path.join(path, 'Original data', 'products.csv'), index_col = False)\n",
    "df_ords = pd.read_csv(os.path.join(path, 'Prepared data', 'orders_wrangled.csv'), index_col = False)"
   ],
   "metadata": {
    "collapsed": false,
    "ExecuteTime": {
     "end_time": "2023-10-26T10:43:39.555407500Z",
     "start_time": "2023-10-26T10:43:36.719215500Z"
    }
   },
   "id": "cf73e10bc07eb578"
  },
  {
   "cell_type": "code",
   "execution_count": 3,
   "outputs": [
    {
     "data": {
      "text/plain": "         Unnamed: 0      order_id       user_id  order_number  \\\ncount  3.421083e+06  3.421083e+06  3.421083e+06  3.421083e+06   \nmean   1.710541e+06  1.710542e+06  1.029782e+05  1.715486e+01   \nstd    9.875817e+05  9.875817e+05  5.953372e+04  1.773316e+01   \nmin    0.000000e+00  1.000000e+00  1.000000e+00  1.000000e+00   \n25%    8.552705e+05  8.552715e+05  5.139400e+04  5.000000e+00   \n50%    1.710541e+06  1.710542e+06  1.026890e+05  1.100000e+01   \n75%    2.565812e+06  2.565812e+06  1.543850e+05  2.300000e+01   \nmax    3.421082e+06  3.421083e+06  2.062090e+05  1.000000e+02   \n\n       orders_day_of_week  order_hour_of_day  days_since_prior_order  \ncount        3.421083e+06       3.421083e+06            3.214874e+06  \nmean         2.776219e+00       1.345202e+01            1.111484e+01  \nstd          2.046829e+00       4.226088e+00            9.206737e+00  \nmin          0.000000e+00       0.000000e+00            0.000000e+00  \n25%          1.000000e+00       1.000000e+01            4.000000e+00  \n50%          3.000000e+00       1.300000e+01            7.000000e+00  \n75%          5.000000e+00       1.600000e+01            1.500000e+01  \nmax          6.000000e+00       2.300000e+01            3.000000e+01  ",
      "text/html": "<div>\n<style scoped>\n    .dataframe tbody tr th:only-of-type {\n        vertical-align: middle;\n    }\n\n    .dataframe tbody tr th {\n        vertical-align: top;\n    }\n\n    .dataframe thead th {\n        text-align: right;\n    }\n</style>\n<table border=\"1\" class=\"dataframe\">\n  <thead>\n    <tr style=\"text-align: right;\">\n      <th></th>\n      <th>Unnamed: 0</th>\n      <th>order_id</th>\n      <th>user_id</th>\n      <th>order_number</th>\n      <th>orders_day_of_week</th>\n      <th>order_hour_of_day</th>\n      <th>days_since_prior_order</th>\n    </tr>\n  </thead>\n  <tbody>\n    <tr>\n      <th>count</th>\n      <td>3.421083e+06</td>\n      <td>3.421083e+06</td>\n      <td>3.421083e+06</td>\n      <td>3.421083e+06</td>\n      <td>3.421083e+06</td>\n      <td>3.421083e+06</td>\n      <td>3.214874e+06</td>\n    </tr>\n    <tr>\n      <th>mean</th>\n      <td>1.710541e+06</td>\n      <td>1.710542e+06</td>\n      <td>1.029782e+05</td>\n      <td>1.715486e+01</td>\n      <td>2.776219e+00</td>\n      <td>1.345202e+01</td>\n      <td>1.111484e+01</td>\n    </tr>\n    <tr>\n      <th>std</th>\n      <td>9.875817e+05</td>\n      <td>9.875817e+05</td>\n      <td>5.953372e+04</td>\n      <td>1.773316e+01</td>\n      <td>2.046829e+00</td>\n      <td>4.226088e+00</td>\n      <td>9.206737e+00</td>\n    </tr>\n    <tr>\n      <th>min</th>\n      <td>0.000000e+00</td>\n      <td>1.000000e+00</td>\n      <td>1.000000e+00</td>\n      <td>1.000000e+00</td>\n      <td>0.000000e+00</td>\n      <td>0.000000e+00</td>\n      <td>0.000000e+00</td>\n    </tr>\n    <tr>\n      <th>25%</th>\n      <td>8.552705e+05</td>\n      <td>8.552715e+05</td>\n      <td>5.139400e+04</td>\n      <td>5.000000e+00</td>\n      <td>1.000000e+00</td>\n      <td>1.000000e+01</td>\n      <td>4.000000e+00</td>\n    </tr>\n    <tr>\n      <th>50%</th>\n      <td>1.710541e+06</td>\n      <td>1.710542e+06</td>\n      <td>1.026890e+05</td>\n      <td>1.100000e+01</td>\n      <td>3.000000e+00</td>\n      <td>1.300000e+01</td>\n      <td>7.000000e+00</td>\n    </tr>\n    <tr>\n      <th>75%</th>\n      <td>2.565812e+06</td>\n      <td>2.565812e+06</td>\n      <td>1.543850e+05</td>\n      <td>2.300000e+01</td>\n      <td>5.000000e+00</td>\n      <td>1.600000e+01</td>\n      <td>1.500000e+01</td>\n    </tr>\n    <tr>\n      <th>max</th>\n      <td>3.421082e+06</td>\n      <td>3.421083e+06</td>\n      <td>2.062090e+05</td>\n      <td>1.000000e+02</td>\n      <td>6.000000e+00</td>\n      <td>2.300000e+01</td>\n      <td>3.000000e+01</td>\n    </tr>\n  </tbody>\n</table>\n</div>"
     },
     "execution_count": 3,
     "metadata": {},
     "output_type": "execute_result"
    }
   ],
   "source": [
    "df_ords.describe()"
   ],
   "metadata": {
    "collapsed": false,
    "ExecuteTime": {
     "end_time": "2023-10-26T10:43:40.417388800Z",
     "start_time": "2023-10-26T10:43:39.555407500Z"
    }
   },
   "id": "cdfb63148221c57a"
  },
  {
   "cell_type": "markdown",
   "source": [
    "Mixed-Type columns Data-Prep checks with Small Test Dataframe"
   ],
   "metadata": {
    "collapsed": false
   },
   "id": "95eaf07e45edec6e"
  },
  {
   "cell_type": "code",
   "execution_count": 4,
   "outputs": [],
   "source": [
    "# Create a dataframe\n",
    "df_test = pd.DataFrame()"
   ],
   "metadata": {
    "collapsed": false,
    "ExecuteTime": {
     "end_time": "2023-10-26T10:43:40.429351600Z",
     "start_time": "2023-10-26T10:43:40.414380700Z"
    }
   },
   "id": "936e9980d205b3c1"
  },
  {
   "cell_type": "code",
   "execution_count": 5,
   "outputs": [],
   "source": [
    "# Create a mixed type column\n",
    "df_test['mix'] = ['a', 'b', 1, True]\n"
   ],
   "metadata": {
    "collapsed": false,
    "ExecuteTime": {
     "end_time": "2023-10-26T10:43:40.465431800Z",
     "start_time": "2023-10-26T10:43:40.432345600Z"
    }
   },
   "id": "ea0abf4b5e917629"
  },
  {
   "cell_type": "code",
   "execution_count": 6,
   "outputs": [
    {
     "data": {
      "text/plain": "    mix\n0     a\n1     b\n2     1\n3  True",
      "text/html": "<div>\n<style scoped>\n    .dataframe tbody tr th:only-of-type {\n        vertical-align: middle;\n    }\n\n    .dataframe tbody tr th {\n        vertical-align: top;\n    }\n\n    .dataframe thead th {\n        text-align: right;\n    }\n</style>\n<table border=\"1\" class=\"dataframe\">\n  <thead>\n    <tr style=\"text-align: right;\">\n      <th></th>\n      <th>mix</th>\n    </tr>\n  </thead>\n  <tbody>\n    <tr>\n      <th>0</th>\n      <td>a</td>\n    </tr>\n    <tr>\n      <th>1</th>\n      <td>b</td>\n    </tr>\n    <tr>\n      <th>2</th>\n      <td>1</td>\n    </tr>\n    <tr>\n      <th>3</th>\n      <td>True</td>\n    </tr>\n  </tbody>\n</table>\n</div>"
     },
     "execution_count": 6,
     "metadata": {},
     "output_type": "execute_result"
    }
   ],
   "source": [
    "df_test.head()"
   ],
   "metadata": {
    "collapsed": false,
    "ExecuteTime": {
     "end_time": "2023-10-26T10:43:40.531255500Z",
     "start_time": "2023-10-26T10:43:40.445330800Z"
    }
   },
   "id": "ed88f0e31a2d5377"
  },
  {
   "cell_type": "markdown",
   "source": [
    "Creating a custom function that searches the dataframe for mixed-type columns."
   ],
   "metadata": {
    "collapsed": false
   },
   "id": "7ac2bb7585c795d1"
  },
  {
   "cell_type": "code",
   "execution_count": 7,
   "outputs": [
    {
     "name": "stdout",
     "output_type": "stream",
     "text": [
      "mix\n"
     ]
    }
   ],
   "source": [
    "# Check for mixed types\n",
    "for col in df_test.columns.tolist():\n",
    "    weird = (df_test[[col]].applymap(type) != df_test[[col]].iloc[0].apply(type)).any(axis = 1)\n",
    "    if len(df_test[weird]) > 0:\n",
    "        print(col)"
   ],
   "metadata": {
    "collapsed": false,
    "ExecuteTime": {
     "end_time": "2023-10-26T10:43:40.561485100Z",
     "start_time": "2023-10-26T10:43:40.467427200Z"
    }
   },
   "id": "6941e5b7dfabb2ce"
  },
  {
   "cell_type": "markdown",
   "source": [
    "How to fix mixed-type columns. In this example, by changing other data types to string. And in the case of changing to numeric, simply update str within astype() function to int64 or whichever numeric data type you want to use."
   ],
   "metadata": {
    "collapsed": false
   },
   "id": "3306344faacde11f"
  },
  {
   "cell_type": "code",
   "execution_count": 8,
   "outputs": [],
   "source": [
    "df_test['mix'] = df_test['mix'].astype('str')"
   ],
   "metadata": {
    "collapsed": false,
    "ExecuteTime": {
     "end_time": "2023-10-26T10:43:40.628310600Z",
     "start_time": "2023-10-26T10:43:40.476402700Z"
    }
   },
   "id": "e75bf9a2f33b64f2"
  },
  {
   "cell_type": "markdown",
   "source": [
    "1. Performing Consistency Checks on df_prods Dataframe. Finding Missing Values in df_prods dataframe"
   ],
   "metadata": {
    "collapsed": false
   },
   "id": "1cc886f3a44f4dcd"
  },
  {
   "cell_type": "code",
   "execution_count": 9,
   "outputs": [
    {
     "data": {
      "text/plain": "product_id        0\nproduct_name     16\naisle_id          0\ndepartment_id     0\nprices            0\ndtype: int64"
     },
     "execution_count": 9,
     "metadata": {},
     "output_type": "execute_result"
    }
   ],
   "source": [
    "df_prods.isnull().sum()"
   ],
   "metadata": {
    "collapsed": false,
    "ExecuteTime": {
     "end_time": "2023-10-26T10:43:40.630304200Z",
     "start_time": "2023-10-26T10:43:40.492359500Z"
    }
   },
   "id": "89db9237d84d473e"
  },
  {
   "cell_type": "markdown",
   "source": [
    "Creating a subset of the dataframe to view these 16 missing values in the product_name column"
   ],
   "metadata": {
    "collapsed": false
   },
   "id": "7ffbadce9e6ed997"
  },
  {
   "cell_type": "code",
   "execution_count": 10,
   "outputs": [
    {
     "data": {
      "text/plain": "       product_id product_name  aisle_id  department_id  prices\n33             34          NaN       121             14    12.2\n68             69          NaN        26              7    11.8\n115           116          NaN        93              3    10.8\n261           262          NaN       110             13    12.1\n525           525          NaN       109             11     1.2\n1511         1511          NaN        84             16    14.3\n1780         1780          NaN       126             11    12.3\n2240         2240          NaN        52              1    14.2\n2586         2586          NaN       104             13    12.4\n3159         3159          NaN       126             11    13.1\n3230         3230          NaN       120             16    14.4\n3736         3736          NaN        41              8    14.8\n4283         4283          NaN        77              7    14.4\n4790         4790          NaN        91             16    14.5\n38187       38183          NaN        39             12    20.9\n40444       40440          NaN       120             16    14.8",
      "text/html": "<div>\n<style scoped>\n    .dataframe tbody tr th:only-of-type {\n        vertical-align: middle;\n    }\n\n    .dataframe tbody tr th {\n        vertical-align: top;\n    }\n\n    .dataframe thead th {\n        text-align: right;\n    }\n</style>\n<table border=\"1\" class=\"dataframe\">\n  <thead>\n    <tr style=\"text-align: right;\">\n      <th></th>\n      <th>product_id</th>\n      <th>product_name</th>\n      <th>aisle_id</th>\n      <th>department_id</th>\n      <th>prices</th>\n    </tr>\n  </thead>\n  <tbody>\n    <tr>\n      <th>33</th>\n      <td>34</td>\n      <td>NaN</td>\n      <td>121</td>\n      <td>14</td>\n      <td>12.2</td>\n    </tr>\n    <tr>\n      <th>68</th>\n      <td>69</td>\n      <td>NaN</td>\n      <td>26</td>\n      <td>7</td>\n      <td>11.8</td>\n    </tr>\n    <tr>\n      <th>115</th>\n      <td>116</td>\n      <td>NaN</td>\n      <td>93</td>\n      <td>3</td>\n      <td>10.8</td>\n    </tr>\n    <tr>\n      <th>261</th>\n      <td>262</td>\n      <td>NaN</td>\n      <td>110</td>\n      <td>13</td>\n      <td>12.1</td>\n    </tr>\n    <tr>\n      <th>525</th>\n      <td>525</td>\n      <td>NaN</td>\n      <td>109</td>\n      <td>11</td>\n      <td>1.2</td>\n    </tr>\n    <tr>\n      <th>1511</th>\n      <td>1511</td>\n      <td>NaN</td>\n      <td>84</td>\n      <td>16</td>\n      <td>14.3</td>\n    </tr>\n    <tr>\n      <th>1780</th>\n      <td>1780</td>\n      <td>NaN</td>\n      <td>126</td>\n      <td>11</td>\n      <td>12.3</td>\n    </tr>\n    <tr>\n      <th>2240</th>\n      <td>2240</td>\n      <td>NaN</td>\n      <td>52</td>\n      <td>1</td>\n      <td>14.2</td>\n    </tr>\n    <tr>\n      <th>2586</th>\n      <td>2586</td>\n      <td>NaN</td>\n      <td>104</td>\n      <td>13</td>\n      <td>12.4</td>\n    </tr>\n    <tr>\n      <th>3159</th>\n      <td>3159</td>\n      <td>NaN</td>\n      <td>126</td>\n      <td>11</td>\n      <td>13.1</td>\n    </tr>\n    <tr>\n      <th>3230</th>\n      <td>3230</td>\n      <td>NaN</td>\n      <td>120</td>\n      <td>16</td>\n      <td>14.4</td>\n    </tr>\n    <tr>\n      <th>3736</th>\n      <td>3736</td>\n      <td>NaN</td>\n      <td>41</td>\n      <td>8</td>\n      <td>14.8</td>\n    </tr>\n    <tr>\n      <th>4283</th>\n      <td>4283</td>\n      <td>NaN</td>\n      <td>77</td>\n      <td>7</td>\n      <td>14.4</td>\n    </tr>\n    <tr>\n      <th>4790</th>\n      <td>4790</td>\n      <td>NaN</td>\n      <td>91</td>\n      <td>16</td>\n      <td>14.5</td>\n    </tr>\n    <tr>\n      <th>38187</th>\n      <td>38183</td>\n      <td>NaN</td>\n      <td>39</td>\n      <td>12</td>\n      <td>20.9</td>\n    </tr>\n    <tr>\n      <th>40444</th>\n      <td>40440</td>\n      <td>NaN</td>\n      <td>120</td>\n      <td>16</td>\n      <td>14.8</td>\n    </tr>\n  </tbody>\n</table>\n</div>"
     },
     "execution_count": 10,
     "metadata": {},
     "output_type": "execute_result"
    }
   ],
   "source": [
    "df_nan = df_prods[df_prods['product_name'].isnull() == True]\n",
    "df_nan"
   ],
   "metadata": {
    "collapsed": false,
    "ExecuteTime": {
     "end_time": "2023-10-26T10:43:40.660399700Z",
     "start_time": "2023-10-26T10:43:40.506324500Z"
    }
   },
   "id": "9c2e039b54df978"
  },
  {
   "cell_type": "markdown",
   "source": [
    "Addressing Missing Values by Creating a New Variable that acts like a flag based on the Missing Value."
   ],
   "metadata": {
    "collapsed": false
   },
   "id": "a7c94b5f658bad50"
  },
  {
   "cell_type": "code",
   "execution_count": 11,
   "outputs": [
    {
     "data": {
      "text/plain": "(49693, 5)"
     },
     "execution_count": 11,
     "metadata": {},
     "output_type": "execute_result"
    }
   ],
   "source": [
    "df_prods.shape"
   ],
   "metadata": {
    "collapsed": false,
    "ExecuteTime": {
     "end_time": "2023-10-26T10:43:40.674333400Z",
     "start_time": "2023-10-26T10:43:40.539233600Z"
    }
   },
   "id": "84f4be2888dbae0b"
  },
  {
   "cell_type": "markdown",
   "source": [
    "Creating a New dataframe \"df_prods_clean\" to filter out Missing data"
   ],
   "metadata": {
    "collapsed": false
   },
   "id": "b336a0a013d32af2"
  },
  {
   "cell_type": "code",
   "execution_count": 12,
   "outputs": [
    {
     "data": {
      "text/plain": "(49677, 5)"
     },
     "execution_count": 12,
     "metadata": {},
     "output_type": "execute_result"
    }
   ],
   "source": [
    "df_prods_clean = df_prods[df_prods['product_name'].isnull() == False] #False because we want non-missing values in the dataframe.\n",
    "df_prods_clean.shape #checking the number of rows again to see if there's a difference.\n"
   ],
   "metadata": {
    "collapsed": false,
    "ExecuteTime": {
     "end_time": "2023-10-26T10:43:40.701262300Z",
     "start_time": "2023-10-26T10:43:40.557190100Z"
    }
   },
   "id": "13ead35d86f9d359"
  },
  {
   "cell_type": "markdown",
   "source": [
    "Finding Duplicates"
   ],
   "metadata": {
    "collapsed": false
   },
   "id": "641096bacedb4437"
  },
  {
   "cell_type": "code",
   "execution_count": 13,
   "outputs": [
    {
     "data": {
      "text/plain": "       product_id                                       product_name  \\\n462           462                  Fiber 4g Gummy Dietary Supplement   \n18459       18458                                         Ranger IPA   \n26810       26808               Black House Coffee Roasty Stout Beer   \n35309       35306  Gluten Free Organic Peanut Butter & Chocolate ...   \n35495       35491                            Adore Forever Body Wash   \n\n       aisle_id  department_id  prices  \n462          70             11     4.8  \n18459        27              5     9.2  \n26810        27              5    13.4  \n35309       121             14     6.8  \n35495       127             11     9.9  ",
      "text/html": "<div>\n<style scoped>\n    .dataframe tbody tr th:only-of-type {\n        vertical-align: middle;\n    }\n\n    .dataframe tbody tr th {\n        vertical-align: top;\n    }\n\n    .dataframe thead th {\n        text-align: right;\n    }\n</style>\n<table border=\"1\" class=\"dataframe\">\n  <thead>\n    <tr style=\"text-align: right;\">\n      <th></th>\n      <th>product_id</th>\n      <th>product_name</th>\n      <th>aisle_id</th>\n      <th>department_id</th>\n      <th>prices</th>\n    </tr>\n  </thead>\n  <tbody>\n    <tr>\n      <th>462</th>\n      <td>462</td>\n      <td>Fiber 4g Gummy Dietary Supplement</td>\n      <td>70</td>\n      <td>11</td>\n      <td>4.8</td>\n    </tr>\n    <tr>\n      <th>18459</th>\n      <td>18458</td>\n      <td>Ranger IPA</td>\n      <td>27</td>\n      <td>5</td>\n      <td>9.2</td>\n    </tr>\n    <tr>\n      <th>26810</th>\n      <td>26808</td>\n      <td>Black House Coffee Roasty Stout Beer</td>\n      <td>27</td>\n      <td>5</td>\n      <td>13.4</td>\n    </tr>\n    <tr>\n      <th>35309</th>\n      <td>35306</td>\n      <td>Gluten Free Organic Peanut Butter &amp; Chocolate ...</td>\n      <td>121</td>\n      <td>14</td>\n      <td>6.8</td>\n    </tr>\n    <tr>\n      <th>35495</th>\n      <td>35491</td>\n      <td>Adore Forever Body Wash</td>\n      <td>127</td>\n      <td>11</td>\n      <td>9.9</td>\n    </tr>\n  </tbody>\n</table>\n</div>"
     },
     "execution_count": 13,
     "metadata": {},
     "output_type": "execute_result"
    }
   ],
   "source": [
    "df_dups = df_prods_clean[df_prods_clean.duplicated()]\n",
    "df_dups"
   ],
   "metadata": {
    "collapsed": false,
    "ExecuteTime": {
     "end_time": "2023-10-26T10:43:40.762619100Z",
     "start_time": "2023-10-26T10:43:40.568472300Z"
    }
   },
   "id": "adb2516d759b02fd"
  },
  {
   "cell_type": "markdown",
   "source": [
    "Addressing Duplicates by DROPPING them after identification"
   ],
   "metadata": {
    "collapsed": false
   },
   "id": "897cc73f32e6ad06"
  },
  {
   "cell_type": "markdown",
   "source": [
    "Before Dropping duplicates, first check the current number of rows."
   ],
   "metadata": {
    "collapsed": false
   },
   "id": "1d6a79ab471a5876"
  },
  {
   "cell_type": "code",
   "execution_count": 14,
   "outputs": [
    {
     "data": {
      "text/plain": "(49677, 5)"
     },
     "execution_count": 14,
     "metadata": {},
     "output_type": "execute_result"
    }
   ],
   "source": [
    "df_prods_clean.shape"
   ],
   "metadata": {
    "collapsed": false,
    "ExecuteTime": {
     "end_time": "2023-10-26T10:43:40.766608500Z",
     "start_time": "2023-10-26T10:43:40.619329800Z"
    }
   },
   "id": "c157ef892ab0045c"
  },
  {
   "cell_type": "markdown",
   "source": [
    "Creating a New dataframe that doesn't include the duplicates by using the drop_duplicates() function:"
   ],
   "metadata": {
    "collapsed": false
   },
   "id": "7d560b676be5c35"
  },
  {
   "cell_type": "code",
   "execution_count": 15,
   "outputs": [
    {
     "data": {
      "text/plain": "(49672, 5)"
     },
     "execution_count": 15,
     "metadata": {},
     "output_type": "execute_result"
    }
   ],
   "source": [
    "df_prods_clean_no_dups = df_prods_clean.drop_duplicates()\n",
    "df_prods_clean_no_dups.shape"
   ],
   "metadata": {
    "collapsed": false,
    "ExecuteTime": {
     "end_time": "2023-10-26T10:43:40.911738600Z",
     "start_time": "2023-10-26T10:43:40.631300700Z"
    }
   },
   "id": "da3bba7943361715"
  },
  {
   "cell_type": "code",
   "execution_count": 16,
   "outputs": [
    {
     "data": {
      "text/plain": "       product_id                                       product_name  \\\n0               1                         Chocolate Sandwich Cookies   \n1               2                                   All-Seasons Salt   \n2               3               Robust Golden Unsweetened Oolong Tea   \n3               4  Smart Ones Classic Favorites Mini Rigatoni Wit...   \n4               5                          Green Chile Anytime Sauce   \n...           ...                                                ...   \n49688       49684          Vodka, Triple Distilled, Twist of Vanilla   \n49689       49685                 En Croute Roast Hazelnut Cranberry   \n49690       49686                                   Artisan Baguette   \n49691       49687         Smartblend Healthy Metabolism Dry Cat Food   \n49692       49688                             Fresh Foaming Cleanser   \n\n       aisle_id  department_id  prices  \n0            61             19     5.8  \n1           104             13     9.3  \n2            94              7     4.5  \n3            38              1    10.5  \n4             5             13     4.3  \n...         ...            ...     ...  \n49688       124              5     5.3  \n49689        42              1     3.1  \n49690       112              3     7.8  \n49691        41              8     4.7  \n49692        73             11    13.5  \n\n[49672 rows x 5 columns]",
      "text/html": "<div>\n<style scoped>\n    .dataframe tbody tr th:only-of-type {\n        vertical-align: middle;\n    }\n\n    .dataframe tbody tr th {\n        vertical-align: top;\n    }\n\n    .dataframe thead th {\n        text-align: right;\n    }\n</style>\n<table border=\"1\" class=\"dataframe\">\n  <thead>\n    <tr style=\"text-align: right;\">\n      <th></th>\n      <th>product_id</th>\n      <th>product_name</th>\n      <th>aisle_id</th>\n      <th>department_id</th>\n      <th>prices</th>\n    </tr>\n  </thead>\n  <tbody>\n    <tr>\n      <th>0</th>\n      <td>1</td>\n      <td>Chocolate Sandwich Cookies</td>\n      <td>61</td>\n      <td>19</td>\n      <td>5.8</td>\n    </tr>\n    <tr>\n      <th>1</th>\n      <td>2</td>\n      <td>All-Seasons Salt</td>\n      <td>104</td>\n      <td>13</td>\n      <td>9.3</td>\n    </tr>\n    <tr>\n      <th>2</th>\n      <td>3</td>\n      <td>Robust Golden Unsweetened Oolong Tea</td>\n      <td>94</td>\n      <td>7</td>\n      <td>4.5</td>\n    </tr>\n    <tr>\n      <th>3</th>\n      <td>4</td>\n      <td>Smart Ones Classic Favorites Mini Rigatoni Wit...</td>\n      <td>38</td>\n      <td>1</td>\n      <td>10.5</td>\n    </tr>\n    <tr>\n      <th>4</th>\n      <td>5</td>\n      <td>Green Chile Anytime Sauce</td>\n      <td>5</td>\n      <td>13</td>\n      <td>4.3</td>\n    </tr>\n    <tr>\n      <th>...</th>\n      <td>...</td>\n      <td>...</td>\n      <td>...</td>\n      <td>...</td>\n      <td>...</td>\n    </tr>\n    <tr>\n      <th>49688</th>\n      <td>49684</td>\n      <td>Vodka, Triple Distilled, Twist of Vanilla</td>\n      <td>124</td>\n      <td>5</td>\n      <td>5.3</td>\n    </tr>\n    <tr>\n      <th>49689</th>\n      <td>49685</td>\n      <td>En Croute Roast Hazelnut Cranberry</td>\n      <td>42</td>\n      <td>1</td>\n      <td>3.1</td>\n    </tr>\n    <tr>\n      <th>49690</th>\n      <td>49686</td>\n      <td>Artisan Baguette</td>\n      <td>112</td>\n      <td>3</td>\n      <td>7.8</td>\n    </tr>\n    <tr>\n      <th>49691</th>\n      <td>49687</td>\n      <td>Smartblend Healthy Metabolism Dry Cat Food</td>\n      <td>41</td>\n      <td>8</td>\n      <td>4.7</td>\n    </tr>\n    <tr>\n      <th>49692</th>\n      <td>49688</td>\n      <td>Fresh Foaming Cleanser</td>\n      <td>73</td>\n      <td>11</td>\n      <td>13.5</td>\n    </tr>\n  </tbody>\n</table>\n<p>49672 rows × 5 columns</p>\n</div>"
     },
     "execution_count": 16,
     "metadata": {},
     "output_type": "execute_result"
    }
   ],
   "source": [
    "df_prods_clean_no_dups"
   ],
   "metadata": {
    "collapsed": false,
    "ExecuteTime": {
     "end_time": "2023-10-26T10:43:40.942656100Z",
     "start_time": "2023-10-26T10:43:40.689293200Z"
    }
   },
   "id": "3540b9c7ed727551"
  },
  {
   "cell_type": "markdown",
   "source": [
    "2. Run the df.describe() function on your df_ords dataframe. Using your new knowledge about how to interpret the output of this function, share in a markdown cell whether anything about the data looks off or should be investigated further.\n",
    "Tip: Keep an eye on min and max values!"
   ],
   "metadata": {
    "collapsed": false
   },
   "id": "13d6eb0aa14ff784"
  },
  {
   "cell_type": "code",
   "execution_count": 17,
   "outputs": [
    {
     "data": {
      "text/plain": "         Unnamed: 0      order_id       user_id  order_number  \\\ncount  3.421083e+06  3.421083e+06  3.421083e+06  3.421083e+06   \nmean   1.710541e+06  1.710542e+06  1.029782e+05  1.715486e+01   \nstd    9.875817e+05  9.875817e+05  5.953372e+04  1.773316e+01   \nmin    0.000000e+00  1.000000e+00  1.000000e+00  1.000000e+00   \n25%    8.552705e+05  8.552715e+05  5.139400e+04  5.000000e+00   \n50%    1.710541e+06  1.710542e+06  1.026890e+05  1.100000e+01   \n75%    2.565812e+06  2.565812e+06  1.543850e+05  2.300000e+01   \nmax    3.421082e+06  3.421083e+06  2.062090e+05  1.000000e+02   \n\n       orders_day_of_week  order_hour_of_day  days_since_prior_order  \ncount        3.421083e+06       3.421083e+06            3.214874e+06  \nmean         2.776219e+00       1.345202e+01            1.111484e+01  \nstd          2.046829e+00       4.226088e+00            9.206737e+00  \nmin          0.000000e+00       0.000000e+00            0.000000e+00  \n25%          1.000000e+00       1.000000e+01            4.000000e+00  \n50%          3.000000e+00       1.300000e+01            7.000000e+00  \n75%          5.000000e+00       1.600000e+01            1.500000e+01  \nmax          6.000000e+00       2.300000e+01            3.000000e+01  ",
      "text/html": "<div>\n<style scoped>\n    .dataframe tbody tr th:only-of-type {\n        vertical-align: middle;\n    }\n\n    .dataframe tbody tr th {\n        vertical-align: top;\n    }\n\n    .dataframe thead th {\n        text-align: right;\n    }\n</style>\n<table border=\"1\" class=\"dataframe\">\n  <thead>\n    <tr style=\"text-align: right;\">\n      <th></th>\n      <th>Unnamed: 0</th>\n      <th>order_id</th>\n      <th>user_id</th>\n      <th>order_number</th>\n      <th>orders_day_of_week</th>\n      <th>order_hour_of_day</th>\n      <th>days_since_prior_order</th>\n    </tr>\n  </thead>\n  <tbody>\n    <tr>\n      <th>count</th>\n      <td>3.421083e+06</td>\n      <td>3.421083e+06</td>\n      <td>3.421083e+06</td>\n      <td>3.421083e+06</td>\n      <td>3.421083e+06</td>\n      <td>3.421083e+06</td>\n      <td>3.214874e+06</td>\n    </tr>\n    <tr>\n      <th>mean</th>\n      <td>1.710541e+06</td>\n      <td>1.710542e+06</td>\n      <td>1.029782e+05</td>\n      <td>1.715486e+01</td>\n      <td>2.776219e+00</td>\n      <td>1.345202e+01</td>\n      <td>1.111484e+01</td>\n    </tr>\n    <tr>\n      <th>std</th>\n      <td>9.875817e+05</td>\n      <td>9.875817e+05</td>\n      <td>5.953372e+04</td>\n      <td>1.773316e+01</td>\n      <td>2.046829e+00</td>\n      <td>4.226088e+00</td>\n      <td>9.206737e+00</td>\n    </tr>\n    <tr>\n      <th>min</th>\n      <td>0.000000e+00</td>\n      <td>1.000000e+00</td>\n      <td>1.000000e+00</td>\n      <td>1.000000e+00</td>\n      <td>0.000000e+00</td>\n      <td>0.000000e+00</td>\n      <td>0.000000e+00</td>\n    </tr>\n    <tr>\n      <th>25%</th>\n      <td>8.552705e+05</td>\n      <td>8.552715e+05</td>\n      <td>5.139400e+04</td>\n      <td>5.000000e+00</td>\n      <td>1.000000e+00</td>\n      <td>1.000000e+01</td>\n      <td>4.000000e+00</td>\n    </tr>\n    <tr>\n      <th>50%</th>\n      <td>1.710541e+06</td>\n      <td>1.710542e+06</td>\n      <td>1.026890e+05</td>\n      <td>1.100000e+01</td>\n      <td>3.000000e+00</td>\n      <td>1.300000e+01</td>\n      <td>7.000000e+00</td>\n    </tr>\n    <tr>\n      <th>75%</th>\n      <td>2.565812e+06</td>\n      <td>2.565812e+06</td>\n      <td>1.543850e+05</td>\n      <td>2.300000e+01</td>\n      <td>5.000000e+00</td>\n      <td>1.600000e+01</td>\n      <td>1.500000e+01</td>\n    </tr>\n    <tr>\n      <th>max</th>\n      <td>3.421082e+06</td>\n      <td>3.421083e+06</td>\n      <td>2.062090e+05</td>\n      <td>1.000000e+02</td>\n      <td>6.000000e+00</td>\n      <td>2.300000e+01</td>\n      <td>3.000000e+01</td>\n    </tr>\n  </tbody>\n</table>\n</div>"
     },
     "execution_count": 17,
     "metadata": {},
     "output_type": "execute_result"
    }
   ],
   "source": [
    "df_ords.describe()"
   ],
   "metadata": {
    "collapsed": false,
    "ExecuteTime": {
     "end_time": "2023-10-26T10:43:41.581676600Z",
     "start_time": "2023-10-26T10:43:40.710236900Z"
    }
   },
   "id": "d745644d8ae7468"
  },
  {
   "cell_type": "markdown",
   "source": [
    "The minimum value of 1 for \"user_id\" is reasonable, but the maximum value of 206,209,000 is extremely high, which may indicate an issue with the data, such as missing or incorrect user IDs. The minimum value of 0 and extremely high maximum value (30,000,000) for \"days_since_prior_order\" are both unusual and may suggest data quality issues or outliers that may require further investigation. "
   ],
   "metadata": {
    "collapsed": false
   },
   "id": "dcc3bddbab354591"
  },
  {
   "cell_type": "markdown",
   "source": [
    "3. Check for mixed-type data in your df_ords dataframe."
   ],
   "metadata": {
    "collapsed": false
   },
   "id": "3a88756671da1a59"
  },
  {
   "cell_type": "code",
   "execution_count": 18,
   "outputs": [],
   "source": [
    "# Check for mixed types\n",
    "for col in df_ords.columns.tolist():\n",
    "    weird = (df_ords[[col]].applymap(type) != df_ords[[col]].iloc[0].apply(type)).any(axis = 1)\n",
    "    if len(df_ords[weird]) > 0:\n",
    "        print(col)"
   ],
   "metadata": {
    "collapsed": false,
    "ExecuteTime": {
     "end_time": "2023-10-26T10:43:47.608654400Z",
     "start_time": "2023-10-26T10:43:41.584673800Z"
    }
   },
   "id": "907ec123eb5d21b2"
  },
  {
   "cell_type": "markdown",
   "source": [
    "4. No mixed-type data found"
   ],
   "metadata": {
    "collapsed": false
   },
   "id": "f16685efc5496ff1"
  },
  {
   "cell_type": "markdown",
   "source": [
    "5.\tRun a check for missing values in your df_ords dataframe.\n",
    "In a markdown cell, report your findings and propose an explanation for any missing values you find.\n"
   ],
   "metadata": {
    "collapsed": false
   },
   "id": "60db554a10493eec"
  },
  {
   "cell_type": "code",
   "execution_count": 19,
   "outputs": [
    {
     "data": {
      "text/plain": "Unnamed: 0                     0\norder_id                       0\nuser_id                        0\neval_set                       0\norder_number                   0\norders_day_of_week             0\norder_hour_of_day              0\ndays_since_prior_order    206209\ndtype: int64"
     },
     "execution_count": 19,
     "metadata": {},
     "output_type": "execute_result"
    }
   ],
   "source": [
    "df_ords.isnull().sum()"
   ],
   "metadata": {
    "collapsed": false,
    "ExecuteTime": {
     "end_time": "2023-10-26T10:43:47.808968800Z",
     "start_time": "2023-10-26T10:43:47.609649600Z"
    }
   },
   "id": "fb2b99259a55c08a"
  },
  {
   "cell_type": "markdown",
   "source": [
    "The days_since_prior_order has 206,209 missing values. This could be attributed to a number of possible reasons. One of such reasons might be First-Time Orders. Since customers who are placing their first order will not have a \"days_since_prior_order\" value because there is no prior order to measure the time since the last order. Secondly, Data entry errors or omissions can lead to missing values. For example, if the data recording process had issues or if certain orders were not properly recorded, it could result in missing values."
   ],
   "metadata": {
    "collapsed": false
   },
   "id": "62750fbb246a78c7"
  },
  {
   "cell_type": "markdown",
   "source": [
    "6. Address the missing values using an appropriate method. In a markdown cell, explain why you used your method of choice."
   ],
   "metadata": {
    "collapsed": false
   },
   "id": "f1b55fa8aba69a87"
  },
  {
   "cell_type": "markdown",
   "source": [
    "Addressing Missing Values  in \"df_ords\" dataframe by Creating a New Variable that acts like a flag based on the Missing Value. But first, we view these missing values."
   ],
   "metadata": {
    "collapsed": false
   },
   "id": "7a51324d6ebafb07"
  },
  {
   "cell_type": "code",
   "execution_count": 20,
   "outputs": [
    {
     "data": {
      "text/plain": "         Unnamed: 0  order_id  user_id eval_set  order_number  \\\n0                 0   2539329        1    prior             1   \n11               11   2168274        2    prior             1   \n26               26   1374495        3    prior             1   \n39               39   3343014        4    prior             1   \n45               45   2717275        5    prior             1   \n...             ...       ...      ...      ...           ...   \n3420930     3420930    969311   206205    prior             1   \n3420934     3420934   3189322   206206    prior             1   \n3421002     3421002   2166133   206207    prior             1   \n3421019     3421019   2227043   206208    prior             1   \n3421069     3421069   3154581   206209    prior             1   \n\n         orders_day_of_week  order_hour_of_day  days_since_prior_order  \n0                         2                  8                     NaN  \n11                        2                 11                     NaN  \n26                        1                 14                     NaN  \n39                        6                 11                     NaN  \n45                        3                 12                     NaN  \n...                     ...                ...                     ...  \n3420930                   4                 12                     NaN  \n3420934                   3                 18                     NaN  \n3421002                   6                 19                     NaN  \n3421019                   1                 15                     NaN  \n3421069                   3                 11                     NaN  \n\n[206209 rows x 8 columns]",
      "text/html": "<div>\n<style scoped>\n    .dataframe tbody tr th:only-of-type {\n        vertical-align: middle;\n    }\n\n    .dataframe tbody tr th {\n        vertical-align: top;\n    }\n\n    .dataframe thead th {\n        text-align: right;\n    }\n</style>\n<table border=\"1\" class=\"dataframe\">\n  <thead>\n    <tr style=\"text-align: right;\">\n      <th></th>\n      <th>Unnamed: 0</th>\n      <th>order_id</th>\n      <th>user_id</th>\n      <th>eval_set</th>\n      <th>order_number</th>\n      <th>orders_day_of_week</th>\n      <th>order_hour_of_day</th>\n      <th>days_since_prior_order</th>\n    </tr>\n  </thead>\n  <tbody>\n    <tr>\n      <th>0</th>\n      <td>0</td>\n      <td>2539329</td>\n      <td>1</td>\n      <td>prior</td>\n      <td>1</td>\n      <td>2</td>\n      <td>8</td>\n      <td>NaN</td>\n    </tr>\n    <tr>\n      <th>11</th>\n      <td>11</td>\n      <td>2168274</td>\n      <td>2</td>\n      <td>prior</td>\n      <td>1</td>\n      <td>2</td>\n      <td>11</td>\n      <td>NaN</td>\n    </tr>\n    <tr>\n      <th>26</th>\n      <td>26</td>\n      <td>1374495</td>\n      <td>3</td>\n      <td>prior</td>\n      <td>1</td>\n      <td>1</td>\n      <td>14</td>\n      <td>NaN</td>\n    </tr>\n    <tr>\n      <th>39</th>\n      <td>39</td>\n      <td>3343014</td>\n      <td>4</td>\n      <td>prior</td>\n      <td>1</td>\n      <td>6</td>\n      <td>11</td>\n      <td>NaN</td>\n    </tr>\n    <tr>\n      <th>45</th>\n      <td>45</td>\n      <td>2717275</td>\n      <td>5</td>\n      <td>prior</td>\n      <td>1</td>\n      <td>3</td>\n      <td>12</td>\n      <td>NaN</td>\n    </tr>\n    <tr>\n      <th>...</th>\n      <td>...</td>\n      <td>...</td>\n      <td>...</td>\n      <td>...</td>\n      <td>...</td>\n      <td>...</td>\n      <td>...</td>\n      <td>...</td>\n    </tr>\n    <tr>\n      <th>3420930</th>\n      <td>3420930</td>\n      <td>969311</td>\n      <td>206205</td>\n      <td>prior</td>\n      <td>1</td>\n      <td>4</td>\n      <td>12</td>\n      <td>NaN</td>\n    </tr>\n    <tr>\n      <th>3420934</th>\n      <td>3420934</td>\n      <td>3189322</td>\n      <td>206206</td>\n      <td>prior</td>\n      <td>1</td>\n      <td>3</td>\n      <td>18</td>\n      <td>NaN</td>\n    </tr>\n    <tr>\n      <th>3421002</th>\n      <td>3421002</td>\n      <td>2166133</td>\n      <td>206207</td>\n      <td>prior</td>\n      <td>1</td>\n      <td>6</td>\n      <td>19</td>\n      <td>NaN</td>\n    </tr>\n    <tr>\n      <th>3421019</th>\n      <td>3421019</td>\n      <td>2227043</td>\n      <td>206208</td>\n      <td>prior</td>\n      <td>1</td>\n      <td>1</td>\n      <td>15</td>\n      <td>NaN</td>\n    </tr>\n    <tr>\n      <th>3421069</th>\n      <td>3421069</td>\n      <td>3154581</td>\n      <td>206209</td>\n      <td>prior</td>\n      <td>1</td>\n      <td>3</td>\n      <td>11</td>\n      <td>NaN</td>\n    </tr>\n  </tbody>\n</table>\n<p>206209 rows × 8 columns</p>\n</div>"
     },
     "execution_count": 20,
     "metadata": {},
     "output_type": "execute_result"
    }
   ],
   "source": [
    "df_misval = df_ords[df_ords['days_since_prior_order'].isnull() == True]\n",
    "df_misval"
   ],
   "metadata": {
    "collapsed": false,
    "ExecuteTime": {
     "end_time": "2023-10-26T10:43:47.883307Z",
     "start_time": "2023-10-26T10:43:47.809967600Z"
    }
   },
   "id": "b0ee0f9c87a1603d"
  },
  {
   "cell_type": "code",
   "execution_count": 21,
   "outputs": [
    {
     "data": {
      "text/plain": "(3421083, 8)"
     },
     "execution_count": 21,
     "metadata": {},
     "output_type": "execute_result"
    }
   ],
   "source": [
    "df_ords.shape"
   ],
   "metadata": {
    "collapsed": false,
    "ExecuteTime": {
     "end_time": "2023-10-26T10:43:47.926191600Z",
     "start_time": "2023-10-26T10:43:47.886300200Z"
    }
   },
   "id": "93d161e86ccbfcb9"
  },
  {
   "cell_type": "code",
   "execution_count": 22,
   "outputs": [
    {
     "data": {
      "text/plain": "(3214874, 8)"
     },
     "execution_count": 22,
     "metadata": {},
     "output_type": "execute_result"
    }
   ],
   "source": [
    "# Creating new dataframe called df_ords_clean\n",
    "df_ords_clean = df_ords[df_ords['days_since_prior_order'].isnull() == False]\n",
    "df_ords_clean.shape"
   ],
   "metadata": {
    "collapsed": false,
    "ExecuteTime": {
     "end_time": "2023-10-26T10:43:48.122773600Z",
     "start_time": "2023-10-26T10:43:47.902283600Z"
    }
   },
   "id": "18753b35b373ca64"
  },
  {
   "cell_type": "markdown",
   "source": [
    "It is 206,209 less. I chose this method of creating an entirely new dataframe without overwriting the original version, so I can have both the treated version and the original version just in case I may still need both."
   ],
   "metadata": {
    "collapsed": false
   },
   "id": "956b0b67f834cda4"
  },
  {
   "cell_type": "markdown",
   "source": [
    "7.\tRun a check for duplicate values in your df_ords data. In a markdown cell, report your findings and propose an explanation for any duplicate values you find."
   ],
   "metadata": {
    "collapsed": false
   },
   "id": "99238103f50f781d"
  },
  {
   "cell_type": "code",
   "execution_count": 23,
   "outputs": [
    {
     "data": {
      "text/plain": "Empty DataFrame\nColumns: [Unnamed: 0, order_id, user_id, eval_set, order_number, orders_day_of_week, order_hour_of_day, days_since_prior_order]\nIndex: []",
      "text/html": "<div>\n<style scoped>\n    .dataframe tbody tr th:only-of-type {\n        vertical-align: middle;\n    }\n\n    .dataframe tbody tr th {\n        vertical-align: top;\n    }\n\n    .dataframe thead th {\n        text-align: right;\n    }\n</style>\n<table border=\"1\" class=\"dataframe\">\n  <thead>\n    <tr style=\"text-align: right;\">\n      <th></th>\n      <th>Unnamed: 0</th>\n      <th>order_id</th>\n      <th>user_id</th>\n      <th>eval_set</th>\n      <th>order_number</th>\n      <th>orders_day_of_week</th>\n      <th>order_hour_of_day</th>\n      <th>days_since_prior_order</th>\n    </tr>\n  </thead>\n  <tbody>\n  </tbody>\n</table>\n</div>"
     },
     "execution_count": 23,
     "metadata": {},
     "output_type": "execute_result"
    }
   ],
   "source": [
    "df_ord_dubs = df_ords_clean[df_ords_clean.duplicated()]\n",
    "df_ord_dubs"
   ],
   "metadata": {
    "collapsed": false,
    "ExecuteTime": {
     "end_time": "2023-10-26T10:43:50.097745900Z",
     "start_time": "2023-10-26T10:43:48.118784100Z"
    }
   },
   "id": "221e453a1c40afd5"
  },
  {
   "cell_type": "markdown",
   "source": [
    "8. No duplicates were found in \"df_ords_clean\" dataframe."
   ],
   "metadata": {
    "collapsed": false
   },
   "id": "d014f72ce2b656a2"
  },
  {
   "cell_type": "markdown",
   "source": [
    "9.\tExport your final, cleaned df_prods and df_ords data as “.csv” files in your “Prepared Data” folder and give them appropriate, succinct names."
   ],
   "metadata": {
    "collapsed": false
   },
   "id": "a366531adea00284"
  },
  {
   "cell_type": "code",
   "execution_count": 24,
   "outputs": [
    {
     "data": {
      "text/plain": "         Unnamed: 0  order_id  user_id eval_set  order_number  \\\n1                 1   2398795        1    prior             2   \n2                 2    473747        1    prior             3   \n3                 3   2254736        1    prior             4   \n4                 4    431534        1    prior             5   \n5                 5   3367565        1    prior             6   \n...             ...       ...      ...      ...           ...   \n3421078     3421078   2266710   206209    prior            10   \n3421079     3421079   1854736   206209    prior            11   \n3421080     3421080    626363   206209    prior            12   \n3421081     3421081   2977660   206209    prior            13   \n3421082     3421082    272231   206209    train            14   \n\n         orders_day_of_week  order_hour_of_day  days_since_prior_order  \n1                         3                  7                    15.0  \n2                         3                 12                    21.0  \n3                         4                  7                    29.0  \n4                         4                 15                    28.0  \n5                         2                  7                    19.0  \n...                     ...                ...                     ...  \n3421078                   5                 18                    29.0  \n3421079                   4                 10                    30.0  \n3421080                   1                 12                    18.0  \n3421081                   1                 12                     7.0  \n3421082                   6                 14                    30.0  \n\n[3214874 rows x 8 columns]",
      "text/html": "<div>\n<style scoped>\n    .dataframe tbody tr th:only-of-type {\n        vertical-align: middle;\n    }\n\n    .dataframe tbody tr th {\n        vertical-align: top;\n    }\n\n    .dataframe thead th {\n        text-align: right;\n    }\n</style>\n<table border=\"1\" class=\"dataframe\">\n  <thead>\n    <tr style=\"text-align: right;\">\n      <th></th>\n      <th>Unnamed: 0</th>\n      <th>order_id</th>\n      <th>user_id</th>\n      <th>eval_set</th>\n      <th>order_number</th>\n      <th>orders_day_of_week</th>\n      <th>order_hour_of_day</th>\n      <th>days_since_prior_order</th>\n    </tr>\n  </thead>\n  <tbody>\n    <tr>\n      <th>1</th>\n      <td>1</td>\n      <td>2398795</td>\n      <td>1</td>\n      <td>prior</td>\n      <td>2</td>\n      <td>3</td>\n      <td>7</td>\n      <td>15.0</td>\n    </tr>\n    <tr>\n      <th>2</th>\n      <td>2</td>\n      <td>473747</td>\n      <td>1</td>\n      <td>prior</td>\n      <td>3</td>\n      <td>3</td>\n      <td>12</td>\n      <td>21.0</td>\n    </tr>\n    <tr>\n      <th>3</th>\n      <td>3</td>\n      <td>2254736</td>\n      <td>1</td>\n      <td>prior</td>\n      <td>4</td>\n      <td>4</td>\n      <td>7</td>\n      <td>29.0</td>\n    </tr>\n    <tr>\n      <th>4</th>\n      <td>4</td>\n      <td>431534</td>\n      <td>1</td>\n      <td>prior</td>\n      <td>5</td>\n      <td>4</td>\n      <td>15</td>\n      <td>28.0</td>\n    </tr>\n    <tr>\n      <th>5</th>\n      <td>5</td>\n      <td>3367565</td>\n      <td>1</td>\n      <td>prior</td>\n      <td>6</td>\n      <td>2</td>\n      <td>7</td>\n      <td>19.0</td>\n    </tr>\n    <tr>\n      <th>...</th>\n      <td>...</td>\n      <td>...</td>\n      <td>...</td>\n      <td>...</td>\n      <td>...</td>\n      <td>...</td>\n      <td>...</td>\n      <td>...</td>\n    </tr>\n    <tr>\n      <th>3421078</th>\n      <td>3421078</td>\n      <td>2266710</td>\n      <td>206209</td>\n      <td>prior</td>\n      <td>10</td>\n      <td>5</td>\n      <td>18</td>\n      <td>29.0</td>\n    </tr>\n    <tr>\n      <th>3421079</th>\n      <td>3421079</td>\n      <td>1854736</td>\n      <td>206209</td>\n      <td>prior</td>\n      <td>11</td>\n      <td>4</td>\n      <td>10</td>\n      <td>30.0</td>\n    </tr>\n    <tr>\n      <th>3421080</th>\n      <td>3421080</td>\n      <td>626363</td>\n      <td>206209</td>\n      <td>prior</td>\n      <td>12</td>\n      <td>1</td>\n      <td>12</td>\n      <td>18.0</td>\n    </tr>\n    <tr>\n      <th>3421081</th>\n      <td>3421081</td>\n      <td>2977660</td>\n      <td>206209</td>\n      <td>prior</td>\n      <td>13</td>\n      <td>1</td>\n      <td>12</td>\n      <td>7.0</td>\n    </tr>\n    <tr>\n      <th>3421082</th>\n      <td>3421082</td>\n      <td>272231</td>\n      <td>206209</td>\n      <td>train</td>\n      <td>14</td>\n      <td>6</td>\n      <td>14</td>\n      <td>30.0</td>\n    </tr>\n  </tbody>\n</table>\n<p>3214874 rows × 8 columns</p>\n</div>"
     },
     "execution_count": 24,
     "metadata": {},
     "output_type": "execute_result"
    }
   ],
   "source": [
    "df_ords_clean"
   ],
   "metadata": {
    "collapsed": false,
    "ExecuteTime": {
     "end_time": "2023-10-26T10:43:50.136640800Z",
     "start_time": "2023-10-26T10:43:50.085551600Z"
    }
   },
   "id": "8ca1a4384a3c59c2"
  },
  {
   "cell_type": "markdown",
   "source": [],
   "metadata": {
    "collapsed": false
   },
   "id": "af8d499a19905a5c"
  }
 ],
 "metadata": {
  "kernelspec": {
   "display_name": "Python 3",
   "language": "python",
   "name": "python3"
  },
  "language_info": {
   "codemirror_mode": {
    "name": "ipython",
    "version": 2
   },
   "file_extension": ".py",
   "mimetype": "text/x-python",
   "name": "python",
   "nbconvert_exporter": "python",
   "pygments_lexer": "ipython2",
   "version": "2.7.6"
  }
 },
 "nbformat": 4,
 "nbformat_minor": 5
}
