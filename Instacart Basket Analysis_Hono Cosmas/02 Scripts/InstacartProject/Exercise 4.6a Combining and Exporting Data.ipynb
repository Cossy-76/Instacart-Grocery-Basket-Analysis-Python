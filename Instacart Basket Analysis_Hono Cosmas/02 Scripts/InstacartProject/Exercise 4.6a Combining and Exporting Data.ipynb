{
 "cells": [
  {
   "cell_type": "code",
   "execution_count": 1,
   "id": "initial_id",
   "metadata": {
    "collapsed": true,
    "ExecuteTime": {
     "end_time": "2023-10-30T16:37:32.393553200Z",
     "start_time": "2023-10-30T16:37:31.831529400Z"
    }
   },
   "outputs": [],
   "source": [
    "# Import libraries\n",
    "import pandas as pd\n",
    "import numpy as np\n",
    "import os"
   ]
  },
  {
   "cell_type": "code",
   "execution_count": 2,
   "outputs": [],
   "source": [
    "path = r'C:\\Users\\honoc\\Documents\\CareerFoundry Folder\\Python Fundamentals for Data Analysts\\Exercise 4.3 Folder'\n",
    "path\n",
    "df_ords_prior = pd.read_csv(os.path.join(path, 'Original data', 'orders_products_prior.csv'), index_col = False)\n",
    "df_ords = pd.read_csv(os.path.join(path, 'Prepared data', 'orders_checked.csv'), index_col = False)\n",
    "df_prods = pd.read_csv(os.path.join(path, 'Prepared data', 'products_checked.csv'), index_col = False)"
   ],
   "metadata": {
    "collapsed": false,
    "ExecuteTime": {
     "end_time": "2023-10-30T16:37:43.872324500Z",
     "start_time": "2023-10-30T16:37:32.396513800Z"
    }
   },
   "id": "f91b2fe5a4613049"
  },
  {
   "cell_type": "code",
   "execution_count": 3,
   "outputs": [
    {
     "data": {
      "text/plain": "(32434489, 4)"
     },
     "execution_count": 3,
     "metadata": {},
     "output_type": "execute_result"
    }
   ],
   "source": [
    "df_ords_prior.shape"
   ],
   "metadata": {
    "collapsed": false,
    "ExecuteTime": {
     "end_time": "2023-10-30T16:37:43.887315400Z",
     "start_time": "2023-10-30T16:37:43.874317900Z"
    }
   },
   "id": "bbbe0784f9a05509"
  },
  {
   "cell_type": "markdown",
   "source": [
    "Checking for Missing values in orders_products_prior"
   ],
   "metadata": {
    "collapsed": false
   },
   "id": "bf06835a30454846"
  },
  {
   "cell_type": "code",
   "execution_count": 13,
   "outputs": [
    {
     "data": {
      "text/plain": "order_id             0\nproduct_id           0\nadd_to_cart_order    0\nreordered            0\ndtype: int64"
     },
     "execution_count": 13,
     "metadata": {},
     "output_type": "execute_result"
    }
   ],
   "source": [
    "df_ords_prior.isnull().sum()"
   ],
   "metadata": {
    "collapsed": false,
    "ExecuteTime": {
     "end_time": "2023-10-30T16:39:45.797766300Z",
     "start_time": "2023-10-30T16:39:45.571372200Z"
    }
   },
   "id": "b88aede7bfaf8bb2"
  },
  {
   "cell_type": "markdown",
   "source": [
    "No missing values found"
   ],
   "metadata": {
    "collapsed": false
   },
   "id": "e94195f7b742a9eb"
  },
  {
   "cell_type": "code",
   "execution_count": 15,
   "outputs": [
    {
     "data": {
      "text/plain": "Empty DataFrame\nColumns: [order_id, product_id, add_to_cart_order, reordered]\nIndex: []",
      "text/html": "<div>\n<style scoped>\n    .dataframe tbody tr th:only-of-type {\n        vertical-align: middle;\n    }\n\n    .dataframe tbody tr th {\n        vertical-align: top;\n    }\n\n    .dataframe thead th {\n        text-align: right;\n    }\n</style>\n<table border=\"1\" class=\"dataframe\">\n  <thead>\n    <tr style=\"text-align: right;\">\n      <th></th>\n      <th>order_id</th>\n      <th>product_id</th>\n      <th>add_to_cart_order</th>\n      <th>reordered</th>\n    </tr>\n  </thead>\n  <tbody>\n  </tbody>\n</table>\n</div>"
     },
     "execution_count": 15,
     "metadata": {},
     "output_type": "execute_result"
    }
   ],
   "source": [
    "df_dups = df_ords_prior[df_ords_prior.duplicated()]\n",
    "df_dups"
   ],
   "metadata": {
    "collapsed": false,
    "ExecuteTime": {
     "end_time": "2023-10-30T16:45:18.983937400Z",
     "start_time": "2023-10-30T16:45:09.750847700Z"
    }
   },
   "id": "a5a174aeef4fb48b"
  },
  {
   "cell_type": "markdown",
   "source": [
    "No duplicates found"
   ],
   "metadata": {
    "collapsed": false
   },
   "id": "a333111635bd1e9d"
  },
  {
   "cell_type": "code",
   "execution_count": 4,
   "outputs": [
    {
     "data": {
      "text/plain": "   order_id  product_id  add_to_cart_order  reordered\n0         2       33120                  1          1\n1         2       28985                  2          1\n2         2        9327                  3          0\n3         2       45918                  4          1\n4         2       30035                  5          0",
      "text/html": "<div>\n<style scoped>\n    .dataframe tbody tr th:only-of-type {\n        vertical-align: middle;\n    }\n\n    .dataframe tbody tr th {\n        vertical-align: top;\n    }\n\n    .dataframe thead th {\n        text-align: right;\n    }\n</style>\n<table border=\"1\" class=\"dataframe\">\n  <thead>\n    <tr style=\"text-align: right;\">\n      <th></th>\n      <th>order_id</th>\n      <th>product_id</th>\n      <th>add_to_cart_order</th>\n      <th>reordered</th>\n    </tr>\n  </thead>\n  <tbody>\n    <tr>\n      <th>0</th>\n      <td>2</td>\n      <td>33120</td>\n      <td>1</td>\n      <td>1</td>\n    </tr>\n    <tr>\n      <th>1</th>\n      <td>2</td>\n      <td>28985</td>\n      <td>2</td>\n      <td>1</td>\n    </tr>\n    <tr>\n      <th>2</th>\n      <td>2</td>\n      <td>9327</td>\n      <td>3</td>\n      <td>0</td>\n    </tr>\n    <tr>\n      <th>3</th>\n      <td>2</td>\n      <td>45918</td>\n      <td>4</td>\n      <td>1</td>\n    </tr>\n    <tr>\n      <th>4</th>\n      <td>2</td>\n      <td>30035</td>\n      <td>5</td>\n      <td>0</td>\n    </tr>\n  </tbody>\n</table>\n</div>"
     },
     "execution_count": 4,
     "metadata": {},
     "output_type": "execute_result"
    }
   ],
   "source": [
    "df_ords_prior.head()"
   ],
   "metadata": {
    "collapsed": false,
    "ExecuteTime": {
     "end_time": "2023-10-30T16:37:43.949118100Z",
     "start_time": "2023-10-30T16:37:43.890276800Z"
    }
   },
   "id": "d485cceb9f88c8b4"
  },
  {
   "cell_type": "code",
   "execution_count": 5,
   "outputs": [
    {
     "data": {
      "text/plain": "   Unnamed: 0  order_id  user_id eval_set  order_number  orders_day_of_week  \\\n0           1   2398795        1    prior             2                   3   \n1           2    473747        1    prior             3                   3   \n2           3   2254736        1    prior             4                   4   \n3           4    431534        1    prior             5                   4   \n4           5   3367565        1    prior             6                   2   \n\n   order_hour_of_day  days_since_prior_order  \n0                  7                    15.0  \n1                 12                    21.0  \n2                  7                    29.0  \n3                 15                    28.0  \n4                  7                    19.0  ",
      "text/html": "<div>\n<style scoped>\n    .dataframe tbody tr th:only-of-type {\n        vertical-align: middle;\n    }\n\n    .dataframe tbody tr th {\n        vertical-align: top;\n    }\n\n    .dataframe thead th {\n        text-align: right;\n    }\n</style>\n<table border=\"1\" class=\"dataframe\">\n  <thead>\n    <tr style=\"text-align: right;\">\n      <th></th>\n      <th>Unnamed: 0</th>\n      <th>order_id</th>\n      <th>user_id</th>\n      <th>eval_set</th>\n      <th>order_number</th>\n      <th>orders_day_of_week</th>\n      <th>order_hour_of_day</th>\n      <th>days_since_prior_order</th>\n    </tr>\n  </thead>\n  <tbody>\n    <tr>\n      <th>0</th>\n      <td>1</td>\n      <td>2398795</td>\n      <td>1</td>\n      <td>prior</td>\n      <td>2</td>\n      <td>3</td>\n      <td>7</td>\n      <td>15.0</td>\n    </tr>\n    <tr>\n      <th>1</th>\n      <td>2</td>\n      <td>473747</td>\n      <td>1</td>\n      <td>prior</td>\n      <td>3</td>\n      <td>3</td>\n      <td>12</td>\n      <td>21.0</td>\n    </tr>\n    <tr>\n      <th>2</th>\n      <td>3</td>\n      <td>2254736</td>\n      <td>1</td>\n      <td>prior</td>\n      <td>4</td>\n      <td>4</td>\n      <td>7</td>\n      <td>29.0</td>\n    </tr>\n    <tr>\n      <th>3</th>\n      <td>4</td>\n      <td>431534</td>\n      <td>1</td>\n      <td>prior</td>\n      <td>5</td>\n      <td>4</td>\n      <td>15</td>\n      <td>28.0</td>\n    </tr>\n    <tr>\n      <th>4</th>\n      <td>5</td>\n      <td>3367565</td>\n      <td>1</td>\n      <td>prior</td>\n      <td>6</td>\n      <td>2</td>\n      <td>7</td>\n      <td>19.0</td>\n    </tr>\n  </tbody>\n</table>\n</div>"
     },
     "execution_count": 5,
     "metadata": {},
     "output_type": "execute_result"
    }
   ],
   "source": [
    "df_ords.head()"
   ],
   "metadata": {
    "collapsed": false,
    "ExecuteTime": {
     "end_time": "2023-10-30T16:37:43.951112600Z",
     "start_time": "2023-10-30T16:37:43.923188600Z"
    }
   },
   "id": "4621967314944569"
  },
  {
   "cell_type": "code",
   "execution_count": 6,
   "outputs": [
    {
     "data": {
      "text/plain": "         Unnamed: 0  order_id  user_id eval_set  order_number  \\\n0                 1   2398795        1    prior             2   \n1                 2    473747        1    prior             3   \n2                 3   2254736        1    prior             4   \n3                 4    431534        1    prior             5   \n4                 5   3367565        1    prior             6   \n...             ...       ...      ...      ...           ...   \n3214869     3421078   2266710   206209    prior            10   \n3214870     3421079   1854736   206209    prior            11   \n3214871     3421080    626363   206209    prior            12   \n3214872     3421081   2977660   206209    prior            13   \n3214873     3421082    272231   206209    train            14   \n\n         orders_day_of_week  order_hour_of_day  days_since_prior_order  \n0                         3                  7                    15.0  \n1                         3                 12                    21.0  \n2                         4                  7                    29.0  \n3                         4                 15                    28.0  \n4                         2                  7                    19.0  \n...                     ...                ...                     ...  \n3214869                   5                 18                    29.0  \n3214870                   4                 10                    30.0  \n3214871                   1                 12                    18.0  \n3214872                   1                 12                     7.0  \n3214873                   6                 14                    30.0  \n\n[3214874 rows x 8 columns]",
      "text/html": "<div>\n<style scoped>\n    .dataframe tbody tr th:only-of-type {\n        vertical-align: middle;\n    }\n\n    .dataframe tbody tr th {\n        vertical-align: top;\n    }\n\n    .dataframe thead th {\n        text-align: right;\n    }\n</style>\n<table border=\"1\" class=\"dataframe\">\n  <thead>\n    <tr style=\"text-align: right;\">\n      <th></th>\n      <th>Unnamed: 0</th>\n      <th>order_id</th>\n      <th>user_id</th>\n      <th>eval_set</th>\n      <th>order_number</th>\n      <th>orders_day_of_week</th>\n      <th>order_hour_of_day</th>\n      <th>days_since_prior_order</th>\n    </tr>\n  </thead>\n  <tbody>\n    <tr>\n      <th>0</th>\n      <td>1</td>\n      <td>2398795</td>\n      <td>1</td>\n      <td>prior</td>\n      <td>2</td>\n      <td>3</td>\n      <td>7</td>\n      <td>15.0</td>\n    </tr>\n    <tr>\n      <th>1</th>\n      <td>2</td>\n      <td>473747</td>\n      <td>1</td>\n      <td>prior</td>\n      <td>3</td>\n      <td>3</td>\n      <td>12</td>\n      <td>21.0</td>\n    </tr>\n    <tr>\n      <th>2</th>\n      <td>3</td>\n      <td>2254736</td>\n      <td>1</td>\n      <td>prior</td>\n      <td>4</td>\n      <td>4</td>\n      <td>7</td>\n      <td>29.0</td>\n    </tr>\n    <tr>\n      <th>3</th>\n      <td>4</td>\n      <td>431534</td>\n      <td>1</td>\n      <td>prior</td>\n      <td>5</td>\n      <td>4</td>\n      <td>15</td>\n      <td>28.0</td>\n    </tr>\n    <tr>\n      <th>4</th>\n      <td>5</td>\n      <td>3367565</td>\n      <td>1</td>\n      <td>prior</td>\n      <td>6</td>\n      <td>2</td>\n      <td>7</td>\n      <td>19.0</td>\n    </tr>\n    <tr>\n      <th>...</th>\n      <td>...</td>\n      <td>...</td>\n      <td>...</td>\n      <td>...</td>\n      <td>...</td>\n      <td>...</td>\n      <td>...</td>\n      <td>...</td>\n    </tr>\n    <tr>\n      <th>3214869</th>\n      <td>3421078</td>\n      <td>2266710</td>\n      <td>206209</td>\n      <td>prior</td>\n      <td>10</td>\n      <td>5</td>\n      <td>18</td>\n      <td>29.0</td>\n    </tr>\n    <tr>\n      <th>3214870</th>\n      <td>3421079</td>\n      <td>1854736</td>\n      <td>206209</td>\n      <td>prior</td>\n      <td>11</td>\n      <td>4</td>\n      <td>10</td>\n      <td>30.0</td>\n    </tr>\n    <tr>\n      <th>3214871</th>\n      <td>3421080</td>\n      <td>626363</td>\n      <td>206209</td>\n      <td>prior</td>\n      <td>12</td>\n      <td>1</td>\n      <td>12</td>\n      <td>18.0</td>\n    </tr>\n    <tr>\n      <th>3214872</th>\n      <td>3421081</td>\n      <td>2977660</td>\n      <td>206209</td>\n      <td>prior</td>\n      <td>13</td>\n      <td>1</td>\n      <td>12</td>\n      <td>7.0</td>\n    </tr>\n    <tr>\n      <th>3214873</th>\n      <td>3421082</td>\n      <td>272231</td>\n      <td>206209</td>\n      <td>train</td>\n      <td>14</td>\n      <td>6</td>\n      <td>14</td>\n      <td>30.0</td>\n    </tr>\n  </tbody>\n</table>\n<p>3214874 rows × 8 columns</p>\n</div>"
     },
     "execution_count": 6,
     "metadata": {},
     "output_type": "execute_result"
    }
   ],
   "source": [
    "df_ords"
   ],
   "metadata": {
    "collapsed": false,
    "ExecuteTime": {
     "end_time": "2023-10-30T16:37:44.039876300Z",
     "start_time": "2023-10-30T16:37:43.965075300Z"
    }
   },
   "id": "5526f88d929ba16a"
  },
  {
   "cell_type": "code",
   "execution_count": 7,
   "outputs": [
    {
     "data": {
      "text/plain": "(3214874, 8)"
     },
     "execution_count": 7,
     "metadata": {},
     "output_type": "execute_result"
    }
   ],
   "source": [
    "df_ords.shape"
   ],
   "metadata": {
    "collapsed": false,
    "ExecuteTime": {
     "end_time": "2023-10-30T16:37:44.133624600Z",
     "start_time": "2023-10-30T16:37:43.982032100Z"
    }
   },
   "id": "7b1c6034fdcad89e"
  },
  {
   "cell_type": "markdown",
   "source": [
    "1.\tIf you haven’t merged your prepared Instacart orders data with the new orders_products_prior dataframe per the instructions in this Exercise, do so now."
   ],
   "metadata": {
    "collapsed": false
   },
   "id": "17091f53238c93d0"
  },
  {
   "cell_type": "code",
   "execution_count": 8,
   "outputs": [],
   "source": [
    "df_merged_large = df_ords.merge(df_ords_prior, on= 'order_id', indicator= True)\n"
   ],
   "metadata": {
    "collapsed": false,
    "ExecuteTime": {
     "end_time": "2023-10-30T16:37:54.926100300Z",
     "start_time": "2023-10-30T16:37:43.997989Z"
    }
   },
   "id": "bfb71076b8903127"
  },
  {
   "cell_type": "code",
   "execution_count": 9,
   "outputs": [
    {
     "data": {
      "text/plain": "   Unnamed: 0  order_id  user_id eval_set  order_number  orders_day_of_week  \\\n0           1   2398795        1    prior             2                   3   \n1           1   2398795        1    prior             2                   3   \n2           1   2398795        1    prior             2                   3   \n3           1   2398795        1    prior             2                   3   \n4           1   2398795        1    prior             2                   3   \n\n   order_hour_of_day  days_since_prior_order  product_id  add_to_cart_order  \\\n0                  7                    15.0         196                  1   \n1                  7                    15.0       10258                  2   \n2                  7                    15.0       12427                  3   \n3                  7                    15.0       13176                  4   \n4                  7                    15.0       26088                  5   \n\n   reordered _merge  \n0          1   both  \n1          0   both  \n2          1   both  \n3          0   both  \n4          1   both  ",
      "text/html": "<div>\n<style scoped>\n    .dataframe tbody tr th:only-of-type {\n        vertical-align: middle;\n    }\n\n    .dataframe tbody tr th {\n        vertical-align: top;\n    }\n\n    .dataframe thead th {\n        text-align: right;\n    }\n</style>\n<table border=\"1\" class=\"dataframe\">\n  <thead>\n    <tr style=\"text-align: right;\">\n      <th></th>\n      <th>Unnamed: 0</th>\n      <th>order_id</th>\n      <th>user_id</th>\n      <th>eval_set</th>\n      <th>order_number</th>\n      <th>orders_day_of_week</th>\n      <th>order_hour_of_day</th>\n      <th>days_since_prior_order</th>\n      <th>product_id</th>\n      <th>add_to_cart_order</th>\n      <th>reordered</th>\n      <th>_merge</th>\n    </tr>\n  </thead>\n  <tbody>\n    <tr>\n      <th>0</th>\n      <td>1</td>\n      <td>2398795</td>\n      <td>1</td>\n      <td>prior</td>\n      <td>2</td>\n      <td>3</td>\n      <td>7</td>\n      <td>15.0</td>\n      <td>196</td>\n      <td>1</td>\n      <td>1</td>\n      <td>both</td>\n    </tr>\n    <tr>\n      <th>1</th>\n      <td>1</td>\n      <td>2398795</td>\n      <td>1</td>\n      <td>prior</td>\n      <td>2</td>\n      <td>3</td>\n      <td>7</td>\n      <td>15.0</td>\n      <td>10258</td>\n      <td>2</td>\n      <td>0</td>\n      <td>both</td>\n    </tr>\n    <tr>\n      <th>2</th>\n      <td>1</td>\n      <td>2398795</td>\n      <td>1</td>\n      <td>prior</td>\n      <td>2</td>\n      <td>3</td>\n      <td>7</td>\n      <td>15.0</td>\n      <td>12427</td>\n      <td>3</td>\n      <td>1</td>\n      <td>both</td>\n    </tr>\n    <tr>\n      <th>3</th>\n      <td>1</td>\n      <td>2398795</td>\n      <td>1</td>\n      <td>prior</td>\n      <td>2</td>\n      <td>3</td>\n      <td>7</td>\n      <td>15.0</td>\n      <td>13176</td>\n      <td>4</td>\n      <td>0</td>\n      <td>both</td>\n    </tr>\n    <tr>\n      <th>4</th>\n      <td>1</td>\n      <td>2398795</td>\n      <td>1</td>\n      <td>prior</td>\n      <td>2</td>\n      <td>3</td>\n      <td>7</td>\n      <td>15.0</td>\n      <td>26088</td>\n      <td>5</td>\n      <td>1</td>\n      <td>both</td>\n    </tr>\n  </tbody>\n</table>\n</div>"
     },
     "execution_count": 9,
     "metadata": {},
     "output_type": "execute_result"
    }
   ],
   "source": [
    "df_merged_large.head()"
   ],
   "metadata": {
    "collapsed": false,
    "ExecuteTime": {
     "end_time": "2023-10-30T16:37:54.978958800Z",
     "start_time": "2023-10-30T16:37:54.929091300Z"
    }
   },
   "id": "bc210d7278b3910f"
  },
  {
   "cell_type": "code",
   "execution_count": 10,
   "outputs": [
    {
     "data": {
      "text/plain": "_merge\nboth          30356421\nleft_only            0\nright_only           0\nName: count, dtype: int64"
     },
     "execution_count": 10,
     "metadata": {},
     "output_type": "execute_result"
    }
   ],
   "source": [
    "df_merged_large['_merge'].value_counts()"
   ],
   "metadata": {
    "collapsed": false,
    "ExecuteTime": {
     "end_time": "2023-10-30T16:37:55.306085100Z",
     "start_time": "2023-10-30T16:37:54.960009400Z"
    }
   },
   "id": "eb3097bbc46015ef"
  },
  {
   "cell_type": "code",
   "execution_count": 11,
   "outputs": [
    {
     "data": {
      "text/plain": "          Unnamed: 0  order_id  user_id eval_set  order_number  \\\n0                  1   2398795        1    prior             2   \n1                  1   2398795        1    prior             2   \n2                  1   2398795        1    prior             2   \n3                  1   2398795        1    prior             2   \n4                  1   2398795        1    prior             2   \n...              ...       ...      ...      ...           ...   \n30356416     3421081   2977660   206209    prior            13   \n30356417     3421081   2977660   206209    prior            13   \n30356418     3421081   2977660   206209    prior            13   \n30356419     3421081   2977660   206209    prior            13   \n30356420     3421081   2977660   206209    prior            13   \n\n          orders_day_of_week  order_hour_of_day  days_since_prior_order  \\\n0                          3                  7                    15.0   \n1                          3                  7                    15.0   \n2                          3                  7                    15.0   \n3                          3                  7                    15.0   \n4                          3                  7                    15.0   \n...                      ...                ...                     ...   \n30356416                   1                 12                     7.0   \n30356417                   1                 12                     7.0   \n30356418                   1                 12                     7.0   \n30356419                   1                 12                     7.0   \n30356420                   1                 12                     7.0   \n\n          product_id  add_to_cart_order  reordered  \n0                196                  1          1  \n1              10258                  2          0  \n2              12427                  3          1  \n3              13176                  4          0  \n4              26088                  5          1  \n...              ...                ...        ...  \n30356416       14197                  5          1  \n30356417       38730                  6          0  \n30356418       31477                  7          0  \n30356419        6567                  8          0  \n30356420       22920                  9          0  \n\n[30356421 rows x 11 columns]",
      "text/html": "<div>\n<style scoped>\n    .dataframe tbody tr th:only-of-type {\n        vertical-align: middle;\n    }\n\n    .dataframe tbody tr th {\n        vertical-align: top;\n    }\n\n    .dataframe thead th {\n        text-align: right;\n    }\n</style>\n<table border=\"1\" class=\"dataframe\">\n  <thead>\n    <tr style=\"text-align: right;\">\n      <th></th>\n      <th>Unnamed: 0</th>\n      <th>order_id</th>\n      <th>user_id</th>\n      <th>eval_set</th>\n      <th>order_number</th>\n      <th>orders_day_of_week</th>\n      <th>order_hour_of_day</th>\n      <th>days_since_prior_order</th>\n      <th>product_id</th>\n      <th>add_to_cart_order</th>\n      <th>reordered</th>\n    </tr>\n  </thead>\n  <tbody>\n    <tr>\n      <th>0</th>\n      <td>1</td>\n      <td>2398795</td>\n      <td>1</td>\n      <td>prior</td>\n      <td>2</td>\n      <td>3</td>\n      <td>7</td>\n      <td>15.0</td>\n      <td>196</td>\n      <td>1</td>\n      <td>1</td>\n    </tr>\n    <tr>\n      <th>1</th>\n      <td>1</td>\n      <td>2398795</td>\n      <td>1</td>\n      <td>prior</td>\n      <td>2</td>\n      <td>3</td>\n      <td>7</td>\n      <td>15.0</td>\n      <td>10258</td>\n      <td>2</td>\n      <td>0</td>\n    </tr>\n    <tr>\n      <th>2</th>\n      <td>1</td>\n      <td>2398795</td>\n      <td>1</td>\n      <td>prior</td>\n      <td>2</td>\n      <td>3</td>\n      <td>7</td>\n      <td>15.0</td>\n      <td>12427</td>\n      <td>3</td>\n      <td>1</td>\n    </tr>\n    <tr>\n      <th>3</th>\n      <td>1</td>\n      <td>2398795</td>\n      <td>1</td>\n      <td>prior</td>\n      <td>2</td>\n      <td>3</td>\n      <td>7</td>\n      <td>15.0</td>\n      <td>13176</td>\n      <td>4</td>\n      <td>0</td>\n    </tr>\n    <tr>\n      <th>4</th>\n      <td>1</td>\n      <td>2398795</td>\n      <td>1</td>\n      <td>prior</td>\n      <td>2</td>\n      <td>3</td>\n      <td>7</td>\n      <td>15.0</td>\n      <td>26088</td>\n      <td>5</td>\n      <td>1</td>\n    </tr>\n    <tr>\n      <th>...</th>\n      <td>...</td>\n      <td>...</td>\n      <td>...</td>\n      <td>...</td>\n      <td>...</td>\n      <td>...</td>\n      <td>...</td>\n      <td>...</td>\n      <td>...</td>\n      <td>...</td>\n      <td>...</td>\n    </tr>\n    <tr>\n      <th>30356416</th>\n      <td>3421081</td>\n      <td>2977660</td>\n      <td>206209</td>\n      <td>prior</td>\n      <td>13</td>\n      <td>1</td>\n      <td>12</td>\n      <td>7.0</td>\n      <td>14197</td>\n      <td>5</td>\n      <td>1</td>\n    </tr>\n    <tr>\n      <th>30356417</th>\n      <td>3421081</td>\n      <td>2977660</td>\n      <td>206209</td>\n      <td>prior</td>\n      <td>13</td>\n      <td>1</td>\n      <td>12</td>\n      <td>7.0</td>\n      <td>38730</td>\n      <td>6</td>\n      <td>0</td>\n    </tr>\n    <tr>\n      <th>30356418</th>\n      <td>3421081</td>\n      <td>2977660</td>\n      <td>206209</td>\n      <td>prior</td>\n      <td>13</td>\n      <td>1</td>\n      <td>12</td>\n      <td>7.0</td>\n      <td>31477</td>\n      <td>7</td>\n      <td>0</td>\n    </tr>\n    <tr>\n      <th>30356419</th>\n      <td>3421081</td>\n      <td>2977660</td>\n      <td>206209</td>\n      <td>prior</td>\n      <td>13</td>\n      <td>1</td>\n      <td>12</td>\n      <td>7.0</td>\n      <td>6567</td>\n      <td>8</td>\n      <td>0</td>\n    </tr>\n    <tr>\n      <th>30356420</th>\n      <td>3421081</td>\n      <td>2977660</td>\n      <td>206209</td>\n      <td>prior</td>\n      <td>13</td>\n      <td>1</td>\n      <td>12</td>\n      <td>7.0</td>\n      <td>22920</td>\n      <td>9</td>\n      <td>0</td>\n    </tr>\n  </tbody>\n</table>\n<p>30356421 rows × 11 columns</p>\n</div>"
     },
     "execution_count": 11,
     "metadata": {},
     "output_type": "execute_result"
    }
   ],
   "source": [
    "# Dropping '_merge' column before export because I will still need the column name for the next merge with df_prods\n",
    "df_merged_large.drop(columns= ['_merge'])"
   ],
   "metadata": {
    "collapsed": false,
    "ExecuteTime": {
     "end_time": "2023-10-30T16:37:56.784771100Z",
     "start_time": "2023-10-30T16:37:55.281150200Z"
    }
   },
   "id": "7b6f5b0ef45eb6d8"
  },
  {
   "cell_type": "markdown",
   "source": [
    "2.\tExport the merged file in pickle format as “orders_products_combined.pkl”."
   ],
   "metadata": {
    "collapsed": false
   },
   "id": "4fb958efff7c9b41"
  },
  {
   "cell_type": "code",
   "execution_count": 12,
   "outputs": [],
   "source": [
    "df_merged_large.to_pickle(os.path.join(path, 'Prepared data', 'orders_products_combined.pkl'))"
   ],
   "metadata": {
    "collapsed": false,
    "ExecuteTime": {
     "end_time": "2023-10-30T16:38:00.491144900Z",
     "start_time": "2023-10-30T16:37:56.771806300Z"
    }
   },
   "id": "8d959bce399c1c82"
  }
 ],
 "metadata": {
  "kernelspec": {
   "display_name": "Python 3",
   "language": "python",
   "name": "python3"
  },
  "language_info": {
   "codemirror_mode": {
    "name": "ipython",
    "version": 2
   },
   "file_extension": ".py",
   "mimetype": "text/x-python",
   "name": "python",
   "nbconvert_exporter": "python",
   "pygments_lexer": "ipython2",
   "version": "2.7.6"
  }
 },
 "nbformat": 4,
 "nbformat_minor": 5
}
