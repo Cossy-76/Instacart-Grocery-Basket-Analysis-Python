{
 "cells": [
  {
   "cell_type": "code",
   "execution_count": 1,
   "id": "initial_id",
   "metadata": {
    "collapsed": true,
    "ExecuteTime": {
     "end_time": "2023-10-18T09:08:22.538207900Z",
     "start_time": "2023-10-18T09:08:21.933829200Z"
    }
   },
   "outputs": [],
   "source": [
    "# Import libraries\n",
    "import pandas as pd\n",
    "import numpy as np\n",
    "import os\n"
   ]
  },
  {
   "cell_type": "markdown",
   "source": [
    "3.\tIn a new notebook, import the orders_products_combined dataframe from the pickle file you just saved."
   ],
   "metadata": {
    "collapsed": false
   },
   "id": "8fa13d789333da9a"
  },
  {
   "cell_type": "code",
   "execution_count": 2,
   "outputs": [],
   "source": [
    "path = r'C:\\Users\\honoc\\Documents\\CareerFoundry Folder\\Python Fundamentals for Data Analysts\\Exercise 4.3 Folder'\n",
    "path\n",
    "df_ords_combined = pd.read_pickle(os.path.join(path, 'Prepared data', 'orders_products_combined.pkl'))\n",
    "df_prods = pd.read_csv(os.path.join(path, 'Prepared data', 'products_checked.csv'), index_col = False)"
   ],
   "metadata": {
    "collapsed": false,
    "ExecuteTime": {
     "end_time": "2023-10-18T09:15:03.969621200Z",
     "start_time": "2023-10-18T09:15:02.816930800Z"
    }
   },
   "id": "c3613f67cc5aeef0"
  },
  {
   "cell_type": "markdown",
   "source": [
    "4.\tCheck the shape of the imported dataframe (it should be the same as the one you exported—always check!)."
   ],
   "metadata": {
    "collapsed": false
   },
   "id": "f8e611af8bc0ef91"
  },
  {
   "cell_type": "code",
   "execution_count": 3,
   "outputs": [
    {
     "data": {
      "text/plain": "(30356421, 10)"
     },
     "execution_count": 3,
     "metadata": {},
     "output_type": "execute_result"
    }
   ],
   "source": [
    "df_ords_combined.shape"
   ],
   "metadata": {
    "collapsed": false,
    "ExecuteTime": {
     "end_time": "2023-10-18T09:17:23.917387200Z",
     "start_time": "2023-10-18T09:17:23.867844200Z"
    }
   },
   "id": "76d9c7e32aae4c00"
  },
  {
   "cell_type": "code",
   "execution_count": 4,
   "outputs": [
    {
     "data": {
      "text/plain": "   order_id  user_id  order_number  orders_day_of_week  order_hour_of_day  \\\n0   2398795        1             2                   3                  7   \n1   2398795        1             2                   3                  7   \n2   2398795        1             2                   3                  7   \n3   2398795        1             2                   3                  7   \n4   2398795        1             2                   3                  7   \n\n   days_since_prior_order  product_id  add_to_cart_order  reordered _merge  \n0                    15.0         196                  1          1   both  \n1                    15.0       10258                  2          0   both  \n2                    15.0       12427                  3          1   both  \n3                    15.0       13176                  4          0   both  \n4                    15.0       26088                  5          1   both  ",
      "text/html": "<div>\n<style scoped>\n    .dataframe tbody tr th:only-of-type {\n        vertical-align: middle;\n    }\n\n    .dataframe tbody tr th {\n        vertical-align: top;\n    }\n\n    .dataframe thead th {\n        text-align: right;\n    }\n</style>\n<table border=\"1\" class=\"dataframe\">\n  <thead>\n    <tr style=\"text-align: right;\">\n      <th></th>\n      <th>order_id</th>\n      <th>user_id</th>\n      <th>order_number</th>\n      <th>orders_day_of_week</th>\n      <th>order_hour_of_day</th>\n      <th>days_since_prior_order</th>\n      <th>product_id</th>\n      <th>add_to_cart_order</th>\n      <th>reordered</th>\n      <th>_merge</th>\n    </tr>\n  </thead>\n  <tbody>\n    <tr>\n      <th>0</th>\n      <td>2398795</td>\n      <td>1</td>\n      <td>2</td>\n      <td>3</td>\n      <td>7</td>\n      <td>15.0</td>\n      <td>196</td>\n      <td>1</td>\n      <td>1</td>\n      <td>both</td>\n    </tr>\n    <tr>\n      <th>1</th>\n      <td>2398795</td>\n      <td>1</td>\n      <td>2</td>\n      <td>3</td>\n      <td>7</td>\n      <td>15.0</td>\n      <td>10258</td>\n      <td>2</td>\n      <td>0</td>\n      <td>both</td>\n    </tr>\n    <tr>\n      <th>2</th>\n      <td>2398795</td>\n      <td>1</td>\n      <td>2</td>\n      <td>3</td>\n      <td>7</td>\n      <td>15.0</td>\n      <td>12427</td>\n      <td>3</td>\n      <td>1</td>\n      <td>both</td>\n    </tr>\n    <tr>\n      <th>3</th>\n      <td>2398795</td>\n      <td>1</td>\n      <td>2</td>\n      <td>3</td>\n      <td>7</td>\n      <td>15.0</td>\n      <td>13176</td>\n      <td>4</td>\n      <td>0</td>\n      <td>both</td>\n    </tr>\n    <tr>\n      <th>4</th>\n      <td>2398795</td>\n      <td>1</td>\n      <td>2</td>\n      <td>3</td>\n      <td>7</td>\n      <td>15.0</td>\n      <td>26088</td>\n      <td>5</td>\n      <td>1</td>\n      <td>both</td>\n    </tr>\n  </tbody>\n</table>\n</div>"
     },
     "execution_count": 4,
     "metadata": {},
     "output_type": "execute_result"
    }
   ],
   "source": [
    "df_ords_combined.head()"
   ],
   "metadata": {
    "collapsed": false,
    "ExecuteTime": {
     "end_time": "2023-10-18T09:19:57.035418800Z",
     "start_time": "2023-10-18T09:19:57.005499700Z"
    }
   },
   "id": "706de6bb76add205"
  },
  {
   "cell_type": "code",
   "execution_count": 5,
   "outputs": [
    {
     "data": {
      "text/plain": "          order_id  user_id  order_number  orders_day_of_week  \\\n0          2398795        1             2                   3   \n1          2398795        1             2                   3   \n2          2398795        1             2                   3   \n3          2398795        1             2                   3   \n4          2398795        1             2                   3   \n...            ...      ...           ...                 ...   \n30356416   2977660   206209            13                   1   \n30356417   2977660   206209            13                   1   \n30356418   2977660   206209            13                   1   \n30356419   2977660   206209            13                   1   \n30356420   2977660   206209            13                   1   \n\n          order_hour_of_day  days_since_prior_order  product_id  \\\n0                         7                    15.0         196   \n1                         7                    15.0       10258   \n2                         7                    15.0       12427   \n3                         7                    15.0       13176   \n4                         7                    15.0       26088   \n...                     ...                     ...         ...   \n30356416                 12                     7.0       14197   \n30356417                 12                     7.0       38730   \n30356418                 12                     7.0       31477   \n30356419                 12                     7.0        6567   \n30356420                 12                     7.0       22920   \n\n          add_to_cart_order  reordered  \n0                         1          1  \n1                         2          0  \n2                         3          1  \n3                         4          0  \n4                         5          1  \n...                     ...        ...  \n30356416                  5          1  \n30356417                  6          0  \n30356418                  7          0  \n30356419                  8          0  \n30356420                  9          0  \n\n[30356421 rows x 9 columns]",
      "text/html": "<div>\n<style scoped>\n    .dataframe tbody tr th:only-of-type {\n        vertical-align: middle;\n    }\n\n    .dataframe tbody tr th {\n        vertical-align: top;\n    }\n\n    .dataframe thead th {\n        text-align: right;\n    }\n</style>\n<table border=\"1\" class=\"dataframe\">\n  <thead>\n    <tr style=\"text-align: right;\">\n      <th></th>\n      <th>order_id</th>\n      <th>user_id</th>\n      <th>order_number</th>\n      <th>orders_day_of_week</th>\n      <th>order_hour_of_day</th>\n      <th>days_since_prior_order</th>\n      <th>product_id</th>\n      <th>add_to_cart_order</th>\n      <th>reordered</th>\n    </tr>\n  </thead>\n  <tbody>\n    <tr>\n      <th>0</th>\n      <td>2398795</td>\n      <td>1</td>\n      <td>2</td>\n      <td>3</td>\n      <td>7</td>\n      <td>15.0</td>\n      <td>196</td>\n      <td>1</td>\n      <td>1</td>\n    </tr>\n    <tr>\n      <th>1</th>\n      <td>2398795</td>\n      <td>1</td>\n      <td>2</td>\n      <td>3</td>\n      <td>7</td>\n      <td>15.0</td>\n      <td>10258</td>\n      <td>2</td>\n      <td>0</td>\n    </tr>\n    <tr>\n      <th>2</th>\n      <td>2398795</td>\n      <td>1</td>\n      <td>2</td>\n      <td>3</td>\n      <td>7</td>\n      <td>15.0</td>\n      <td>12427</td>\n      <td>3</td>\n      <td>1</td>\n    </tr>\n    <tr>\n      <th>3</th>\n      <td>2398795</td>\n      <td>1</td>\n      <td>2</td>\n      <td>3</td>\n      <td>7</td>\n      <td>15.0</td>\n      <td>13176</td>\n      <td>4</td>\n      <td>0</td>\n    </tr>\n    <tr>\n      <th>4</th>\n      <td>2398795</td>\n      <td>1</td>\n      <td>2</td>\n      <td>3</td>\n      <td>7</td>\n      <td>15.0</td>\n      <td>26088</td>\n      <td>5</td>\n      <td>1</td>\n    </tr>\n    <tr>\n      <th>...</th>\n      <td>...</td>\n      <td>...</td>\n      <td>...</td>\n      <td>...</td>\n      <td>...</td>\n      <td>...</td>\n      <td>...</td>\n      <td>...</td>\n      <td>...</td>\n    </tr>\n    <tr>\n      <th>30356416</th>\n      <td>2977660</td>\n      <td>206209</td>\n      <td>13</td>\n      <td>1</td>\n      <td>12</td>\n      <td>7.0</td>\n      <td>14197</td>\n      <td>5</td>\n      <td>1</td>\n    </tr>\n    <tr>\n      <th>30356417</th>\n      <td>2977660</td>\n      <td>206209</td>\n      <td>13</td>\n      <td>1</td>\n      <td>12</td>\n      <td>7.0</td>\n      <td>38730</td>\n      <td>6</td>\n      <td>0</td>\n    </tr>\n    <tr>\n      <th>30356418</th>\n      <td>2977660</td>\n      <td>206209</td>\n      <td>13</td>\n      <td>1</td>\n      <td>12</td>\n      <td>7.0</td>\n      <td>31477</td>\n      <td>7</td>\n      <td>0</td>\n    </tr>\n    <tr>\n      <th>30356419</th>\n      <td>2977660</td>\n      <td>206209</td>\n      <td>13</td>\n      <td>1</td>\n      <td>12</td>\n      <td>7.0</td>\n      <td>6567</td>\n      <td>8</td>\n      <td>0</td>\n    </tr>\n    <tr>\n      <th>30356420</th>\n      <td>2977660</td>\n      <td>206209</td>\n      <td>13</td>\n      <td>1</td>\n      <td>12</td>\n      <td>7.0</td>\n      <td>22920</td>\n      <td>9</td>\n      <td>0</td>\n    </tr>\n  </tbody>\n</table>\n<p>30356421 rows × 9 columns</p>\n</div>"
     },
     "execution_count": 5,
     "metadata": {},
     "output_type": "execute_result"
    }
   ],
   "source": [
    "# Dropping '_merge' column as it will be a problem with running match counts during merger with df_prods\n",
    "df_ords_combined.drop(columns= ['_merge'])"
   ],
   "metadata": {
    "collapsed": false,
    "ExecuteTime": {
     "end_time": "2023-10-18T09:23:47.969599300Z",
     "start_time": "2023-10-18T09:23:46.846242300Z"
    }
   },
   "id": "bbdc3b7713fbf504"
  },
  {
   "cell_type": "code",
   "execution_count": 6,
   "outputs": [
    {
     "data": {
      "text/plain": "   Unnamed: 0  product_id                                       product_name  \\\n0           0           1                         Chocolate Sandwich Cookies   \n1           1           2                                   All-Seasons Salt   \n2           2           3               Robust Golden Unsweetened Oolong Tea   \n3           3           4  Smart Ones Classic Favorites Mini Rigatoni Wit...   \n4           4           5                          Green Chile Anytime Sauce   \n\n   aisle_id  department_id  prices  \n0        61             19     5.8  \n1       104             13     9.3  \n2        94              7     4.5  \n3        38              1    10.5  \n4         5             13     4.3  ",
      "text/html": "<div>\n<style scoped>\n    .dataframe tbody tr th:only-of-type {\n        vertical-align: middle;\n    }\n\n    .dataframe tbody tr th {\n        vertical-align: top;\n    }\n\n    .dataframe thead th {\n        text-align: right;\n    }\n</style>\n<table border=\"1\" class=\"dataframe\">\n  <thead>\n    <tr style=\"text-align: right;\">\n      <th></th>\n      <th>Unnamed: 0</th>\n      <th>product_id</th>\n      <th>product_name</th>\n      <th>aisle_id</th>\n      <th>department_id</th>\n      <th>prices</th>\n    </tr>\n  </thead>\n  <tbody>\n    <tr>\n      <th>0</th>\n      <td>0</td>\n      <td>1</td>\n      <td>Chocolate Sandwich Cookies</td>\n      <td>61</td>\n      <td>19</td>\n      <td>5.8</td>\n    </tr>\n    <tr>\n      <th>1</th>\n      <td>1</td>\n      <td>2</td>\n      <td>All-Seasons Salt</td>\n      <td>104</td>\n      <td>13</td>\n      <td>9.3</td>\n    </tr>\n    <tr>\n      <th>2</th>\n      <td>2</td>\n      <td>3</td>\n      <td>Robust Golden Unsweetened Oolong Tea</td>\n      <td>94</td>\n      <td>7</td>\n      <td>4.5</td>\n    </tr>\n    <tr>\n      <th>3</th>\n      <td>3</td>\n      <td>4</td>\n      <td>Smart Ones Classic Favorites Mini Rigatoni Wit...</td>\n      <td>38</td>\n      <td>1</td>\n      <td>10.5</td>\n    </tr>\n    <tr>\n      <th>4</th>\n      <td>4</td>\n      <td>5</td>\n      <td>Green Chile Anytime Sauce</td>\n      <td>5</td>\n      <td>13</td>\n      <td>4.3</td>\n    </tr>\n  </tbody>\n</table>\n</div>"
     },
     "execution_count": 6,
     "metadata": {},
     "output_type": "execute_result"
    }
   ],
   "source": [
    "df_prods.head()"
   ],
   "metadata": {
    "collapsed": false,
    "ExecuteTime": {
     "end_time": "2023-10-18T09:25:33.536143200Z",
     "start_time": "2023-10-18T09:25:33.473936300Z"
    }
   },
   "id": "cc9718242c730ca7"
  },
  {
   "cell_type": "code",
   "execution_count": 7,
   "outputs": [
    {
     "data": {
      "text/plain": "       product_id                                       product_name  \\\n0               1                         Chocolate Sandwich Cookies   \n1               2                                   All-Seasons Salt   \n2               3               Robust Golden Unsweetened Oolong Tea   \n3               4  Smart Ones Classic Favorites Mini Rigatoni Wit...   \n4               5                          Green Chile Anytime Sauce   \n...           ...                                                ...   \n49667       49684          Vodka, Triple Distilled, Twist of Vanilla   \n49668       49685                 En Croute Roast Hazelnut Cranberry   \n49669       49686                                   Artisan Baguette   \n49670       49687         Smartblend Healthy Metabolism Dry Cat Food   \n49671       49688                             Fresh Foaming Cleanser   \n\n       aisle_id  department_id  prices  \n0            61             19     5.8  \n1           104             13     9.3  \n2            94              7     4.5  \n3            38              1    10.5  \n4             5             13     4.3  \n...         ...            ...     ...  \n49667       124              5     5.3  \n49668        42              1     3.1  \n49669       112              3     7.8  \n49670        41              8     4.7  \n49671        73             11    13.5  \n\n[49672 rows x 5 columns]",
      "text/html": "<div>\n<style scoped>\n    .dataframe tbody tr th:only-of-type {\n        vertical-align: middle;\n    }\n\n    .dataframe tbody tr th {\n        vertical-align: top;\n    }\n\n    .dataframe thead th {\n        text-align: right;\n    }\n</style>\n<table border=\"1\" class=\"dataframe\">\n  <thead>\n    <tr style=\"text-align: right;\">\n      <th></th>\n      <th>product_id</th>\n      <th>product_name</th>\n      <th>aisle_id</th>\n      <th>department_id</th>\n      <th>prices</th>\n    </tr>\n  </thead>\n  <tbody>\n    <tr>\n      <th>0</th>\n      <td>1</td>\n      <td>Chocolate Sandwich Cookies</td>\n      <td>61</td>\n      <td>19</td>\n      <td>5.8</td>\n    </tr>\n    <tr>\n      <th>1</th>\n      <td>2</td>\n      <td>All-Seasons Salt</td>\n      <td>104</td>\n      <td>13</td>\n      <td>9.3</td>\n    </tr>\n    <tr>\n      <th>2</th>\n      <td>3</td>\n      <td>Robust Golden Unsweetened Oolong Tea</td>\n      <td>94</td>\n      <td>7</td>\n      <td>4.5</td>\n    </tr>\n    <tr>\n      <th>3</th>\n      <td>4</td>\n      <td>Smart Ones Classic Favorites Mini Rigatoni Wit...</td>\n      <td>38</td>\n      <td>1</td>\n      <td>10.5</td>\n    </tr>\n    <tr>\n      <th>4</th>\n      <td>5</td>\n      <td>Green Chile Anytime Sauce</td>\n      <td>5</td>\n      <td>13</td>\n      <td>4.3</td>\n    </tr>\n    <tr>\n      <th>...</th>\n      <td>...</td>\n      <td>...</td>\n      <td>...</td>\n      <td>...</td>\n      <td>...</td>\n    </tr>\n    <tr>\n      <th>49667</th>\n      <td>49684</td>\n      <td>Vodka, Triple Distilled, Twist of Vanilla</td>\n      <td>124</td>\n      <td>5</td>\n      <td>5.3</td>\n    </tr>\n    <tr>\n      <th>49668</th>\n      <td>49685</td>\n      <td>En Croute Roast Hazelnut Cranberry</td>\n      <td>42</td>\n      <td>1</td>\n      <td>3.1</td>\n    </tr>\n    <tr>\n      <th>49669</th>\n      <td>49686</td>\n      <td>Artisan Baguette</td>\n      <td>112</td>\n      <td>3</td>\n      <td>7.8</td>\n    </tr>\n    <tr>\n      <th>49670</th>\n      <td>49687</td>\n      <td>Smartblend Healthy Metabolism Dry Cat Food</td>\n      <td>41</td>\n      <td>8</td>\n      <td>4.7</td>\n    </tr>\n    <tr>\n      <th>49671</th>\n      <td>49688</td>\n      <td>Fresh Foaming Cleanser</td>\n      <td>73</td>\n      <td>11</td>\n      <td>13.5</td>\n    </tr>\n  </tbody>\n</table>\n<p>49672 rows × 5 columns</p>\n</div>"
     },
     "execution_count": 7,
     "metadata": {},
     "output_type": "execute_result"
    }
   ],
   "source": [
    "# Dropping 'unnamed' column to avoid duplication of index numbers\n",
    "df_prods.drop(columns= ['Unnamed: 0'])"
   ],
   "metadata": {
    "collapsed": false,
    "ExecuteTime": {
     "end_time": "2023-10-18T09:27:24.369648Z",
     "start_time": "2023-10-18T09:27:24.333639400Z"
    }
   },
   "id": "c7ac4024363de919"
  },
  {
   "cell_type": "code",
   "execution_count": 8,
   "outputs": [
    {
     "data": {
      "text/plain": "(49672, 6)"
     },
     "execution_count": 8,
     "metadata": {},
     "output_type": "execute_result"
    }
   ],
   "source": [
    "df_prods.shape"
   ],
   "metadata": {
    "collapsed": false,
    "ExecuteTime": {
     "end_time": "2023-10-18T09:27:52.810179400Z",
     "start_time": "2023-10-18T09:27:52.796216100Z"
    }
   },
   "id": "62edf693c6c5f21a"
  },
  {
   "cell_type": "markdown",
   "source": [
    "5.\tDetermine a suitable way to combine the orders_products_combined dataframe with your products data set. Make sure you’re using your wrangled, cleaned, and deduped products data set stored in your “Prepared Data” folder from the previous Exercise’s task."
   ],
   "metadata": {
    "collapsed": false
   },
   "id": "7a8a282ec2715ba4"
  },
  {
   "cell_type": "code",
   "execution_count": 10,
   "outputs": [],
   "source": [
    "df_ords_prods_merged = df_prods.merge(df_ords_combined, on= 'product_id')"
   ],
   "metadata": {
    "collapsed": false,
    "ExecuteTime": {
     "end_time": "2023-10-18T09:40:16.134928700Z",
     "start_time": "2023-10-18T09:40:05.240906200Z"
    }
   },
   "id": "e71e8ad8bb9abdbc"
  },
  {
   "cell_type": "code",
   "execution_count": 12,
   "outputs": [
    {
     "data": {
      "text/plain": "          Unnamed: 0  product_id                product_name  aisle_id  \\\n0                  0           1  Chocolate Sandwich Cookies        61   \n1                  0           1  Chocolate Sandwich Cookies        61   \n2                  0           1  Chocolate Sandwich Cookies        61   \n3                  0           1  Chocolate Sandwich Cookies        61   \n4                  0           1  Chocolate Sandwich Cookies        61   \n...              ...         ...                         ...       ...   \n30328758       49692       49688      Fresh Foaming Cleanser        73   \n30328759       49692       49688      Fresh Foaming Cleanser        73   \n30328760       49692       49688      Fresh Foaming Cleanser        73   \n30328761       49692       49688      Fresh Foaming Cleanser        73   \n30328762       49692       49688      Fresh Foaming Cleanser        73   \n\n          department_id  prices  order_id  user_id  order_number  \\\n0                    19     5.8   3139998      138            28   \n1                    19     5.8   1977647      138            30   \n2                    19     5.8    389851      709             2   \n3                    19     5.8   1813452      764             3   \n4                    19     5.8   1701441      777            16   \n...                 ...     ...       ...      ...           ...   \n30328758             11    13.5   3106363   197371            10   \n30328759             11    13.5   1788356   200215             2   \n30328760             11    13.5    809510   200873             5   \n30328761             11    13.5   2359893   200873             9   \n30328762             11    13.5   2385091   205926            11   \n\n          orders_day_of_week  order_hour_of_day  days_since_prior_order  \\\n0                          6                 11                     3.0   \n1                          6                 17                    20.0   \n2                          0                 21                     6.0   \n3                          4                 17                     9.0   \n4                          1                  7                    26.0   \n...                      ...                ...                     ...   \n30328758                   4                 14                    30.0   \n30328759                   0                  9                     5.0   \n30328760                   3                  8                    15.0   \n30328761                   3                 15                     5.0   \n30328762                   1                 15                     6.0   \n\n          add_to_cart_order  reordered _merge  \n0                         5          0   both  \n1                         1          1   both  \n2                        20          0   both  \n3                        11          1   both  \n4                         7          0   both  \n...                     ...        ...    ...  \n30328758                 17          0   both  \n30328759                 27          0   both  \n30328760                 12          0   both  \n30328761                 11          1   both  \n30328762                 35          0   both  \n\n[30328763 rows x 15 columns]",
      "text/html": "<div>\n<style scoped>\n    .dataframe tbody tr th:only-of-type {\n        vertical-align: middle;\n    }\n\n    .dataframe tbody tr th {\n        vertical-align: top;\n    }\n\n    .dataframe thead th {\n        text-align: right;\n    }\n</style>\n<table border=\"1\" class=\"dataframe\">\n  <thead>\n    <tr style=\"text-align: right;\">\n      <th></th>\n      <th>Unnamed: 0</th>\n      <th>product_id</th>\n      <th>product_name</th>\n      <th>aisle_id</th>\n      <th>department_id</th>\n      <th>prices</th>\n      <th>order_id</th>\n      <th>user_id</th>\n      <th>order_number</th>\n      <th>orders_day_of_week</th>\n      <th>order_hour_of_day</th>\n      <th>days_since_prior_order</th>\n      <th>add_to_cart_order</th>\n      <th>reordered</th>\n      <th>_merge</th>\n    </tr>\n  </thead>\n  <tbody>\n    <tr>\n      <th>0</th>\n      <td>0</td>\n      <td>1</td>\n      <td>Chocolate Sandwich Cookies</td>\n      <td>61</td>\n      <td>19</td>\n      <td>5.8</td>\n      <td>3139998</td>\n      <td>138</td>\n      <td>28</td>\n      <td>6</td>\n      <td>11</td>\n      <td>3.0</td>\n      <td>5</td>\n      <td>0</td>\n      <td>both</td>\n    </tr>\n    <tr>\n      <th>1</th>\n      <td>0</td>\n      <td>1</td>\n      <td>Chocolate Sandwich Cookies</td>\n      <td>61</td>\n      <td>19</td>\n      <td>5.8</td>\n      <td>1977647</td>\n      <td>138</td>\n      <td>30</td>\n      <td>6</td>\n      <td>17</td>\n      <td>20.0</td>\n      <td>1</td>\n      <td>1</td>\n      <td>both</td>\n    </tr>\n    <tr>\n      <th>2</th>\n      <td>0</td>\n      <td>1</td>\n      <td>Chocolate Sandwich Cookies</td>\n      <td>61</td>\n      <td>19</td>\n      <td>5.8</td>\n      <td>389851</td>\n      <td>709</td>\n      <td>2</td>\n      <td>0</td>\n      <td>21</td>\n      <td>6.0</td>\n      <td>20</td>\n      <td>0</td>\n      <td>both</td>\n    </tr>\n    <tr>\n      <th>3</th>\n      <td>0</td>\n      <td>1</td>\n      <td>Chocolate Sandwich Cookies</td>\n      <td>61</td>\n      <td>19</td>\n      <td>5.8</td>\n      <td>1813452</td>\n      <td>764</td>\n      <td>3</td>\n      <td>4</td>\n      <td>17</td>\n      <td>9.0</td>\n      <td>11</td>\n      <td>1</td>\n      <td>both</td>\n    </tr>\n    <tr>\n      <th>4</th>\n      <td>0</td>\n      <td>1</td>\n      <td>Chocolate Sandwich Cookies</td>\n      <td>61</td>\n      <td>19</td>\n      <td>5.8</td>\n      <td>1701441</td>\n      <td>777</td>\n      <td>16</td>\n      <td>1</td>\n      <td>7</td>\n      <td>26.0</td>\n      <td>7</td>\n      <td>0</td>\n      <td>both</td>\n    </tr>\n    <tr>\n      <th>...</th>\n      <td>...</td>\n      <td>...</td>\n      <td>...</td>\n      <td>...</td>\n      <td>...</td>\n      <td>...</td>\n      <td>...</td>\n      <td>...</td>\n      <td>...</td>\n      <td>...</td>\n      <td>...</td>\n      <td>...</td>\n      <td>...</td>\n      <td>...</td>\n      <td>...</td>\n    </tr>\n    <tr>\n      <th>30328758</th>\n      <td>49692</td>\n      <td>49688</td>\n      <td>Fresh Foaming Cleanser</td>\n      <td>73</td>\n      <td>11</td>\n      <td>13.5</td>\n      <td>3106363</td>\n      <td>197371</td>\n      <td>10</td>\n      <td>4</td>\n      <td>14</td>\n      <td>30.0</td>\n      <td>17</td>\n      <td>0</td>\n      <td>both</td>\n    </tr>\n    <tr>\n      <th>30328759</th>\n      <td>49692</td>\n      <td>49688</td>\n      <td>Fresh Foaming Cleanser</td>\n      <td>73</td>\n      <td>11</td>\n      <td>13.5</td>\n      <td>1788356</td>\n      <td>200215</td>\n      <td>2</td>\n      <td>0</td>\n      <td>9</td>\n      <td>5.0</td>\n      <td>27</td>\n      <td>0</td>\n      <td>both</td>\n    </tr>\n    <tr>\n      <th>30328760</th>\n      <td>49692</td>\n      <td>49688</td>\n      <td>Fresh Foaming Cleanser</td>\n      <td>73</td>\n      <td>11</td>\n      <td>13.5</td>\n      <td>809510</td>\n      <td>200873</td>\n      <td>5</td>\n      <td>3</td>\n      <td>8</td>\n      <td>15.0</td>\n      <td>12</td>\n      <td>0</td>\n      <td>both</td>\n    </tr>\n    <tr>\n      <th>30328761</th>\n      <td>49692</td>\n      <td>49688</td>\n      <td>Fresh Foaming Cleanser</td>\n      <td>73</td>\n      <td>11</td>\n      <td>13.5</td>\n      <td>2359893</td>\n      <td>200873</td>\n      <td>9</td>\n      <td>3</td>\n      <td>15</td>\n      <td>5.0</td>\n      <td>11</td>\n      <td>1</td>\n      <td>both</td>\n    </tr>\n    <tr>\n      <th>30328762</th>\n      <td>49692</td>\n      <td>49688</td>\n      <td>Fresh Foaming Cleanser</td>\n      <td>73</td>\n      <td>11</td>\n      <td>13.5</td>\n      <td>2385091</td>\n      <td>205926</td>\n      <td>11</td>\n      <td>1</td>\n      <td>15</td>\n      <td>6.0</td>\n      <td>35</td>\n      <td>0</td>\n      <td>both</td>\n    </tr>\n  </tbody>\n</table>\n<p>30328763 rows × 15 columns</p>\n</div>"
     },
     "execution_count": 12,
     "metadata": {},
     "output_type": "execute_result"
    }
   ],
   "source": [
    "pd.merge(df_prods,df_ords_combined, on= 'product_id', indicator= False)"
   ],
   "metadata": {
    "collapsed": false,
    "ExecuteTime": {
     "end_time": "2023-10-18T09:44:56.514455800Z",
     "start_time": "2023-10-18T09:44:44.596900400Z"
    }
   },
   "id": "65e1e8d5b077f1aa"
  },
  {
   "cell_type": "markdown",
   "source": [
    "6.\tConfirm the results of the merge using the merge flag."
   ],
   "metadata": {
    "collapsed": false
   },
   "id": "c4113248baef706e"
  },
  {
   "cell_type": "code",
   "execution_count": 13,
   "outputs": [
    {
     "data": {
      "text/plain": "_merge\nboth          30328763\nleft_only            0\nright_only           0\nName: count, dtype: int64"
     },
     "execution_count": 13,
     "metadata": {},
     "output_type": "execute_result"
    }
   ],
   "source": [
    "df_ords_prods_merged['_merge'].value_counts()"
   ],
   "metadata": {
    "collapsed": false,
    "ExecuteTime": {
     "end_time": "2023-10-18T09:48:43.990933800Z",
     "start_time": "2023-10-18T09:48:43.754570100Z"
    }
   },
   "id": "462d794d0aefcc63"
  },
  {
   "cell_type": "code",
   "execution_count": 15,
   "outputs": [
    {
     "data": {
      "text/plain": "          product_id                product_name  aisle_id  department_id  \\\n0                  1  Chocolate Sandwich Cookies        61             19   \n1                  1  Chocolate Sandwich Cookies        61             19   \n2                  1  Chocolate Sandwich Cookies        61             19   \n3                  1  Chocolate Sandwich Cookies        61             19   \n4                  1  Chocolate Sandwich Cookies        61             19   \n...              ...                         ...       ...            ...   \n30328758       49688      Fresh Foaming Cleanser        73             11   \n30328759       49688      Fresh Foaming Cleanser        73             11   \n30328760       49688      Fresh Foaming Cleanser        73             11   \n30328761       49688      Fresh Foaming Cleanser        73             11   \n30328762       49688      Fresh Foaming Cleanser        73             11   \n\n          prices  order_id  user_id  order_number  orders_day_of_week  \\\n0            5.8   3139998      138            28                   6   \n1            5.8   1977647      138            30                   6   \n2            5.8    389851      709             2                   0   \n3            5.8   1813452      764             3                   4   \n4            5.8   1701441      777            16                   1   \n...          ...       ...      ...           ...                 ...   \n30328758    13.5   3106363   197371            10                   4   \n30328759    13.5   1788356   200215             2                   0   \n30328760    13.5    809510   200873             5                   3   \n30328761    13.5   2359893   200873             9                   3   \n30328762    13.5   2385091   205926            11                   1   \n\n          order_hour_of_day  days_since_prior_order  add_to_cart_order  \\\n0                        11                     3.0                  5   \n1                        17                    20.0                  1   \n2                        21                     6.0                 20   \n3                        17                     9.0                 11   \n4                         7                    26.0                  7   \n...                     ...                     ...                ...   \n30328758                 14                    30.0                 17   \n30328759                  9                     5.0                 27   \n30328760                  8                    15.0                 12   \n30328761                 15                     5.0                 11   \n30328762                 15                     6.0                 35   \n\n          reordered _merge  \n0                 0   both  \n1                 1   both  \n2                 0   both  \n3                 1   both  \n4                 0   both  \n...             ...    ...  \n30328758          0   both  \n30328759          0   both  \n30328760          0   both  \n30328761          1   both  \n30328762          0   both  \n\n[30328763 rows x 14 columns]",
      "text/html": "<div>\n<style scoped>\n    .dataframe tbody tr th:only-of-type {\n        vertical-align: middle;\n    }\n\n    .dataframe tbody tr th {\n        vertical-align: top;\n    }\n\n    .dataframe thead th {\n        text-align: right;\n    }\n</style>\n<table border=\"1\" class=\"dataframe\">\n  <thead>\n    <tr style=\"text-align: right;\">\n      <th></th>\n      <th>product_id</th>\n      <th>product_name</th>\n      <th>aisle_id</th>\n      <th>department_id</th>\n      <th>prices</th>\n      <th>order_id</th>\n      <th>user_id</th>\n      <th>order_number</th>\n      <th>orders_day_of_week</th>\n      <th>order_hour_of_day</th>\n      <th>days_since_prior_order</th>\n      <th>add_to_cart_order</th>\n      <th>reordered</th>\n      <th>_merge</th>\n    </tr>\n  </thead>\n  <tbody>\n    <tr>\n      <th>0</th>\n      <td>1</td>\n      <td>Chocolate Sandwich Cookies</td>\n      <td>61</td>\n      <td>19</td>\n      <td>5.8</td>\n      <td>3139998</td>\n      <td>138</td>\n      <td>28</td>\n      <td>6</td>\n      <td>11</td>\n      <td>3.0</td>\n      <td>5</td>\n      <td>0</td>\n      <td>both</td>\n    </tr>\n    <tr>\n      <th>1</th>\n      <td>1</td>\n      <td>Chocolate Sandwich Cookies</td>\n      <td>61</td>\n      <td>19</td>\n      <td>5.8</td>\n      <td>1977647</td>\n      <td>138</td>\n      <td>30</td>\n      <td>6</td>\n      <td>17</td>\n      <td>20.0</td>\n      <td>1</td>\n      <td>1</td>\n      <td>both</td>\n    </tr>\n    <tr>\n      <th>2</th>\n      <td>1</td>\n      <td>Chocolate Sandwich Cookies</td>\n      <td>61</td>\n      <td>19</td>\n      <td>5.8</td>\n      <td>389851</td>\n      <td>709</td>\n      <td>2</td>\n      <td>0</td>\n      <td>21</td>\n      <td>6.0</td>\n      <td>20</td>\n      <td>0</td>\n      <td>both</td>\n    </tr>\n    <tr>\n      <th>3</th>\n      <td>1</td>\n      <td>Chocolate Sandwich Cookies</td>\n      <td>61</td>\n      <td>19</td>\n      <td>5.8</td>\n      <td>1813452</td>\n      <td>764</td>\n      <td>3</td>\n      <td>4</td>\n      <td>17</td>\n      <td>9.0</td>\n      <td>11</td>\n      <td>1</td>\n      <td>both</td>\n    </tr>\n    <tr>\n      <th>4</th>\n      <td>1</td>\n      <td>Chocolate Sandwich Cookies</td>\n      <td>61</td>\n      <td>19</td>\n      <td>5.8</td>\n      <td>1701441</td>\n      <td>777</td>\n      <td>16</td>\n      <td>1</td>\n      <td>7</td>\n      <td>26.0</td>\n      <td>7</td>\n      <td>0</td>\n      <td>both</td>\n    </tr>\n    <tr>\n      <th>...</th>\n      <td>...</td>\n      <td>...</td>\n      <td>...</td>\n      <td>...</td>\n      <td>...</td>\n      <td>...</td>\n      <td>...</td>\n      <td>...</td>\n      <td>...</td>\n      <td>...</td>\n      <td>...</td>\n      <td>...</td>\n      <td>...</td>\n      <td>...</td>\n    </tr>\n    <tr>\n      <th>30328758</th>\n      <td>49688</td>\n      <td>Fresh Foaming Cleanser</td>\n      <td>73</td>\n      <td>11</td>\n      <td>13.5</td>\n      <td>3106363</td>\n      <td>197371</td>\n      <td>10</td>\n      <td>4</td>\n      <td>14</td>\n      <td>30.0</td>\n      <td>17</td>\n      <td>0</td>\n      <td>both</td>\n    </tr>\n    <tr>\n      <th>30328759</th>\n      <td>49688</td>\n      <td>Fresh Foaming Cleanser</td>\n      <td>73</td>\n      <td>11</td>\n      <td>13.5</td>\n      <td>1788356</td>\n      <td>200215</td>\n      <td>2</td>\n      <td>0</td>\n      <td>9</td>\n      <td>5.0</td>\n      <td>27</td>\n      <td>0</td>\n      <td>both</td>\n    </tr>\n    <tr>\n      <th>30328760</th>\n      <td>49688</td>\n      <td>Fresh Foaming Cleanser</td>\n      <td>73</td>\n      <td>11</td>\n      <td>13.5</td>\n      <td>809510</td>\n      <td>200873</td>\n      <td>5</td>\n      <td>3</td>\n      <td>8</td>\n      <td>15.0</td>\n      <td>12</td>\n      <td>0</td>\n      <td>both</td>\n    </tr>\n    <tr>\n      <th>30328761</th>\n      <td>49688</td>\n      <td>Fresh Foaming Cleanser</td>\n      <td>73</td>\n      <td>11</td>\n      <td>13.5</td>\n      <td>2359893</td>\n      <td>200873</td>\n      <td>9</td>\n      <td>3</td>\n      <td>15</td>\n      <td>5.0</td>\n      <td>11</td>\n      <td>1</td>\n      <td>both</td>\n    </tr>\n    <tr>\n      <th>30328762</th>\n      <td>49688</td>\n      <td>Fresh Foaming Cleanser</td>\n      <td>73</td>\n      <td>11</td>\n      <td>13.5</td>\n      <td>2385091</td>\n      <td>205926</td>\n      <td>11</td>\n      <td>1</td>\n      <td>15</td>\n      <td>6.0</td>\n      <td>35</td>\n      <td>0</td>\n      <td>both</td>\n    </tr>\n  </tbody>\n</table>\n<p>30328763 rows × 14 columns</p>\n</div>"
     },
     "execution_count": 15,
     "metadata": {},
     "output_type": "execute_result"
    }
   ],
   "source": [
    "df_ords_prods_merged.drop(columns= ['Unnamed: 0'])"
   ],
   "metadata": {
    "collapsed": false,
    "ExecuteTime": {
     "end_time": "2023-10-18T09:56:03.537956800Z",
     "start_time": "2023-10-18T09:56:03.085908Z"
    }
   },
   "id": "d178bcd2427d41bb"
  },
  {
   "cell_type": "code",
   "execution_count": 16,
   "outputs": [
    {
     "data": {
      "text/plain": "(30328763, 15)"
     },
     "execution_count": 16,
     "metadata": {},
     "output_type": "execute_result"
    }
   ],
   "source": [
    "df_ords_prods_merged.shape"
   ],
   "metadata": {
    "collapsed": false,
    "ExecuteTime": {
     "end_time": "2023-10-18T09:57:00.135309900Z",
     "start_time": "2023-10-18T09:57:00.046938300Z"
    }
   },
   "id": "68527a0b3665250"
  },
  {
   "cell_type": "markdown",
   "source": [
    "7.\tExport the newly created dataframe as orders_products_merged in a suitable format (taking into consideration the size)."
   ],
   "metadata": {
    "collapsed": false
   },
   "id": "35a743af0702e268"
  },
  {
   "cell_type": "code",
   "execution_count": 17,
   "outputs": [],
   "source": [
    "df_ords_prods_merged.to_pickle(os.path.join(path, 'Prepared data', 'orders_products_merged.pkl'))"
   ],
   "metadata": {
    "collapsed": false,
    "ExecuteTime": {
     "end_time": "2023-10-18T10:12:30.204132100Z",
     "start_time": "2023-10-18T10:12:25.165292500Z"
    }
   },
   "id": "2c99d5cb266ad0e7"
  }
 ],
 "metadata": {
  "kernelspec": {
   "display_name": "Python 3",
   "language": "python",
   "name": "python3"
  },
  "language_info": {
   "codemirror_mode": {
    "name": "ipython",
    "version": 2
   },
   "file_extension": ".py",
   "mimetype": "text/x-python",
   "name": "python",
   "nbconvert_exporter": "python",
   "pygments_lexer": "ipython2",
   "version": "2.7.6"
  }
 },
 "nbformat": 4,
 "nbformat_minor": 5
}
