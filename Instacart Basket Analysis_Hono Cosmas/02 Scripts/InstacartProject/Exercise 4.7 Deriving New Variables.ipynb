{
 "cells": [
  {
   "cell_type": "code",
   "execution_count": 1,
   "id": "initial_id",
   "metadata": {
    "collapsed": true,
    "ExecuteTime": {
     "end_time": "2023-10-20T10:34:47.506262100Z",
     "start_time": "2023-10-20T10:34:46.916838200Z"
    }
   },
   "outputs": [],
   "source": [
    "# Import libraries\n",
    "import pandas as pd\n",
    "import numpy as np\n",
    "import os\n"
   ]
  },
  {
   "cell_type": "code",
   "execution_count": 2,
   "outputs": [],
   "source": [
    "path = r'C:\\Users\\honoc\\Documents\\CareerFoundry Folder\\Python Fundamentals for Data Analysts\\Exercise 4.3 Folder'\n",
    "path\n",
    "df_ords_prods_merged = pd.read_pickle(os.path.join(path, 'Prepared data', 'orders_products_merged.pkl'))"
   ],
   "metadata": {
    "collapsed": false,
    "ExecuteTime": {
     "end_time": "2023-10-20T10:34:51.958551600Z",
     "start_time": "2023-10-20T10:34:47.505264600Z"
    }
   },
   "id": "93828dce3c07a437"
  },
  {
   "cell_type": "code",
   "execution_count": 3,
   "outputs": [
    {
     "data": {
      "text/plain": "   Unnamed: 0  product_id                product_name  aisle_id  \\\n0           0           1  Chocolate Sandwich Cookies        61   \n1           0           1  Chocolate Sandwich Cookies        61   \n2           0           1  Chocolate Sandwich Cookies        61   \n3           0           1  Chocolate Sandwich Cookies        61   \n4           0           1  Chocolate Sandwich Cookies        61   \n\n   department_id  prices  order_id  user_id  order_number  orders_day_of_week  \\\n0             19     5.8   3139998      138            28                   6   \n1             19     5.8   1977647      138            30                   6   \n2             19     5.8    389851      709             2                   0   \n3             19     5.8   1813452      764             3                   4   \n4             19     5.8   1701441      777            16                   1   \n\n   order_hour_of_day  days_since_prior_order  add_to_cart_order  reordered  \\\n0                 11                     3.0                  5          0   \n1                 17                    20.0                  1          1   \n2                 21                     6.0                 20          0   \n3                 17                     9.0                 11          1   \n4                  7                    26.0                  7          0   \n\n  _merge  \n0   both  \n1   both  \n2   both  \n3   both  \n4   both  ",
      "text/html": "<div>\n<style scoped>\n    .dataframe tbody tr th:only-of-type {\n        vertical-align: middle;\n    }\n\n    .dataframe tbody tr th {\n        vertical-align: top;\n    }\n\n    .dataframe thead th {\n        text-align: right;\n    }\n</style>\n<table border=\"1\" class=\"dataframe\">\n  <thead>\n    <tr style=\"text-align: right;\">\n      <th></th>\n      <th>Unnamed: 0</th>\n      <th>product_id</th>\n      <th>product_name</th>\n      <th>aisle_id</th>\n      <th>department_id</th>\n      <th>prices</th>\n      <th>order_id</th>\n      <th>user_id</th>\n      <th>order_number</th>\n      <th>orders_day_of_week</th>\n      <th>order_hour_of_day</th>\n      <th>days_since_prior_order</th>\n      <th>add_to_cart_order</th>\n      <th>reordered</th>\n      <th>_merge</th>\n    </tr>\n  </thead>\n  <tbody>\n    <tr>\n      <th>0</th>\n      <td>0</td>\n      <td>1</td>\n      <td>Chocolate Sandwich Cookies</td>\n      <td>61</td>\n      <td>19</td>\n      <td>5.8</td>\n      <td>3139998</td>\n      <td>138</td>\n      <td>28</td>\n      <td>6</td>\n      <td>11</td>\n      <td>3.0</td>\n      <td>5</td>\n      <td>0</td>\n      <td>both</td>\n    </tr>\n    <tr>\n      <th>1</th>\n      <td>0</td>\n      <td>1</td>\n      <td>Chocolate Sandwich Cookies</td>\n      <td>61</td>\n      <td>19</td>\n      <td>5.8</td>\n      <td>1977647</td>\n      <td>138</td>\n      <td>30</td>\n      <td>6</td>\n      <td>17</td>\n      <td>20.0</td>\n      <td>1</td>\n      <td>1</td>\n      <td>both</td>\n    </tr>\n    <tr>\n      <th>2</th>\n      <td>0</td>\n      <td>1</td>\n      <td>Chocolate Sandwich Cookies</td>\n      <td>61</td>\n      <td>19</td>\n      <td>5.8</td>\n      <td>389851</td>\n      <td>709</td>\n      <td>2</td>\n      <td>0</td>\n      <td>21</td>\n      <td>6.0</td>\n      <td>20</td>\n      <td>0</td>\n      <td>both</td>\n    </tr>\n    <tr>\n      <th>3</th>\n      <td>0</td>\n      <td>1</td>\n      <td>Chocolate Sandwich Cookies</td>\n      <td>61</td>\n      <td>19</td>\n      <td>5.8</td>\n      <td>1813452</td>\n      <td>764</td>\n      <td>3</td>\n      <td>4</td>\n      <td>17</td>\n      <td>9.0</td>\n      <td>11</td>\n      <td>1</td>\n      <td>both</td>\n    </tr>\n    <tr>\n      <th>4</th>\n      <td>0</td>\n      <td>1</td>\n      <td>Chocolate Sandwich Cookies</td>\n      <td>61</td>\n      <td>19</td>\n      <td>5.8</td>\n      <td>1701441</td>\n      <td>777</td>\n      <td>16</td>\n      <td>1</td>\n      <td>7</td>\n      <td>26.0</td>\n      <td>7</td>\n      <td>0</td>\n      <td>both</td>\n    </tr>\n  </tbody>\n</table>\n</div>"
     },
     "execution_count": 3,
     "metadata": {},
     "output_type": "execute_result"
    }
   ],
   "source": [
    "df_ords_prods_merged.head()"
   ],
   "metadata": {
    "collapsed": false,
    "ExecuteTime": {
     "end_time": "2023-10-20T10:34:52.015399700Z",
     "start_time": "2023-10-20T10:34:51.960546300Z"
    }
   },
   "id": "8f1aa178bcfebf04"
  },
  {
   "cell_type": "code",
   "execution_count": 4,
   "outputs": [],
   "source": [
    "# Dropping columns = [\"Unnamed\", \"_merge\"] from dataframe\n",
    "columns_to_remove = [\"Unnamed: 0\", \"_merge\"]\n",
    "df_ords_prods_merged = df_ords_prods_merged.drop(columns= columns_to_remove)"
   ],
   "metadata": {
    "collapsed": false,
    "ExecuteTime": {
     "end_time": "2023-10-20T10:34:53.653474800Z",
     "start_time": "2023-10-20T10:34:52.005424700Z"
    }
   },
   "id": "86b46303427b3315"
  },
  {
   "cell_type": "code",
   "execution_count": 5,
   "outputs": [
    {
     "data": {
      "text/plain": "          product_id                product_name  aisle_id  department_id  \\\n0                  1  Chocolate Sandwich Cookies        61             19   \n1                  1  Chocolate Sandwich Cookies        61             19   \n2                  1  Chocolate Sandwich Cookies        61             19   \n3                  1  Chocolate Sandwich Cookies        61             19   \n4                  1  Chocolate Sandwich Cookies        61             19   \n...              ...                         ...       ...            ...   \n30328758       49688      Fresh Foaming Cleanser        73             11   \n30328759       49688      Fresh Foaming Cleanser        73             11   \n30328760       49688      Fresh Foaming Cleanser        73             11   \n30328761       49688      Fresh Foaming Cleanser        73             11   \n30328762       49688      Fresh Foaming Cleanser        73             11   \n\n          prices  order_id  user_id  order_number  orders_day_of_week  \\\n0            5.8   3139998      138            28                   6   \n1            5.8   1977647      138            30                   6   \n2            5.8    389851      709             2                   0   \n3            5.8   1813452      764             3                   4   \n4            5.8   1701441      777            16                   1   \n...          ...       ...      ...           ...                 ...   \n30328758    13.5   3106363   197371            10                   4   \n30328759    13.5   1788356   200215             2                   0   \n30328760    13.5    809510   200873             5                   3   \n30328761    13.5   2359893   200873             9                   3   \n30328762    13.5   2385091   205926            11                   1   \n\n          order_hour_of_day  days_since_prior_order  add_to_cart_order  \\\n0                        11                     3.0                  5   \n1                        17                    20.0                  1   \n2                        21                     6.0                 20   \n3                        17                     9.0                 11   \n4                         7                    26.0                  7   \n...                     ...                     ...                ...   \n30328758                 14                    30.0                 17   \n30328759                  9                     5.0                 27   \n30328760                  8                    15.0                 12   \n30328761                 15                     5.0                 11   \n30328762                 15                     6.0                 35   \n\n          reordered  \n0                 0  \n1                 1  \n2                 0  \n3                 1  \n4                 0  \n...             ...  \n30328758          0  \n30328759          0  \n30328760          0  \n30328761          1  \n30328762          0  \n\n[30328763 rows x 13 columns]",
      "text/html": "<div>\n<style scoped>\n    .dataframe tbody tr th:only-of-type {\n        vertical-align: middle;\n    }\n\n    .dataframe tbody tr th {\n        vertical-align: top;\n    }\n\n    .dataframe thead th {\n        text-align: right;\n    }\n</style>\n<table border=\"1\" class=\"dataframe\">\n  <thead>\n    <tr style=\"text-align: right;\">\n      <th></th>\n      <th>product_id</th>\n      <th>product_name</th>\n      <th>aisle_id</th>\n      <th>department_id</th>\n      <th>prices</th>\n      <th>order_id</th>\n      <th>user_id</th>\n      <th>order_number</th>\n      <th>orders_day_of_week</th>\n      <th>order_hour_of_day</th>\n      <th>days_since_prior_order</th>\n      <th>add_to_cart_order</th>\n      <th>reordered</th>\n    </tr>\n  </thead>\n  <tbody>\n    <tr>\n      <th>0</th>\n      <td>1</td>\n      <td>Chocolate Sandwich Cookies</td>\n      <td>61</td>\n      <td>19</td>\n      <td>5.8</td>\n      <td>3139998</td>\n      <td>138</td>\n      <td>28</td>\n      <td>6</td>\n      <td>11</td>\n      <td>3.0</td>\n      <td>5</td>\n      <td>0</td>\n    </tr>\n    <tr>\n      <th>1</th>\n      <td>1</td>\n      <td>Chocolate Sandwich Cookies</td>\n      <td>61</td>\n      <td>19</td>\n      <td>5.8</td>\n      <td>1977647</td>\n      <td>138</td>\n      <td>30</td>\n      <td>6</td>\n      <td>17</td>\n      <td>20.0</td>\n      <td>1</td>\n      <td>1</td>\n    </tr>\n    <tr>\n      <th>2</th>\n      <td>1</td>\n      <td>Chocolate Sandwich Cookies</td>\n      <td>61</td>\n      <td>19</td>\n      <td>5.8</td>\n      <td>389851</td>\n      <td>709</td>\n      <td>2</td>\n      <td>0</td>\n      <td>21</td>\n      <td>6.0</td>\n      <td>20</td>\n      <td>0</td>\n    </tr>\n    <tr>\n      <th>3</th>\n      <td>1</td>\n      <td>Chocolate Sandwich Cookies</td>\n      <td>61</td>\n      <td>19</td>\n      <td>5.8</td>\n      <td>1813452</td>\n      <td>764</td>\n      <td>3</td>\n      <td>4</td>\n      <td>17</td>\n      <td>9.0</td>\n      <td>11</td>\n      <td>1</td>\n    </tr>\n    <tr>\n      <th>4</th>\n      <td>1</td>\n      <td>Chocolate Sandwich Cookies</td>\n      <td>61</td>\n      <td>19</td>\n      <td>5.8</td>\n      <td>1701441</td>\n      <td>777</td>\n      <td>16</td>\n      <td>1</td>\n      <td>7</td>\n      <td>26.0</td>\n      <td>7</td>\n      <td>0</td>\n    </tr>\n    <tr>\n      <th>...</th>\n      <td>...</td>\n      <td>...</td>\n      <td>...</td>\n      <td>...</td>\n      <td>...</td>\n      <td>...</td>\n      <td>...</td>\n      <td>...</td>\n      <td>...</td>\n      <td>...</td>\n      <td>...</td>\n      <td>...</td>\n      <td>...</td>\n    </tr>\n    <tr>\n      <th>30328758</th>\n      <td>49688</td>\n      <td>Fresh Foaming Cleanser</td>\n      <td>73</td>\n      <td>11</td>\n      <td>13.5</td>\n      <td>3106363</td>\n      <td>197371</td>\n      <td>10</td>\n      <td>4</td>\n      <td>14</td>\n      <td>30.0</td>\n      <td>17</td>\n      <td>0</td>\n    </tr>\n    <tr>\n      <th>30328759</th>\n      <td>49688</td>\n      <td>Fresh Foaming Cleanser</td>\n      <td>73</td>\n      <td>11</td>\n      <td>13.5</td>\n      <td>1788356</td>\n      <td>200215</td>\n      <td>2</td>\n      <td>0</td>\n      <td>9</td>\n      <td>5.0</td>\n      <td>27</td>\n      <td>0</td>\n    </tr>\n    <tr>\n      <th>30328760</th>\n      <td>49688</td>\n      <td>Fresh Foaming Cleanser</td>\n      <td>73</td>\n      <td>11</td>\n      <td>13.5</td>\n      <td>809510</td>\n      <td>200873</td>\n      <td>5</td>\n      <td>3</td>\n      <td>8</td>\n      <td>15.0</td>\n      <td>12</td>\n      <td>0</td>\n    </tr>\n    <tr>\n      <th>30328761</th>\n      <td>49688</td>\n      <td>Fresh Foaming Cleanser</td>\n      <td>73</td>\n      <td>11</td>\n      <td>13.5</td>\n      <td>2359893</td>\n      <td>200873</td>\n      <td>9</td>\n      <td>3</td>\n      <td>15</td>\n      <td>5.0</td>\n      <td>11</td>\n      <td>1</td>\n    </tr>\n    <tr>\n      <th>30328762</th>\n      <td>49688</td>\n      <td>Fresh Foaming Cleanser</td>\n      <td>73</td>\n      <td>11</td>\n      <td>13.5</td>\n      <td>2385091</td>\n      <td>205926</td>\n      <td>11</td>\n      <td>1</td>\n      <td>15</td>\n      <td>6.0</td>\n      <td>35</td>\n      <td>0</td>\n    </tr>\n  </tbody>\n</table>\n<p>30328763 rows × 13 columns</p>\n</div>"
     },
     "execution_count": 5,
     "metadata": {},
     "output_type": "execute_result"
    }
   ],
   "source": [
    "df_ords_prods_merged"
   ],
   "metadata": {
    "collapsed": false,
    "ExecuteTime": {
     "end_time": "2023-10-20T10:34:53.726249800Z",
     "start_time": "2023-10-20T10:34:53.659429100Z"
    }
   },
   "id": "47f65e18fc99c8c3"
  },
  {
   "cell_type": "code",
   "execution_count": 6,
   "outputs": [
    {
     "data": {
      "text/plain": "(30328763, 13)"
     },
     "execution_count": 6,
     "metadata": {},
     "output_type": "execute_result"
    }
   ],
   "source": [
    "df_ords_prods_merged.shape"
   ],
   "metadata": {
    "collapsed": false,
    "ExecuteTime": {
     "end_time": "2023-10-20T10:34:53.727246900Z",
     "start_time": "2023-10-20T10:34:53.685360200Z"
    }
   },
   "id": "6afcdb2b4b1d1687"
  },
  {
   "cell_type": "markdown",
   "source": [
    "# Creating a subset"
   ],
   "metadata": {
    "collapsed": false
   },
   "id": "5609ad507b33b9f1"
  },
  {
   "cell_type": "code",
   "execution_count": 7,
   "outputs": [],
   "source": [
    "df = df_ords_prods_merged[:1000000]"
   ],
   "metadata": {
    "collapsed": false,
    "ExecuteTime": {
     "end_time": "2023-10-20T10:34:53.742207400Z",
     "start_time": "2023-10-20T10:34:53.704312300Z"
    }
   },
   "id": "37b7117fca6f9040"
  },
  {
   "cell_type": "markdown",
   "source": [
    "# Capturing the below \"If\" statements in codes"
   ],
   "metadata": {
    "collapsed": false
   },
   "id": "40b739c8008a87ca"
  },
  {
   "cell_type": "markdown",
   "source": [
    "If the value within the “prices” column within the given row is less than or equal to 5, then return the string “Low-range product.”\n",
    "\n",
    "Or else, if the value within the “prices” column within the given row is greater than 5 and less than or equal to 15, then return the string “Mid-range product.”\n",
    "\n",
    "Or else, if the value of the “prices” column within the given row is greater than 15, then return the string “High-range product.”\n",
    "\n",
    "Or else, return the string “Not enough data.”"
   ],
   "metadata": {
    "collapsed": false
   },
   "id": "bccc1ea592b98dee"
  },
  {
   "cell_type": "code",
   "execution_count": 8,
   "outputs": [
    {
     "data": {
      "text/plain": "(1000000, 13)"
     },
     "execution_count": 8,
     "metadata": {},
     "output_type": "execute_result"
    }
   ],
   "source": [
    "df.shape"
   ],
   "metadata": {
    "collapsed": false,
    "ExecuteTime": {
     "end_time": "2023-10-20T10:34:53.772129600Z",
     "start_time": "2023-10-20T10:34:53.720269600Z"
    }
   },
   "id": "b847da9a842ffe05"
  },
  {
   "cell_type": "code",
   "execution_count": 9,
   "outputs": [],
   "source": [
    "# Define a function that captures the above \"If\" statements\n",
    "def price_label(row):\n",
    "    \n",
    "    if row['prices'] <= 5:\n",
    "        return 'Low range product'\n",
    "    elif (row['prices'] > 5) and (row['prices'] <= 15):\n",
    "        return 'Mid range product'\n",
    "    elif row['prices'] > 15:\n",
    "        return 'High range product'\n",
    "    else: return np.nan"
   ],
   "metadata": {
    "collapsed": false,
    "ExecuteTime": {
     "end_time": "2023-10-20T10:34:53.886824200Z",
     "start_time": "2023-10-20T10:34:53.735226200Z"
    }
   },
   "id": "b9513bccaf333d33"
  },
  {
   "cell_type": "markdown",
   "source": [
    "# Creating a new column called \"price_range\" within the dataframe \"df\". the \"price_range\" column would be designated as a location for the labels."
   ],
   "metadata": {
    "collapsed": false
   },
   "id": "63696361cb7e6247"
  },
  {
   "cell_type": "code",
   "execution_count": 10,
   "outputs": [
    {
     "name": "stderr",
     "output_type": "stream",
     "text": [
      "C:\\Users\\honoc\\AppData\\Local\\Temp\\ipykernel_52292\\2238658058.py:2: SettingWithCopyWarning: \n",
      "A value is trying to be set on a copy of a slice from a DataFrame.\n",
      "Try using .loc[row_indexer,col_indexer] = value instead\n",
      "\n",
      "See the caveats in the documentation: https://pandas.pydata.org/pandas-docs/stable/user_guide/indexing.html#returning-a-view-versus-a-copy\n",
      "  df['price_range'] = df.apply(price_label, axis=1) # axis=1 starts with the rows and not the columns\n"
     ]
    }
   ],
   "source": [
    "# Apply the function\n",
    "df['price_range'] = df.apply(price_label, axis=1) # axis=1 starts with the rows and not the columns"
   ],
   "metadata": {
    "collapsed": false,
    "ExecuteTime": {
     "end_time": "2023-10-20T10:35:10.456426200Z",
     "start_time": "2023-10-20T10:34:53.747196500Z"
    }
   },
   "id": "4b62cdca6e5e10b4"
  },
  {
   "cell_type": "code",
   "execution_count": 11,
   "outputs": [
    {
     "data": {
      "text/plain": "price_range\nMid range product     653498\nLow range product     337952\nHigh range product      8550\nName: count, dtype: int64"
     },
     "execution_count": 11,
     "metadata": {},
     "output_type": "execute_result"
    }
   ],
   "source": [
    "df['price_range'].value_counts(dropna= False)"
   ],
   "metadata": {
    "collapsed": false,
    "ExecuteTime": {
     "end_time": "2023-10-20T10:35:10.534222Z",
     "start_time": "2023-10-20T10:35:10.459421700Z"
    }
   },
   "id": "e59771f89b2a9ec5"
  },
  {
   "cell_type": "code",
   "execution_count": 12,
   "outputs": [
    {
     "data": {
      "text/plain": "24.5"
     },
     "execution_count": 12,
     "metadata": {},
     "output_type": "execute_result"
    }
   ],
   "source": [
    "# Checking for the most expensive product within the subset with the max() function\n",
    "df['prices'].max()"
   ],
   "metadata": {
    "collapsed": false,
    "ExecuteTime": {
     "end_time": "2023-10-20T10:35:10.535219200Z",
     "start_time": "2023-10-20T10:35:10.507294Z"
    }
   },
   "id": "1e8ca85870a4a8b1"
  },
  {
   "cell_type": "markdown",
   "source": [
    "C:\\Users\\honoc\\AppData\\Local\\Temp\\ipykernel_36740\\2238658058.py:2: SettingWithCopyWarning: \n",
    "A value is trying to be set on a copy of a slice from a DataFrame.\n",
    "Try using .loc[row_indexer,col_indexer] = value instead\n",
    "\n",
    "If-Statements with the loc() Function which can apply the conditional logic of an if-statement to a function without explicitly creating an if-else construct."
   ],
   "metadata": {
    "collapsed": false
   },
   "id": "68c0ec351435337"
  },
  {
   "cell_type": "code",
   "execution_count": 13,
   "outputs": [
    {
     "name": "stderr",
     "output_type": "stream",
     "text": [
      "C:\\Users\\honoc\\AppData\\Local\\Temp\\ipykernel_52292\\1580616944.py:1: SettingWithCopyWarning: \n",
      "A value is trying to be set on a copy of a slice from a DataFrame.\n",
      "Try using .loc[row_indexer,col_indexer] = value instead\n",
      "\n",
      "See the caveats in the documentation: https://pandas.pydata.org/pandas-docs/stable/user_guide/indexing.html#returning-a-view-versus-a-copy\n",
      "  df.loc[df['prices'] > 15, 'price_range_loc'] = 'High range product'\n"
     ]
    }
   ],
   "source": [
    "df.loc[df['prices'] > 15, 'price_range_loc'] = 'High range product'"
   ],
   "metadata": {
    "collapsed": false,
    "ExecuteTime": {
     "end_time": "2023-10-20T10:35:10.632958100Z",
     "start_time": "2023-10-20T10:35:10.519258700Z"
    }
   },
   "id": "392f0fa0e89cc9d5"
  },
  {
   "cell_type": "code",
   "execution_count": 14,
   "outputs": [],
   "source": [
    "df.loc[(df['prices'] <= 15) & (df['prices'] > 5), 'price_range_loc'] = 'Mid range product'"
   ],
   "metadata": {
    "collapsed": false,
    "ExecuteTime": {
     "end_time": "2023-10-20T10:35:10.634952600Z",
     "start_time": "2023-10-20T10:35:10.573114400Z"
    }
   },
   "id": "feb5435178aeae83"
  },
  {
   "cell_type": "code",
   "execution_count": 15,
   "outputs": [],
   "source": [
    "df.loc[df['prices'] <= 5, 'price_range_loc'] = 'Low range product'"
   ],
   "metadata": {
    "collapsed": false,
    "ExecuteTime": {
     "end_time": "2023-10-20T10:35:10.636946800Z",
     "start_time": "2023-10-20T10:35:10.600043700Z"
    }
   },
   "id": "35d1fc3f1bec2eba"
  },
  {
   "cell_type": "code",
   "execution_count": 16,
   "outputs": [
    {
     "data": {
      "text/plain": "price_range_loc\nMid range product     653498\nLow range product     337952\nHigh range product      8550\nName: count, dtype: int64"
     },
     "execution_count": 16,
     "metadata": {},
     "output_type": "execute_result"
    }
   ],
   "source": [
    "df['price_range_loc'].value_counts(dropna= False)"
   ],
   "metadata": {
    "collapsed": false,
    "ExecuteTime": {
     "end_time": "2023-10-20T10:35:10.734682800Z",
     "start_time": "2023-10-20T10:35:10.653902Z"
    }
   },
   "id": "97fef7303ddd2a5c"
  },
  {
   "cell_type": "markdown",
   "source": [
    "# Using the loc() function on entire dataframe"
   ],
   "metadata": {
    "collapsed": false
   },
   "id": "7eaa4ff8be8aa54b"
  },
  {
   "cell_type": "code",
   "execution_count": 17,
   "outputs": [],
   "source": [
    "df_ords_prods_merged.loc[df_ords_prods_merged['prices'] > 15, 'price_range_loc'] = 'High-range product'"
   ],
   "metadata": {
    "collapsed": false,
    "ExecuteTime": {
     "end_time": "2023-10-20T10:35:11.554493800Z",
     "start_time": "2023-10-20T10:35:10.662875Z"
    }
   },
   "id": "9af5c20750323307"
  },
  {
   "cell_type": "code",
   "execution_count": 18,
   "outputs": [],
   "source": [
    "df_ords_prods_merged.loc[(df_ords_prods_merged['prices'] <= 15) & (df_ords_prods_merged['prices'] > 5), 'price_range_loc'] = 'Mid-range product'"
   ],
   "metadata": {
    "collapsed": false,
    "ExecuteTime": {
     "end_time": "2023-10-20T10:35:12.133941300Z",
     "start_time": "2023-10-20T10:35:11.557482900Z"
    }
   },
   "id": "547889253ee4a442"
  },
  {
   "cell_type": "code",
   "execution_count": 19,
   "outputs": [],
   "source": [
    "df_ords_prods_merged.loc[df_ords_prods_merged['prices'] <= 5, 'price_range_loc'] = 'Low-range product'"
   ],
   "metadata": {
    "collapsed": false,
    "ExecuteTime": {
     "end_time": "2023-10-20T10:35:12.508938200Z",
     "start_time": "2023-10-20T10:35:12.134940400Z"
    }
   },
   "id": "1b45a080d1810c2c"
  },
  {
   "cell_type": "code",
   "execution_count": 20,
   "outputs": [
    {
     "data": {
      "text/plain": "price_range_loc\nMid-range product     20462144\nLow-range product      9476774\nHigh-range product      389845\nName: count, dtype: int64"
     },
     "execution_count": 20,
     "metadata": {},
     "output_type": "execute_result"
    }
   ],
   "source": [
    "df_ords_prods_merged['price_range_loc'].value_counts(dropna= False)"
   ],
   "metadata": {
    "collapsed": false,
    "ExecuteTime": {
     "end_time": "2023-10-20T10:35:13.179146900Z",
     "start_time": "2023-10-20T10:35:12.510936200Z"
    }
   },
   "id": "dc31437b3ed564cc"
  },
  {
   "cell_type": "markdown",
   "source": [
    "# If-Statements with For-Loops. Application: To get an insight into what products are being bought on the busiest and slowest days. As information could be used to tailor ads on specific days. "
   ],
   "metadata": {
    "collapsed": false
   },
   "id": "afb172a8371bd7e5"
  },
  {
   "cell_type": "code",
   "execution_count": 21,
   "outputs": [
    {
     "data": {
      "text/plain": "orders_day_of_week\n0    5779087\n1    5303718\n6    4190948\n5    3952326\n2    3947564\n3    3600589\n4    3554531\nName: count, dtype: int64"
     },
     "execution_count": 21,
     "metadata": {},
     "output_type": "execute_result"
    }
   ],
   "source": [
    "# first we need to know on which day most orders take place. This is achieved by printing the frequency of the \"orders_day_of_the_week\" column.\n",
    "df_ords_prods_merged['orders_day_of_week'].value_counts(dropna= False)"
   ],
   "metadata": {
    "collapsed": false,
    "ExecuteTime": {
     "end_time": "2023-10-20T10:35:13.609275300Z",
     "start_time": "2023-10-20T10:35:13.581349900Z"
    }
   },
   "id": "b7057f2a95bf4b1d"
  },
  {
   "cell_type": "markdown",
   "source": [
    "# Creating a column \"busiest day\" that will contain one of three different values: \"Busiest day,\" \"Least busy,\" and \"Regularly busy\""
   ],
   "metadata": {
    "collapsed": false
   },
   "id": "58e7244d44b7aa7a"
  },
  {
   "cell_type": "code",
   "execution_count": 22,
   "outputs": [],
   "source": [
    "result = []\n",
    "\n",
    "for value in df_ords_prods_merged[\"orders_day_of_week\"]:\n",
    "    if value == 0:\n",
    "        result.append(\"Busiest day\")\n",
    "    elif value == 4:\n",
    "        result.append(\"Least busy\")\n",
    "    else:\n",
    "        result.append(\"Regularly busy\")"
   ],
   "metadata": {
    "collapsed": false,
    "ExecuteTime": {
     "end_time": "2023-10-20T10:35:24.720954800Z",
     "start_time": "2023-10-20T10:35:13.600298600Z"
    }
   },
   "id": "b562f4363ed704ac"
  },
  {
   "cell_type": "code",
   "execution_count": 23,
   "outputs": [
    {
     "data": {
      "text/plain": "['Regularly busy',\n 'Regularly busy',\n 'Busiest day',\n 'Least busy',\n 'Regularly busy',\n 'Regularly busy',\n 'Regularly busy',\n 'Regularly busy',\n 'Regularly busy',\n 'Regularly busy',\n 'Least busy',\n 'Regularly busy',\n 'Regularly busy',\n 'Regularly busy',\n 'Regularly busy',\n 'Regularly busy',\n 'Regularly busy',\n 'Regularly busy',\n 'Regularly busy',\n 'Regularly busy',\n 'Regularly busy',\n 'Regularly busy',\n 'Regularly busy',\n 'Busiest day',\n 'Busiest day',\n 'Busiest day',\n 'Busiest day',\n 'Busiest day',\n 'Least busy',\n 'Regularly busy',\n 'Regularly busy',\n 'Busiest day',\n 'Regularly busy',\n 'Least busy',\n 'Busiest day',\n 'Regularly busy',\n 'Busiest day',\n 'Least busy',\n 'Regularly busy',\n 'Regularly busy',\n 'Regularly busy',\n 'Regularly busy',\n 'Regularly busy',\n 'Regularly busy',\n 'Regularly busy',\n 'Regularly busy',\n 'Regularly busy',\n 'Regularly busy',\n 'Busiest day',\n 'Regularly busy',\n 'Busiest day',\n 'Regularly busy',\n 'Regularly busy',\n 'Regularly busy',\n 'Regularly busy',\n 'Regularly busy',\n 'Busiest day',\n 'Regularly busy',\n 'Regularly busy',\n 'Regularly busy',\n 'Least busy',\n 'Regularly busy',\n 'Least busy',\n 'Busiest day',\n 'Regularly busy',\n 'Busiest day',\n 'Least busy',\n 'Least busy',\n 'Least busy',\n 'Least busy',\n 'Least busy',\n 'Least busy',\n 'Least busy',\n 'Least busy',\n 'Least busy',\n 'Least busy',\n 'Least busy',\n 'Least busy',\n 'Regularly busy',\n 'Regularly busy',\n 'Regularly busy',\n 'Busiest day',\n 'Busiest day',\n 'Regularly busy',\n 'Regularly busy',\n 'Regularly busy',\n 'Regularly busy',\n 'Regularly busy',\n 'Regularly busy',\n 'Busiest day',\n 'Regularly busy',\n 'Busiest day',\n 'Busiest day',\n 'Regularly busy',\n 'Regularly busy',\n 'Least busy',\n 'Regularly busy',\n 'Regularly busy',\n 'Regularly busy',\n 'Regularly busy',\n 'Regularly busy',\n 'Busiest day',\n 'Regularly busy',\n 'Regularly busy',\n 'Regularly busy',\n 'Regularly busy',\n 'Busiest day',\n 'Regularly busy',\n 'Busiest day',\n 'Busiest day',\n 'Busiest day',\n 'Regularly busy',\n 'Regularly busy',\n 'Regularly busy',\n 'Regularly busy',\n 'Regularly busy',\n 'Regularly busy',\n 'Regularly busy',\n 'Regularly busy',\n 'Regularly busy',\n 'Regularly busy',\n 'Regularly busy',\n 'Least busy',\n 'Regularly busy',\n 'Regularly busy',\n 'Regularly busy',\n 'Least busy',\n 'Regularly busy',\n 'Regularly busy',\n 'Regularly busy',\n 'Regularly busy',\n 'Regularly busy',\n 'Regularly busy',\n 'Regularly busy',\n 'Regularly busy',\n 'Regularly busy',\n 'Regularly busy',\n 'Regularly busy',\n 'Least busy',\n 'Regularly busy',\n 'Least busy',\n 'Busiest day',\n 'Regularly busy',\n 'Busiest day',\n 'Regularly busy',\n 'Regularly busy',\n 'Least busy',\n 'Least busy',\n 'Busiest day',\n 'Regularly busy',\n 'Least busy',\n 'Regularly busy',\n 'Regularly busy',\n 'Busiest day',\n 'Least busy',\n 'Least busy',\n 'Regularly busy',\n 'Busiest day',\n 'Regularly busy',\n 'Regularly busy',\n 'Regularly busy',\n 'Regularly busy',\n 'Busiest day',\n 'Regularly busy',\n 'Least busy',\n 'Regularly busy',\n 'Regularly busy',\n 'Regularly busy',\n 'Regularly busy',\n 'Regularly busy',\n 'Least busy',\n 'Regularly busy',\n 'Least busy',\n 'Least busy',\n 'Least busy',\n 'Least busy',\n 'Least busy',\n 'Regularly busy',\n 'Least busy',\n 'Regularly busy',\n 'Regularly busy',\n 'Regularly busy',\n 'Least busy',\n 'Least busy',\n 'Regularly busy',\n 'Regularly busy',\n 'Least busy',\n 'Regularly busy',\n 'Regularly busy',\n 'Regularly busy',\n 'Regularly busy',\n 'Regularly busy',\n 'Least busy',\n 'Regularly busy',\n 'Busiest day',\n 'Regularly busy',\n 'Regularly busy',\n 'Regularly busy',\n 'Regularly busy',\n 'Regularly busy',\n 'Least busy',\n 'Busiest day',\n 'Least busy',\n 'Least busy',\n 'Regularly busy',\n 'Least busy',\n 'Regularly busy',\n 'Least busy',\n 'Regularly busy',\n 'Least busy',\n 'Least busy',\n 'Regularly busy',\n 'Regularly busy',\n 'Regularly busy',\n 'Regularly busy',\n 'Regularly busy',\n 'Regularly busy',\n 'Least busy',\n 'Regularly busy',\n 'Least busy',\n 'Regularly busy',\n 'Regularly busy',\n 'Regularly busy',\n 'Regularly busy',\n 'Regularly busy',\n 'Regularly busy',\n 'Regularly busy',\n 'Least busy',\n 'Least busy',\n 'Least busy',\n 'Regularly busy',\n 'Regularly busy',\n 'Busiest day',\n 'Busiest day',\n 'Busiest day',\n 'Busiest day',\n 'Regularly busy',\n 'Busiest day',\n 'Busiest day',\n 'Busiest day',\n 'Regularly busy',\n 'Regularly busy',\n 'Regularly busy',\n 'Regularly busy',\n 'Regularly busy',\n 'Regularly busy',\n 'Busiest day',\n 'Regularly busy',\n 'Busiest day',\n 'Busiest day',\n 'Regularly busy',\n 'Regularly busy',\n 'Regularly busy',\n 'Regularly busy',\n 'Regularly busy',\n 'Busiest day',\n 'Least busy',\n 'Regularly busy',\n 'Least busy',\n 'Regularly busy',\n 'Regularly busy',\n 'Regularly busy',\n 'Regularly busy',\n 'Regularly busy',\n 'Regularly busy',\n 'Regularly busy',\n 'Regularly busy',\n 'Regularly busy',\n 'Least busy',\n 'Regularly busy',\n 'Busiest day',\n 'Least busy',\n 'Busiest day',\n 'Regularly busy',\n 'Regularly busy',\n 'Regularly busy',\n 'Least busy',\n 'Regularly busy',\n 'Busiest day',\n 'Regularly busy',\n 'Regularly busy',\n 'Regularly busy',\n 'Regularly busy',\n 'Regularly busy',\n 'Regularly busy',\n 'Regularly busy',\n 'Regularly busy',\n 'Regularly busy',\n 'Least busy',\n 'Regularly busy',\n 'Regularly busy',\n 'Regularly busy',\n 'Regularly busy',\n 'Least busy',\n 'Least busy',\n 'Regularly busy',\n 'Regularly busy',\n 'Least busy',\n 'Regularly busy',\n 'Regularly busy',\n 'Regularly busy',\n 'Regularly busy',\n 'Regularly busy',\n 'Regularly busy',\n 'Regularly busy',\n 'Busiest day',\n 'Regularly busy',\n 'Regularly busy',\n 'Regularly busy',\n 'Regularly busy',\n 'Regularly busy',\n 'Regularly busy',\n 'Regularly busy',\n 'Regularly busy',\n 'Regularly busy',\n 'Regularly busy',\n 'Regularly busy',\n 'Regularly busy',\n 'Regularly busy',\n 'Least busy',\n 'Regularly busy',\n 'Regularly busy',\n 'Regularly busy',\n 'Regularly busy',\n 'Regularly busy',\n 'Least busy',\n 'Regularly busy',\n 'Regularly busy',\n 'Regularly busy',\n 'Regularly busy',\n 'Regularly busy',\n 'Regularly busy',\n 'Regularly busy',\n 'Regularly busy',\n 'Regularly busy',\n 'Regularly busy',\n 'Regularly busy',\n 'Regularly busy',\n 'Least busy',\n 'Regularly busy',\n 'Busiest day',\n 'Regularly busy',\n 'Least busy',\n 'Least busy',\n 'Regularly busy',\n 'Regularly busy',\n 'Regularly busy',\n 'Least busy',\n 'Regularly busy',\n 'Regularly busy',\n 'Regularly busy',\n 'Regularly busy',\n 'Regularly busy',\n 'Regularly busy',\n 'Least busy',\n 'Regularly busy',\n 'Regularly busy',\n 'Regularly busy',\n 'Regularly busy',\n 'Regularly busy',\n 'Regularly busy',\n 'Regularly busy',\n 'Busiest day',\n 'Regularly busy',\n 'Busiest day',\n 'Regularly busy',\n 'Regularly busy',\n 'Regularly busy',\n 'Regularly busy',\n 'Regularly busy',\n 'Regularly busy',\n 'Regularly busy',\n 'Regularly busy',\n 'Regularly busy',\n 'Regularly busy',\n 'Busiest day',\n 'Busiest day',\n 'Regularly busy',\n 'Busiest day',\n 'Busiest day',\n 'Regularly busy',\n 'Least busy',\n 'Least busy',\n 'Regularly busy',\n 'Regularly busy',\n 'Regularly busy',\n 'Regularly busy',\n 'Regularly busy',\n 'Regularly busy',\n 'Least busy',\n 'Regularly busy',\n 'Regularly busy',\n 'Regularly busy',\n 'Least busy',\n 'Least busy',\n 'Regularly busy',\n 'Regularly busy',\n 'Regularly busy',\n 'Regularly busy',\n 'Regularly busy',\n 'Regularly busy',\n 'Regularly busy',\n 'Regularly busy',\n 'Regularly busy',\n 'Busiest day',\n 'Regularly busy',\n 'Regularly busy',\n 'Regularly busy',\n 'Regularly busy',\n 'Busiest day',\n 'Busiest day',\n 'Busiest day',\n 'Regularly busy',\n 'Regularly busy',\n 'Regularly busy',\n 'Regularly busy',\n 'Busiest day',\n 'Regularly busy',\n 'Busiest day',\n 'Regularly busy',\n 'Busiest day',\n 'Regularly busy',\n 'Regularly busy',\n 'Busiest day',\n 'Busiest day',\n 'Regularly busy',\n 'Regularly busy',\n 'Regularly busy',\n 'Least busy',\n 'Regularly busy',\n 'Regularly busy',\n 'Regularly busy',\n 'Regularly busy',\n 'Regularly busy',\n 'Regularly busy',\n 'Least busy',\n 'Regularly busy',\n 'Regularly busy',\n 'Regularly busy',\n 'Regularly busy',\n 'Regularly busy',\n 'Regularly busy',\n 'Least busy',\n 'Regularly busy',\n 'Regularly busy',\n 'Regularly busy',\n 'Least busy',\n 'Regularly busy',\n 'Regularly busy',\n 'Least busy',\n 'Least busy',\n 'Regularly busy',\n 'Regularly busy',\n 'Least busy',\n 'Least busy',\n 'Regularly busy',\n 'Regularly busy',\n 'Regularly busy',\n 'Regularly busy',\n 'Regularly busy',\n 'Regularly busy',\n 'Regularly busy',\n 'Regularly busy',\n 'Least busy',\n 'Regularly busy',\n 'Least busy',\n 'Least busy',\n 'Regularly busy',\n 'Regularly busy',\n 'Regularly busy',\n 'Least busy',\n 'Regularly busy',\n 'Regularly busy',\n 'Regularly busy',\n 'Regularly busy',\n 'Regularly busy',\n 'Regularly busy',\n 'Regularly busy',\n 'Busiest day',\n 'Regularly busy',\n 'Regularly busy',\n 'Busiest day',\n 'Regularly busy',\n 'Regularly busy',\n 'Regularly busy',\n 'Regularly busy',\n 'Least busy',\n 'Regularly busy',\n 'Least busy',\n 'Regularly busy',\n 'Regularly busy',\n 'Regularly busy',\n 'Regularly busy',\n 'Regularly busy',\n 'Regularly busy',\n 'Least busy',\n 'Regularly busy',\n 'Least busy',\n 'Regularly busy',\n 'Least busy',\n 'Least busy',\n 'Regularly busy',\n 'Least busy',\n 'Regularly busy',\n 'Least busy',\n 'Least busy',\n 'Regularly busy',\n 'Least busy',\n 'Regularly busy',\n 'Least busy',\n 'Least busy',\n 'Regularly busy',\n 'Regularly busy',\n 'Least busy',\n 'Least busy',\n 'Least busy',\n 'Regularly busy',\n 'Regularly busy',\n 'Regularly busy',\n 'Least busy',\n 'Regularly busy',\n 'Regularly busy',\n 'Regularly busy',\n 'Least busy',\n 'Regularly busy',\n 'Least busy',\n 'Regularly busy',\n 'Least busy',\n 'Regularly busy',\n 'Regularly busy',\n 'Least busy',\n 'Regularly busy',\n 'Regularly busy',\n 'Regularly busy',\n 'Least busy',\n 'Regularly busy',\n 'Regularly busy',\n 'Regularly busy',\n 'Least busy',\n 'Regularly busy',\n 'Regularly busy',\n 'Regularly busy',\n 'Regularly busy',\n 'Least busy',\n 'Regularly busy',\n 'Regularly busy',\n 'Regularly busy',\n 'Least busy',\n 'Busiest day',\n 'Regularly busy',\n 'Regularly busy',\n 'Regularly busy',\n 'Least busy',\n 'Regularly busy',\n 'Regularly busy',\n 'Regularly busy',\n 'Regularly busy',\n 'Regularly busy',\n 'Regularly busy',\n 'Regularly busy',\n 'Regularly busy',\n 'Regularly busy',\n 'Regularly busy',\n 'Least busy',\n 'Regularly busy',\n 'Regularly busy',\n 'Regularly busy',\n 'Regularly busy',\n 'Regularly busy',\n 'Regularly busy',\n 'Least busy',\n 'Regularly busy',\n 'Regularly busy',\n 'Regularly busy',\n 'Least busy',\n 'Least busy',\n 'Regularly busy',\n 'Regularly busy',\n 'Least busy',\n 'Regularly busy',\n 'Regularly busy',\n 'Regularly busy',\n 'Regularly busy',\n 'Regularly busy',\n 'Regularly busy',\n 'Least busy',\n 'Regularly busy',\n 'Regularly busy',\n 'Regularly busy',\n 'Regularly busy',\n 'Least busy',\n 'Least busy',\n 'Regularly busy',\n 'Regularly busy',\n 'Regularly busy',\n 'Regularly busy',\n 'Regularly busy',\n 'Regularly busy',\n 'Regularly busy',\n 'Regularly busy',\n 'Regularly busy',\n 'Regularly busy',\n 'Least busy',\n 'Regularly busy',\n 'Least busy',\n 'Regularly busy',\n 'Regularly busy',\n 'Busiest day',\n 'Busiest day',\n 'Regularly busy',\n 'Regularly busy',\n 'Regularly busy',\n 'Least busy',\n 'Least busy',\n 'Regularly busy',\n 'Regularly busy',\n 'Regularly busy',\n 'Regularly busy',\n 'Regularly busy',\n 'Busiest day',\n 'Busiest day',\n 'Busiest day',\n 'Busiest day',\n 'Busiest day',\n 'Busiest day',\n 'Regularly busy',\n 'Least busy',\n 'Regularly busy',\n 'Regularly busy',\n 'Regularly busy',\n 'Regularly busy',\n 'Regularly busy',\n 'Regularly busy',\n 'Regularly busy',\n 'Regularly busy',\n 'Least busy',\n 'Regularly busy',\n 'Least busy',\n 'Regularly busy',\n 'Regularly busy',\n 'Regularly busy',\n 'Busiest day',\n 'Busiest day',\n 'Busiest day',\n 'Regularly busy',\n 'Least busy',\n 'Regularly busy',\n 'Regularly busy',\n 'Regularly busy',\n 'Regularly busy',\n 'Regularly busy',\n 'Least busy',\n 'Regularly busy',\n 'Regularly busy',\n 'Least busy',\n 'Regularly busy',\n 'Least busy',\n 'Regularly busy',\n 'Regularly busy',\n 'Busiest day',\n 'Regularly busy',\n 'Least busy',\n 'Regularly busy',\n 'Regularly busy',\n 'Regularly busy',\n 'Regularly busy',\n 'Regularly busy',\n 'Regularly busy',\n 'Regularly busy',\n 'Busiest day',\n 'Regularly busy',\n 'Regularly busy',\n 'Least busy',\n 'Regularly busy',\n 'Regularly busy',\n 'Regularly busy',\n 'Regularly busy',\n 'Regularly busy',\n 'Busiest day',\n 'Least busy',\n 'Regularly busy',\n 'Busiest day',\n 'Regularly busy',\n 'Regularly busy',\n 'Regularly busy',\n 'Regularly busy',\n 'Least busy',\n 'Regularly busy',\n 'Regularly busy',\n 'Busiest day',\n 'Least busy',\n 'Least busy',\n 'Regularly busy',\n 'Regularly busy',\n 'Regularly busy',\n 'Regularly busy',\n 'Regularly busy',\n 'Regularly busy',\n 'Regularly busy',\n 'Regularly busy',\n 'Regularly busy',\n 'Regularly busy',\n 'Regularly busy',\n 'Regularly busy',\n 'Regularly busy',\n 'Regularly busy',\n 'Regularly busy',\n 'Regularly busy',\n 'Regularly busy',\n 'Regularly busy',\n 'Regularly busy',\n 'Regularly busy',\n 'Regularly busy',\n 'Regularly busy',\n 'Regularly busy',\n 'Regularly busy',\n 'Regularly busy',\n 'Regularly busy',\n 'Regularly busy',\n 'Regularly busy',\n 'Regularly busy',\n 'Regularly busy',\n 'Regularly busy',\n 'Regularly busy',\n 'Regularly busy',\n 'Regularly busy',\n 'Regularly busy',\n 'Regularly busy',\n 'Regularly busy',\n 'Regularly busy',\n 'Regularly busy',\n 'Regularly busy',\n 'Regularly busy',\n 'Regularly busy',\n 'Regularly busy',\n 'Regularly busy',\n 'Regularly busy',\n 'Least busy',\n 'Regularly busy',\n 'Regularly busy',\n 'Busiest day',\n 'Regularly busy',\n 'Regularly busy',\n 'Regularly busy',\n 'Regularly busy',\n 'Regularly busy',\n 'Regularly busy',\n 'Regularly busy',\n 'Regularly busy',\n 'Least busy',\n 'Regularly busy',\n 'Regularly busy',\n 'Regularly busy',\n 'Regularly busy',\n 'Least busy',\n 'Regularly busy',\n 'Busiest day',\n 'Regularly busy',\n 'Regularly busy',\n 'Regularly busy',\n 'Busiest day',\n 'Regularly busy',\n 'Regularly busy',\n 'Regularly busy',\n 'Regularly busy',\n 'Busiest day',\n 'Regularly busy',\n 'Regularly busy',\n 'Least busy',\n 'Regularly busy',\n 'Least busy',\n 'Busiest day',\n 'Busiest day',\n 'Regularly busy',\n 'Regularly busy',\n 'Regularly busy',\n 'Busiest day',\n 'Regularly busy',\n 'Least busy',\n 'Busiest day',\n 'Regularly busy',\n 'Busiest day',\n 'Regularly busy',\n 'Least busy',\n 'Regularly busy',\n 'Busiest day',\n 'Regularly busy',\n 'Regularly busy',\n 'Regularly busy',\n 'Regularly busy',\n 'Regularly busy',\n 'Regularly busy',\n 'Regularly busy',\n 'Regularly busy',\n 'Regularly busy',\n 'Least busy',\n 'Busiest day',\n 'Regularly busy',\n 'Busiest day',\n 'Busiest day',\n 'Regularly busy',\n 'Busiest day',\n 'Regularly busy',\n 'Least busy',\n 'Regularly busy',\n 'Regularly busy',\n 'Regularly busy',\n 'Regularly busy',\n 'Regularly busy',\n 'Regularly busy',\n 'Regularly busy',\n 'Least busy',\n 'Regularly busy',\n 'Regularly busy',\n 'Regularly busy',\n 'Regularly busy',\n 'Regularly busy',\n 'Regularly busy',\n 'Least busy',\n 'Regularly busy',\n 'Regularly busy',\n 'Regularly busy',\n 'Least busy',\n 'Regularly busy',\n 'Regularly busy',\n 'Regularly busy',\n 'Regularly busy',\n 'Regularly busy',\n 'Regularly busy',\n 'Regularly busy',\n 'Regularly busy',\n 'Regularly busy',\n 'Regularly busy',\n 'Regularly busy',\n 'Regularly busy',\n 'Busiest day',\n 'Regularly busy',\n 'Regularly busy',\n 'Regularly busy',\n 'Least busy',\n 'Regularly busy',\n 'Regularly busy',\n 'Regularly busy',\n 'Regularly busy',\n 'Least busy',\n 'Regularly busy',\n 'Least busy',\n 'Regularly busy',\n 'Regularly busy',\n 'Least busy',\n 'Regularly busy',\n 'Least busy',\n 'Least busy',\n 'Regularly busy',\n 'Regularly busy',\n 'Regularly busy',\n 'Regularly busy',\n 'Regularly busy',\n 'Regularly busy',\n 'Regularly busy',\n 'Least busy',\n 'Regularly busy',\n 'Regularly busy',\n 'Regularly busy',\n 'Busiest day',\n 'Regularly busy',\n 'Busiest day',\n 'Regularly busy',\n 'Regularly busy',\n 'Regularly busy',\n 'Regularly busy',\n 'Regularly busy',\n 'Regularly busy',\n 'Busiest day',\n 'Regularly busy',\n 'Least busy',\n 'Regularly busy',\n 'Regularly busy',\n 'Regularly busy',\n 'Regularly busy',\n 'Regularly busy',\n 'Regularly busy',\n 'Regularly busy',\n 'Busiest day',\n 'Regularly busy',\n 'Busiest day',\n 'Regularly busy',\n 'Regularly busy',\n 'Least busy',\n 'Regularly busy',\n 'Regularly busy',\n 'Regularly busy',\n 'Least busy',\n 'Regularly busy',\n 'Busiest day',\n 'Least busy',\n 'Regularly busy',\n 'Regularly busy',\n 'Regularly busy',\n 'Regularly busy',\n 'Regularly busy',\n 'Regularly busy',\n 'Busiest day',\n 'Regularly busy',\n 'Busiest day',\n 'Busiest day',\n 'Busiest day',\n 'Regularly busy',\n 'Regularly busy',\n 'Regularly busy',\n 'Regularly busy',\n 'Least busy',\n 'Regularly busy',\n 'Regularly busy',\n 'Regularly busy',\n 'Regularly busy',\n 'Least busy',\n 'Regularly busy',\n 'Regularly busy',\n 'Regularly busy',\n 'Regularly busy',\n 'Least busy',\n 'Least busy',\n 'Regularly busy',\n 'Regularly busy',\n 'Regularly busy',\n 'Regularly busy',\n 'Regularly busy',\n 'Least busy',\n 'Regularly busy',\n 'Least busy',\n 'Regularly busy',\n 'Regularly busy',\n 'Least busy',\n 'Regularly busy',\n 'Least busy',\n 'Regularly busy',\n 'Least busy',\n 'Least busy',\n 'Least busy',\n 'Regularly busy',\n 'Least busy',\n 'Regularly busy',\n 'Least busy',\n 'Regularly busy',\n 'Regularly busy',\n 'Least busy',\n 'Regularly busy',\n 'Least busy',\n 'Regularly busy',\n 'Busiest day',\n 'Busiest day',\n 'Regularly busy',\n 'Regularly busy',\n 'Regularly busy',\n 'Regularly busy',\n 'Least busy',\n 'Regularly busy',\n 'Regularly busy',\n 'Regularly busy',\n 'Regularly busy',\n 'Regularly busy',\n 'Regularly busy',\n 'Regularly busy',\n 'Least busy',\n 'Regularly busy',\n 'Regularly busy',\n 'Regularly busy',\n 'Regularly busy',\n 'Regularly busy',\n 'Regularly busy',\n 'Least busy',\n 'Busiest day',\n 'Regularly busy',\n 'Regularly busy',\n 'Least busy',\n 'Least busy',\n 'Busiest day',\n 'Regularly busy',\n 'Busiest day',\n 'Regularly busy',\n 'Busiest day',\n 'Regularly busy',\n 'Regularly busy',\n 'Regularly busy',\n 'Regularly busy',\n 'Regularly busy',\n 'Regularly busy',\n 'Regularly busy',\n 'Regularly busy',\n 'Busiest day',\n 'Busiest day',\n 'Regularly busy',\n 'Regularly busy',\n 'Regularly busy',\n 'Busiest day',\n 'Regularly busy',\n 'Regularly busy',\n 'Regularly busy',\n 'Regularly busy',\n ...]"
     },
     "execution_count": 23,
     "metadata": {},
     "output_type": "execute_result"
    }
   ],
   "source": [
    "result"
   ],
   "metadata": {
    "collapsed": false,
    "ExecuteTime": {
     "end_time": "2023-10-20T10:35:24.759852800Z",
     "start_time": "2023-10-20T10:35:24.722950Z"
    }
   },
   "id": "bd637f6c062f4d3f"
  },
  {
   "cell_type": "markdown",
   "source": [
    "# Combining this result with the \"df_ords_prods_merged\" dataframe by creating a new column \"busiest_day\" and setting it equal to \"result\""
   ],
   "metadata": {
    "collapsed": false
   },
   "id": "af5835f4112622b9"
  },
  {
   "cell_type": "code",
   "execution_count": 24,
   "outputs": [
    {
     "data": {
      "text/plain": "busiest_day\nRegularly busy    20995145\nBusiest day        5779087\nLeast busy         3554531\nName: count, dtype: int64"
     },
     "execution_count": 24,
     "metadata": {},
     "output_type": "execute_result"
    }
   ],
   "source": [
    "df_ords_prods_merged['busiest_day'] = result\n",
    "df_ords_prods_merged['busiest_day'].value_counts(dropna= False)"
   ],
   "metadata": {
    "collapsed": false,
    "ExecuteTime": {
     "end_time": "2023-10-20T10:35:26.549369900Z",
     "start_time": "2023-10-20T10:35:24.752868900Z"
    }
   },
   "id": "dd4b68db5710ffaf"
  },
  {
   "cell_type": "markdown",
   "source": [
    "2.\tSuppose your clients have changed their minds about the labels you created in your “busiest_day” column. Now, they want “Busiest day” to become “Busiest days” (plural). This label should correspond with the two busiest days of the week as opposed to the single busiest day. At the same time, they’d also like to know the two slowest days. Create a new column for this using a suitable method."
   ],
   "metadata": {
    "collapsed": false
   },
   "id": "8189b46f30bd6d4c"
  },
  {
   "cell_type": "code",
   "execution_count": 25,
   "outputs": [],
   "source": [
    "# Creating a list to store the labels for the two busiest and two slowest days\n",
    "busiest_and_slowest_days = []"
   ],
   "metadata": {
    "collapsed": false,
    "ExecuteTime": {
     "end_time": "2023-10-20T11:27:14.179044600Z",
     "start_time": "2023-10-20T11:27:14.153084500Z"
    }
   },
   "id": "d914fda247429b30"
  },
  {
   "cell_type": "code",
   "execution_count": 26,
   "outputs": [],
   "source": [
    "# Define the busiest and slowest days\n",
    "busiest_days = [0, 1] # Saturday and Sunday\n",
    "slowest_days = [3, 4]"
   ],
   "metadata": {
    "collapsed": false,
    "ExecuteTime": {
     "end_time": "2023-10-20T11:28:49.191060600Z",
     "start_time": "2023-10-20T11:28:49.171093900Z"
    }
   },
   "id": "94fe0d886e31a139"
  },
  {
   "cell_type": "code",
   "execution_count": 27,
   "outputs": [],
   "source": [
    "# Update the \"busiest_day\" column and create a new column \"slowest_day\"\n",
    "for value in df_ords_prods_merged['orders_day_of_week']:\n",
    "    if value in busiest_days:\n",
    "        busiest_and_slowest_days.append(\"Busiest days\")\n",
    "    elif value in slowest_days:\n",
    "        busiest_and_slowest_days.append(\"Slowest days\")\n",
    "    else:\n",
    "        busiest_and_slowest_days.append(\"Regularly busy\")"
   ],
   "metadata": {
    "collapsed": false,
    "ExecuteTime": {
     "end_time": "2023-10-20T11:37:12.521296600Z",
     "start_time": "2023-10-20T11:36:58.375485200Z"
    }
   },
   "id": "10a558bf9b163f7a"
  },
  {
   "cell_type": "markdown",
   "source": [
    "3.\tCheck the values of this new column for accuracy. Note any observations in markdown format."
   ],
   "metadata": {
    "collapsed": false
   },
   "id": "7931d4ac4ded11b7"
  },
  {
   "cell_type": "code",
   "execution_count": 29,
   "outputs": [
    {
     "data": {
      "text/plain": "busiest_day\nRegularly busy    12090838\nBusiest days      11082805\nSlowest days       7155120\nName: count, dtype: int64"
     },
     "execution_count": 29,
     "metadata": {},
     "output_type": "execute_result"
    }
   ],
   "source": [
    "df_ords_prods_merged['busiest_day'] = busiest_and_slowest_days\n",
    "df_ords_prods_merged['busiest_day'].value_counts(dropna= False)"
   ],
   "metadata": {
    "collapsed": false,
    "ExecuteTime": {
     "end_time": "2023-10-20T11:48:48.386222900Z",
     "start_time": "2023-10-20T11:48:46.388851Z"
    }
   },
   "id": "ae14b7fef55dda5"
  },
  {
   "cell_type": "markdown",
   "source": [
    "\"Regularly busy\" appears most frequently, indicating that most days fall into this category. \"Busiest days\" have the next highest count, representing the two busiest days, i.e., Saturday and Sunday. \"Slowest days\" have the lowest count, signifying the two slowest days, i.e., Tuesday and Wednesday. The total count  = 30,328,763 same as df_ords_prods_merged.shape (30328763, 13)"
   ],
   "metadata": {
    "collapsed": false
   },
   "id": "67352c693a562f7c"
  },
  {
   "cell_type": "code",
   "execution_count": 32,
   "outputs": [],
   "source": [
    "# Add the new columns to the Dataframe\n",
    "df_ords_prods_merged['busiest_day'] = busiest_and_slowest_days\n",
    "df_ords_prods_merged['slowest_day'] = busiest_and_slowest_days"
   ],
   "metadata": {
    "collapsed": false,
    "ExecuteTime": {
     "end_time": "2023-10-20T12:17:23.455466700Z",
     "start_time": "2023-10-20T12:17:21.055492500Z"
    }
   },
   "id": "3f234603b9b9bfea"
  },
  {
   "cell_type": "code",
   "execution_count": 33,
   "outputs": [
    {
     "data": {
      "text/plain": "   product_id                product_name  aisle_id  department_id  prices  \\\n0           1  Chocolate Sandwich Cookies        61             19     5.8   \n1           1  Chocolate Sandwich Cookies        61             19     5.8   \n2           1  Chocolate Sandwich Cookies        61             19     5.8   \n3           1  Chocolate Sandwich Cookies        61             19     5.8   \n4           1  Chocolate Sandwich Cookies        61             19     5.8   \n\n   order_id  user_id  order_number  orders_day_of_week  order_hour_of_day  \\\n0   3139998      138            28                   6                 11   \n1   1977647      138            30                   6                 17   \n2    389851      709             2                   0                 21   \n3   1813452      764             3                   4                 17   \n4   1701441      777            16                   1                  7   \n\n   days_since_prior_order  add_to_cart_order  reordered    price_range_loc  \\\n0                     3.0                  5          0  Mid-range product   \n1                    20.0                  1          1  Mid-range product   \n2                     6.0                 20          0  Mid-range product   \n3                     9.0                 11          1  Mid-range product   \n4                    26.0                  7          0  Mid-range product   \n\n      busiest_day     slowest_day  \n0  Regularly busy  Regularly busy  \n1  Regularly busy  Regularly busy  \n2    Busiest days    Busiest days  \n3    Slowest days    Slowest days  \n4    Busiest days    Busiest days  ",
      "text/html": "<div>\n<style scoped>\n    .dataframe tbody tr th:only-of-type {\n        vertical-align: middle;\n    }\n\n    .dataframe tbody tr th {\n        vertical-align: top;\n    }\n\n    .dataframe thead th {\n        text-align: right;\n    }\n</style>\n<table border=\"1\" class=\"dataframe\">\n  <thead>\n    <tr style=\"text-align: right;\">\n      <th></th>\n      <th>product_id</th>\n      <th>product_name</th>\n      <th>aisle_id</th>\n      <th>department_id</th>\n      <th>prices</th>\n      <th>order_id</th>\n      <th>user_id</th>\n      <th>order_number</th>\n      <th>orders_day_of_week</th>\n      <th>order_hour_of_day</th>\n      <th>days_since_prior_order</th>\n      <th>add_to_cart_order</th>\n      <th>reordered</th>\n      <th>price_range_loc</th>\n      <th>busiest_day</th>\n      <th>slowest_day</th>\n    </tr>\n  </thead>\n  <tbody>\n    <tr>\n      <th>0</th>\n      <td>1</td>\n      <td>Chocolate Sandwich Cookies</td>\n      <td>61</td>\n      <td>19</td>\n      <td>5.8</td>\n      <td>3139998</td>\n      <td>138</td>\n      <td>28</td>\n      <td>6</td>\n      <td>11</td>\n      <td>3.0</td>\n      <td>5</td>\n      <td>0</td>\n      <td>Mid-range product</td>\n      <td>Regularly busy</td>\n      <td>Regularly busy</td>\n    </tr>\n    <tr>\n      <th>1</th>\n      <td>1</td>\n      <td>Chocolate Sandwich Cookies</td>\n      <td>61</td>\n      <td>19</td>\n      <td>5.8</td>\n      <td>1977647</td>\n      <td>138</td>\n      <td>30</td>\n      <td>6</td>\n      <td>17</td>\n      <td>20.0</td>\n      <td>1</td>\n      <td>1</td>\n      <td>Mid-range product</td>\n      <td>Regularly busy</td>\n      <td>Regularly busy</td>\n    </tr>\n    <tr>\n      <th>2</th>\n      <td>1</td>\n      <td>Chocolate Sandwich Cookies</td>\n      <td>61</td>\n      <td>19</td>\n      <td>5.8</td>\n      <td>389851</td>\n      <td>709</td>\n      <td>2</td>\n      <td>0</td>\n      <td>21</td>\n      <td>6.0</td>\n      <td>20</td>\n      <td>0</td>\n      <td>Mid-range product</td>\n      <td>Busiest days</td>\n      <td>Busiest days</td>\n    </tr>\n    <tr>\n      <th>3</th>\n      <td>1</td>\n      <td>Chocolate Sandwich Cookies</td>\n      <td>61</td>\n      <td>19</td>\n      <td>5.8</td>\n      <td>1813452</td>\n      <td>764</td>\n      <td>3</td>\n      <td>4</td>\n      <td>17</td>\n      <td>9.0</td>\n      <td>11</td>\n      <td>1</td>\n      <td>Mid-range product</td>\n      <td>Slowest days</td>\n      <td>Slowest days</td>\n    </tr>\n    <tr>\n      <th>4</th>\n      <td>1</td>\n      <td>Chocolate Sandwich Cookies</td>\n      <td>61</td>\n      <td>19</td>\n      <td>5.8</td>\n      <td>1701441</td>\n      <td>777</td>\n      <td>16</td>\n      <td>1</td>\n      <td>7</td>\n      <td>26.0</td>\n      <td>7</td>\n      <td>0</td>\n      <td>Mid-range product</td>\n      <td>Busiest days</td>\n      <td>Busiest days</td>\n    </tr>\n  </tbody>\n</table>\n</div>"
     },
     "execution_count": 33,
     "metadata": {},
     "output_type": "execute_result"
    }
   ],
   "source": [
    "df_ords_prods_merged.head()"
   ],
   "metadata": {
    "collapsed": false,
    "ExecuteTime": {
     "end_time": "2023-10-20T12:17:41.714411Z",
     "start_time": "2023-10-20T12:17:41.672552500Z"
    }
   },
   "id": "fc9d7158aabf697f"
  },
  {
   "cell_type": "markdown",
   "source": [
    "4. When too many users make Instacart orders at the same time, the app freezes. The senior technical officer at Instacart wants you to identify the busiest hours of the day. Rather than by hour, they want periods of time labeled “Most orders,” “Average orders,” and “Fewest orders.” Create a new column containing these labels called “busiest_period_of_day.”"
   ],
   "metadata": {
    "collapsed": false
   },
   "id": "c31d561d1eb2b368"
  },
  {
   "cell_type": "code",
   "execution_count": 36,
   "outputs": [
    {
     "data": {
      "text/plain": "order_hour_of_day\n10    2593725\n11    2564597\n14    2517238\n15    2487586\n13    2487500\n12    2445841\n16    2364969\n9     2311334\n17    1943858\n8     1622394\n18    1520954\n19    1169224\n20     910005\n7      844665\n21     746254\n22     592432\n23     375889\n6      274801\n0      203460\n1      108110\n5       82706\n2       63961\n4       49400\n3       47860\nName: count, dtype: int64"
     },
     "execution_count": 36,
     "metadata": {},
     "output_type": "execute_result"
    }
   ],
   "source": [
    "# first we need to know on which day most orders take place. This is achieved by printing the frequency of the \"orders_day_of_the_week\" column.\n",
    "df_ords_prods_merged['order_hour_of_day'].value_counts(dropna= False)"
   ],
   "metadata": {
    "collapsed": false,
    "ExecuteTime": {
     "end_time": "2023-10-20T12:39:29.121883500Z",
     "start_time": "2023-10-20T12:39:28.679060900Z"
    }
   },
   "id": "be3485abfc99b851"
  },
  {
   "cell_type": "code",
   "execution_count": 37,
   "outputs": [],
   "source": [
    "# Create a list to store the labels for busiest periods of the day\n",
    "busiest_period_of_day = []"
   ],
   "metadata": {
    "collapsed": false,
    "ExecuteTime": {
     "end_time": "2023-10-20T12:55:15.340454600Z",
     "start_time": "2023-10-20T12:55:15.331480600Z"
    }
   },
   "id": "3d98dedd2bc02e4a"
  },
  {
   "cell_type": "code",
   "execution_count": 38,
   "outputs": [],
   "source": [
    "# Define the criteria for busiest, average, and fewest orders\n",
    "most_orders_hours = [10, 11, 14, 15, 13, 12] # Hours with the highest orders\n",
    "average_orders_hours = [16, 9, 17, 8, 18, 19] # Hours with moderate order counts\n",
    "fewest_orders_hours = [20, 7, 21, 22, 23, 6, 0, 1, 5, 2, 4, 3] # Hours with the lowest order counts"
   ],
   "metadata": {
    "collapsed": false,
    "ExecuteTime": {
     "end_time": "2023-10-20T13:00:33.271710Z",
     "start_time": "2023-10-20T13:00:33.263731200Z"
    }
   },
   "id": "daf064596490053b"
  },
  {
   "cell_type": "code",
   "execution_count": 39,
   "outputs": [],
   "source": [
    "# Update the \"busiest_period_of_day\" column\n",
    "for hour in df_ords_prods_merged['order_hour_of_day']:\n",
    "    if hour in most_orders_hours:\n",
    "        busiest_period_of_day.append(\"Most orders\")\n",
    "    elif hour in average_orders_hours:\n",
    "        busiest_period_of_day.append(\"Average orders\")\n",
    "    else: \n",
    "        busiest_period_of_day.append(\"Fewest orders\")"
   ],
   "metadata": {
    "collapsed": false,
    "ExecuteTime": {
     "end_time": "2023-10-20T13:05:28.976328800Z",
     "start_time": "2023-10-20T13:05:13.727097100Z"
    }
   },
   "id": "6619d394fe71add3"
  },
  {
   "cell_type": "code",
   "execution_count": 40,
   "outputs": [],
   "source": [
    "# Add the new \"busiest_period_of_day\" column to the Dataframe\n",
    "df_ords_prods_merged['busiest_period_of_day'] = busiest_period_of_day"
   ],
   "metadata": {
    "collapsed": false,
    "ExecuteTime": {
     "end_time": "2023-10-20T13:07:38.416432300Z",
     "start_time": "2023-10-20T13:07:37.182778500Z"
    }
   },
   "id": "dac9347e6facf577"
  },
  {
   "cell_type": "code",
   "execution_count": 41,
   "outputs": [
    {
     "data": {
      "text/plain": "   product_id                product_name  aisle_id  department_id  prices  \\\n0           1  Chocolate Sandwich Cookies        61             19     5.8   \n1           1  Chocolate Sandwich Cookies        61             19     5.8   \n2           1  Chocolate Sandwich Cookies        61             19     5.8   \n3           1  Chocolate Sandwich Cookies        61             19     5.8   \n4           1  Chocolate Sandwich Cookies        61             19     5.8   \n\n   order_id  user_id  order_number  orders_day_of_week  order_hour_of_day  \\\n0   3139998      138            28                   6                 11   \n1   1977647      138            30                   6                 17   \n2    389851      709             2                   0                 21   \n3   1813452      764             3                   4                 17   \n4   1701441      777            16                   1                  7   \n\n   days_since_prior_order  add_to_cart_order  reordered    price_range_loc  \\\n0                     3.0                  5          0  Mid-range product   \n1                    20.0                  1          1  Mid-range product   \n2                     6.0                 20          0  Mid-range product   \n3                     9.0                 11          1  Mid-range product   \n4                    26.0                  7          0  Mid-range product   \n\n      busiest_day     slowest_day busiest_period_of_day  \n0  Regularly busy  Regularly busy           Most orders  \n1  Regularly busy  Regularly busy        Average orders  \n2    Busiest days    Busiest days         Fewest orders  \n3    Slowest days    Slowest days        Average orders  \n4    Busiest days    Busiest days         Fewest orders  ",
      "text/html": "<div>\n<style scoped>\n    .dataframe tbody tr th:only-of-type {\n        vertical-align: middle;\n    }\n\n    .dataframe tbody tr th {\n        vertical-align: top;\n    }\n\n    .dataframe thead th {\n        text-align: right;\n    }\n</style>\n<table border=\"1\" class=\"dataframe\">\n  <thead>\n    <tr style=\"text-align: right;\">\n      <th></th>\n      <th>product_id</th>\n      <th>product_name</th>\n      <th>aisle_id</th>\n      <th>department_id</th>\n      <th>prices</th>\n      <th>order_id</th>\n      <th>user_id</th>\n      <th>order_number</th>\n      <th>orders_day_of_week</th>\n      <th>order_hour_of_day</th>\n      <th>days_since_prior_order</th>\n      <th>add_to_cart_order</th>\n      <th>reordered</th>\n      <th>price_range_loc</th>\n      <th>busiest_day</th>\n      <th>slowest_day</th>\n      <th>busiest_period_of_day</th>\n    </tr>\n  </thead>\n  <tbody>\n    <tr>\n      <th>0</th>\n      <td>1</td>\n      <td>Chocolate Sandwich Cookies</td>\n      <td>61</td>\n      <td>19</td>\n      <td>5.8</td>\n      <td>3139998</td>\n      <td>138</td>\n      <td>28</td>\n      <td>6</td>\n      <td>11</td>\n      <td>3.0</td>\n      <td>5</td>\n      <td>0</td>\n      <td>Mid-range product</td>\n      <td>Regularly busy</td>\n      <td>Regularly busy</td>\n      <td>Most orders</td>\n    </tr>\n    <tr>\n      <th>1</th>\n      <td>1</td>\n      <td>Chocolate Sandwich Cookies</td>\n      <td>61</td>\n      <td>19</td>\n      <td>5.8</td>\n      <td>1977647</td>\n      <td>138</td>\n      <td>30</td>\n      <td>6</td>\n      <td>17</td>\n      <td>20.0</td>\n      <td>1</td>\n      <td>1</td>\n      <td>Mid-range product</td>\n      <td>Regularly busy</td>\n      <td>Regularly busy</td>\n      <td>Average orders</td>\n    </tr>\n    <tr>\n      <th>2</th>\n      <td>1</td>\n      <td>Chocolate Sandwich Cookies</td>\n      <td>61</td>\n      <td>19</td>\n      <td>5.8</td>\n      <td>389851</td>\n      <td>709</td>\n      <td>2</td>\n      <td>0</td>\n      <td>21</td>\n      <td>6.0</td>\n      <td>20</td>\n      <td>0</td>\n      <td>Mid-range product</td>\n      <td>Busiest days</td>\n      <td>Busiest days</td>\n      <td>Fewest orders</td>\n    </tr>\n    <tr>\n      <th>3</th>\n      <td>1</td>\n      <td>Chocolate Sandwich Cookies</td>\n      <td>61</td>\n      <td>19</td>\n      <td>5.8</td>\n      <td>1813452</td>\n      <td>764</td>\n      <td>3</td>\n      <td>4</td>\n      <td>17</td>\n      <td>9.0</td>\n      <td>11</td>\n      <td>1</td>\n      <td>Mid-range product</td>\n      <td>Slowest days</td>\n      <td>Slowest days</td>\n      <td>Average orders</td>\n    </tr>\n    <tr>\n      <th>4</th>\n      <td>1</td>\n      <td>Chocolate Sandwich Cookies</td>\n      <td>61</td>\n      <td>19</td>\n      <td>5.8</td>\n      <td>1701441</td>\n      <td>777</td>\n      <td>16</td>\n      <td>1</td>\n      <td>7</td>\n      <td>26.0</td>\n      <td>7</td>\n      <td>0</td>\n      <td>Mid-range product</td>\n      <td>Busiest days</td>\n      <td>Busiest days</td>\n      <td>Fewest orders</td>\n    </tr>\n  </tbody>\n</table>\n</div>"
     },
     "execution_count": 41,
     "metadata": {},
     "output_type": "execute_result"
    }
   ],
   "source": [
    "df_ords_prods_merged.head()"
   ],
   "metadata": {
    "collapsed": false,
    "ExecuteTime": {
     "end_time": "2023-10-20T13:08:09.905202500Z",
     "start_time": "2023-10-20T13:08:09.864342600Z"
    }
   },
   "id": "6a7044455ba5e578"
  },
  {
   "cell_type": "markdown",
   "source": [
    "5.\tPrint the frequency for this new column."
   ],
   "metadata": {
    "collapsed": false
   },
   "id": "4a017f46f32cec6a"
  },
  {
   "cell_type": "code",
   "execution_count": 42,
   "outputs": [
    {
     "data": {
      "text/plain": "busiest_period_of_day\nMost orders       15096487\nAverage orders    10932733\nFewest orders      4299543\nName: count, dtype: int64"
     },
     "execution_count": 42,
     "metadata": {},
     "output_type": "execute_result"
    }
   ],
   "source": [
    "df_ords_prods_merged['busiest_period_of_day'].value_counts(dropna= False)"
   ],
   "metadata": {
    "collapsed": false,
    "ExecuteTime": {
     "end_time": "2023-10-20T13:11:08.080961100Z",
     "start_time": "2023-10-20T13:11:08.060809800Z"
    }
   },
   "id": "7bbdbcaae297dc7d"
  },
  {
   "cell_type": "code",
   "execution_count": 43,
   "outputs": [],
   "source": [
    "df_ords_prods_merged.to_pickle(os.path.join(path, 'Prepared data', 'orders_products_new_variables.pkl'))"
   ],
   "metadata": {
    "collapsed": false,
    "ExecuteTime": {
     "end_time": "2023-10-20T13:18:48.229934900Z",
     "start_time": "2023-10-20T13:18:36.156367500Z"
    }
   },
   "id": "d737360c21611c4e"
  },
  {
   "cell_type": "markdown",
   "source": [],
   "metadata": {
    "collapsed": false
   },
   "id": "7725069114144b09"
  }
 ],
 "metadata": {
  "kernelspec": {
   "display_name": "Python 3",
   "language": "python",
   "name": "python3"
  },
  "language_info": {
   "codemirror_mode": {
    "name": "ipython",
    "version": 2
   },
   "file_extension": ".py",
   "mimetype": "text/x-python",
   "name": "python",
   "nbconvert_exporter": "python",
   "pygments_lexer": "ipython2",
   "version": "2.7.6"
  }
 },
 "nbformat": 4,
 "nbformat_minor": 5
}
