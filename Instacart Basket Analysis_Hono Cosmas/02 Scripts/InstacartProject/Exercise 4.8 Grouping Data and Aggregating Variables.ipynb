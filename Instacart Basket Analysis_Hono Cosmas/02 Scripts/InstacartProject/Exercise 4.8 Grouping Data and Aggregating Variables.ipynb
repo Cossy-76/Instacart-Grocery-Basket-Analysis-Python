{
 "cells": [
  {
   "cell_type": "markdown",
   "source": [
    "1.\tCreate a new notebook for this task. Be sure to import the relevant libraries, along with your ords_prods_merge dataframe, which should include your newly derived columns from the previous Exercise."
   ],
   "metadata": {
    "collapsed": false
   },
   "id": "e9df9a46a5612d0d"
  },
  {
   "cell_type": "code",
   "execution_count": 1,
   "id": "initial_id",
   "metadata": {
    "collapsed": true,
    "ExecuteTime": {
     "end_time": "2023-10-22T10:46:31.760707900Z",
     "start_time": "2023-10-22T10:46:31.186616500Z"
    }
   },
   "outputs": [],
   "source": [
    "# Import libraries\n",
    "import pandas as pd\n",
    "import numpy as np\n",
    "import os\n"
   ]
  },
  {
   "cell_type": "code",
   "execution_count": 2,
   "outputs": [],
   "source": [
    "path = r'C:\\Users\\honoc\\Documents\\CareerFoundry Folder\\Python Fundamentals for Data Analysts\\Exercise 4.3 Folder'\n",
    "path\n",
    "ords_prods_merge = pd.read_pickle(os.path.join(path, 'Prepared data', 'orders_products_new_variables.pkl'))"
   ],
   "metadata": {
    "collapsed": false,
    "ExecuteTime": {
     "end_time": "2023-10-22T10:47:14.523314Z",
     "start_time": "2023-10-22T10:47:03.642945Z"
    }
   },
   "id": "bd0717d5eab1281"
  },
  {
   "cell_type": "code",
   "execution_count": 3,
   "outputs": [
    {
     "data": {
      "text/plain": "(30328763, 17)"
     },
     "execution_count": 3,
     "metadata": {},
     "output_type": "execute_result"
    }
   ],
   "source": [
    "ords_prods_merge.shape"
   ],
   "metadata": {
    "collapsed": false,
    "ExecuteTime": {
     "end_time": "2023-10-22T11:06:31.634026200Z",
     "start_time": "2023-10-22T11:06:31.622057400Z"
    }
   },
   "id": "cbc867e09b2885fd"
  },
  {
   "cell_type": "markdown",
   "source": [
    "2.\tIn this Exercise, you learned how to find the aggregated mean of the “order_number” column grouped by “department_id” for a subset of your dataframe. Now, repeat this process for the entire dataframe."
   ],
   "metadata": {
    "collapsed": false
   },
   "id": "8ca7bdd534f9f10a"
  },
  {
   "cell_type": "markdown",
   "source": [
    "Grouping dataframe by \"department_id\""
   ],
   "metadata": {
    "collapsed": false
   },
   "id": "306d2ff5fb7cfe60"
  },
  {
   "cell_type": "code",
   "execution_count": 5,
   "outputs": [
    {
     "data": {
      "text/plain": "<pandas.core.groupby.generic.DataFrameGroupBy object at 0x00000145311C1DB0>"
     },
     "execution_count": 5,
     "metadata": {},
     "output_type": "execute_result"
    }
   ],
   "source": [
    "ords_prods_merge.groupby('department_id')"
   ],
   "metadata": {
    "collapsed": false,
    "ExecuteTime": {
     "end_time": "2023-10-22T11:12:32.138488500Z",
     "start_time": "2023-10-22T11:12:32.077370Z"
    }
   },
   "id": "ac0b0b8636103a33"
  },
  {
   "cell_type": "code",
   "execution_count": 6,
   "outputs": [
    {
     "data": {
      "text/plain": "              order_number\n                      mean\ndepartment_id             \n1                16.559358\n2                18.413176\n3                18.279600\n4                18.915890\n5                16.497751\n6                17.609390\n7                18.303975\n8                16.383301\n9                17.022963\n10               21.227447\n11               17.311768\n12               16.953613\n13               17.727470\n14               17.898097\n15               17.290123\n16               18.757796\n17               16.808683\n18               20.336389\n19               18.258620\n20               17.578959\n21               23.644477",
      "text/html": "<div>\n<style scoped>\n    .dataframe tbody tr th:only-of-type {\n        vertical-align: middle;\n    }\n\n    .dataframe tbody tr th {\n        vertical-align: top;\n    }\n\n    .dataframe thead tr th {\n        text-align: left;\n    }\n\n    .dataframe thead tr:last-of-type th {\n        text-align: right;\n    }\n</style>\n<table border=\"1\" class=\"dataframe\">\n  <thead>\n    <tr>\n      <th></th>\n      <th>order_number</th>\n    </tr>\n    <tr>\n      <th></th>\n      <th>mean</th>\n    </tr>\n    <tr>\n      <th>department_id</th>\n      <th></th>\n    </tr>\n  </thead>\n  <tbody>\n    <tr>\n      <th>1</th>\n      <td>16.559358</td>\n    </tr>\n    <tr>\n      <th>2</th>\n      <td>18.413176</td>\n    </tr>\n    <tr>\n      <th>3</th>\n      <td>18.279600</td>\n    </tr>\n    <tr>\n      <th>4</th>\n      <td>18.915890</td>\n    </tr>\n    <tr>\n      <th>5</th>\n      <td>16.497751</td>\n    </tr>\n    <tr>\n      <th>6</th>\n      <td>17.609390</td>\n    </tr>\n    <tr>\n      <th>7</th>\n      <td>18.303975</td>\n    </tr>\n    <tr>\n      <th>8</th>\n      <td>16.383301</td>\n    </tr>\n    <tr>\n      <th>9</th>\n      <td>17.022963</td>\n    </tr>\n    <tr>\n      <th>10</th>\n      <td>21.227447</td>\n    </tr>\n    <tr>\n      <th>11</th>\n      <td>17.311768</td>\n    </tr>\n    <tr>\n      <th>12</th>\n      <td>16.953613</td>\n    </tr>\n    <tr>\n      <th>13</th>\n      <td>17.727470</td>\n    </tr>\n    <tr>\n      <th>14</th>\n      <td>17.898097</td>\n    </tr>\n    <tr>\n      <th>15</th>\n      <td>17.290123</td>\n    </tr>\n    <tr>\n      <th>16</th>\n      <td>18.757796</td>\n    </tr>\n    <tr>\n      <th>17</th>\n      <td>16.808683</td>\n    </tr>\n    <tr>\n      <th>18</th>\n      <td>20.336389</td>\n    </tr>\n    <tr>\n      <th>19</th>\n      <td>18.258620</td>\n    </tr>\n    <tr>\n      <th>20</th>\n      <td>17.578959</td>\n    </tr>\n    <tr>\n      <th>21</th>\n      <td>23.644477</td>\n    </tr>\n  </tbody>\n</table>\n</div>"
     },
     "execution_count": 6,
     "metadata": {},
     "output_type": "execute_result"
    }
   ],
   "source": [
    "ords_prods_merge.groupby('department_id').agg({'order_number': ['mean']})"
   ],
   "metadata": {
    "collapsed": false,
    "ExecuteTime": {
     "end_time": "2023-10-22T11:13:27.270785200Z",
     "start_time": "2023-10-22T11:13:26.238005600Z"
    }
   },
   "id": "33605fbc04b2f322"
  },
  {
   "cell_type": "markdown",
   "source": [
    "3.\tHow do the results for the entire dataframe differ from those of the subset? Include your comments in a markdown cell below the executed code.Analyze the result. \n",
    "The absolute differences in mean values between the subset and the entire dataframe are relatively small, with most departments differing by less than one uint, but there are some departments with larger differences, such as departments with IDs: [10, 12, 21]"
   ],
   "metadata": {
    "collapsed": false
   },
   "id": "732ba4cd9f62001a"
  },
  {
   "cell_type": "markdown",
   "source": [
    "4.\tFollow the instructions in the Exercise for creating a loyalty flag for existing customers using the transform() and loc() functions."
   ],
   "metadata": {
    "collapsed": false
   },
   "id": "9e1c456e8bfa1dd4"
  },
  {
   "cell_type": "markdown",
   "source": [
    "Creating a loyalty flag \"transform()\" and \"loc()\" functions"
   ],
   "metadata": {
    "collapsed": false
   },
   "id": "4f24af4f9c193f45"
  },
  {
   "cell_type": "code",
   "execution_count": 8,
   "outputs": [
    {
     "data": {
      "text/plain": "    product_id                product_name  aisle_id  department_id  prices  \\\n0            1  Chocolate Sandwich Cookies        61             19     5.8   \n1            1  Chocolate Sandwich Cookies        61             19     5.8   \n2            1  Chocolate Sandwich Cookies        61             19     5.8   \n3            1  Chocolate Sandwich Cookies        61             19     5.8   \n4            1  Chocolate Sandwich Cookies        61             19     5.8   \n5            1  Chocolate Sandwich Cookies        61             19     5.8   \n6            1  Chocolate Sandwich Cookies        61             19     5.8   \n7            1  Chocolate Sandwich Cookies        61             19     5.8   \n8            1  Chocolate Sandwich Cookies        61             19     5.8   \n9            1  Chocolate Sandwich Cookies        61             19     5.8   \n10           1  Chocolate Sandwich Cookies        61             19     5.8   \n11           1  Chocolate Sandwich Cookies        61             19     5.8   \n12           1  Chocolate Sandwich Cookies        61             19     5.8   \n13           1  Chocolate Sandwich Cookies        61             19     5.8   \n14           1  Chocolate Sandwich Cookies        61             19     5.8   \n\n    order_id  user_id  order_number  orders_day_of_week  order_hour_of_day  \\\n0    3139998      138            28                   6                 11   \n1    1977647      138            30                   6                 17   \n2     389851      709             2                   0                 21   \n3    1813452      764             3                   4                 17   \n4    1701441      777            16                   1                  7   \n5    1871483      825             3                   2                 14   \n6    1290456      910            12                   3                 10   \n7     369558     1052            10                   1                 20   \n8     589712     1052            15                   1                 12   \n9     497193     1480            36                   3                 13   \n10   1727826     1480            38                   4                 13   \n11   2694698     1480            39                   2                 12   \n12   3171753     1494             6                   3                 10   \n13    186761     1494             7                   2                  8   \n14    317121     1494             9                   5                  8   \n\n    days_since_prior_order  add_to_cart_order  reordered    price_range_loc  \\\n0                      3.0                  5          0  Mid-range product   \n1                     20.0                  1          1  Mid-range product   \n2                      6.0                 20          0  Mid-range product   \n3                      9.0                 11          1  Mid-range product   \n4                     26.0                  7          0  Mid-range product   \n5                     30.0                  2          0  Mid-range product   \n6                     30.0                  1          0  Mid-range product   \n7                     19.0                  1          0  Mid-range product   \n8                     15.0                  2          1  Mid-range product   \n9                      7.0                  1          0  Mid-range product   \n10                     7.0                  3          1  Mid-range product   \n11                    12.0                  4          1  Mid-range product   \n12                     2.0                  8          0  Mid-range product   \n13                     6.0                 18          1  Mid-range product   \n14                    10.0                 12          1  Mid-range product   \n\n       busiest_day     slowest_day busiest_period_of_day  max_order  \n0   Regularly busy  Regularly busy           Most orders         32  \n1   Regularly busy  Regularly busy        Average orders         32  \n2     Busiest days    Busiest days         Fewest orders          5  \n3     Slowest days    Slowest days        Average orders          3  \n4     Busiest days    Busiest days         Fewest orders         26  \n5   Regularly busy  Regularly busy           Most orders          9  \n6     Slowest days    Slowest days           Most orders         12  \n7     Busiest days    Busiest days         Fewest orders         20  \n8     Busiest days    Busiest days           Most orders         20  \n9     Slowest days    Slowest days           Most orders         43  \n10    Slowest days    Slowest days           Most orders         43  \n11  Regularly busy  Regularly busy           Most orders         43  \n12    Slowest days    Slowest days           Most orders         13  \n13  Regularly busy  Regularly busy        Average orders         13  \n14  Regularly busy  Regularly busy        Average orders         13  ",
      "text/html": "<div>\n<style scoped>\n    .dataframe tbody tr th:only-of-type {\n        vertical-align: middle;\n    }\n\n    .dataframe tbody tr th {\n        vertical-align: top;\n    }\n\n    .dataframe thead th {\n        text-align: right;\n    }\n</style>\n<table border=\"1\" class=\"dataframe\">\n  <thead>\n    <tr style=\"text-align: right;\">\n      <th></th>\n      <th>product_id</th>\n      <th>product_name</th>\n      <th>aisle_id</th>\n      <th>department_id</th>\n      <th>prices</th>\n      <th>order_id</th>\n      <th>user_id</th>\n      <th>order_number</th>\n      <th>orders_day_of_week</th>\n      <th>order_hour_of_day</th>\n      <th>days_since_prior_order</th>\n      <th>add_to_cart_order</th>\n      <th>reordered</th>\n      <th>price_range_loc</th>\n      <th>busiest_day</th>\n      <th>slowest_day</th>\n      <th>busiest_period_of_day</th>\n      <th>max_order</th>\n    </tr>\n  </thead>\n  <tbody>\n    <tr>\n      <th>0</th>\n      <td>1</td>\n      <td>Chocolate Sandwich Cookies</td>\n      <td>61</td>\n      <td>19</td>\n      <td>5.8</td>\n      <td>3139998</td>\n      <td>138</td>\n      <td>28</td>\n      <td>6</td>\n      <td>11</td>\n      <td>3.0</td>\n      <td>5</td>\n      <td>0</td>\n      <td>Mid-range product</td>\n      <td>Regularly busy</td>\n      <td>Regularly busy</td>\n      <td>Most orders</td>\n      <td>32</td>\n    </tr>\n    <tr>\n      <th>1</th>\n      <td>1</td>\n      <td>Chocolate Sandwich Cookies</td>\n      <td>61</td>\n      <td>19</td>\n      <td>5.8</td>\n      <td>1977647</td>\n      <td>138</td>\n      <td>30</td>\n      <td>6</td>\n      <td>17</td>\n      <td>20.0</td>\n      <td>1</td>\n      <td>1</td>\n      <td>Mid-range product</td>\n      <td>Regularly busy</td>\n      <td>Regularly busy</td>\n      <td>Average orders</td>\n      <td>32</td>\n    </tr>\n    <tr>\n      <th>2</th>\n      <td>1</td>\n      <td>Chocolate Sandwich Cookies</td>\n      <td>61</td>\n      <td>19</td>\n      <td>5.8</td>\n      <td>389851</td>\n      <td>709</td>\n      <td>2</td>\n      <td>0</td>\n      <td>21</td>\n      <td>6.0</td>\n      <td>20</td>\n      <td>0</td>\n      <td>Mid-range product</td>\n      <td>Busiest days</td>\n      <td>Busiest days</td>\n      <td>Fewest orders</td>\n      <td>5</td>\n    </tr>\n    <tr>\n      <th>3</th>\n      <td>1</td>\n      <td>Chocolate Sandwich Cookies</td>\n      <td>61</td>\n      <td>19</td>\n      <td>5.8</td>\n      <td>1813452</td>\n      <td>764</td>\n      <td>3</td>\n      <td>4</td>\n      <td>17</td>\n      <td>9.0</td>\n      <td>11</td>\n      <td>1</td>\n      <td>Mid-range product</td>\n      <td>Slowest days</td>\n      <td>Slowest days</td>\n      <td>Average orders</td>\n      <td>3</td>\n    </tr>\n    <tr>\n      <th>4</th>\n      <td>1</td>\n      <td>Chocolate Sandwich Cookies</td>\n      <td>61</td>\n      <td>19</td>\n      <td>5.8</td>\n      <td>1701441</td>\n      <td>777</td>\n      <td>16</td>\n      <td>1</td>\n      <td>7</td>\n      <td>26.0</td>\n      <td>7</td>\n      <td>0</td>\n      <td>Mid-range product</td>\n      <td>Busiest days</td>\n      <td>Busiest days</td>\n      <td>Fewest orders</td>\n      <td>26</td>\n    </tr>\n    <tr>\n      <th>5</th>\n      <td>1</td>\n      <td>Chocolate Sandwich Cookies</td>\n      <td>61</td>\n      <td>19</td>\n      <td>5.8</td>\n      <td>1871483</td>\n      <td>825</td>\n      <td>3</td>\n      <td>2</td>\n      <td>14</td>\n      <td>30.0</td>\n      <td>2</td>\n      <td>0</td>\n      <td>Mid-range product</td>\n      <td>Regularly busy</td>\n      <td>Regularly busy</td>\n      <td>Most orders</td>\n      <td>9</td>\n    </tr>\n    <tr>\n      <th>6</th>\n      <td>1</td>\n      <td>Chocolate Sandwich Cookies</td>\n      <td>61</td>\n      <td>19</td>\n      <td>5.8</td>\n      <td>1290456</td>\n      <td>910</td>\n      <td>12</td>\n      <td>3</td>\n      <td>10</td>\n      <td>30.0</td>\n      <td>1</td>\n      <td>0</td>\n      <td>Mid-range product</td>\n      <td>Slowest days</td>\n      <td>Slowest days</td>\n      <td>Most orders</td>\n      <td>12</td>\n    </tr>\n    <tr>\n      <th>7</th>\n      <td>1</td>\n      <td>Chocolate Sandwich Cookies</td>\n      <td>61</td>\n      <td>19</td>\n      <td>5.8</td>\n      <td>369558</td>\n      <td>1052</td>\n      <td>10</td>\n      <td>1</td>\n      <td>20</td>\n      <td>19.0</td>\n      <td>1</td>\n      <td>0</td>\n      <td>Mid-range product</td>\n      <td>Busiest days</td>\n      <td>Busiest days</td>\n      <td>Fewest orders</td>\n      <td>20</td>\n    </tr>\n    <tr>\n      <th>8</th>\n      <td>1</td>\n      <td>Chocolate Sandwich Cookies</td>\n      <td>61</td>\n      <td>19</td>\n      <td>5.8</td>\n      <td>589712</td>\n      <td>1052</td>\n      <td>15</td>\n      <td>1</td>\n      <td>12</td>\n      <td>15.0</td>\n      <td>2</td>\n      <td>1</td>\n      <td>Mid-range product</td>\n      <td>Busiest days</td>\n      <td>Busiest days</td>\n      <td>Most orders</td>\n      <td>20</td>\n    </tr>\n    <tr>\n      <th>9</th>\n      <td>1</td>\n      <td>Chocolate Sandwich Cookies</td>\n      <td>61</td>\n      <td>19</td>\n      <td>5.8</td>\n      <td>497193</td>\n      <td>1480</td>\n      <td>36</td>\n      <td>3</td>\n      <td>13</td>\n      <td>7.0</td>\n      <td>1</td>\n      <td>0</td>\n      <td>Mid-range product</td>\n      <td>Slowest days</td>\n      <td>Slowest days</td>\n      <td>Most orders</td>\n      <td>43</td>\n    </tr>\n    <tr>\n      <th>10</th>\n      <td>1</td>\n      <td>Chocolate Sandwich Cookies</td>\n      <td>61</td>\n      <td>19</td>\n      <td>5.8</td>\n      <td>1727826</td>\n      <td>1480</td>\n      <td>38</td>\n      <td>4</td>\n      <td>13</td>\n      <td>7.0</td>\n      <td>3</td>\n      <td>1</td>\n      <td>Mid-range product</td>\n      <td>Slowest days</td>\n      <td>Slowest days</td>\n      <td>Most orders</td>\n      <td>43</td>\n    </tr>\n    <tr>\n      <th>11</th>\n      <td>1</td>\n      <td>Chocolate Sandwich Cookies</td>\n      <td>61</td>\n      <td>19</td>\n      <td>5.8</td>\n      <td>2694698</td>\n      <td>1480</td>\n      <td>39</td>\n      <td>2</td>\n      <td>12</td>\n      <td>12.0</td>\n      <td>4</td>\n      <td>1</td>\n      <td>Mid-range product</td>\n      <td>Regularly busy</td>\n      <td>Regularly busy</td>\n      <td>Most orders</td>\n      <td>43</td>\n    </tr>\n    <tr>\n      <th>12</th>\n      <td>1</td>\n      <td>Chocolate Sandwich Cookies</td>\n      <td>61</td>\n      <td>19</td>\n      <td>5.8</td>\n      <td>3171753</td>\n      <td>1494</td>\n      <td>6</td>\n      <td>3</td>\n      <td>10</td>\n      <td>2.0</td>\n      <td>8</td>\n      <td>0</td>\n      <td>Mid-range product</td>\n      <td>Slowest days</td>\n      <td>Slowest days</td>\n      <td>Most orders</td>\n      <td>13</td>\n    </tr>\n    <tr>\n      <th>13</th>\n      <td>1</td>\n      <td>Chocolate Sandwich Cookies</td>\n      <td>61</td>\n      <td>19</td>\n      <td>5.8</td>\n      <td>186761</td>\n      <td>1494</td>\n      <td>7</td>\n      <td>2</td>\n      <td>8</td>\n      <td>6.0</td>\n      <td>18</td>\n      <td>1</td>\n      <td>Mid-range product</td>\n      <td>Regularly busy</td>\n      <td>Regularly busy</td>\n      <td>Average orders</td>\n      <td>13</td>\n    </tr>\n    <tr>\n      <th>14</th>\n      <td>1</td>\n      <td>Chocolate Sandwich Cookies</td>\n      <td>61</td>\n      <td>19</td>\n      <td>5.8</td>\n      <td>317121</td>\n      <td>1494</td>\n      <td>9</td>\n      <td>5</td>\n      <td>8</td>\n      <td>10.0</td>\n      <td>12</td>\n      <td>1</td>\n      <td>Mid-range product</td>\n      <td>Regularly busy</td>\n      <td>Regularly busy</td>\n      <td>Average orders</td>\n      <td>13</td>\n    </tr>\n  </tbody>\n</table>\n</div>"
     },
     "execution_count": 8,
     "metadata": {},
     "output_type": "execute_result"
    }
   ],
   "source": [
    "ords_prods_merge['max_order'] = ords_prods_merge.groupby(['user_id'])['order_number'].transform(np.max)\n",
    "ords_prods_merge.head(15)"
   ],
   "metadata": {
    "collapsed": false,
    "ExecuteTime": {
     "end_time": "2023-10-22T11:59:43.791379300Z",
     "start_time": "2023-10-22T11:59:42.222244Z"
    }
   },
   "id": "1127ba3b09d1fce0"
  },
  {
   "cell_type": "markdown",
   "source": [
    "Deriving columns with loc() function with the following criteria:\n",
    "(i)If the maximum orders the user has made is over 40, then the customer will be labeled a “Loyal customer.”\n",
    "(ii)If the maximum orders the user has made is over 10 but less than or equal to 40, then the customer will be labeled a “Regular customer.”\n",
    "(iii)If the maximum orders the user has made is less than or equal to 10, then the customer will be labeled a “New customer.”"
   ],
   "metadata": {
    "collapsed": false
   },
   "id": "2a076a3b946261d6"
  },
  {
   "cell_type": "code",
   "execution_count": 9,
   "outputs": [],
   "source": [
    "ords_prods_merge.loc[ords_prods_merge['max_order'] > 40, 'loyalty_flag'] = 'Loyal customer'"
   ],
   "metadata": {
    "collapsed": false,
    "ExecuteTime": {
     "end_time": "2023-10-22T12:05:25.882867200Z",
     "start_time": "2023-10-22T12:05:24.460217100Z"
    }
   },
   "id": "ddffe8b762288e2"
  },
  {
   "cell_type": "code",
   "execution_count": 10,
   "outputs": [],
   "source": [
    "ords_prods_merge.loc[(ords_prods_merge['max_order'] <= 40) & (ords_prods_merge['max_order'] > 10), 'loyalty_flag'] = 'Regular customer'"
   ],
   "metadata": {
    "collapsed": false,
    "ExecuteTime": {
     "end_time": "2023-10-22T12:05:54.311324600Z",
     "start_time": "2023-10-22T12:05:53.574497300Z"
    }
   },
   "id": "aada330777388ba2"
  },
  {
   "cell_type": "code",
   "execution_count": 11,
   "outputs": [],
   "source": [
    "ords_prods_merge.loc[ords_prods_merge['max_order'] <= 10, 'loyalty_flag'] = 'New customer'"
   ],
   "metadata": {
    "collapsed": false,
    "ExecuteTime": {
     "end_time": "2023-10-22T12:06:18.505147700Z",
     "start_time": "2023-10-22T12:06:17.897392600Z"
    }
   },
   "id": "2a78b6d384463dca"
  },
  {
   "cell_type": "code",
   "execution_count": 12,
   "outputs": [
    {
     "data": {
      "text/plain": "loyalty_flag\nRegular customer    15081691\nLoyal customer      10095381\nNew customer         5151691\nName: count, dtype: int64"
     },
     "execution_count": 12,
     "metadata": {},
     "output_type": "execute_result"
    }
   ],
   "source": [
    "ords_prods_merge['loyalty_flag'].value_counts(dropna= False)"
   ],
   "metadata": {
    "collapsed": false,
    "ExecuteTime": {
     "end_time": "2023-10-22T12:06:42.683319800Z",
     "start_time": "2023-10-22T12:06:42.017721600Z"
    }
   },
   "id": "29703f9cfc516a0b"
  },
  {
   "cell_type": "markdown",
   "source": [
    "5.\tThe marketing team at Instacart wants to know whether there’s a difference between the spending habits of the three types of customers you identified. Use the loyalty flag you created and check the basic statistics of the product prices for each loyalty category (Loyal Customer, Regular Customer, and New Customer). What you’re trying to determine is whether the prices of products purchased by loyal customers differ from those purchased by regular or new customers."
   ],
   "metadata": {
    "collapsed": false
   },
   "id": "17b7dba464bf9223"
  },
  {
   "cell_type": "code",
   "execution_count": 16,
   "outputs": [
    {
     "data": {
      "text/plain": "                                          count        mean          std  \\\nloyalty_flag     price_range_loc                                           \nLoyal customer   High-range product    117725.0  245.848779  3037.560585   \n                 Low-range product    3155876.0    3.035962     1.192488   \n                 Mid-range product    6821780.0    9.746741     2.882215   \nNew customer     High-range product     70682.0  428.111828  5146.051169   \n                 Low-range product    1610629.0    3.010562     1.204013   \n                 Mid-range product    3470380.0    9.769844     2.899192   \nRegular customer High-range product    201438.0  375.909731  4709.740288   \n                 Low-range product    4710269.0    3.019118     1.200118   \n                 Mid-range product   10169984.0    9.762477     2.894435   \n\n                                      min   25%   50%   75%      max  \nloyalty_flag     price_range_loc                                      \nLoyal customer   High-range product  15.1  18.6  21.1  23.1  99999.0  \n                 Low-range product    1.0   2.0   3.1   4.0      5.0  \n                 Mid-range product    5.1   7.2   9.5  12.3     15.0  \nNew customer     High-range product  15.1  18.5  20.9  23.2  99999.0  \n                 Low-range product    1.0   1.9   3.1   4.0      5.0  \n                 Mid-range product    5.1   7.2   9.6  12.3     15.0  \nRegular customer High-range product  15.1  18.6  21.1  23.2  99999.0  \n                 Low-range product    1.0   1.9   3.1   4.0      5.0  \n                 Mid-range product    5.1   7.2   9.6  12.3     15.0  ",
      "text/html": "<div>\n<style scoped>\n    .dataframe tbody tr th:only-of-type {\n        vertical-align: middle;\n    }\n\n    .dataframe tbody tr th {\n        vertical-align: top;\n    }\n\n    .dataframe thead th {\n        text-align: right;\n    }\n</style>\n<table border=\"1\" class=\"dataframe\">\n  <thead>\n    <tr style=\"text-align: right;\">\n      <th></th>\n      <th></th>\n      <th>count</th>\n      <th>mean</th>\n      <th>std</th>\n      <th>min</th>\n      <th>25%</th>\n      <th>50%</th>\n      <th>75%</th>\n      <th>max</th>\n    </tr>\n    <tr>\n      <th>loyalty_flag</th>\n      <th>price_range_loc</th>\n      <th></th>\n      <th></th>\n      <th></th>\n      <th></th>\n      <th></th>\n      <th></th>\n      <th></th>\n      <th></th>\n    </tr>\n  </thead>\n  <tbody>\n    <tr>\n      <th rowspan=\"3\" valign=\"top\">Loyal customer</th>\n      <th>High-range product</th>\n      <td>117725.0</td>\n      <td>245.848779</td>\n      <td>3037.560585</td>\n      <td>15.1</td>\n      <td>18.6</td>\n      <td>21.1</td>\n      <td>23.1</td>\n      <td>99999.0</td>\n    </tr>\n    <tr>\n      <th>Low-range product</th>\n      <td>3155876.0</td>\n      <td>3.035962</td>\n      <td>1.192488</td>\n      <td>1.0</td>\n      <td>2.0</td>\n      <td>3.1</td>\n      <td>4.0</td>\n      <td>5.0</td>\n    </tr>\n    <tr>\n      <th>Mid-range product</th>\n      <td>6821780.0</td>\n      <td>9.746741</td>\n      <td>2.882215</td>\n      <td>5.1</td>\n      <td>7.2</td>\n      <td>9.5</td>\n      <td>12.3</td>\n      <td>15.0</td>\n    </tr>\n    <tr>\n      <th rowspan=\"3\" valign=\"top\">New customer</th>\n      <th>High-range product</th>\n      <td>70682.0</td>\n      <td>428.111828</td>\n      <td>5146.051169</td>\n      <td>15.1</td>\n      <td>18.5</td>\n      <td>20.9</td>\n      <td>23.2</td>\n      <td>99999.0</td>\n    </tr>\n    <tr>\n      <th>Low-range product</th>\n      <td>1610629.0</td>\n      <td>3.010562</td>\n      <td>1.204013</td>\n      <td>1.0</td>\n      <td>1.9</td>\n      <td>3.1</td>\n      <td>4.0</td>\n      <td>5.0</td>\n    </tr>\n    <tr>\n      <th>Mid-range product</th>\n      <td>3470380.0</td>\n      <td>9.769844</td>\n      <td>2.899192</td>\n      <td>5.1</td>\n      <td>7.2</td>\n      <td>9.6</td>\n      <td>12.3</td>\n      <td>15.0</td>\n    </tr>\n    <tr>\n      <th rowspan=\"3\" valign=\"top\">Regular customer</th>\n      <th>High-range product</th>\n      <td>201438.0</td>\n      <td>375.909731</td>\n      <td>4709.740288</td>\n      <td>15.1</td>\n      <td>18.6</td>\n      <td>21.1</td>\n      <td>23.2</td>\n      <td>99999.0</td>\n    </tr>\n    <tr>\n      <th>Low-range product</th>\n      <td>4710269.0</td>\n      <td>3.019118</td>\n      <td>1.200118</td>\n      <td>1.0</td>\n      <td>1.9</td>\n      <td>3.1</td>\n      <td>4.0</td>\n      <td>5.0</td>\n    </tr>\n    <tr>\n      <th>Mid-range product</th>\n      <td>10169984.0</td>\n      <td>9.762477</td>\n      <td>2.894435</td>\n      <td>5.1</td>\n      <td>7.2</td>\n      <td>9.6</td>\n      <td>12.3</td>\n      <td>15.0</td>\n    </tr>\n  </tbody>\n</table>\n</div>"
     },
     "execution_count": 16,
     "metadata": {},
     "output_type": "execute_result"
    }
   ],
   "source": [
    "# Group the data by 'loyalty_flag' and 'price_range_loc'\n",
    "loyalty_price_stats = ords_prods_merge.groupby(['loyalty_flag', 'price_range_loc'])['prices'].describe()\n",
    "loyalty_price_stats"
   ],
   "metadata": {
    "collapsed": false,
    "ExecuteTime": {
     "end_time": "2023-10-22T12:37:57.401380800Z",
     "start_time": "2023-10-22T12:37:48.623219500Z"
    }
   },
   "id": "ba4a3d5d71a4fec2"
  },
  {
   "cell_type": "markdown",
   "source": [
    "6.\tThe team now wants to target different types of spenders in their marketing campaigns. This can be achieved by looking at the prices of the items people are buying. Create a spending flag for each user based on the average price across all their orders using the following criteria:"
   ],
   "metadata": {
    "collapsed": false
   },
   "id": "d0355df4975a14b6"
  },
  {
   "cell_type": "code",
   "execution_count": 17,
   "outputs": [],
   "source": [
    "# Calculate the mean price for each user\n",
    "user_mean_prices = ords_prods_merge.groupby('user_id')['prices'].mean()"
   ],
   "metadata": {
    "collapsed": false,
    "ExecuteTime": {
     "end_time": "2023-10-22T13:43:03.239068700Z",
     "start_time": "2023-10-22T13:43:01.680799700Z"
    }
   },
   "id": "6aeb0527ce1e0621"
  },
  {
   "cell_type": "code",
   "execution_count": 21,
   "outputs": [],
   "source": [
    "# Create a function to categorize users based on mean prices\n",
    "def categorize_spending(mean_price):\n",
    "    if mean_price < 10:\n",
    "        return 'Low spender'\n",
    "    else:\n",
    "        return 'High spender'"
   ],
   "metadata": {
    "collapsed": false,
    "ExecuteTime": {
     "end_time": "2023-10-22T13:52:54.059697200Z",
     "start_time": "2023-10-22T13:52:54.022796900Z"
    }
   },
   "id": "815f7e81186163ec"
  },
  {
   "cell_type": "code",
   "execution_count": 22,
   "outputs": [],
   "source": [
    "# Apply the categorize_spending function and create a new column 'spending_flag'\n",
    "ords_prods_merge['spending_flag'] = user_mean_prices.apply(categorize_spending)"
   ],
   "metadata": {
    "collapsed": false,
    "ExecuteTime": {
     "end_time": "2023-10-22T13:55:20.597781800Z",
     "start_time": "2023-10-22T13:55:19.503505400Z"
    }
   },
   "id": "4d7801531da79e9e"
  },
  {
   "cell_type": "code",
   "execution_count": 24,
   "outputs": [
    {
     "data": {
      "text/plain": "spending_flag\nLow spender     200071\nHigh spender      6137\nName: count, dtype: int64"
     },
     "execution_count": 24,
     "metadata": {},
     "output_type": "execute_result"
    }
   ],
   "source": [
    "# Display the value counts of the 'spending_flag' column\n",
    "spending_flag_counts = ords_prods_merge['spending_flag'].value_counts()\n",
    "spending_flag_counts"
   ],
   "metadata": {
    "collapsed": false,
    "ExecuteTime": {
     "end_time": "2023-10-22T13:57:25.666396200Z",
     "start_time": "2023-10-22T13:57:25.642901500Z"
    }
   },
   "id": "844e107fe8d14e7"
  },
  {
   "cell_type": "markdown",
   "source": [
    "7.\tIn order to send relevant notifications to users within the app (for instance, asking users if they want to buy the same item again), the Instacart team wants you to determine frequent versus non-frequent customers. Create an order frequency flag that marks the regularity of a user’s ordering behavior according to the median in the “days_since_prior_order” column. The criteria for the flag should be as follows:\n",
    "o\tIf the median of “days_since_prior_order” is higher than 20, then the customer should be labeled a “Non-frequent customer.”\n",
    "o\tIf the median is higher than 10 and lower than or equal to 20, then the customer should be labeled a “Regular customer.”\n",
    "o\tIf the median is lower than or equal to 10, then the customer should be labeled a “Frequent customer.”\n"
   ],
   "metadata": {
    "collapsed": false
   },
   "id": "b614931e8f90bede"
  },
  {
   "cell_type": "code",
   "execution_count": 25,
   "outputs": [],
   "source": [
    "# Calculate the median of \"days_since_prior_order\" for each user\n",
    "user_median_days_since_order = ords_prods_merge.groupby('user_id')['days_since_prior_order'].median()"
   ],
   "metadata": {
    "collapsed": false,
    "ExecuteTime": {
     "end_time": "2023-10-22T14:07:22.979120800Z",
     "start_time": "2023-10-22T14:07:20.430780100Z"
    }
   },
   "id": "62bec9f16d2c0647"
  },
  {
   "cell_type": "code",
   "execution_count": 26,
   "outputs": [],
   "source": [
    "# Create a function to categorize users based on the median days_since_prior_order\n",
    "def categorize_order_frequency(median_days_since_order):\n",
    "    if median_days_since_order > 20:\n",
    "        return 'Non-frequent customer'\n",
    "    elif 10 < median_days_since_order <= 20:\n",
    "        return 'Regular customer'\n",
    "    else:\n",
    "        return 'Frequent customer'"
   ],
   "metadata": {
    "collapsed": false,
    "ExecuteTime": {
     "end_time": "2023-10-22T14:11:54.661558100Z",
     "start_time": "2023-10-22T14:11:54.646579700Z"
    }
   },
   "id": "f13ed92fb4e1d6dc"
  },
  {
   "cell_type": "code",
   "execution_count": 27,
   "outputs": [],
   "source": [
    "# Apply the categorize_order_frequency function and create a new column 'order_frequency_flag' in the Dataframe\n",
    "ords_prods_merge['order_frequency_flag'] = user_median_days_since_order.apply(categorize_order_frequency)"
   ],
   "metadata": {
    "collapsed": false,
    "ExecuteTime": {
     "end_time": "2023-10-22T14:14:53.045638200Z",
     "start_time": "2023-10-22T14:14:52.100837200Z"
    }
   },
   "id": "9b8acef9bfdc9f6f"
  },
  {
   "cell_type": "code",
   "execution_count": 29,
   "outputs": [
    {
     "data": {
      "text/plain": "order_frequency_flag\nFrequent customer        86596\nRegular customer         59993\nNon-frequent customer    59619\nName: count, dtype: int64"
     },
     "execution_count": 29,
     "metadata": {},
     "output_type": "execute_result"
    }
   ],
   "source": [
    "# Display the value counts of the 'order_frequency_flag' column\n",
    "order_frequency_flag_counts = ords_prods_merge['order_frequency_flag'].value_counts()\n",
    "order_frequency_flag_counts"
   ],
   "metadata": {
    "collapsed": false,
    "ExecuteTime": {
     "end_time": "2023-10-22T14:17:29.907761800Z",
     "start_time": "2023-10-22T14:17:29.056016500Z"
    }
   },
   "id": "8d68835f096fcbff"
  },
  {
   "cell_type": "code",
   "execution_count": 30,
   "outputs": [
    {
     "data": {
      "text/plain": "   product_id                product_name  aisle_id  department_id  prices  \\\n0           1  Chocolate Sandwich Cookies        61             19     5.8   \n1           1  Chocolate Sandwich Cookies        61             19     5.8   \n2           1  Chocolate Sandwich Cookies        61             19     5.8   \n3           1  Chocolate Sandwich Cookies        61             19     5.8   \n4           1  Chocolate Sandwich Cookies        61             19     5.8   \n\n   order_id  user_id  order_number  orders_day_of_week  order_hour_of_day  \\\n0   3139998      138            28                   6                 11   \n1   1977647      138            30                   6                 17   \n2    389851      709             2                   0                 21   \n3   1813452      764             3                   4                 17   \n4   1701441      777            16                   1                  7   \n\n   ...  add_to_cart_order  reordered    price_range_loc     busiest_day  \\\n0  ...                  5          0  Mid-range product  Regularly busy   \n1  ...                  1          1  Mid-range product  Regularly busy   \n2  ...                 20          0  Mid-range product    Busiest days   \n3  ...                 11          1  Mid-range product    Slowest days   \n4  ...                  7          0  Mid-range product    Busiest days   \n\n      slowest_day busiest_period_of_day max_order      loyalty_flag  \\\n0  Regularly busy           Most orders        32  Regular customer   \n1  Regularly busy        Average orders        32  Regular customer   \n2    Busiest days         Fewest orders         5      New customer   \n3    Slowest days        Average orders         3      New customer   \n4    Busiest days         Fewest orders        26  Regular customer   \n\n  spending_flag   order_frequency_flag  \n0           NaN                    NaN  \n1   Low spender  Non-frequent customer  \n2   Low spender       Regular customer  \n3   Low spender      Frequent customer  \n4   Low spender       Regular customer  \n\n[5 rows x 21 columns]",
      "text/html": "<div>\n<style scoped>\n    .dataframe tbody tr th:only-of-type {\n        vertical-align: middle;\n    }\n\n    .dataframe tbody tr th {\n        vertical-align: top;\n    }\n\n    .dataframe thead th {\n        text-align: right;\n    }\n</style>\n<table border=\"1\" class=\"dataframe\">\n  <thead>\n    <tr style=\"text-align: right;\">\n      <th></th>\n      <th>product_id</th>\n      <th>product_name</th>\n      <th>aisle_id</th>\n      <th>department_id</th>\n      <th>prices</th>\n      <th>order_id</th>\n      <th>user_id</th>\n      <th>order_number</th>\n      <th>orders_day_of_week</th>\n      <th>order_hour_of_day</th>\n      <th>...</th>\n      <th>add_to_cart_order</th>\n      <th>reordered</th>\n      <th>price_range_loc</th>\n      <th>busiest_day</th>\n      <th>slowest_day</th>\n      <th>busiest_period_of_day</th>\n      <th>max_order</th>\n      <th>loyalty_flag</th>\n      <th>spending_flag</th>\n      <th>order_frequency_flag</th>\n    </tr>\n  </thead>\n  <tbody>\n    <tr>\n      <th>0</th>\n      <td>1</td>\n      <td>Chocolate Sandwich Cookies</td>\n      <td>61</td>\n      <td>19</td>\n      <td>5.8</td>\n      <td>3139998</td>\n      <td>138</td>\n      <td>28</td>\n      <td>6</td>\n      <td>11</td>\n      <td>...</td>\n      <td>5</td>\n      <td>0</td>\n      <td>Mid-range product</td>\n      <td>Regularly busy</td>\n      <td>Regularly busy</td>\n      <td>Most orders</td>\n      <td>32</td>\n      <td>Regular customer</td>\n      <td>NaN</td>\n      <td>NaN</td>\n    </tr>\n    <tr>\n      <th>1</th>\n      <td>1</td>\n      <td>Chocolate Sandwich Cookies</td>\n      <td>61</td>\n      <td>19</td>\n      <td>5.8</td>\n      <td>1977647</td>\n      <td>138</td>\n      <td>30</td>\n      <td>6</td>\n      <td>17</td>\n      <td>...</td>\n      <td>1</td>\n      <td>1</td>\n      <td>Mid-range product</td>\n      <td>Regularly busy</td>\n      <td>Regularly busy</td>\n      <td>Average orders</td>\n      <td>32</td>\n      <td>Regular customer</td>\n      <td>Low spender</td>\n      <td>Non-frequent customer</td>\n    </tr>\n    <tr>\n      <th>2</th>\n      <td>1</td>\n      <td>Chocolate Sandwich Cookies</td>\n      <td>61</td>\n      <td>19</td>\n      <td>5.8</td>\n      <td>389851</td>\n      <td>709</td>\n      <td>2</td>\n      <td>0</td>\n      <td>21</td>\n      <td>...</td>\n      <td>20</td>\n      <td>0</td>\n      <td>Mid-range product</td>\n      <td>Busiest days</td>\n      <td>Busiest days</td>\n      <td>Fewest orders</td>\n      <td>5</td>\n      <td>New customer</td>\n      <td>Low spender</td>\n      <td>Regular customer</td>\n    </tr>\n    <tr>\n      <th>3</th>\n      <td>1</td>\n      <td>Chocolate Sandwich Cookies</td>\n      <td>61</td>\n      <td>19</td>\n      <td>5.8</td>\n      <td>1813452</td>\n      <td>764</td>\n      <td>3</td>\n      <td>4</td>\n      <td>17</td>\n      <td>...</td>\n      <td>11</td>\n      <td>1</td>\n      <td>Mid-range product</td>\n      <td>Slowest days</td>\n      <td>Slowest days</td>\n      <td>Average orders</td>\n      <td>3</td>\n      <td>New customer</td>\n      <td>Low spender</td>\n      <td>Frequent customer</td>\n    </tr>\n    <tr>\n      <th>4</th>\n      <td>1</td>\n      <td>Chocolate Sandwich Cookies</td>\n      <td>61</td>\n      <td>19</td>\n      <td>5.8</td>\n      <td>1701441</td>\n      <td>777</td>\n      <td>16</td>\n      <td>1</td>\n      <td>7</td>\n      <td>...</td>\n      <td>7</td>\n      <td>0</td>\n      <td>Mid-range product</td>\n      <td>Busiest days</td>\n      <td>Busiest days</td>\n      <td>Fewest orders</td>\n      <td>26</td>\n      <td>Regular customer</td>\n      <td>Low spender</td>\n      <td>Regular customer</td>\n    </tr>\n  </tbody>\n</table>\n<p>5 rows × 21 columns</p>\n</div>"
     },
     "execution_count": 30,
     "metadata": {},
     "output_type": "execute_result"
    }
   ],
   "source": [
    "ords_prods_merge.head()"
   ],
   "metadata": {
    "collapsed": false,
    "ExecuteTime": {
     "end_time": "2023-10-22T14:20:13.188290Z",
     "start_time": "2023-10-22T14:20:13.147703900Z"
    }
   },
   "id": "711448d4d02110d"
  },
  {
   "cell_type": "code",
   "execution_count": 31,
   "outputs": [],
   "source": [
    "ords_prods_merge.to_pickle(os.path.join(path, 'Prepared data', 'orders_products_grouping_and_aggregating.pkl'))"
   ],
   "metadata": {
    "collapsed": false,
    "ExecuteTime": {
     "end_time": "2023-10-22T14:25:10.286944800Z",
     "start_time": "2023-10-22T14:24:55.513312800Z"
    }
   },
   "id": "df38277fc79482b5"
  },
  {
   "cell_type": "markdown",
   "source": [],
   "metadata": {
    "collapsed": false
   },
   "id": "d1c8ff7b3b3f925f"
  },
  {
   "cell_type": "markdown",
   "source": [
    "DATA QUALITY REMINDER\n",
    "Keep in mind that this step should have been completed during the data prep stages of your project. It isn’t generally a good idea to still be cleaning your data in the visualization stage. This example does demonstrate, however, just how easy it is for dirty data to slip through your net.\n",
    "\n",
    "To keep your data cleaning tasks in one place, we recommend you copy the code from above into your notebook from Exercise 4.8. This will ensure your current notebook is strictly related to data visualization.\n",
    "\n",
    "\n",
    "For now, let’s mark them as missing since they don’t make sense in terms of the other values in the column. To turn them into NaNs, use the following code: i.e., REPLACING OUTLIERS WITH MISSING VALUES"
   ],
   "metadata": {
    "collapsed": false
   },
   "id": "8db6ef967c67552b"
  },
  {
   "cell_type": "markdown",
   "source": [
    "ords_prods_merge.loc[ords_prods_merge['prices'] > 100, 'prices'] = np.nan"
   ],
   "metadata": {
    "collapsed": false
   },
   "id": "b29a726ddabbec79"
  }
 ],
 "metadata": {
  "kernelspec": {
   "display_name": "Python 3",
   "language": "python",
   "name": "python3"
  },
  "language_info": {
   "codemirror_mode": {
    "name": "ipython",
    "version": 2
   },
   "file_extension": ".py",
   "mimetype": "text/x-python",
   "name": "python",
   "nbconvert_exporter": "python",
   "pygments_lexer": "ipython2",
   "version": "2.7.6"
  }
 },
 "nbformat": 4,
 "nbformat_minor": 5
}
