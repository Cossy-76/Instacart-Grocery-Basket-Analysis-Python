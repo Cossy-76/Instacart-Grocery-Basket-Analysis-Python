{
 "cells": [
  {
   "cell_type": "code",
   "execution_count": 1,
   "id": "initial_id",
   "metadata": {
    "collapsed": true,
    "ExecuteTime": {
     "end_time": "2023-10-26T10:59:37.582907Z",
     "start_time": "2023-10-26T10:59:37.007871600Z"
    }
   },
   "outputs": [],
   "source": [
    "# Import libraries\n",
    "import pandas as pd\n",
    "import numpy as np\n",
    "import os"
   ]
  },
  {
   "cell_type": "markdown",
   "source": [
    "3.\tImport your analysis libraries, as well as your new customer data set as a dataframe."
   ],
   "metadata": {
    "collapsed": false
   },
   "id": "9c75fc7f88f3c39a"
  },
  {
   "cell_type": "code",
   "execution_count": 2,
   "outputs": [],
   "source": [
    "path = r'C:\\Users\\honoc\\Documents\\CareerFoundry Folder\\Python Fundamentals for Data Analysts\\Exercise 4.3 Folder'\n",
    "path\n",
    "df_cust = pd.read_csv(os.path.join(path, 'Original data', 'customers.csv'), index_col = False)"
   ],
   "metadata": {
    "collapsed": false,
    "ExecuteTime": {
     "end_time": "2023-10-26T10:59:37.880655400Z",
     "start_time": "2023-10-26T10:59:37.585915500Z"
    }
   },
   "id": "b25b93a6abfbeedb"
  },
  {
   "cell_type": "markdown",
   "source": [
    "4.\tWrangle the data so that it follows consistent logic; for example, rename columns with illogical names and drop columns that don’t add anything to your analysis."
   ],
   "metadata": {
    "collapsed": false
   },
   "id": "c31907a2e052bb02"
  },
  {
   "cell_type": "code",
   "execution_count": 28,
   "outputs": [
    {
     "data": {
      "text/plain": "(206209, 10)"
     },
     "execution_count": 28,
     "metadata": {},
     "output_type": "execute_result"
    }
   ],
   "source": [
    "df_cust.shape"
   ],
   "metadata": {
    "collapsed": false,
    "ExecuteTime": {
     "end_time": "2023-10-26T11:01:37.882815800Z",
     "start_time": "2023-10-26T11:01:37.710070900Z"
    }
   },
   "id": "deb7888339d4d18b"
  },
  {
   "cell_type": "code",
   "execution_count": 3,
   "outputs": [
    {
     "data": {
      "text/plain": "   user_id First Name    Surnam  Gender       STATE  Age date_joined  \\\n0    26711    Deborah  Esquivel  Female    Missouri   48    1/1/2017   \n1    33890   Patricia      Hart  Female  New Mexico   36    1/1/2017   \n2    65803    Kenneth    Farley    Male       Idaho   35    1/1/2017   \n3   125935   Michelle     Hicks  Female        Iowa   40    1/1/2017   \n4   130797        Ann   Gilmore  Female    Maryland   26    1/1/2017   \n\n   n_dependants fam_status  income  \n0             3    married  165665  \n1             0     single   59285  \n2             2    married   99568  \n3             0     single   42049  \n4             1    married   40374  ",
      "text/html": "<div>\n<style scoped>\n    .dataframe tbody tr th:only-of-type {\n        vertical-align: middle;\n    }\n\n    .dataframe tbody tr th {\n        vertical-align: top;\n    }\n\n    .dataframe thead th {\n        text-align: right;\n    }\n</style>\n<table border=\"1\" class=\"dataframe\">\n  <thead>\n    <tr style=\"text-align: right;\">\n      <th></th>\n      <th>user_id</th>\n      <th>First Name</th>\n      <th>Surnam</th>\n      <th>Gender</th>\n      <th>STATE</th>\n      <th>Age</th>\n      <th>date_joined</th>\n      <th>n_dependants</th>\n      <th>fam_status</th>\n      <th>income</th>\n    </tr>\n  </thead>\n  <tbody>\n    <tr>\n      <th>0</th>\n      <td>26711</td>\n      <td>Deborah</td>\n      <td>Esquivel</td>\n      <td>Female</td>\n      <td>Missouri</td>\n      <td>48</td>\n      <td>1/1/2017</td>\n      <td>3</td>\n      <td>married</td>\n      <td>165665</td>\n    </tr>\n    <tr>\n      <th>1</th>\n      <td>33890</td>\n      <td>Patricia</td>\n      <td>Hart</td>\n      <td>Female</td>\n      <td>New Mexico</td>\n      <td>36</td>\n      <td>1/1/2017</td>\n      <td>0</td>\n      <td>single</td>\n      <td>59285</td>\n    </tr>\n    <tr>\n      <th>2</th>\n      <td>65803</td>\n      <td>Kenneth</td>\n      <td>Farley</td>\n      <td>Male</td>\n      <td>Idaho</td>\n      <td>35</td>\n      <td>1/1/2017</td>\n      <td>2</td>\n      <td>married</td>\n      <td>99568</td>\n    </tr>\n    <tr>\n      <th>3</th>\n      <td>125935</td>\n      <td>Michelle</td>\n      <td>Hicks</td>\n      <td>Female</td>\n      <td>Iowa</td>\n      <td>40</td>\n      <td>1/1/2017</td>\n      <td>0</td>\n      <td>single</td>\n      <td>42049</td>\n    </tr>\n    <tr>\n      <th>4</th>\n      <td>130797</td>\n      <td>Ann</td>\n      <td>Gilmore</td>\n      <td>Female</td>\n      <td>Maryland</td>\n      <td>26</td>\n      <td>1/1/2017</td>\n      <td>1</td>\n      <td>married</td>\n      <td>40374</td>\n    </tr>\n  </tbody>\n</table>\n</div>"
     },
     "execution_count": 3,
     "metadata": {},
     "output_type": "execute_result"
    }
   ],
   "source": [
    "df_cust.head()"
   ],
   "metadata": {
    "collapsed": false,
    "ExecuteTime": {
     "end_time": "2023-10-26T10:59:37.928076400Z",
     "start_time": "2023-10-26T10:59:37.882650200Z"
    }
   },
   "id": "6185c826caa3fdf2"
  },
  {
   "cell_type": "code",
   "execution_count": 4,
   "outputs": [
    {
     "data": {
      "text/plain": "user_id          int64\nFirst Name      object\nSurnam          object\nGender          object\nSTATE           object\nAge              int64\ndate_joined     object\nn_dependants     int64\nfam_status      object\nincome           int64\ndtype: object"
     },
     "execution_count": 4,
     "metadata": {},
     "output_type": "execute_result"
    }
   ],
   "source": [
    "df_cust.dtypes"
   ],
   "metadata": {
    "collapsed": false,
    "ExecuteTime": {
     "end_time": "2023-10-26T10:59:37.968967200Z",
     "start_time": "2023-10-26T10:59:37.916109500Z"
    }
   },
   "id": "c83dbde1b3eb0ef4"
  },
  {
   "cell_type": "markdown",
   "source": [
    "Renaming columns"
   ],
   "metadata": {
    "collapsed": false
   },
   "id": "acdfd4a4ec8643e3"
  },
  {
   "cell_type": "code",
   "execution_count": 5,
   "outputs": [],
   "source": [
    "df_cust.rename(columns= {'First Name': 'first_name',\n",
    "                         'Surnam': 'last_name',\n",
    "                         'STATE': 'State',\n",
    "                         'n_dependants': 'number_of_dependants',\n",
    "                         'fam_status': 'marital_status',\n",
    "                         'income': 'customer_income'\n",
    "                         }, inplace=True)"
   ],
   "metadata": {
    "collapsed": false,
    "ExecuteTime": {
     "end_time": "2023-10-26T10:59:38.031360600Z",
     "start_time": "2023-10-26T10:59:37.932065300Z"
    }
   },
   "id": "6d905641586bbd3e"
  },
  {
   "cell_type": "code",
   "execution_count": 6,
   "outputs": [
    {
     "data": {
      "text/plain": "   user_id first_name last_name  Gender       State  Age date_joined  \\\n0    26711    Deborah  Esquivel  Female    Missouri   48    1/1/2017   \n1    33890   Patricia      Hart  Female  New Mexico   36    1/1/2017   \n2    65803    Kenneth    Farley    Male       Idaho   35    1/1/2017   \n3   125935   Michelle     Hicks  Female        Iowa   40    1/1/2017   \n4   130797        Ann   Gilmore  Female    Maryland   26    1/1/2017   \n\n   number_of_dependants marital_status  customer_income  \n0                     3        married           165665  \n1                     0         single            59285  \n2                     2        married            99568  \n3                     0         single            42049  \n4                     1        married            40374  ",
      "text/html": "<div>\n<style scoped>\n    .dataframe tbody tr th:only-of-type {\n        vertical-align: middle;\n    }\n\n    .dataframe tbody tr th {\n        vertical-align: top;\n    }\n\n    .dataframe thead th {\n        text-align: right;\n    }\n</style>\n<table border=\"1\" class=\"dataframe\">\n  <thead>\n    <tr style=\"text-align: right;\">\n      <th></th>\n      <th>user_id</th>\n      <th>first_name</th>\n      <th>last_name</th>\n      <th>Gender</th>\n      <th>State</th>\n      <th>Age</th>\n      <th>date_joined</th>\n      <th>number_of_dependants</th>\n      <th>marital_status</th>\n      <th>customer_income</th>\n    </tr>\n  </thead>\n  <tbody>\n    <tr>\n      <th>0</th>\n      <td>26711</td>\n      <td>Deborah</td>\n      <td>Esquivel</td>\n      <td>Female</td>\n      <td>Missouri</td>\n      <td>48</td>\n      <td>1/1/2017</td>\n      <td>3</td>\n      <td>married</td>\n      <td>165665</td>\n    </tr>\n    <tr>\n      <th>1</th>\n      <td>33890</td>\n      <td>Patricia</td>\n      <td>Hart</td>\n      <td>Female</td>\n      <td>New Mexico</td>\n      <td>36</td>\n      <td>1/1/2017</td>\n      <td>0</td>\n      <td>single</td>\n      <td>59285</td>\n    </tr>\n    <tr>\n      <th>2</th>\n      <td>65803</td>\n      <td>Kenneth</td>\n      <td>Farley</td>\n      <td>Male</td>\n      <td>Idaho</td>\n      <td>35</td>\n      <td>1/1/2017</td>\n      <td>2</td>\n      <td>married</td>\n      <td>99568</td>\n    </tr>\n    <tr>\n      <th>3</th>\n      <td>125935</td>\n      <td>Michelle</td>\n      <td>Hicks</td>\n      <td>Female</td>\n      <td>Iowa</td>\n      <td>40</td>\n      <td>1/1/2017</td>\n      <td>0</td>\n      <td>single</td>\n      <td>42049</td>\n    </tr>\n    <tr>\n      <th>4</th>\n      <td>130797</td>\n      <td>Ann</td>\n      <td>Gilmore</td>\n      <td>Female</td>\n      <td>Maryland</td>\n      <td>26</td>\n      <td>1/1/2017</td>\n      <td>1</td>\n      <td>married</td>\n      <td>40374</td>\n    </tr>\n  </tbody>\n</table>\n</div>"
     },
     "execution_count": 6,
     "metadata": {},
     "output_type": "execute_result"
    }
   ],
   "source": [
    "df_cust.head()"
   ],
   "metadata": {
    "collapsed": false,
    "ExecuteTime": {
     "end_time": "2023-10-26T10:59:38.118729300Z",
     "start_time": "2023-10-26T10:59:37.943036Z"
    }
   },
   "id": "8b2a46503f55e958"
  },
  {
   "cell_type": "code",
   "execution_count": 7,
   "outputs": [
    {
     "data": {
      "text/plain": "             user_id            Age  number_of_dependants  customer_income\ncount  206209.000000  206209.000000         206209.000000    206209.000000\nmean   103105.000000      49.501646              1.499823     94632.852548\nstd     59527.555167      18.480962              1.118433     42473.786988\nmin         1.000000      18.000000              0.000000     25903.000000\n25%     51553.000000      33.000000              0.000000     59874.000000\n50%    103105.000000      49.000000              1.000000     93547.000000\n75%    154657.000000      66.000000              3.000000    124244.000000\nmax    206209.000000      81.000000              3.000000    593901.000000",
      "text/html": "<div>\n<style scoped>\n    .dataframe tbody tr th:only-of-type {\n        vertical-align: middle;\n    }\n\n    .dataframe tbody tr th {\n        vertical-align: top;\n    }\n\n    .dataframe thead th {\n        text-align: right;\n    }\n</style>\n<table border=\"1\" class=\"dataframe\">\n  <thead>\n    <tr style=\"text-align: right;\">\n      <th></th>\n      <th>user_id</th>\n      <th>Age</th>\n      <th>number_of_dependants</th>\n      <th>customer_income</th>\n    </tr>\n  </thead>\n  <tbody>\n    <tr>\n      <th>count</th>\n      <td>206209.000000</td>\n      <td>206209.000000</td>\n      <td>206209.000000</td>\n      <td>206209.000000</td>\n    </tr>\n    <tr>\n      <th>mean</th>\n      <td>103105.000000</td>\n      <td>49.501646</td>\n      <td>1.499823</td>\n      <td>94632.852548</td>\n    </tr>\n    <tr>\n      <th>std</th>\n      <td>59527.555167</td>\n      <td>18.480962</td>\n      <td>1.118433</td>\n      <td>42473.786988</td>\n    </tr>\n    <tr>\n      <th>min</th>\n      <td>1.000000</td>\n      <td>18.000000</td>\n      <td>0.000000</td>\n      <td>25903.000000</td>\n    </tr>\n    <tr>\n      <th>25%</th>\n      <td>51553.000000</td>\n      <td>33.000000</td>\n      <td>0.000000</td>\n      <td>59874.000000</td>\n    </tr>\n    <tr>\n      <th>50%</th>\n      <td>103105.000000</td>\n      <td>49.000000</td>\n      <td>1.000000</td>\n      <td>93547.000000</td>\n    </tr>\n    <tr>\n      <th>75%</th>\n      <td>154657.000000</td>\n      <td>66.000000</td>\n      <td>3.000000</td>\n      <td>124244.000000</td>\n    </tr>\n    <tr>\n      <th>max</th>\n      <td>206209.000000</td>\n      <td>81.000000</td>\n      <td>3.000000</td>\n      <td>593901.000000</td>\n    </tr>\n  </tbody>\n</table>\n</div>"
     },
     "execution_count": 7,
     "metadata": {},
     "output_type": "execute_result"
    }
   ],
   "source": [
    "df_cust.describe()"
   ],
   "metadata": {
    "collapsed": false,
    "ExecuteTime": {
     "end_time": "2023-10-26T10:59:38.123685600Z",
     "start_time": "2023-10-26T10:59:37.973955500Z"
    }
   },
   "id": "a71e339f2ab96ca9"
  },
  {
   "cell_type": "markdown",
   "source": [
    "Changing \"user_id\" datatype from 'int64' to 'str'"
   ],
   "metadata": {
    "collapsed": false
   },
   "id": "84425e21613e703d"
  },
  {
   "cell_type": "code",
   "execution_count": 8,
   "outputs": [
    {
     "data": {
      "text/plain": "dtype('O')"
     },
     "execution_count": 8,
     "metadata": {},
     "output_type": "execute_result"
    }
   ],
   "source": [
    "df_cust['user_id'] = df_cust['user_id'].astype('str')\n",
    "df_cust['user_id'].dtype"
   ],
   "metadata": {
    "collapsed": false,
    "ExecuteTime": {
     "end_time": "2023-10-26T10:59:38.268846800Z",
     "start_time": "2023-10-26T10:59:38.038308500Z"
    }
   },
   "id": "6e455bb443e3d812"
  },
  {
   "cell_type": "code",
   "execution_count": 9,
   "outputs": [
    {
     "data": {
      "text/plain": "                 Age  number_of_dependants  customer_income\ncount  206209.000000         206209.000000    206209.000000\nmean       49.501646              1.499823     94632.852548\nstd        18.480962              1.118433     42473.786988\nmin        18.000000              0.000000     25903.000000\n25%        33.000000              0.000000     59874.000000\n50%        49.000000              1.000000     93547.000000\n75%        66.000000              3.000000    124244.000000\nmax        81.000000              3.000000    593901.000000",
      "text/html": "<div>\n<style scoped>\n    .dataframe tbody tr th:only-of-type {\n        vertical-align: middle;\n    }\n\n    .dataframe tbody tr th {\n        vertical-align: top;\n    }\n\n    .dataframe thead th {\n        text-align: right;\n    }\n</style>\n<table border=\"1\" class=\"dataframe\">\n  <thead>\n    <tr style=\"text-align: right;\">\n      <th></th>\n      <th>Age</th>\n      <th>number_of_dependants</th>\n      <th>customer_income</th>\n    </tr>\n  </thead>\n  <tbody>\n    <tr>\n      <th>count</th>\n      <td>206209.000000</td>\n      <td>206209.000000</td>\n      <td>206209.000000</td>\n    </tr>\n    <tr>\n      <th>mean</th>\n      <td>49.501646</td>\n      <td>1.499823</td>\n      <td>94632.852548</td>\n    </tr>\n    <tr>\n      <th>std</th>\n      <td>18.480962</td>\n      <td>1.118433</td>\n      <td>42473.786988</td>\n    </tr>\n    <tr>\n      <th>min</th>\n      <td>18.000000</td>\n      <td>0.000000</td>\n      <td>25903.000000</td>\n    </tr>\n    <tr>\n      <th>25%</th>\n      <td>33.000000</td>\n      <td>0.000000</td>\n      <td>59874.000000</td>\n    </tr>\n    <tr>\n      <th>50%</th>\n      <td>49.000000</td>\n      <td>1.000000</td>\n      <td>93547.000000</td>\n    </tr>\n    <tr>\n      <th>75%</th>\n      <td>66.000000</td>\n      <td>3.000000</td>\n      <td>124244.000000</td>\n    </tr>\n    <tr>\n      <th>max</th>\n      <td>81.000000</td>\n      <td>3.000000</td>\n      <td>593901.000000</td>\n    </tr>\n  </tbody>\n</table>\n</div>"
     },
     "execution_count": 9,
     "metadata": {},
     "output_type": "execute_result"
    }
   ],
   "source": [
    "df_cust.describe()"
   ],
   "metadata": {
    "collapsed": false,
    "ExecuteTime": {
     "end_time": "2023-10-26T10:59:38.332169600Z",
     "start_time": "2023-10-26T10:59:38.179538500Z"
    }
   },
   "id": "8bac410b07009b6"
  },
  {
   "cell_type": "code",
   "execution_count": 10,
   "outputs": [
    {
     "data": {
      "text/plain": "user_id\n26711     1\n67322     1\n173044    1\n61044     1\n98344     1\n         ..\n146847    1\n154991    1\n172193    1\n184326    1\n80148     1\nName: count, Length: 206209, dtype: int64"
     },
     "execution_count": 10,
     "metadata": {},
     "output_type": "execute_result"
    }
   ],
   "source": [
    "df_cust['user_id'].value_counts()"
   ],
   "metadata": {
    "collapsed": false,
    "ExecuteTime": {
     "end_time": "2023-10-26T10:59:38.496343800Z",
     "start_time": "2023-10-26T10:59:38.227926900Z"
    }
   },
   "id": "f9cb4a947b2a2515"
  },
  {
   "cell_type": "markdown",
   "source": [
    "5.\tComplete the fundamental data quality and consistency checks you’ve learned throughout this Achievement; for example, check for and address missing values and duplicates, and convert any mixed-type data."
   ],
   "metadata": {
    "collapsed": false
   },
   "id": "57533ec844da1067"
  },
  {
   "cell_type": "markdown",
   "source": [
    "Creating a custom function that searches the dataframe for mixed-type columns."
   ],
   "metadata": {
    "collapsed": false
   },
   "id": "5ffef8e175f22125"
  },
  {
   "cell_type": "code",
   "execution_count": 11,
   "outputs": [
    {
     "name": "stdout",
     "output_type": "stream",
     "text": [
      "first_name\n"
     ]
    }
   ],
   "source": [
    "# Check for mixed types\n",
    "for col in df_cust.columns.tolist():\n",
    "    weird = (df_cust[[col]].applymap(type) != df_cust[[col]].iloc[0].apply(type)).any(axis = 1)\n",
    "    if len(df_cust[weird]) > 0:\n",
    "        print(col)"
   ],
   "metadata": {
    "collapsed": false,
    "ExecuteTime": {
     "end_time": "2023-10-26T10:59:38.917756400Z",
     "start_time": "2023-10-26T10:59:38.416550400Z"
    }
   },
   "id": "1c7f36b9a441198"
  },
  {
   "cell_type": "markdown",
   "source": [
    "Fixing mixed-type column \"first_name\""
   ],
   "metadata": {
    "collapsed": false
   },
   "id": "132deb539324ef80"
  },
  {
   "cell_type": "code",
   "execution_count": 12,
   "outputs": [],
   "source": [
    "df_cust['first_name'] = df_cust['first_name'].astype('str')"
   ],
   "metadata": {
    "collapsed": false,
    "ExecuteTime": {
     "end_time": "2023-10-26T10:59:38.935704100Z",
     "start_time": "2023-10-26T10:59:38.919746800Z"
    }
   },
   "id": "4459f20afbb21a96"
  },
  {
   "cell_type": "code",
   "execution_count": 13,
   "outputs": [],
   "source": [
    "for col in df_cust.columns.tolist():\n",
    "    weird = (df_cust[[col]].applymap(type) != df_cust[[col]].iloc[0].apply(type)).any(axis = 1)\n",
    "    if len(df_cust[weird]) > 0:\n",
    "        print(col)"
   ],
   "metadata": {
    "collapsed": false,
    "ExecuteTime": {
     "end_time": "2023-10-26T10:59:39.499088900Z",
     "start_time": "2023-10-26T10:59:38.934706800Z"
    }
   },
   "id": "b158fde1e981a5a8"
  },
  {
   "cell_type": "markdown",
   "source": [
    "Performing Consistency Checks on \"df_cust\" Dataframe. Finding Missing Values in \"df_cust\" dataframe"
   ],
   "metadata": {
    "collapsed": false
   },
   "id": "4591d4c0413dfa78"
  },
  {
   "cell_type": "code",
   "execution_count": 14,
   "outputs": [
    {
     "data": {
      "text/plain": "user_id                 0\nfirst_name              0\nlast_name               0\nGender                  0\nState                   0\nAge                     0\ndate_joined             0\nnumber_of_dependants    0\nmarital_status          0\ncustomer_income         0\ndtype: int64"
     },
     "execution_count": 14,
     "metadata": {},
     "output_type": "execute_result"
    }
   ],
   "source": [
    "df_cust.isnull().sum()"
   ],
   "metadata": {
    "collapsed": false,
    "ExecuteTime": {
     "end_time": "2023-10-26T10:59:39.604290600Z",
     "start_time": "2023-10-26T10:59:39.506548Z"
    }
   },
   "id": "d95e0e9d736ac507"
  },
  {
   "cell_type": "markdown",
   "source": [
    "No Missing values found"
   ],
   "metadata": {
    "collapsed": false
   },
   "id": "5410bbf2e5dd50b9"
  },
  {
   "cell_type": "code",
   "execution_count": 15,
   "outputs": [
    {
     "data": {
      "text/plain": "(206209, 10)"
     },
     "execution_count": 15,
     "metadata": {},
     "output_type": "execute_result"
    }
   ],
   "source": [
    "df_cust.shape"
   ],
   "metadata": {
    "collapsed": false,
    "ExecuteTime": {
     "end_time": "2023-10-26T10:59:39.625506200Z",
     "start_time": "2023-10-26T10:59:39.601298500Z"
    }
   },
   "id": "519e141ae17b561c"
  },
  {
   "cell_type": "markdown",
   "source": [
    "Finding Duplicates"
   ],
   "metadata": {
    "collapsed": false
   },
   "id": "a5d2195abc734573"
  },
  {
   "cell_type": "code",
   "execution_count": 16,
   "outputs": [
    {
     "data": {
      "text/plain": "Empty DataFrame\nColumns: [user_id, first_name, last_name, Gender, State, Age, date_joined, number_of_dependants, marital_status, customer_income]\nIndex: []",
      "text/html": "<div>\n<style scoped>\n    .dataframe tbody tr th:only-of-type {\n        vertical-align: middle;\n    }\n\n    .dataframe tbody tr th {\n        vertical-align: top;\n    }\n\n    .dataframe thead th {\n        text-align: right;\n    }\n</style>\n<table border=\"1\" class=\"dataframe\">\n  <thead>\n    <tr style=\"text-align: right;\">\n      <th></th>\n      <th>user_id</th>\n      <th>first_name</th>\n      <th>last_name</th>\n      <th>Gender</th>\n      <th>State</th>\n      <th>Age</th>\n      <th>date_joined</th>\n      <th>number_of_dependants</th>\n      <th>marital_status</th>\n      <th>customer_income</th>\n    </tr>\n  </thead>\n  <tbody>\n  </tbody>\n</table>\n</div>"
     },
     "execution_count": 16,
     "metadata": {},
     "output_type": "execute_result"
    }
   ],
   "source": [
    "df_dups = df_cust[df_cust.duplicated()]\n",
    "df_dups"
   ],
   "metadata": {
    "collapsed": false,
    "ExecuteTime": {
     "end_time": "2023-10-26T10:59:39.839065100Z",
     "start_time": "2023-10-26T10:59:39.609549200Z"
    }
   },
   "id": "38287b2c5f2a5300"
  },
  {
   "cell_type": "markdown",
   "source": [
    "No Duplicates found"
   ],
   "metadata": {
    "collapsed": false
   },
   "id": "46f20ff17eabf748"
  },
  {
   "cell_type": "markdown",
   "source": [
    "6.\tCombine your customer data with the rest of your prepared Instacart data. (Hint: Make sure the key columns are the same data type!)"
   ],
   "metadata": {
    "collapsed": false
   },
   "id": "2e65cc7465f55648"
  },
  {
   "cell_type": "code",
   "execution_count": 17,
   "outputs": [],
   "source": [
    "ords_prods_merge = pd.read_pickle(os.path.join(path, 'Prepared data', 'orders_products_grouping_and_aggregating.pkl'))"
   ],
   "metadata": {
    "collapsed": false,
    "ExecuteTime": {
     "end_time": "2023-10-26T11:00:00.205387800Z",
     "start_time": "2023-10-26T10:59:39.832082400Z"
    }
   },
   "id": "b77b2a0b1c85f768"
  },
  {
   "cell_type": "code",
   "execution_count": 18,
   "outputs": [
    {
     "data": {
      "text/plain": "   product_id                product_name  aisle_id  department_id  prices  \\\n0           1  Chocolate Sandwich Cookies        61             19     5.8   \n1           1  Chocolate Sandwich Cookies        61             19     5.8   \n2           1  Chocolate Sandwich Cookies        61             19     5.8   \n3           1  Chocolate Sandwich Cookies        61             19     5.8   \n4           1  Chocolate Sandwich Cookies        61             19     5.8   \n\n   order_id  user_id  order_number  orders_day_of_week  order_hour_of_day  \\\n0   3139998      138            28                   6                 11   \n1   1977647      138            30                   6                 17   \n2    389851      709             2                   0                 21   \n3   1813452      764             3                   4                 17   \n4   1701441      777            16                   1                  7   \n\n   ...  add_to_cart_order  reordered    price_range_loc     busiest_day  \\\n0  ...                  5          0  Mid-range product  Regularly busy   \n1  ...                  1          1  Mid-range product  Regularly busy   \n2  ...                 20          0  Mid-range product    Busiest days   \n3  ...                 11          1  Mid-range product    Slowest days   \n4  ...                  7          0  Mid-range product    Busiest days   \n\n      slowest_day busiest_period_of_day max_order      loyalty_flag  \\\n0  Regularly busy           Most orders        32  Regular customer   \n1  Regularly busy        Average orders        32  Regular customer   \n2    Busiest days         Fewest orders         5      New customer   \n3    Slowest days        Average orders         3      New customer   \n4    Busiest days         Fewest orders        26  Regular customer   \n\n  spending_flag   order_frequency_flag  \n0           NaN                    NaN  \n1   Low spender  Non-frequent customer  \n2   Low spender       Regular customer  \n3   Low spender      Frequent customer  \n4   Low spender       Regular customer  \n\n[5 rows x 21 columns]",
      "text/html": "<div>\n<style scoped>\n    .dataframe tbody tr th:only-of-type {\n        vertical-align: middle;\n    }\n\n    .dataframe tbody tr th {\n        vertical-align: top;\n    }\n\n    .dataframe thead th {\n        text-align: right;\n    }\n</style>\n<table border=\"1\" class=\"dataframe\">\n  <thead>\n    <tr style=\"text-align: right;\">\n      <th></th>\n      <th>product_id</th>\n      <th>product_name</th>\n      <th>aisle_id</th>\n      <th>department_id</th>\n      <th>prices</th>\n      <th>order_id</th>\n      <th>user_id</th>\n      <th>order_number</th>\n      <th>orders_day_of_week</th>\n      <th>order_hour_of_day</th>\n      <th>...</th>\n      <th>add_to_cart_order</th>\n      <th>reordered</th>\n      <th>price_range_loc</th>\n      <th>busiest_day</th>\n      <th>slowest_day</th>\n      <th>busiest_period_of_day</th>\n      <th>max_order</th>\n      <th>loyalty_flag</th>\n      <th>spending_flag</th>\n      <th>order_frequency_flag</th>\n    </tr>\n  </thead>\n  <tbody>\n    <tr>\n      <th>0</th>\n      <td>1</td>\n      <td>Chocolate Sandwich Cookies</td>\n      <td>61</td>\n      <td>19</td>\n      <td>5.8</td>\n      <td>3139998</td>\n      <td>138</td>\n      <td>28</td>\n      <td>6</td>\n      <td>11</td>\n      <td>...</td>\n      <td>5</td>\n      <td>0</td>\n      <td>Mid-range product</td>\n      <td>Regularly busy</td>\n      <td>Regularly busy</td>\n      <td>Most orders</td>\n      <td>32</td>\n      <td>Regular customer</td>\n      <td>NaN</td>\n      <td>NaN</td>\n    </tr>\n    <tr>\n      <th>1</th>\n      <td>1</td>\n      <td>Chocolate Sandwich Cookies</td>\n      <td>61</td>\n      <td>19</td>\n      <td>5.8</td>\n      <td>1977647</td>\n      <td>138</td>\n      <td>30</td>\n      <td>6</td>\n      <td>17</td>\n      <td>...</td>\n      <td>1</td>\n      <td>1</td>\n      <td>Mid-range product</td>\n      <td>Regularly busy</td>\n      <td>Regularly busy</td>\n      <td>Average orders</td>\n      <td>32</td>\n      <td>Regular customer</td>\n      <td>Low spender</td>\n      <td>Non-frequent customer</td>\n    </tr>\n    <tr>\n      <th>2</th>\n      <td>1</td>\n      <td>Chocolate Sandwich Cookies</td>\n      <td>61</td>\n      <td>19</td>\n      <td>5.8</td>\n      <td>389851</td>\n      <td>709</td>\n      <td>2</td>\n      <td>0</td>\n      <td>21</td>\n      <td>...</td>\n      <td>20</td>\n      <td>0</td>\n      <td>Mid-range product</td>\n      <td>Busiest days</td>\n      <td>Busiest days</td>\n      <td>Fewest orders</td>\n      <td>5</td>\n      <td>New customer</td>\n      <td>Low spender</td>\n      <td>Regular customer</td>\n    </tr>\n    <tr>\n      <th>3</th>\n      <td>1</td>\n      <td>Chocolate Sandwich Cookies</td>\n      <td>61</td>\n      <td>19</td>\n      <td>5.8</td>\n      <td>1813452</td>\n      <td>764</td>\n      <td>3</td>\n      <td>4</td>\n      <td>17</td>\n      <td>...</td>\n      <td>11</td>\n      <td>1</td>\n      <td>Mid-range product</td>\n      <td>Slowest days</td>\n      <td>Slowest days</td>\n      <td>Average orders</td>\n      <td>3</td>\n      <td>New customer</td>\n      <td>Low spender</td>\n      <td>Frequent customer</td>\n    </tr>\n    <tr>\n      <th>4</th>\n      <td>1</td>\n      <td>Chocolate Sandwich Cookies</td>\n      <td>61</td>\n      <td>19</td>\n      <td>5.8</td>\n      <td>1701441</td>\n      <td>777</td>\n      <td>16</td>\n      <td>1</td>\n      <td>7</td>\n      <td>...</td>\n      <td>7</td>\n      <td>0</td>\n      <td>Mid-range product</td>\n      <td>Busiest days</td>\n      <td>Busiest days</td>\n      <td>Fewest orders</td>\n      <td>26</td>\n      <td>Regular customer</td>\n      <td>Low spender</td>\n      <td>Regular customer</td>\n    </tr>\n  </tbody>\n</table>\n<p>5 rows × 21 columns</p>\n</div>"
     },
     "execution_count": 18,
     "metadata": {},
     "output_type": "execute_result"
    }
   ],
   "source": [
    "ords_prods_merge.head()"
   ],
   "metadata": {
    "collapsed": false,
    "ExecuteTime": {
     "end_time": "2023-10-26T11:00:00.256257500Z",
     "start_time": "2023-10-26T11:00:00.208380Z"
    }
   },
   "id": "fa3c02342f938d09"
  },
  {
   "cell_type": "code",
   "execution_count": 19,
   "outputs": [
    {
     "data": {
      "text/plain": "(30328763, 21)"
     },
     "execution_count": 19,
     "metadata": {},
     "output_type": "execute_result"
    }
   ],
   "source": [
    "ords_prods_merge.shape"
   ],
   "metadata": {
    "collapsed": false,
    "ExecuteTime": {
     "end_time": "2023-10-26T11:00:00.296664Z",
     "start_time": "2023-10-26T11:00:00.239299800Z"
    }
   },
   "id": "4107097fbb03dbe8"
  },
  {
   "cell_type": "code",
   "execution_count": 20,
   "outputs": [
    {
     "data": {
      "text/plain": "(206209, 10)"
     },
     "execution_count": 20,
     "metadata": {},
     "output_type": "execute_result"
    }
   ],
   "source": [
    "df_cust.shape"
   ],
   "metadata": {
    "collapsed": false,
    "ExecuteTime": {
     "end_time": "2023-10-26T11:00:00.376035400Z",
     "start_time": "2023-10-26T11:00:00.255259500Z"
    }
   },
   "id": "ae63ea350f7d2ae2"
  },
  {
   "cell_type": "code",
   "execution_count": 21,
   "outputs": [
    {
     "data": {
      "text/plain": "product_id                  int64\nproduct_name               object\naisle_id                    int64\ndepartment_id               int64\nprices                    float64\norder_id                    int64\nuser_id                     int64\norder_number                int64\norders_day_of_week          int64\norder_hour_of_day           int64\ndays_since_prior_order    float64\nadd_to_cart_order           int64\nreordered                   int64\nprice_range_loc            object\nbusiest_day                object\nslowest_day                object\nbusiest_period_of_day      object\nmax_order                   int64\nloyalty_flag               object\nspending_flag              object\norder_frequency_flag       object\ndtype: object"
     },
     "execution_count": 21,
     "metadata": {},
     "output_type": "execute_result"
    }
   ],
   "source": [
    "ords_prods_merge.dtypes"
   ],
   "metadata": {
    "collapsed": false,
    "ExecuteTime": {
     "end_time": "2023-10-26T11:00:00.446849400Z",
     "start_time": "2023-10-26T11:00:00.270734600Z"
    }
   },
   "id": "8665aa92a2d3699b"
  },
  {
   "cell_type": "code",
   "execution_count": 22,
   "outputs": [
    {
     "data": {
      "text/plain": "user_id                 object\nfirst_name              object\nlast_name               object\nGender                  object\nState                   object\nAge                      int64\ndate_joined             object\nnumber_of_dependants     int64\nmarital_status          object\ncustomer_income          int64\ndtype: object"
     },
     "execution_count": 22,
     "metadata": {},
     "output_type": "execute_result"
    }
   ],
   "source": [
    "df_cust.dtypes"
   ],
   "metadata": {
    "collapsed": false,
    "ExecuteTime": {
     "end_time": "2023-10-26T11:00:00.448891300Z",
     "start_time": "2023-10-26T11:00:00.286690800Z"
    }
   },
   "id": "e28b6bfdbae54dcb"
  },
  {
   "cell_type": "markdown",
   "source": [
    "Changing \"user_id\" dtype from \"object\" to \"int64\" in \"df_cust\" dataframe to facilitate merging with \"ords_prods_merge\" dataframe"
   ],
   "metadata": {
    "collapsed": false
   },
   "id": "c8a71dc9241eb73a"
  },
  {
   "cell_type": "code",
   "execution_count": 23,
   "outputs": [
    {
     "data": {
      "text/plain": "dtype('int64')"
     },
     "execution_count": 23,
     "metadata": {},
     "output_type": "execute_result"
    }
   ],
   "source": [
    "df_cust['user_id'] = df_cust['user_id'].astype('int64')\n",
    "df_cust['user_id'].dtype"
   ],
   "metadata": {
    "collapsed": false,
    "ExecuteTime": {
     "end_time": "2023-10-26T11:00:00.453830600Z",
     "start_time": "2023-10-26T11:00:00.300653500Z"
    }
   },
   "id": "fe94656c4e09eb55"
  },
  {
   "cell_type": "markdown",
   "source": [
    "Merging both dataframes"
   ],
   "metadata": {
    "collapsed": false
   },
   "id": "7427f5544837e6a7"
  },
  {
   "cell_type": "code",
   "execution_count": 24,
   "outputs": [],
   "source": [
    "df_instacart_merged = ords_prods_merge.merge(df_cust, on= 'user_id', indicator= True)"
   ],
   "metadata": {
    "collapsed": false,
    "ExecuteTime": {
     "end_time": "2023-10-26T11:01:07.722574800Z",
     "start_time": "2023-10-26T11:00:00.348530900Z"
    }
   },
   "id": "64b418b94353b83d"
  },
  {
   "cell_type": "code",
   "execution_count": 25,
   "outputs": [
    {
     "data": {
      "text/plain": "   product_id                   product_name  aisle_id  department_id  prices  \\\n0           1     Chocolate Sandwich Cookies        61             19     5.8   \n1           1     Chocolate Sandwich Cookies        61             19     5.8   \n2         907           Premium Sliced Bacon       106             12    20.0   \n3        1000                       Apricots        18             10    12.9   \n4        3265  Mini Seedless Watermelon Pack        32              4     1.7   \n\n   order_id  user_id  order_number  orders_day_of_week  order_hour_of_day  \\\n0   3139998      138            28                   6                 11   \n1   1977647      138            30                   6                 17   \n2   2254091      138            10                   5                 14   \n3    505689      138             9                   6                 12   \n4    960220      138            17                   5                 14   \n\n   ...  first_name  last_name  Gender      State Age date_joined  \\\n0  ...     Charles        Cox    Male  Minnesota  81    8/1/2019   \n1  ...     Charles        Cox    Male  Minnesota  81    8/1/2019   \n2  ...     Charles        Cox    Male  Minnesota  81    8/1/2019   \n3  ...     Charles        Cox    Male  Minnesota  81    8/1/2019   \n4  ...     Charles        Cox    Male  Minnesota  81    8/1/2019   \n\n  number_of_dependants  marital_status customer_income _merge  \n0                    1         married           49620   both  \n1                    1         married           49620   both  \n2                    1         married           49620   both  \n3                    1         married           49620   both  \n4                    1         married           49620   both  \n\n[5 rows x 31 columns]",
      "text/html": "<div>\n<style scoped>\n    .dataframe tbody tr th:only-of-type {\n        vertical-align: middle;\n    }\n\n    .dataframe tbody tr th {\n        vertical-align: top;\n    }\n\n    .dataframe thead th {\n        text-align: right;\n    }\n</style>\n<table border=\"1\" class=\"dataframe\">\n  <thead>\n    <tr style=\"text-align: right;\">\n      <th></th>\n      <th>product_id</th>\n      <th>product_name</th>\n      <th>aisle_id</th>\n      <th>department_id</th>\n      <th>prices</th>\n      <th>order_id</th>\n      <th>user_id</th>\n      <th>order_number</th>\n      <th>orders_day_of_week</th>\n      <th>order_hour_of_day</th>\n      <th>...</th>\n      <th>first_name</th>\n      <th>last_name</th>\n      <th>Gender</th>\n      <th>State</th>\n      <th>Age</th>\n      <th>date_joined</th>\n      <th>number_of_dependants</th>\n      <th>marital_status</th>\n      <th>customer_income</th>\n      <th>_merge</th>\n    </tr>\n  </thead>\n  <tbody>\n    <tr>\n      <th>0</th>\n      <td>1</td>\n      <td>Chocolate Sandwich Cookies</td>\n      <td>61</td>\n      <td>19</td>\n      <td>5.8</td>\n      <td>3139998</td>\n      <td>138</td>\n      <td>28</td>\n      <td>6</td>\n      <td>11</td>\n      <td>...</td>\n      <td>Charles</td>\n      <td>Cox</td>\n      <td>Male</td>\n      <td>Minnesota</td>\n      <td>81</td>\n      <td>8/1/2019</td>\n      <td>1</td>\n      <td>married</td>\n      <td>49620</td>\n      <td>both</td>\n    </tr>\n    <tr>\n      <th>1</th>\n      <td>1</td>\n      <td>Chocolate Sandwich Cookies</td>\n      <td>61</td>\n      <td>19</td>\n      <td>5.8</td>\n      <td>1977647</td>\n      <td>138</td>\n      <td>30</td>\n      <td>6</td>\n      <td>17</td>\n      <td>...</td>\n      <td>Charles</td>\n      <td>Cox</td>\n      <td>Male</td>\n      <td>Minnesota</td>\n      <td>81</td>\n      <td>8/1/2019</td>\n      <td>1</td>\n      <td>married</td>\n      <td>49620</td>\n      <td>both</td>\n    </tr>\n    <tr>\n      <th>2</th>\n      <td>907</td>\n      <td>Premium Sliced Bacon</td>\n      <td>106</td>\n      <td>12</td>\n      <td>20.0</td>\n      <td>2254091</td>\n      <td>138</td>\n      <td>10</td>\n      <td>5</td>\n      <td>14</td>\n      <td>...</td>\n      <td>Charles</td>\n      <td>Cox</td>\n      <td>Male</td>\n      <td>Minnesota</td>\n      <td>81</td>\n      <td>8/1/2019</td>\n      <td>1</td>\n      <td>married</td>\n      <td>49620</td>\n      <td>both</td>\n    </tr>\n    <tr>\n      <th>3</th>\n      <td>1000</td>\n      <td>Apricots</td>\n      <td>18</td>\n      <td>10</td>\n      <td>12.9</td>\n      <td>505689</td>\n      <td>138</td>\n      <td>9</td>\n      <td>6</td>\n      <td>12</td>\n      <td>...</td>\n      <td>Charles</td>\n      <td>Cox</td>\n      <td>Male</td>\n      <td>Minnesota</td>\n      <td>81</td>\n      <td>8/1/2019</td>\n      <td>1</td>\n      <td>married</td>\n      <td>49620</td>\n      <td>both</td>\n    </tr>\n    <tr>\n      <th>4</th>\n      <td>3265</td>\n      <td>Mini Seedless Watermelon Pack</td>\n      <td>32</td>\n      <td>4</td>\n      <td>1.7</td>\n      <td>960220</td>\n      <td>138</td>\n      <td>17</td>\n      <td>5</td>\n      <td>14</td>\n      <td>...</td>\n      <td>Charles</td>\n      <td>Cox</td>\n      <td>Male</td>\n      <td>Minnesota</td>\n      <td>81</td>\n      <td>8/1/2019</td>\n      <td>1</td>\n      <td>married</td>\n      <td>49620</td>\n      <td>both</td>\n    </tr>\n  </tbody>\n</table>\n<p>5 rows × 31 columns</p>\n</div>"
     },
     "execution_count": 25,
     "metadata": {},
     "output_type": "execute_result"
    }
   ],
   "source": [
    "df_instacart_merged.head()"
   ],
   "metadata": {
    "collapsed": false,
    "ExecuteTime": {
     "end_time": "2023-10-26T11:01:07.792387900Z",
     "start_time": "2023-10-26T11:01:07.737534100Z"
    }
   },
   "id": "b3ac5e2aafc4a7a6"
  },
  {
   "cell_type": "code",
   "execution_count": 26,
   "outputs": [
    {
     "data": {
      "text/plain": "_merge\nboth          30328763\nleft_only            0\nright_only           0\nName: count, dtype: int64"
     },
     "execution_count": 26,
     "metadata": {},
     "output_type": "execute_result"
    }
   ],
   "source": [
    "df_instacart_merged['_merge'].value_counts()"
   ],
   "metadata": {
    "collapsed": false,
    "ExecuteTime": {
     "end_time": "2023-10-26T11:01:08.030338500Z",
     "start_time": "2023-10-26T11:01:07.780419800Z"
    }
   },
   "id": "288f4ad3a71ae5c0"
  },
  {
   "cell_type": "markdown",
   "source": [
    "Exporting \"df_instacart_merged\" as pickle file"
   ],
   "metadata": {
    "collapsed": false
   },
   "id": "81210788b60fa7e6"
  },
  {
   "cell_type": "code",
   "execution_count": 27,
   "outputs": [],
   "source": [
    "df_instacart_merged.to_pickle(os.path.join(path, 'Prepared data', 'instacart_merged.pkl'))"
   ],
   "metadata": {
    "collapsed": false,
    "ExecuteTime": {
     "end_time": "2023-10-26T11:01:37.698098100Z",
     "start_time": "2023-10-26T11:01:08.034329400Z"
    }
   },
   "id": "4be091b042fb4762"
  }
 ],
 "metadata": {
  "kernelspec": {
   "display_name": "Python 3",
   "language": "python",
   "name": "python3"
  },
  "language_info": {
   "codemirror_mode": {
    "name": "ipython",
    "version": 2
   },
   "file_extension": ".py",
   "mimetype": "text/x-python",
   "name": "python",
   "nbconvert_exporter": "python",
   "pygments_lexer": "ipython2",
   "version": "2.7.6"
  }
 },
 "nbformat": 4,
 "nbformat_minor": 5
}
